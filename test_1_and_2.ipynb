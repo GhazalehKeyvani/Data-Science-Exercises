{
  "nbformat": 4,
  "nbformat_minor": 0,
  "metadata": {
    "colab": {
      "provenance": [],
      "authorship_tag": "ABX9TyP0mnoJZewrw0nJaLHVvUK1",
      "include_colab_link": true
    },
    "kernelspec": {
      "name": "python3",
      "display_name": "Python 3"
    },
    "language_info": {
      "name": "python"
    }
  },
  "cells": [
    {
      "cell_type": "markdown",
      "metadata": {
        "id": "view-in-github",
        "colab_type": "text"
      },
      "source": [
        "<a href=\"https://colab.research.google.com/github/GhazalehKeyvani/Data-Science-Exercises/blob/main/test_1_and_2.ipynb\" target=\"_parent\"><img src=\"https://colab.research.google.com/assets/colab-badge.svg\" alt=\"Open In Colab\"/></a>"
      ]
    },
    {
      "cell_type": "code",
      "execution_count": 1,
      "metadata": {
        "colab": {
          "base_uri": "https://localhost:8080/"
        },
        "id": "RjGII5Xfe_g8",
        "outputId": "c2b681e2-b07f-4807-ff55-c15ce4a0800f"
      },
      "outputs": [
        {
          "output_type": "stream",
          "name": "stdout",
          "text": [
            "[1, 2, 3, 4, 5, 6, 7, 8, 10, 14, 16]\n"
          ]
        }
      ],
      "source": [
        "def merge_and_sort_no_duplicates(list1, list2):\n",
        "  \"\"\"\n",
        "  Merges two lists, removes duplicates, and sorts the resulting list in ascending order.\n",
        "\n",
        "  Args:\n",
        "      list1: The first list.\n",
        "      list2: The second list.\n",
        "\n",
        "  Returns:\n",
        "      A new list containing the unique elements of list1 and list2, sorted in ascending order.\n",
        "  \"\"\"\n",
        "\n",
        "  # Combine the lists and convert to a set to remove duplicates\n",
        "  merged_list = set(list1 + list2)\n",
        "\n",
        "  # Convert the set back to a list and sort it\n",
        "  sorted_list = list(merged_list)\n",
        "  sorted_list.sort()\n",
        "\n",
        "  return sorted_list\n",
        "\n",
        "# Example usage\n",
        "list1 = [1, 3, 5, 7, 2, 4, 6, 8]\n",
        "list2 = [2, 4, 6, 8, 10, 1, 14, 16]\n",
        "\n",
        "merged_sorted_list = merge_and_sort_no_duplicates(list1, list2)\n",
        "print(merged_sorted_list)  # Output: [1, 2, 3, 4, 5, 6, 7, 8, 10, 12, 14, 16]\n"
      ]
    },
    {
      "cell_type": "code",
      "source": [
        "def select_units(data, criteria={\"unit\": 1}):  # Filter by unit=1\n",
        "  \"\"\"\n",
        "  Selects units from a 2D list based on criteria (unit in this case).\n",
        "\n",
        "  Args:\n",
        "      data (list): A 2D list representing course data.\n",
        "      criteria (dict, optional): A dictionary with a single key \"unit\"\n",
        "                                  specifying the unit to filter by. Defaults to 1.\n",
        "\n",
        "  Returns:\n",
        "      list: A new list containing units with the specified unit code.\n",
        "  \"\"\"\n",
        "\n",
        "  selected_units = []\n",
        "  for unit in data:\n",
        "    # Check if unit code matches the criteria\n",
        "    if unit[1] == criteria[\"unit\"]:  # Access unit code at index 1\n",
        "      selected_units.append(unit)\n",
        "\n",
        "  return selected_units\n",
        "\n",
        "# Input data\n",
        "data = [\n",
        "    ['Ali', 1, 'a'],\n",
        "    ['Mary', 2, 'B'],\n",
        "    ['Ali', 1, 'c']\n",
        "]\n",
        "\n",
        "# Filter units with unit code 1\n",
        "filtered_units = select_units(data)\n",
        "\n",
        "print(filtered_units)  # Output: [['Mary', 2, 'B'], ['Ali', 1, 'c']]\n"
      ],
      "metadata": {
        "colab": {
          "base_uri": "https://localhost:8080/"
        },
        "id": "YowsU9j4fRUI",
        "outputId": "40fff40a-e54b-4c71-b4a6-e53d4de3a053"
      },
      "execution_count": 4,
      "outputs": [
        {
          "output_type": "stream",
          "name": "stdout",
          "text": [
            "[['Ali', 1, 'a'], ['Ali', 1, 'c']]\n"
          ]
        }
      ]
    }
  ]
}