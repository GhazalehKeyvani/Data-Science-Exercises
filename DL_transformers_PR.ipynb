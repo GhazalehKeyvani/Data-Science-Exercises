{
  "cells": [
    {
      "cell_type": "markdown",
      "metadata": {
        "id": "view-in-github",
        "colab_type": "text"
      },
      "source": [
        "<a href=\"https://colab.research.google.com/github/GhazalehKeyvani/Data-Science-Exercises/blob/main/DL_transformers_PR.ipynb\" target=\"_parent\"><img src=\"https://colab.research.google.com/assets/colab-badge.svg\" alt=\"Open In Colab\"/></a>"
      ]
    },
    {
      "cell_type": "markdown",
      "metadata": {
        "id": "Ky668QWF3kg4"
      },
      "source": [
        "#**Deep learning for text**"
      ]
    },
    {
      "cell_type": "code",
      "execution_count": null,
      "metadata": {
        "id": "XbwIdS-BiIPO"
      },
      "outputs": [],
      "source": [
        "!pip install tensorflow"
      ]
    },
    {
      "cell_type": "code",
      "execution_count": null,
      "metadata": {
        "colab": {
          "base_uri": "https://localhost:8080/"
        },
        "id": "io4O8BTJi6y2",
        "outputId": "acefffb5-1e8f-4664-81a9-0b4726a68dea"
      },
      "outputs": [
        {
          "name": "stdout",
          "output_type": "stream",
          "text": [
            "tensorflow                            2.18.0\n",
            "tensorflow-datasets                   4.9.8\n",
            "tensorflow_decision_forests           1.11.0\n",
            "tensorflow-hub                        0.16.1\n",
            "tensorflow-io-gcs-filesystem          0.37.1\n",
            "tensorflow-metadata                   1.17.1\n",
            "tensorflow-probability                0.25.0\n",
            "tensorflow-text                       2.18.1\n"
          ]
        }
      ],
      "source": [
        "!pip list | grep tensorflow"
      ]
    },
    {
      "cell_type": "code",
      "execution_count": null,
      "metadata": {
        "colab": {
          "base_uri": "https://localhost:8080/"
        },
        "id": "1br4YHID39kH",
        "outputId": "7077fea5-21d0-43f9-b4f6-d7bb661d1ac6"
      },
      "outputs": [
        {
          "name": "stdout",
          "output_type": "stream",
          "text": [
            "--2025-05-27 18:37:27--  https://ai.stanford.edu/~amaas/data/sentiment/aclImdb_v1.tar.gz\n",
            "Resolving ai.stanford.edu (ai.stanford.edu)... 171.64.68.10\n",
            "Connecting to ai.stanford.edu (ai.stanford.edu)|171.64.68.10|:443... connected.\n",
            "HTTP request sent, awaiting response... 200 OK\n",
            "Length: 84125825 (80M) [application/x-gzip]\n",
            "Saving to: ‘aclImdb_v1.tar.gz’\n",
            "\n",
            "aclImdb_v1.tar.gz   100%[===================>]  80.23M  11.9MB/s    in 9.3s    \n",
            "\n",
            "2025-05-27 18:37:37 (8.63 MB/s) - ‘aclImdb_v1.tar.gz’ saved [84125825/84125825]\n",
            "\n"
          ]
        }
      ],
      "source": [
        "!wget https://ai.stanford.edu/~amaas/data/sentiment/aclImdb_v1.tar.gz"
      ]
    },
    {
      "cell_type": "code",
      "execution_count": null,
      "metadata": {
        "id": "3onkzBQFToB5"
      },
      "outputs": [],
      "source": [
        "!tar -xf aclImdb_v1.tar.gz"
      ]
    },
    {
      "cell_type": "code",
      "execution_count": null,
      "metadata": {
        "id": "n2rFdu5CSCnn"
      },
      "outputs": [],
      "source": [
        "\n",
        "\n",
        "#!rm -r aclImdb"
      ]
    },
    {
      "cell_type": "code",
      "execution_count": null,
      "metadata": {
        "id": "ZDfzTdvUUvqo"
      },
      "outputs": [],
      "source": [
        "!rm -r aclImdb/train/unsup"
      ]
    },
    {
      "cell_type": "code",
      "execution_count": null,
      "metadata": {
        "colab": {
          "base_uri": "https://localhost:8080/"
        },
        "id": "2KlTSiYt_yE7",
        "outputId": "7843ed3a-b9de-4e43-ea26-ad419c6e19f1"
      },
      "outputs": [
        {
          "name": "stdout",
          "output_type": "stream",
          "text": [
            "I first saw this back in the early 90s on UK TV, i did like it then but i missed the chance to tape it, many years passed but the film always stuck with me and i lost hope of seeing it TV again, the main thing that stuck with me was the end, the hole castle part really touched me, its easy to watch, has a great story, great music, the list goes on and on, its OK me saying how good it is but everyone will take there own best bits away with them once they have seen it, yes the animation is top notch and beautiful to watch, it does show its age in a very few parts but that has now become part of it beauty, i am so glad it has came out on DVD as it is one of my top 10 films of all time. Buy it or rent it just see it, best viewing is at night alone with drink and food in reach so you don't have to stop the film.<br /><br />Enjoy"
          ]
        }
      ],
      "source": [
        "!cat aclImdb/train/pos/4077_10.txt"
      ]
    },
    {
      "cell_type": "code",
      "execution_count": null,
      "metadata": {
        "id": "q8mvpOIM-CWi"
      },
      "outputs": [],
      "source": [
        "#Shuffle the list of training\n",
        "# files using a seed, to\n",
        "# ensure we get the same\n",
        "# validation set every time\n",
        "# we run the code.\n",
        "# Take 20% of the training\n",
        "# files to use for validation.\n",
        "# Move the files to aclImdb/val/neg\n",
        "# and aclImdb/val/pos\n",
        "\n",
        "import os, pathlib, shutil, random\n",
        "base_dir = pathlib.Path(\"aclImdb\")\n",
        "val_dir = base_dir / \"val\"\n",
        "train_dir = base_dir / \"train\"\n",
        "for category in (\"neg\", \"pos\"):\n",
        " os.makedirs(val_dir / category)\n",
        " files = os.listdir(train_dir / category)\n",
        " random.Random(1337).shuffle(files)\n",
        " num_val_samples = int(0.2 * len(files))\n",
        " val_files = files[-num_val_samples:]\n",
        " for fname in val_files:\n",
        "  shutil.move(train_dir / category / fname,\n",
        "    val_dir / category / fname)"
      ]
    },
    {
      "cell_type": "code",
      "execution_count": null,
      "metadata": {
        "colab": {
          "base_uri": "https://localhost:8080/"
        },
        "id": "oUIDvWXF-CRp",
        "outputId": "bf82f9f5-ea20-483f-bd89-15e7d632e501"
      },
      "outputs": [
        {
          "name": "stdout",
          "output_type": "stream",
          "text": [
            "Found 20000 files belonging to 2 classes.\n",
            "Found 5000 files belonging to 2 classes.\n",
            "Found 25000 files belonging to 2 classes.\n"
          ]
        }
      ],
      "source": [
        "from tensorflow import keras\n",
        "batch_size = 32\n",
        "train_ds = keras.utils.text_dataset_from_directory(\n",
        " \"aclImdb/train\", batch_size=batch_size\n",
        ")\n",
        "val_ds = keras.utils.text_dataset_from_directory(\n",
        " \"aclImdb/val\", batch_size=batch_size\n",
        ")\n",
        "test_ds = keras.utils.text_dataset_from_directory(\n",
        " \"aclImdb/test\", batch_size=batch_size\n",
        ")"
      ]
    },
    {
      "cell_type": "code",
      "execution_count": null,
      "metadata": {
        "id": "JSUqq6dz-CL6"
      },
      "outputs": [],
      "source": [
        "from tensorflow.keras.layers import TextVectorization\n",
        "\n",
        "text_vectorization = TextVectorization(\n",
        "    output_mode=\"int\",       # خروجی به صورت اندیس‌های عددی\n",
        "    max_tokens=20000,        # محدودیت تعداد واژه‌های موجود در واژگان\n",
        "    output_sequence_length=600  # طول ثابت برای تمام دنباله‌ها (با padding یا truncation)\n",
        ")\n",
        "\n",
        "# تطبیق لایه با داده‌های آموزشی\n",
        "text_only_train_ds = train_ds.map(lambda x, y: x)\n",
        "text_vectorization.adapt(text_only_train_ds)"
      ]
    },
    {
      "cell_type": "markdown",
      "metadata": {
        "id": "3EOLOJ-eV8Gy"
      },
      "source": [
        "#Processing words as a set: The bag-of-words approach"
      ]
    },
    {
      "cell_type": "markdown",
      "metadata": {
        "id": "66OMfVq6WBd7"
      },
      "source": [
        "SINGLE WORDS (UNIGRAMS) WITH BINARY ENCODING"
      ]
    },
    {
      "cell_type": "markdown",
      "metadata": {
        "id": "r3ySCC_LYYFQ"
      },
      "source": [
        "11.2.3 Vocabulary indexing"
      ]
    },
    {
      "cell_type": "code",
      "execution_count": null,
      "metadata": {
        "colab": {
          "base_uri": "https://localhost:8080/",
          "height": 210
        },
        "id": "7sn_Ky5rXhUI",
        "outputId": "565a2b81-b820-40f8-9b50-0ca630e19fa8"
      },
      "outputs": [
        {
          "ename": "NameError",
          "evalue": "name 'dataset' is not defined",
          "output_type": "error",
          "traceback": [
            "\u001b[0;31m---------------------------------------------------------------------------\u001b[0m",
            "\u001b[0;31mNameError\u001b[0m                                 Traceback (most recent call last)",
            "\u001b[0;32m<ipython-input-15-9e7e5884385c>\u001b[0m in \u001b[0;36m<cell line: 0>\u001b[0;34m()\u001b[0m\n\u001b[1;32m      1\u001b[0m \u001b[0mvocabulary\u001b[0m \u001b[0;34m=\u001b[0m \u001b[0;34m{\u001b[0m\u001b[0;34m}\u001b[0m\u001b[0;34m\u001b[0m\u001b[0;34m\u001b[0m\u001b[0m\n\u001b[0;32m----> 2\u001b[0;31m \u001b[0;32mfor\u001b[0m \u001b[0mtext\u001b[0m \u001b[0;32min\u001b[0m \u001b[0mdataset\u001b[0m\u001b[0;34m:\u001b[0m\u001b[0;34m\u001b[0m\u001b[0;34m\u001b[0m\u001b[0m\n\u001b[0m\u001b[1;32m      3\u001b[0m  \u001b[0mtext\u001b[0m \u001b[0;34m=\u001b[0m \u001b[0mstandardize\u001b[0m\u001b[0;34m(\u001b[0m\u001b[0mtext\u001b[0m\u001b[0;34m)\u001b[0m\u001b[0;34m\u001b[0m\u001b[0;34m\u001b[0m\u001b[0m\n\u001b[1;32m      4\u001b[0m  \u001b[0mtokens\u001b[0m \u001b[0;34m=\u001b[0m \u001b[0mtokenize\u001b[0m\u001b[0;34m(\u001b[0m\u001b[0mtext\u001b[0m\u001b[0;34m)\u001b[0m\u001b[0;34m\u001b[0m\u001b[0;34m\u001b[0m\u001b[0m\n\u001b[1;32m      5\u001b[0m  \u001b[0;32mfor\u001b[0m \u001b[0mtoken\u001b[0m \u001b[0;32min\u001b[0m \u001b[0mtokens\u001b[0m\u001b[0;34m:\u001b[0m\u001b[0;34m\u001b[0m\u001b[0;34m\u001b[0m\u001b[0m\n",
            "\u001b[0;31mNameError\u001b[0m: name 'dataset' is not defined"
          ]
        }
      ],
      "source": [
        "vocabulary = {}\n",
        "for text in dataset:\n",
        " text = standardize(text)\n",
        " tokens = tokenize(text)\n",
        " for token in tokens:\n",
        "  if token not in vocabulary:\n",
        "    vocabulary[token] = len(vocabulary)"
      ]
    },
    {
      "cell_type": "code",
      "execution_count": null,
      "metadata": {
        "id": "ZIGcTX5qYUln"
      },
      "outputs": [],
      "source": [
        "def one_hot_encode_token(token):\n",
        " vector = np.zeros((len(vocabulary),))\n",
        " token_index = vocabulary[token]\n",
        " vector[token_index] = 1\n",
        " return vector"
      ]
    },
    {
      "cell_type": "code",
      "execution_count": null,
      "metadata": {
        "id": "6WpxAMjZXWiv"
      },
      "outputs": [],
      "source": [
        "import string\n",
        "class Vectorizer:\n",
        " def standardize(self, text):\n",
        "  text = text.lower()\n",
        "  return \"\".join(char for char in text\n",
        "  if char not in string.punctuation)\n",
        " def tokenize(self, text):\n",
        "  text = self.standardize(text)\n",
        "  return text.split()\n",
        " def make_vocabulary(self, dataset):\n",
        "  self.vocabulary = {\"\": 0, \"[UNK]\": 1}\n",
        "  for text in dataset:\n",
        "   text = self.standardize(text)\n",
        "   tokens = self.tokenize(text)\n",
        "   for token in tokens:\n",
        "    if token not in self.vocabulary:\n",
        "     self.vocabulary[token] = len(self.vocabulary)\n",
        "  self.inverse_vocabulary = dict(\n",
        "  (v, k) for k, v in self.vocabulary.items())\n",
        " def encode(self, text):\n",
        "  text = self.standardize(text)\n",
        "  tokens = self.tokenize(text)\n",
        "  return [self.vocabulary.get(token, 1) for token in tokens]\n",
        " def decode(self, int_sequence):\n",
        "  return \" \".join(\n",
        "  self.inverse_vocabulary.get(i, \"[UNK]\") for i in int_sequence)\n",
        "vectorizer = Vectorizer()\n",
        "dataset = [\n",
        " \"I write, erase, rewrite\",\n",
        " \"Erase again, and then\",\n",
        " \"A poppy blooms.\",\n",
        "]\n",
        "vectorizer.make_vocabulary(dataset)"
      ]
    },
    {
      "cell_type": "code",
      "execution_count": null,
      "metadata": {
        "id": "Qm_19ryFahA4"
      },
      "outputs": [],
      "source": [
        "from tensorflow.keras.layers import TextVectorization\n",
        "text_vectorization = TextVectorization(\n",
        " output_mode=\"int\",\n",
        ")\n"
      ]
    },
    {
      "cell_type": "code",
      "execution_count": null,
      "metadata": {
        "id": "xJ04HoSMWHFJ"
      },
      "outputs": [],
      "source": [
        "import re\n",
        "import string\n",
        "import tensorflow as tf\n",
        "def custom_standardization_fn(string_tensor):\n",
        " lowercase_string = tf.strings.lower(string_tensor)\n",
        " return tf.strings.regex_replace(\n",
        " lowercase_string, f\"[{re.escape(string.punctuation)}]\", \"\")\n",
        "#  Convert\n",
        "# strings to\n",
        "# lowercase.\n",
        "# Replace\n",
        "# punctuation\n",
        "# characters\n",
        "# with the\n",
        "# empty string.\n",
        "# Split strings on\n",
        "# whitespace\n",
        "def custom_split_fn(string_tensor):\n",
        " return tf.strings.split(string_tensor)\n",
        "text_vectorization = TextVectorization(\n",
        " output_mode=\"int\",\n",
        " standardize=custom_standardization_fn,\n",
        " split=custom_split_fn,\n",
        ")"
      ]
    },
    {
      "cell_type": "code",
      "execution_count": null,
      "metadata": {
        "id": "tGNYY51LbjeX"
      },
      "outputs": [],
      "source": [
        "dataset = [\n",
        " \"I write, erase, rewrite\",\n",
        " \"Erase again, and then\",\n",
        " \"A poppy blooms.\",\n",
        "]\n",
        "text_vectorization.adapt(dataset)"
      ]
    },
    {
      "cell_type": "code",
      "execution_count": null,
      "metadata": {
        "colab": {
          "base_uri": "https://localhost:8080/"
        },
        "id": "N6dE_sSea74H",
        "outputId": "0a062dca-ceed-4aa3-a5a9-a05f62ff95c7"
      },
      "outputs": [
        {
          "data": {
            "text/plain": [
              "['',\n",
              " '[UNK]',\n",
              " np.str_('erase'),\n",
              " np.str_('write'),\n",
              " np.str_('then'),\n",
              " np.str_('rewrite'),\n",
              " np.str_('poppy'),\n",
              " np.str_('i'),\n",
              " np.str_('blooms'),\n",
              " np.str_('and'),\n",
              " np.str_('again'),\n",
              " np.str_('a')]"
            ]
          },
          "execution_count": 21,
          "metadata": {},
          "output_type": "execute_result"
        }
      ],
      "source": [
        "text_vectorization.get_vocabulary()"
      ]
    },
    {
      "cell_type": "code",
      "execution_count": null,
      "metadata": {
        "id": "lQLHIsPu-EvD"
      },
      "outputs": [],
      "source": [
        "text_vectorization = TextVectorization(\n",
        " max_tokens=20000,\n",
        " output_mode=\"multi_hot\",\n",
        ")\n",
        "text_only_train_ds = train_ds.map(lambda x, y: x)\n",
        "text_vectorization.adapt(text_only_train_ds)\n",
        "binary_1gram_train_ds = train_ds.map(\n",
        " lambda x, y: (text_vectorization(x), y),\n",
        " num_parallel_calls=4)\n",
        "binary_1gram_val_ds = val_ds.map(\n",
        " lambda x, y: (text_vectorization(x), y),\n",
        " num_parallel_calls=4)\n",
        "binary_1gram_test_ds = test_ds.map(\n",
        " lambda x, y: (text_vectorization(x), y),\n",
        " num_parallel_calls=4)\n",
        "# Configures the layer to return sequences of words encoded\n",
        "# as integer indices. There are several other output modes\n",
        "# available, which you will see in action in a bit."
      ]
    },
    {
      "cell_type": "markdown",
      "metadata": {
        "id": "Fbc2Q4htcjJv"
      },
      "source": [
        " Inspecting the output of our binary unigram dataset"
      ]
    },
    {
      "cell_type": "code",
      "execution_count": null,
      "metadata": {
        "colab": {
          "base_uri": "https://localhost:8080/"
        },
        "id": "cCmgv_SWbZUk",
        "outputId": "eefa358b-770d-4225-812f-be53fb639c45"
      },
      "outputs": [
        {
          "name": "stdout",
          "output_type": "stream",
          "text": [
            "inputs.shape: (32, 20000)\n",
            "inputs.dtype: <dtype: 'int64'>\n",
            "targets.shape: (32,)\n",
            "targets.dtype: <dtype: 'int32'>\n",
            "inputs[0]: tf.Tensor([1 1 1 ... 0 0 0], shape=(20000,), dtype=int64)\n",
            "targets[0]: tf.Tensor(0, shape=(), dtype=int32)\n"
          ]
        }
      ],
      "source": [
        "for inputs, targets in binary_1gram_train_ds:\n",
        "  print(\"inputs.shape:\", inputs.shape)\n",
        "  print(\"inputs.dtype:\", inputs.dtype)\n",
        "  print(\"targets.shape:\", targets.shape)\n",
        "  print(\"targets.dtype:\", targets.dtype)\n",
        "  print(\"inputs[0]:\", inputs[0])\n",
        "  print(\"targets[0]:\", targets[0])\n",
        "  break\n",
        "# Inputs are batches of\n",
        "# 20,000-dimensional\n",
        "# vectors.\n",
        "\n",
        "# These vectors consist\n",
        "# entirely of ones and zeros"
      ]
    },
    {
      "cell_type": "markdown",
      "metadata": {
        "id": "84H2Jh88dQeH"
      },
      "source": [
        "Our model-building utility"
      ]
    },
    {
      "cell_type": "code",
      "execution_count": null,
      "metadata": {
        "id": "ctrLOdCocsY0"
      },
      "outputs": [],
      "source": [
        "from tensorflow import keras\n",
        "from tensorflow.keras import layers\n",
        "def get_model(max_tokens=20000, hidden_dim=16):\n",
        " inputs = keras.Input(shape=(max_tokens,))\n",
        " x = layers.Dense(hidden_dim, activation=\"relu\")(inputs)\n",
        " x = layers.Dropout(0.5)(x)\n",
        " outputs = layers.Dense(1, activation=\"sigmoid\")(x)\n",
        " model = keras.Model(inputs, outputs)\n",
        " model.compile(optimizer=\"rmsprop\",\n",
        " loss=\"binary_crossentropy\",\n",
        " metrics=[\"accuracy\"])\n",
        " return model"
      ]
    },
    {
      "cell_type": "markdown",
      "metadata": {
        "id": "qhYsdXY7dVPK"
      },
      "source": [
        "Training and testing the binary unigram model"
      ]
    },
    {
      "cell_type": "code",
      "execution_count": null,
      "metadata": {
        "colab": {
          "base_uri": "https://localhost:8080/",
          "height": 669
        },
        "id": "X_Y3NvFOdOYN",
        "outputId": "97e114e4-0ff9-416c-8e4a-fc3d96153439"
      },
      "outputs": [
        {
          "data": {
            "text/html": [
              "<pre style=\"white-space:pre;overflow-x:auto;line-height:normal;font-family:Menlo,'DejaVu Sans Mono',consolas,'Courier New',monospace\"><span style=\"font-weight: bold\">Model: \"functional\"</span>\n",
              "</pre>\n"
            ],
            "text/plain": [
              "\u001b[1mModel: \"functional\"\u001b[0m\n"
            ]
          },
          "metadata": {},
          "output_type": "display_data"
        },
        {
          "data": {
            "text/html": [
              "<pre style=\"white-space:pre;overflow-x:auto;line-height:normal;font-family:Menlo,'DejaVu Sans Mono',consolas,'Courier New',monospace\">┏━━━━━━━━━━━━━━━━━━━━━━━━━━━━━━━━━┳━━━━━━━━━━━━━━━━━━━━━━━━┳━━━━━━━━━━━━━━━┓\n",
              "┃<span style=\"font-weight: bold\"> Layer (type)                    </span>┃<span style=\"font-weight: bold\"> Output Shape           </span>┃<span style=\"font-weight: bold\">       Param # </span>┃\n",
              "┡━━━━━━━━━━━━━━━━━━━━━━━━━━━━━━━━━╇━━━━━━━━━━━━━━━━━━━━━━━━╇━━━━━━━━━━━━━━━┩\n",
              "│ input_layer (<span style=\"color: #0087ff; text-decoration-color: #0087ff\">InputLayer</span>)        │ (<span style=\"color: #00d7ff; text-decoration-color: #00d7ff\">None</span>, <span style=\"color: #00af00; text-decoration-color: #00af00\">20000</span>)          │             <span style=\"color: #00af00; text-decoration-color: #00af00\">0</span> │\n",
              "├─────────────────────────────────┼────────────────────────┼───────────────┤\n",
              "│ dense (<span style=\"color: #0087ff; text-decoration-color: #0087ff\">Dense</span>)                   │ (<span style=\"color: #00d7ff; text-decoration-color: #00d7ff\">None</span>, <span style=\"color: #00af00; text-decoration-color: #00af00\">16</span>)             │       <span style=\"color: #00af00; text-decoration-color: #00af00\">320,016</span> │\n",
              "├─────────────────────────────────┼────────────────────────┼───────────────┤\n",
              "│ dropout (<span style=\"color: #0087ff; text-decoration-color: #0087ff\">Dropout</span>)               │ (<span style=\"color: #00d7ff; text-decoration-color: #00d7ff\">None</span>, <span style=\"color: #00af00; text-decoration-color: #00af00\">16</span>)             │             <span style=\"color: #00af00; text-decoration-color: #00af00\">0</span> │\n",
              "├─────────────────────────────────┼────────────────────────┼───────────────┤\n",
              "│ dense_1 (<span style=\"color: #0087ff; text-decoration-color: #0087ff\">Dense</span>)                 │ (<span style=\"color: #00d7ff; text-decoration-color: #00d7ff\">None</span>, <span style=\"color: #00af00; text-decoration-color: #00af00\">1</span>)              │            <span style=\"color: #00af00; text-decoration-color: #00af00\">17</span> │\n",
              "└─────────────────────────────────┴────────────────────────┴───────────────┘\n",
              "</pre>\n"
            ],
            "text/plain": [
              "┏━━━━━━━━━━━━━━━━━━━━━━━━━━━━━━━━━┳━━━━━━━━━━━━━━━━━━━━━━━━┳━━━━━━━━━━━━━━━┓\n",
              "┃\u001b[1m \u001b[0m\u001b[1mLayer (type)                   \u001b[0m\u001b[1m \u001b[0m┃\u001b[1m \u001b[0m\u001b[1mOutput Shape          \u001b[0m\u001b[1m \u001b[0m┃\u001b[1m \u001b[0m\u001b[1m      Param #\u001b[0m\u001b[1m \u001b[0m┃\n",
              "┡━━━━━━━━━━━━━━━━━━━━━━━━━━━━━━━━━╇━━━━━━━━━━━━━━━━━━━━━━━━╇━━━━━━━━━━━━━━━┩\n",
              "│ input_layer (\u001b[38;5;33mInputLayer\u001b[0m)        │ (\u001b[38;5;45mNone\u001b[0m, \u001b[38;5;34m20000\u001b[0m)          │             \u001b[38;5;34m0\u001b[0m │\n",
              "├─────────────────────────────────┼────────────────────────┼───────────────┤\n",
              "│ dense (\u001b[38;5;33mDense\u001b[0m)                   │ (\u001b[38;5;45mNone\u001b[0m, \u001b[38;5;34m16\u001b[0m)             │       \u001b[38;5;34m320,016\u001b[0m │\n",
              "├─────────────────────────────────┼────────────────────────┼───────────────┤\n",
              "│ dropout (\u001b[38;5;33mDropout\u001b[0m)               │ (\u001b[38;5;45mNone\u001b[0m, \u001b[38;5;34m16\u001b[0m)             │             \u001b[38;5;34m0\u001b[0m │\n",
              "├─────────────────────────────────┼────────────────────────┼───────────────┤\n",
              "│ dense_1 (\u001b[38;5;33mDense\u001b[0m)                 │ (\u001b[38;5;45mNone\u001b[0m, \u001b[38;5;34m1\u001b[0m)              │            \u001b[38;5;34m17\u001b[0m │\n",
              "└─────────────────────────────────┴────────────────────────┴───────────────┘\n"
            ]
          },
          "metadata": {},
          "output_type": "display_data"
        },
        {
          "data": {
            "text/html": [
              "<pre style=\"white-space:pre;overflow-x:auto;line-height:normal;font-family:Menlo,'DejaVu Sans Mono',consolas,'Courier New',monospace\"><span style=\"font-weight: bold\"> Total params: </span><span style=\"color: #00af00; text-decoration-color: #00af00\">320,033</span> (1.22 MB)\n",
              "</pre>\n"
            ],
            "text/plain": [
              "\u001b[1m Total params: \u001b[0m\u001b[38;5;34m320,033\u001b[0m (1.22 MB)\n"
            ]
          },
          "metadata": {},
          "output_type": "display_data"
        },
        {
          "data": {
            "text/html": [
              "<pre style=\"white-space:pre;overflow-x:auto;line-height:normal;font-family:Menlo,'DejaVu Sans Mono',consolas,'Courier New',monospace\"><span style=\"font-weight: bold\"> Trainable params: </span><span style=\"color: #00af00; text-decoration-color: #00af00\">320,033</span> (1.22 MB)\n",
              "</pre>\n"
            ],
            "text/plain": [
              "\u001b[1m Trainable params: \u001b[0m\u001b[38;5;34m320,033\u001b[0m (1.22 MB)\n"
            ]
          },
          "metadata": {},
          "output_type": "display_data"
        },
        {
          "data": {
            "text/html": [
              "<pre style=\"white-space:pre;overflow-x:auto;line-height:normal;font-family:Menlo,'DejaVu Sans Mono',consolas,'Courier New',monospace\"><span style=\"font-weight: bold\"> Non-trainable params: </span><span style=\"color: #00af00; text-decoration-color: #00af00\">0</span> (0.00 B)\n",
              "</pre>\n"
            ],
            "text/plain": [
              "\u001b[1m Non-trainable params: \u001b[0m\u001b[38;5;34m0\u001b[0m (0.00 B)\n"
            ]
          },
          "metadata": {},
          "output_type": "display_data"
        },
        {
          "name": "stdout",
          "output_type": "stream",
          "text": [
            "Epoch 1/10\n",
            "\u001b[1m625/625\u001b[0m \u001b[32m━━━━━━━━━━━━━━━━━━━━\u001b[0m\u001b[37m\u001b[0m \u001b[1m15s\u001b[0m 21ms/step - accuracy: 0.7650 - loss: 0.5031 - val_accuracy: 0.8822 - val_loss: 0.2972\n",
            "Epoch 2/10\n",
            "\u001b[1m625/625\u001b[0m \u001b[32m━━━━━━━━━━━━━━━━━━━━\u001b[0m\u001b[37m\u001b[0m \u001b[1m12s\u001b[0m 8ms/step - accuracy: 0.8935 - loss: 0.2888 - val_accuracy: 0.8746 - val_loss: 0.3048\n",
            "Epoch 3/10\n",
            "\u001b[1m625/625\u001b[0m \u001b[32m━━━━━━━━━━━━━━━━━━━━\u001b[0m\u001b[37m\u001b[0m \u001b[1m5s\u001b[0m 7ms/step - accuracy: 0.9138 - loss: 0.2558 - val_accuracy: 0.8828 - val_loss: 0.3123\n",
            "Epoch 4/10\n",
            "\u001b[1m625/625\u001b[0m \u001b[32m━━━━━━━━━━━━━━━━━━━━\u001b[0m\u001b[37m\u001b[0m \u001b[1m4s\u001b[0m 7ms/step - accuracy: 0.9217 - loss: 0.2308 - val_accuracy: 0.8784 - val_loss: 0.3308\n",
            "Epoch 5/10\n",
            "\u001b[1m625/625\u001b[0m \u001b[32m━━━━━━━━━━━━━━━━━━━━\u001b[0m\u001b[37m\u001b[0m \u001b[1m5s\u001b[0m 6ms/step - accuracy: 0.9216 - loss: 0.2305 - val_accuracy: 0.8858 - val_loss: 0.3401\n",
            "Epoch 6/10\n",
            "\u001b[1m625/625\u001b[0m \u001b[32m━━━━━━━━━━━━━━━━━━━━\u001b[0m\u001b[37m\u001b[0m \u001b[1m4s\u001b[0m 6ms/step - accuracy: 0.9293 - loss: 0.2155 - val_accuracy: 0.8800 - val_loss: 0.3583\n",
            "Epoch 7/10\n",
            "\u001b[1m625/625\u001b[0m \u001b[32m━━━━━━━━━━━━━━━━━━━━\u001b[0m\u001b[37m\u001b[0m \u001b[1m6s\u001b[0m 8ms/step - accuracy: 0.9361 - loss: 0.2191 - val_accuracy: 0.8762 - val_loss: 0.3783\n",
            "Epoch 8/10\n",
            "\u001b[1m625/625\u001b[0m \u001b[32m━━━━━━━━━━━━━━━━━━━━\u001b[0m\u001b[37m\u001b[0m \u001b[1m4s\u001b[0m 7ms/step - accuracy: 0.9347 - loss: 0.2154 - val_accuracy: 0.8826 - val_loss: 0.3772\n",
            "Epoch 9/10\n",
            "\u001b[1m625/625\u001b[0m \u001b[32m━━━━━━━━━━━━━━━━━━━━\u001b[0m\u001b[37m\u001b[0m \u001b[1m5s\u001b[0m 8ms/step - accuracy: 0.9367 - loss: 0.2176 - val_accuracy: 0.8790 - val_loss: 0.3890\n",
            "Epoch 10/10\n",
            "\u001b[1m625/625\u001b[0m \u001b[32m━━━━━━━━━━━━━━━━━━━━\u001b[0m\u001b[37m\u001b[0m \u001b[1m7s\u001b[0m 10ms/step - accuracy: 0.9374 - loss: 0.1977 - val_accuracy: 0.8834 - val_loss: 0.3944\n",
            "\u001b[1m782/782\u001b[0m \u001b[32m━━━━━━━━━━━━━━━━━━━━\u001b[0m\u001b[37m\u001b[0m \u001b[1m5s\u001b[0m 6ms/step - accuracy: 0.8849 - loss: 0.2924\n",
            "Test acc: 0.884\n"
          ]
        }
      ],
      "source": [
        "model = get_model()\n",
        "model.summary()\n",
        "callbacks = [\n",
        " keras.callbacks.ModelCheckpoint(\"binary_1gram.keras\",\n",
        " save_best_only=True)\n",
        "]\n",
        "model.fit(binary_1gram_train_ds.cache(),\n",
        "validation_data=binary_1gram_val_ds.cache(),\n",
        " epochs=10,\n",
        " callbacks=callbacks)\n",
        "model = keras.models.load_model(\"binary_1gram.keras\")\n",
        "print(f\"Test acc: {model.evaluate(binary_1gram_test_ds)[1]:.3f}\")\n",
        "\n",
        "# We call cache() on the\n",
        "# datasets to cache them in\n",
        "# memory: this way, we will\n",
        "# only do the preprocessing\n",
        "# once, during the first\n",
        "# epoch, and we’ll reuse the\n",
        "# preprocessed texts for the\n",
        "# following epochs. This can\n",
        "# only be done if the data\n",
        "# is small enough to fit in\n",
        "# memory.\n"
      ]
    },
    {
      "cell_type": "markdown",
      "metadata": {
        "id": "omQeigxddnP3"
      },
      "source": [
        " Configuring the TextVectorization layer to return bigrams"
      ]
    },
    {
      "cell_type": "code",
      "execution_count": null,
      "metadata": {
        "id": "iydIccrEdZPK"
      },
      "outputs": [],
      "source": [
        "text_vectorization = TextVectorization(\n",
        " ngrams=2,\n",
        " max_tokens=20000,\n",
        " output_mode=\"multi_hot\",\n",
        ")\n"
      ]
    },
    {
      "cell_type": "markdown",
      "metadata": {
        "id": "9zQgjYtnd0SI"
      },
      "source": [
        "Training and testing the binary bigram model\n"
      ]
    },
    {
      "cell_type": "code",
      "execution_count": null,
      "metadata": {
        "colab": {
          "base_uri": "https://localhost:8080/",
          "height": 669
        },
        "id": "RIIeC9cOdr4u",
        "outputId": "7b3ae659-029a-4523-c28d-26acd6cd60ec"
      },
      "outputs": [
        {
          "data": {
            "text/html": [
              "<pre style=\"white-space:pre;overflow-x:auto;line-height:normal;font-family:Menlo,'DejaVu Sans Mono',consolas,'Courier New',monospace\"><span style=\"font-weight: bold\">Model: \"functional_2\"</span>\n",
              "</pre>\n"
            ],
            "text/plain": [
              "\u001b[1mModel: \"functional_2\"\u001b[0m\n"
            ]
          },
          "metadata": {},
          "output_type": "display_data"
        },
        {
          "data": {
            "text/html": [
              "<pre style=\"white-space:pre;overflow-x:auto;line-height:normal;font-family:Menlo,'DejaVu Sans Mono',consolas,'Courier New',monospace\">┏━━━━━━━━━━━━━━━━━━━━━━━━━━━━━━━━━┳━━━━━━━━━━━━━━━━━━━━━━━━┳━━━━━━━━━━━━━━━┓\n",
              "┃<span style=\"font-weight: bold\"> Layer (type)                    </span>┃<span style=\"font-weight: bold\"> Output Shape           </span>┃<span style=\"font-weight: bold\">       Param # </span>┃\n",
              "┡━━━━━━━━━━━━━━━━━━━━━━━━━━━━━━━━━╇━━━━━━━━━━━━━━━━━━━━━━━━╇━━━━━━━━━━━━━━━┩\n",
              "│ input_layer_2 (<span style=\"color: #0087ff; text-decoration-color: #0087ff\">InputLayer</span>)      │ (<span style=\"color: #00d7ff; text-decoration-color: #00d7ff\">None</span>, <span style=\"color: #00af00; text-decoration-color: #00af00\">20000</span>)          │             <span style=\"color: #00af00; text-decoration-color: #00af00\">0</span> │\n",
              "├─────────────────────────────────┼────────────────────────┼───────────────┤\n",
              "│ dense_4 (<span style=\"color: #0087ff; text-decoration-color: #0087ff\">Dense</span>)                 │ (<span style=\"color: #00d7ff; text-decoration-color: #00d7ff\">None</span>, <span style=\"color: #00af00; text-decoration-color: #00af00\">16</span>)             │       <span style=\"color: #00af00; text-decoration-color: #00af00\">320,016</span> │\n",
              "├─────────────────────────────────┼────────────────────────┼───────────────┤\n",
              "│ dropout_2 (<span style=\"color: #0087ff; text-decoration-color: #0087ff\">Dropout</span>)             │ (<span style=\"color: #00d7ff; text-decoration-color: #00d7ff\">None</span>, <span style=\"color: #00af00; text-decoration-color: #00af00\">16</span>)             │             <span style=\"color: #00af00; text-decoration-color: #00af00\">0</span> │\n",
              "├─────────────────────────────────┼────────────────────────┼───────────────┤\n",
              "│ dense_5 (<span style=\"color: #0087ff; text-decoration-color: #0087ff\">Dense</span>)                 │ (<span style=\"color: #00d7ff; text-decoration-color: #00d7ff\">None</span>, <span style=\"color: #00af00; text-decoration-color: #00af00\">1</span>)              │            <span style=\"color: #00af00; text-decoration-color: #00af00\">17</span> │\n",
              "└─────────────────────────────────┴────────────────────────┴───────────────┘\n",
              "</pre>\n"
            ],
            "text/plain": [
              "┏━━━━━━━━━━━━━━━━━━━━━━━━━━━━━━━━━┳━━━━━━━━━━━━━━━━━━━━━━━━┳━━━━━━━━━━━━━━━┓\n",
              "┃\u001b[1m \u001b[0m\u001b[1mLayer (type)                   \u001b[0m\u001b[1m \u001b[0m┃\u001b[1m \u001b[0m\u001b[1mOutput Shape          \u001b[0m\u001b[1m \u001b[0m┃\u001b[1m \u001b[0m\u001b[1m      Param #\u001b[0m\u001b[1m \u001b[0m┃\n",
              "┡━━━━━━━━━━━━━━━━━━━━━━━━━━━━━━━━━╇━━━━━━━━━━━━━━━━━━━━━━━━╇━━━━━━━━━━━━━━━┩\n",
              "│ input_layer_2 (\u001b[38;5;33mInputLayer\u001b[0m)      │ (\u001b[38;5;45mNone\u001b[0m, \u001b[38;5;34m20000\u001b[0m)          │             \u001b[38;5;34m0\u001b[0m │\n",
              "├─────────────────────────────────┼────────────────────────┼───────────────┤\n",
              "│ dense_4 (\u001b[38;5;33mDense\u001b[0m)                 │ (\u001b[38;5;45mNone\u001b[0m, \u001b[38;5;34m16\u001b[0m)             │       \u001b[38;5;34m320,016\u001b[0m │\n",
              "├─────────────────────────────────┼────────────────────────┼───────────────┤\n",
              "│ dropout_2 (\u001b[38;5;33mDropout\u001b[0m)             │ (\u001b[38;5;45mNone\u001b[0m, \u001b[38;5;34m16\u001b[0m)             │             \u001b[38;5;34m0\u001b[0m │\n",
              "├─────────────────────────────────┼────────────────────────┼───────────────┤\n",
              "│ dense_5 (\u001b[38;5;33mDense\u001b[0m)                 │ (\u001b[38;5;45mNone\u001b[0m, \u001b[38;5;34m1\u001b[0m)              │            \u001b[38;5;34m17\u001b[0m │\n",
              "└─────────────────────────────────┴────────────────────────┴───────────────┘\n"
            ]
          },
          "metadata": {},
          "output_type": "display_data"
        },
        {
          "data": {
            "text/html": [
              "<pre style=\"white-space:pre;overflow-x:auto;line-height:normal;font-family:Menlo,'DejaVu Sans Mono',consolas,'Courier New',monospace\"><span style=\"font-weight: bold\"> Total params: </span><span style=\"color: #00af00; text-decoration-color: #00af00\">320,033</span> (1.22 MB)\n",
              "</pre>\n"
            ],
            "text/plain": [
              "\u001b[1m Total params: \u001b[0m\u001b[38;5;34m320,033\u001b[0m (1.22 MB)\n"
            ]
          },
          "metadata": {},
          "output_type": "display_data"
        },
        {
          "data": {
            "text/html": [
              "<pre style=\"white-space:pre;overflow-x:auto;line-height:normal;font-family:Menlo,'DejaVu Sans Mono',consolas,'Courier New',monospace\"><span style=\"font-weight: bold\"> Trainable params: </span><span style=\"color: #00af00; text-decoration-color: #00af00\">320,033</span> (1.22 MB)\n",
              "</pre>\n"
            ],
            "text/plain": [
              "\u001b[1m Trainable params: \u001b[0m\u001b[38;5;34m320,033\u001b[0m (1.22 MB)\n"
            ]
          },
          "metadata": {},
          "output_type": "display_data"
        },
        {
          "data": {
            "text/html": [
              "<pre style=\"white-space:pre;overflow-x:auto;line-height:normal;font-family:Menlo,'DejaVu Sans Mono',consolas,'Courier New',monospace\"><span style=\"font-weight: bold\"> Non-trainable params: </span><span style=\"color: #00af00; text-decoration-color: #00af00\">0</span> (0.00 B)\n",
              "</pre>\n"
            ],
            "text/plain": [
              "\u001b[1m Non-trainable params: \u001b[0m\u001b[38;5;34m0\u001b[0m (0.00 B)\n"
            ]
          },
          "metadata": {},
          "output_type": "display_data"
        },
        {
          "name": "stdout",
          "output_type": "stream",
          "text": [
            "Epoch 1/10\n",
            "\u001b[1m625/625\u001b[0m \u001b[32m━━━━━━━━━━━━━━━━━━━━\u001b[0m\u001b[37m\u001b[0m \u001b[1m19s\u001b[0m 29ms/step - accuracy: 0.7863 - loss: 0.4680 - val_accuracy: 0.8884 - val_loss: 0.2878\n",
            "Epoch 2/10\n",
            "\u001b[1m625/625\u001b[0m \u001b[32m━━━━━━━━━━━━━━━━━━━━\u001b[0m\u001b[37m\u001b[0m \u001b[1m4s\u001b[0m 6ms/step - accuracy: 0.9127 - loss: 0.2366 - val_accuracy: 0.8904 - val_loss: 0.3040\n",
            "Epoch 3/10\n",
            "\u001b[1m625/625\u001b[0m \u001b[32m━━━━━━━━━━━━━━━━━━━━\u001b[0m\u001b[37m\u001b[0m \u001b[1m5s\u001b[0m 8ms/step - accuracy: 0.9338 - loss: 0.2062 - val_accuracy: 0.8874 - val_loss: 0.3391\n",
            "Epoch 4/10\n",
            "\u001b[1m625/625\u001b[0m \u001b[32m━━━━━━━━━━━━━━━━━━━━\u001b[0m\u001b[37m\u001b[0m \u001b[1m6s\u001b[0m 9ms/step - accuracy: 0.9437 - loss: 0.1783 - val_accuracy: 0.8906 - val_loss: 0.3377\n",
            "Epoch 5/10\n",
            "\u001b[1m625/625\u001b[0m \u001b[32m━━━━━━━━━━━━━━━━━━━━\u001b[0m\u001b[37m\u001b[0m \u001b[1m4s\u001b[0m 6ms/step - accuracy: 0.9497 - loss: 0.1752 - val_accuracy: 0.8902 - val_loss: 0.3461\n",
            "Epoch 6/10\n",
            "\u001b[1m625/625\u001b[0m \u001b[32m━━━━━━━━━━━━━━━━━━━━\u001b[0m\u001b[37m\u001b[0m \u001b[1m6s\u001b[0m 7ms/step - accuracy: 0.9522 - loss: 0.1635 - val_accuracy: 0.8884 - val_loss: 0.3703\n",
            "Epoch 7/10\n",
            "\u001b[1m625/625\u001b[0m \u001b[32m━━━━━━━━━━━━━━━━━━━━\u001b[0m\u001b[37m\u001b[0m \u001b[1m5s\u001b[0m 6ms/step - accuracy: 0.9578 - loss: 0.1447 - val_accuracy: 0.8900 - val_loss: 0.4005\n",
            "Epoch 8/10\n",
            "\u001b[1m625/625\u001b[0m \u001b[32m━━━━━━━━━━━━━━━━━━━━\u001b[0m\u001b[37m\u001b[0m \u001b[1m6s\u001b[0m 10ms/step - accuracy: 0.9577 - loss: 0.1438 - val_accuracy: 0.8890 - val_loss: 0.4009\n",
            "Epoch 9/10\n",
            "\u001b[1m625/625\u001b[0m \u001b[32m━━━━━━━━━━━━━━━━━━━━\u001b[0m\u001b[37m\u001b[0m \u001b[1m4s\u001b[0m 6ms/step - accuracy: 0.9607 - loss: 0.1480 - val_accuracy: 0.8868 - val_loss: 0.4135\n",
            "Epoch 10/10\n",
            "\u001b[1m625/625\u001b[0m \u001b[32m━━━━━━━━━━━━━━━━━━━━\u001b[0m\u001b[37m\u001b[0m \u001b[1m4s\u001b[0m 6ms/step - accuracy: 0.9576 - loss: 0.1491 - val_accuracy: 0.8830 - val_loss: 0.4233\n",
            "\u001b[1m782/782\u001b[0m \u001b[32m━━━━━━━━━━━━━━━━━━━━\u001b[0m\u001b[37m\u001b[0m \u001b[1m9s\u001b[0m 11ms/step - accuracy: 0.8924 - loss: 0.2753\n",
            "Test acc: 0.891\n"
          ]
        }
      ],
      "source": [
        "text_vectorization.adapt(text_only_train_ds)\n",
        "binary_2gram_train_ds = train_ds.map(\n",
        " lambda x, y: (text_vectorization(x), y),\n",
        " num_parallel_calls=4)\n",
        "binary_2gram_val_ds = val_ds.map(\n",
        " lambda x, y: (text_vectorization(x), y),\n",
        " num_parallel_calls=4)\n",
        "binary_2gram_test_ds = test_ds.map(\n",
        " lambda x, y: (text_vectorization(x), y),\n",
        " num_parallel_calls=4)\n",
        "model = get_model()\n",
        "model.summary()\n",
        "callbacks = [\n",
        " keras.callbacks.ModelCheckpoint(\"binary_2gram.keras\",\n",
        " save_best_only=True)\n",
        "]\n",
        "\n",
        "\n",
        "model.fit(binary_2gram_train_ds.cache(),\n",
        " validation_data=binary_2gram_val_ds.cache(),\n",
        " epochs=10,\n",
        " callbacks=callbacks)\n",
        "model = keras.models.load_model(\"binary_2gram.keras\")\n",
        "print(f\"Test acc: {model.evaluate(binary_2gram_test_ds)[1]:.3f}\")"
      ]
    },
    {
      "cell_type": "markdown",
      "metadata": {
        "id": "cYVKPAjkeKEA"
      },
      "source": [
        "BIGRAMS WITH TF-IDF ENCODING"
      ]
    },
    {
      "cell_type": "code",
      "execution_count": null,
      "metadata": {
        "id": "9mVX9LNEfGBj"
      },
      "outputs": [],
      "source": [
        "text_vectorization = TextVectorization(\n",
        " ngrams=2,\n",
        " max_tokens=20000,\n",
        " output_mode=\"count\"\n",
        ")"
      ]
    },
    {
      "cell_type": "markdown",
      "metadata": {
        "id": "0eLuYfvnfn7I"
      },
      "source": [
        "Configuring TextVectorization to return TF-IDF-weighted outputs"
      ]
    },
    {
      "cell_type": "code",
      "execution_count": null,
      "metadata": {
        "id": "LmlqHiPKd_UI"
      },
      "outputs": [],
      "source": [
        "text_vectorization = TextVectorization(\n",
        " ngrams=2,\n",
        " max_tokens=20000,\n",
        " output_mode=\"tf_idf\",\n",
        ")"
      ]
    },
    {
      "cell_type": "markdown",
      "metadata": {
        "id": "eDuYItZzfyBX"
      },
      "source": [
        "Training and testing the TF-IDF bigram model"
      ]
    },
    {
      "cell_type": "code",
      "execution_count": null,
      "metadata": {
        "colab": {
          "base_uri": "https://localhost:8080/",
          "height": 669
        },
        "id": "rmH0hyo8fQp7",
        "outputId": "c94987df-4320-48a3-a45c-5b5edabd53b4"
      },
      "outputs": [
        {
          "data": {
            "text/html": [
              "<pre style=\"white-space:pre;overflow-x:auto;line-height:normal;font-family:Menlo,'DejaVu Sans Mono',consolas,'Courier New',monospace\"><span style=\"font-weight: bold\">Model: \"functional_3\"</span>\n",
              "</pre>\n"
            ],
            "text/plain": [
              "\u001b[1mModel: \"functional_3\"\u001b[0m\n"
            ]
          },
          "metadata": {},
          "output_type": "display_data"
        },
        {
          "data": {
            "text/html": [
              "<pre style=\"white-space:pre;overflow-x:auto;line-height:normal;font-family:Menlo,'DejaVu Sans Mono',consolas,'Courier New',monospace\">┏━━━━━━━━━━━━━━━━━━━━━━━━━━━━━━━━━┳━━━━━━━━━━━━━━━━━━━━━━━━┳━━━━━━━━━━━━━━━┓\n",
              "┃<span style=\"font-weight: bold\"> Layer (type)                    </span>┃<span style=\"font-weight: bold\"> Output Shape           </span>┃<span style=\"font-weight: bold\">       Param # </span>┃\n",
              "┡━━━━━━━━━━━━━━━━━━━━━━━━━━━━━━━━━╇━━━━━━━━━━━━━━━━━━━━━━━━╇━━━━━━━━━━━━━━━┩\n",
              "│ input_layer_3 (<span style=\"color: #0087ff; text-decoration-color: #0087ff\">InputLayer</span>)      │ (<span style=\"color: #00d7ff; text-decoration-color: #00d7ff\">None</span>, <span style=\"color: #00af00; text-decoration-color: #00af00\">20000</span>)          │             <span style=\"color: #00af00; text-decoration-color: #00af00\">0</span> │\n",
              "├─────────────────────────────────┼────────────────────────┼───────────────┤\n",
              "│ dense_6 (<span style=\"color: #0087ff; text-decoration-color: #0087ff\">Dense</span>)                 │ (<span style=\"color: #00d7ff; text-decoration-color: #00d7ff\">None</span>, <span style=\"color: #00af00; text-decoration-color: #00af00\">16</span>)             │       <span style=\"color: #00af00; text-decoration-color: #00af00\">320,016</span> │\n",
              "├─────────────────────────────────┼────────────────────────┼───────────────┤\n",
              "│ dropout_3 (<span style=\"color: #0087ff; text-decoration-color: #0087ff\">Dropout</span>)             │ (<span style=\"color: #00d7ff; text-decoration-color: #00d7ff\">None</span>, <span style=\"color: #00af00; text-decoration-color: #00af00\">16</span>)             │             <span style=\"color: #00af00; text-decoration-color: #00af00\">0</span> │\n",
              "├─────────────────────────────────┼────────────────────────┼───────────────┤\n",
              "│ dense_7 (<span style=\"color: #0087ff; text-decoration-color: #0087ff\">Dense</span>)                 │ (<span style=\"color: #00d7ff; text-decoration-color: #00d7ff\">None</span>, <span style=\"color: #00af00; text-decoration-color: #00af00\">1</span>)              │            <span style=\"color: #00af00; text-decoration-color: #00af00\">17</span> │\n",
              "└─────────────────────────────────┴────────────────────────┴───────────────┘\n",
              "</pre>\n"
            ],
            "text/plain": [
              "┏━━━━━━━━━━━━━━━━━━━━━━━━━━━━━━━━━┳━━━━━━━━━━━━━━━━━━━━━━━━┳━━━━━━━━━━━━━━━┓\n",
              "┃\u001b[1m \u001b[0m\u001b[1mLayer (type)                   \u001b[0m\u001b[1m \u001b[0m┃\u001b[1m \u001b[0m\u001b[1mOutput Shape          \u001b[0m\u001b[1m \u001b[0m┃\u001b[1m \u001b[0m\u001b[1m      Param #\u001b[0m\u001b[1m \u001b[0m┃\n",
              "┡━━━━━━━━━━━━━━━━━━━━━━━━━━━━━━━━━╇━━━━━━━━━━━━━━━━━━━━━━━━╇━━━━━━━━━━━━━━━┩\n",
              "│ input_layer_3 (\u001b[38;5;33mInputLayer\u001b[0m)      │ (\u001b[38;5;45mNone\u001b[0m, \u001b[38;5;34m20000\u001b[0m)          │             \u001b[38;5;34m0\u001b[0m │\n",
              "├─────────────────────────────────┼────────────────────────┼───────────────┤\n",
              "│ dense_6 (\u001b[38;5;33mDense\u001b[0m)                 │ (\u001b[38;5;45mNone\u001b[0m, \u001b[38;5;34m16\u001b[0m)             │       \u001b[38;5;34m320,016\u001b[0m │\n",
              "├─────────────────────────────────┼────────────────────────┼───────────────┤\n",
              "│ dropout_3 (\u001b[38;5;33mDropout\u001b[0m)             │ (\u001b[38;5;45mNone\u001b[0m, \u001b[38;5;34m16\u001b[0m)             │             \u001b[38;5;34m0\u001b[0m │\n",
              "├─────────────────────────────────┼────────────────────────┼───────────────┤\n",
              "│ dense_7 (\u001b[38;5;33mDense\u001b[0m)                 │ (\u001b[38;5;45mNone\u001b[0m, \u001b[38;5;34m1\u001b[0m)              │            \u001b[38;5;34m17\u001b[0m │\n",
              "└─────────────────────────────────┴────────────────────────┴───────────────┘\n"
            ]
          },
          "metadata": {},
          "output_type": "display_data"
        },
        {
          "data": {
            "text/html": [
              "<pre style=\"white-space:pre;overflow-x:auto;line-height:normal;font-family:Menlo,'DejaVu Sans Mono',consolas,'Courier New',monospace\"><span style=\"font-weight: bold\"> Total params: </span><span style=\"color: #00af00; text-decoration-color: #00af00\">320,033</span> (1.22 MB)\n",
              "</pre>\n"
            ],
            "text/plain": [
              "\u001b[1m Total params: \u001b[0m\u001b[38;5;34m320,033\u001b[0m (1.22 MB)\n"
            ]
          },
          "metadata": {},
          "output_type": "display_data"
        },
        {
          "data": {
            "text/html": [
              "<pre style=\"white-space:pre;overflow-x:auto;line-height:normal;font-family:Menlo,'DejaVu Sans Mono',consolas,'Courier New',monospace\"><span style=\"font-weight: bold\"> Trainable params: </span><span style=\"color: #00af00; text-decoration-color: #00af00\">320,033</span> (1.22 MB)\n",
              "</pre>\n"
            ],
            "text/plain": [
              "\u001b[1m Trainable params: \u001b[0m\u001b[38;5;34m320,033\u001b[0m (1.22 MB)\n"
            ]
          },
          "metadata": {},
          "output_type": "display_data"
        },
        {
          "data": {
            "text/html": [
              "<pre style=\"white-space:pre;overflow-x:auto;line-height:normal;font-family:Menlo,'DejaVu Sans Mono',consolas,'Courier New',monospace\"><span style=\"font-weight: bold\"> Non-trainable params: </span><span style=\"color: #00af00; text-decoration-color: #00af00\">0</span> (0.00 B)\n",
              "</pre>\n"
            ],
            "text/plain": [
              "\u001b[1m Non-trainable params: \u001b[0m\u001b[38;5;34m0\u001b[0m (0.00 B)\n"
            ]
          },
          "metadata": {},
          "output_type": "display_data"
        },
        {
          "name": "stdout",
          "output_type": "stream",
          "text": [
            "Epoch 1/10\n",
            "\u001b[1m625/625\u001b[0m \u001b[32m━━━━━━━━━━━━━━━━━━━━\u001b[0m\u001b[37m\u001b[0m \u001b[1m10s\u001b[0m 13ms/step - accuracy: 0.7158 - loss: 0.6236 - val_accuracy: 0.8602 - val_loss: 0.3563\n",
            "Epoch 2/10\n",
            "\u001b[1m625/625\u001b[0m \u001b[32m━━━━━━━━━━━━━━━━━━━━\u001b[0m\u001b[37m\u001b[0m \u001b[1m4s\u001b[0m 6ms/step - accuracy: 0.8664 - loss: 0.3329 - val_accuracy: 0.8788 - val_loss: 0.3565\n",
            "Epoch 3/10\n",
            "\u001b[1m625/625\u001b[0m \u001b[32m━━━━━━━━━━━━━━━━━━━━\u001b[0m\u001b[37m\u001b[0m \u001b[1m5s\u001b[0m 5ms/step - accuracy: 0.8815 - loss: 0.2955 - val_accuracy: 0.8726 - val_loss: 0.4133\n",
            "Epoch 4/10\n",
            "\u001b[1m625/625\u001b[0m \u001b[32m━━━━━━━━━━━━━━━━━━━━\u001b[0m\u001b[37m\u001b[0m \u001b[1m3s\u001b[0m 6ms/step - accuracy: 0.8926 - loss: 0.2690 - val_accuracy: 0.8860 - val_loss: 0.3511\n",
            "Epoch 5/10\n",
            "\u001b[1m625/625\u001b[0m \u001b[32m━━━━━━━━━━━━━━━━━━━━\u001b[0m\u001b[37m\u001b[0m \u001b[1m4s\u001b[0m 6ms/step - accuracy: 0.9038 - loss: 0.2462 - val_accuracy: 0.8654 - val_loss: 0.4194\n",
            "Epoch 6/10\n",
            "\u001b[1m625/625\u001b[0m \u001b[32m━━━━━━━━━━━━━━━━━━━━\u001b[0m\u001b[37m\u001b[0m \u001b[1m5s\u001b[0m 5ms/step - accuracy: 0.9145 - loss: 0.2189 - val_accuracy: 0.8790 - val_loss: 0.3866\n",
            "Epoch 7/10\n",
            "\u001b[1m625/625\u001b[0m \u001b[32m━━━━━━━━━━━━━━━━━━━━\u001b[0m\u001b[37m\u001b[0m \u001b[1m5s\u001b[0m 5ms/step - accuracy: 0.9155 - loss: 0.2185 - val_accuracy: 0.8772 - val_loss: 0.4886\n",
            "Epoch 8/10\n",
            "\u001b[1m625/625\u001b[0m \u001b[32m━━━━━━━━━━━━━━━━━━━━\u001b[0m\u001b[37m\u001b[0m \u001b[1m5s\u001b[0m 7ms/step - accuracy: 0.9230 - loss: 0.2078 - val_accuracy: 0.8762 - val_loss: 0.4597\n",
            "Epoch 9/10\n",
            "\u001b[1m625/625\u001b[0m \u001b[32m━━━━━━━━━━━━━━━━━━━━\u001b[0m\u001b[37m\u001b[0m \u001b[1m3s\u001b[0m 5ms/step - accuracy: 0.9252 - loss: 0.2030 - val_accuracy: 0.8700 - val_loss: 0.5016\n",
            "Epoch 10/10\n",
            "\u001b[1m625/625\u001b[0m \u001b[32m━━━━━━━━━━━━━━━━━━━━\u001b[0m\u001b[37m\u001b[0m \u001b[1m3s\u001b[0m 5ms/step - accuracy: 0.9256 - loss: 0.1960 - val_accuracy: 0.8752 - val_loss: 0.4936\n",
            "\u001b[1m782/782\u001b[0m \u001b[32m━━━━━━━━━━━━━━━━━━━━\u001b[0m\u001b[37m\u001b[0m \u001b[1m7s\u001b[0m 8ms/step - accuracy: 0.8870 - loss: 0.3234\n",
            "Test acc: 0.889\n"
          ]
        }
      ],
      "source": [
        "text_vectorization.adapt(text_only_train_ds)\n",
        "tfidf_2gram_train_ds = train_ds.map(\n",
        " lambda x, y: (text_vectorization(x), y),\n",
        " num_parallel_calls=4)\n",
        "tfidf_2gram_val_ds = val_ds.map(\n",
        " lambda x, y: (text_vectorization(x), y),\n",
        " num_parallel_calls=4)\n",
        "tfidf_2gram_test_ds = test_ds.map(\n",
        " lambda x, y: (text_vectorization(x), y),\n",
        " num_parallel_calls=4)\n",
        "model = get_model()\n",
        "model.summary()\n",
        "callbacks = [\n",
        " keras.callbacks.ModelCheckpoint(\"tfidf_2gram.keras\",\n",
        " save_best_only=True)\n",
        "]\n",
        "model.fit(tfidf_2gram_train_ds.cache(),\n",
        " validation_data=tfidf_2gram_val_ds.cache(),\n",
        " epochs=10,\n",
        " callbacks=callbacks)\n",
        "model = keras.models.load_model(\"tfidf_2gram.keras\")\n",
        "print(f\"Test acc: {model.evaluate(tfidf_2gram_test_ds)[1]:.3f}\")"
      ]
    },
    {
      "cell_type": "code",
      "execution_count": null,
      "metadata": {
        "id": "wjOp-Y0afu-2"
      },
      "outputs": [],
      "source": [
        "from tensorflow.keras import layers\n",
        "\n",
        "max_length = 60\n",
        "max_tokens = 2000\n",
        "\n",
        "text_vectorization = layers.TextVectorization(\n",
        "    max_tokens=max_tokens,\n",
        "    output_mode=\"int\",\n",
        "    output_sequence_length=max_length,\n",
        ")\n",
        "\n",
        "text_vectorization.adapt(text_only_train_ds)\n",
        "\n",
        "int_train_ds = train_ds.map(\n",
        "    lambda x, y: (text_vectorization(x), y),  # Fixed: removed extra parenthesis\n",
        "    num_parallel_calls=4\n",
        ")\n",
        "\n",
        "int_val_ds = val_ds.map(\n",
        "    lambda x, y: (text_vectorization(x), y),\n",
        "    num_parallel_calls=4\n",
        ")\n",
        "\n",
        "int_test_ds = test_ds.map(\n",
        "    lambda x, y: (text_vectorization(x), y),\n",
        "    num_parallel_calls=4\n",
        ")\n",
        "\n",
        "# In order to keep a manageable\n",
        "# input size, we’ll truncate the\n",
        "# inputs after the first 600 words.\n",
        "# This is a reasonable choice, since\n",
        "# the average review length is 233\n",
        "# words, and only 5% of reviews\n",
        "# are longer than 600 words."
      ]
    },
    {
      "cell_type": "code",
      "execution_count": null,
      "metadata": {
        "colab": {
          "base_uri": "https://localhost:8080/",
          "height": 300
        },
        "id": "uZzLRaj4gcQA",
        "outputId": "219a9b7f-9f22-44f2-d4c4-e4bd271c6aa8"
      },
      "outputs": [
        {
          "data": {
            "text/html": [
              "<pre style=\"white-space:pre;overflow-x:auto;line-height:normal;font-family:Menlo,'DejaVu Sans Mono',consolas,'Courier New',monospace\"><span style=\"font-weight: bold\">Model: \"functional\"</span>\n",
              "</pre>\n"
            ],
            "text/plain": [
              "\u001b[1mModel: \"functional\"\u001b[0m\n"
            ]
          },
          "metadata": {},
          "output_type": "display_data"
        },
        {
          "data": {
            "text/html": [
              "<pre style=\"white-space:pre;overflow-x:auto;line-height:normal;font-family:Menlo,'DejaVu Sans Mono',consolas,'Courier New',monospace\">┏━━━━━━━━━━━━━━━━━━━━━━━━━━━━━━━━━┳━━━━━━━━━━━━━━━━━━━━━━━━┳━━━━━━━━━━━━━━━┓\n",
              "┃<span style=\"font-weight: bold\"> Layer (type)                    </span>┃<span style=\"font-weight: bold\"> Output Shape           </span>┃<span style=\"font-weight: bold\">       Param # </span>┃\n",
              "┡━━━━━━━━━━━━━━━━━━━━━━━━━━━━━━━━━╇━━━━━━━━━━━━━━━━━━━━━━━━╇━━━━━━━━━━━━━━━┩\n",
              "│ input_layer_4 (<span style=\"color: #0087ff; text-decoration-color: #0087ff\">InputLayer</span>)      │ (<span style=\"color: #00d7ff; text-decoration-color: #00d7ff\">None</span>, <span style=\"color: #00d7ff; text-decoration-color: #00d7ff\">None</span>)           │             <span style=\"color: #00af00; text-decoration-color: #00af00\">0</span> │\n",
              "├─────────────────────────────────┼────────────────────────┼───────────────┤\n",
              "│ lambda_4 (<span style=\"color: #0087ff; text-decoration-color: #0087ff\">Lambda</span>)               │ (<span style=\"color: #00d7ff; text-decoration-color: #00d7ff\">None</span>, <span style=\"color: #00d7ff; text-decoration-color: #00d7ff\">None</span>, <span style=\"color: #00af00; text-decoration-color: #00af00\">20000</span>)    │             <span style=\"color: #00af00; text-decoration-color: #00af00\">0</span> │\n",
              "├─────────────────────────────────┼────────────────────────┼───────────────┤\n",
              "│ bidirectional (<span style=\"color: #0087ff; text-decoration-color: #0087ff\">Bidirectional</span>)   │ (<span style=\"color: #00d7ff; text-decoration-color: #00d7ff\">None</span>, <span style=\"color: #00af00; text-decoration-color: #00af00\">64</span>)             │     <span style=\"color: #00af00; text-decoration-color: #00af00\">5,128,448</span> │\n",
              "├─────────────────────────────────┼────────────────────────┼───────────────┤\n",
              "│ dropout (<span style=\"color: #0087ff; text-decoration-color: #0087ff\">Dropout</span>)               │ (<span style=\"color: #00d7ff; text-decoration-color: #00d7ff\">None</span>, <span style=\"color: #00af00; text-decoration-color: #00af00\">64</span>)             │             <span style=\"color: #00af00; text-decoration-color: #00af00\">0</span> │\n",
              "├─────────────────────────────────┼────────────────────────┼───────────────┤\n",
              "│ dense (<span style=\"color: #0087ff; text-decoration-color: #0087ff\">Dense</span>)                   │ (<span style=\"color: #00d7ff; text-decoration-color: #00d7ff\">None</span>, <span style=\"color: #00af00; text-decoration-color: #00af00\">1</span>)              │            <span style=\"color: #00af00; text-decoration-color: #00af00\">65</span> │\n",
              "└─────────────────────────────────┴────────────────────────┴───────────────┘\n",
              "</pre>\n"
            ],
            "text/plain": [
              "┏━━━━━━━━━━━━━━━━━━━━━━━━━━━━━━━━━┳━━━━━━━━━━━━━━━━━━━━━━━━┳━━━━━━━━━━━━━━━┓\n",
              "┃\u001b[1m \u001b[0m\u001b[1mLayer (type)                   \u001b[0m\u001b[1m \u001b[0m┃\u001b[1m \u001b[0m\u001b[1mOutput Shape          \u001b[0m\u001b[1m \u001b[0m┃\u001b[1m \u001b[0m\u001b[1m      Param #\u001b[0m\u001b[1m \u001b[0m┃\n",
              "┡━━━━━━━━━━━━━━━━━━━━━━━━━━━━━━━━━╇━━━━━━━━━━━━━━━━━━━━━━━━╇━━━━━━━━━━━━━━━┩\n",
              "│ input_layer_4 (\u001b[38;5;33mInputLayer\u001b[0m)      │ (\u001b[38;5;45mNone\u001b[0m, \u001b[38;5;45mNone\u001b[0m)           │             \u001b[38;5;34m0\u001b[0m │\n",
              "├─────────────────────────────────┼────────────────────────┼───────────────┤\n",
              "│ lambda_4 (\u001b[38;5;33mLambda\u001b[0m)               │ (\u001b[38;5;45mNone\u001b[0m, \u001b[38;5;45mNone\u001b[0m, \u001b[38;5;34m20000\u001b[0m)    │             \u001b[38;5;34m0\u001b[0m │\n",
              "├─────────────────────────────────┼────────────────────────┼───────────────┤\n",
              "│ bidirectional (\u001b[38;5;33mBidirectional\u001b[0m)   │ (\u001b[38;5;45mNone\u001b[0m, \u001b[38;5;34m64\u001b[0m)             │     \u001b[38;5;34m5,128,448\u001b[0m │\n",
              "├─────────────────────────────────┼────────────────────────┼───────────────┤\n",
              "│ dropout (\u001b[38;5;33mDropout\u001b[0m)               │ (\u001b[38;5;45mNone\u001b[0m, \u001b[38;5;34m64\u001b[0m)             │             \u001b[38;5;34m0\u001b[0m │\n",
              "├─────────────────────────────────┼────────────────────────┼───────────────┤\n",
              "│ dense (\u001b[38;5;33mDense\u001b[0m)                   │ (\u001b[38;5;45mNone\u001b[0m, \u001b[38;5;34m1\u001b[0m)              │            \u001b[38;5;34m65\u001b[0m │\n",
              "└─────────────────────────────────┴────────────────────────┴───────────────┘\n"
            ]
          },
          "metadata": {},
          "output_type": "display_data"
        },
        {
          "data": {
            "text/html": [
              "<pre style=\"white-space:pre;overflow-x:auto;line-height:normal;font-family:Menlo,'DejaVu Sans Mono',consolas,'Courier New',monospace\"><span style=\"font-weight: bold\"> Total params: </span><span style=\"color: #00af00; text-decoration-color: #00af00\">5,128,513</span> (19.56 MB)\n",
              "</pre>\n"
            ],
            "text/plain": [
              "\u001b[1m Total params: \u001b[0m\u001b[38;5;34m5,128,513\u001b[0m (19.56 MB)\n"
            ]
          },
          "metadata": {},
          "output_type": "display_data"
        },
        {
          "data": {
            "text/html": [
              "<pre style=\"white-space:pre;overflow-x:auto;line-height:normal;font-family:Menlo,'DejaVu Sans Mono',consolas,'Courier New',monospace\"><span style=\"font-weight: bold\"> Trainable params: </span><span style=\"color: #00af00; text-decoration-color: #00af00\">5,128,513</span> (19.56 MB)\n",
              "</pre>\n"
            ],
            "text/plain": [
              "\u001b[1m Trainable params: \u001b[0m\u001b[38;5;34m5,128,513\u001b[0m (19.56 MB)\n"
            ]
          },
          "metadata": {},
          "output_type": "display_data"
        },
        {
          "data": {
            "text/html": [
              "<pre style=\"white-space:pre;overflow-x:auto;line-height:normal;font-family:Menlo,'DejaVu Sans Mono',consolas,'Courier New',monospace\"><span style=\"font-weight: bold\"> Non-trainable params: </span><span style=\"color: #00af00; text-decoration-color: #00af00\">0</span> (0.00 B)\n",
              "</pre>\n"
            ],
            "text/plain": [
              "\u001b[1m Non-trainable params: \u001b[0m\u001b[38;5;34m0\u001b[0m (0.00 B)\n"
            ]
          },
          "metadata": {},
          "output_type": "display_data"
        }
      ],
      "source": [
        "inputs = keras.Input(shape=(None,), dtype=\"int64\")\n",
        "# Option 1: One-hot via Lambda\n",
        "#embedded = layers.Lambda(lambda x: tf.one_hot(x, depth=max_tokens))(inputs)\n",
        "embedded = layers.Lambda(lambda x: tf.one_hot(x, depth=max_tokens),\n",
        "                         output_shape=(None, max_tokens))(inputs)\n",
        "\n",
        "x = layers.Bidirectional(layers.LSTM(32))(embedded)\n",
        "x = layers.Dropout(0.5)(x)\n",
        "outputs = layers.Dense(1, activation=\"sigmoid\")(x)\n",
        "model = keras.Model(inputs, outputs)\n",
        "model.compile(optimizer=\"rmsprop\",\n",
        "              loss=\"binary_crossentropy\",\n",
        "              metrics=[\"accuracy\"])\n",
        "model.summary()"
      ]
    },
    {
      "cell_type": "markdown",
      "metadata": {
        "id": "Mk9oMTMRi3A3"
      },
      "source": [
        "Training a first basic sequence model\n"
      ]
    },
    {
      "cell_type": "code",
      "execution_count": null,
      "metadata": {
        "colab": {
          "base_uri": "https://localhost:8080/",
          "height": 425
        },
        "id": "BtUAhqe3xMTm",
        "outputId": "3e8673f9-4459-4bae-dd2d-65d06e205f8c"
      },
      "outputs": [
        {
          "name": "stdout",
          "output_type": "stream",
          "text": [
            "Epoch 1/6\n",
            "\u001b[1m112/625\u001b[0m \u001b[32m━━━\u001b[0m\u001b[37m━━━━━━━━━━━━━━━━━\u001b[0m \u001b[1m3:45:48\u001b[0m 26s/step - accuracy: 0.5118 - loss: 0.6920"
          ]
        },
        {
          "ename": "KeyboardInterrupt",
          "evalue": "",
          "output_type": "error",
          "traceback": [
            "\u001b[0;31m---------------------------------------------------------------------------\u001b[0m",
            "\u001b[0;31mKeyboardInterrupt\u001b[0m                         Traceback (most recent call last)",
            "\u001b[0;32m<ipython-input-34-95c63155d71d>\u001b[0m in \u001b[0;36m<cell line: 0>\u001b[0;34m()\u001b[0m\n\u001b[1;32m      3\u001b[0m  save_best_only=True)\n\u001b[1;32m      4\u001b[0m ]\n\u001b[0;32m----> 5\u001b[0;31m model.fit(int_train_ds, validation_data=int_val_ds, epochs=6,\n\u001b[0m\u001b[1;32m      6\u001b[0m  callbacks=callbacks)\n\u001b[1;32m      7\u001b[0m \u001b[0mmodel\u001b[0m \u001b[0;34m=\u001b[0m \u001b[0mkeras\u001b[0m\u001b[0;34m.\u001b[0m\u001b[0mmodels\u001b[0m\u001b[0;34m.\u001b[0m\u001b[0mload_model\u001b[0m\u001b[0;34m(\u001b[0m\u001b[0;34m\"one_hot_bidir_lstm.keras\"\u001b[0m\u001b[0;34m)\u001b[0m\u001b[0;34m\u001b[0m\u001b[0;34m\u001b[0m\u001b[0m\n",
            "\u001b[0;32m/usr/local/lib/python3.11/dist-packages/keras/src/utils/traceback_utils.py\u001b[0m in \u001b[0;36merror_handler\u001b[0;34m(*args, **kwargs)\u001b[0m\n\u001b[1;32m    115\u001b[0m         \u001b[0mfiltered_tb\u001b[0m \u001b[0;34m=\u001b[0m \u001b[0;32mNone\u001b[0m\u001b[0;34m\u001b[0m\u001b[0;34m\u001b[0m\u001b[0m\n\u001b[1;32m    116\u001b[0m         \u001b[0;32mtry\u001b[0m\u001b[0;34m:\u001b[0m\u001b[0;34m\u001b[0m\u001b[0;34m\u001b[0m\u001b[0m\n\u001b[0;32m--> 117\u001b[0;31m             \u001b[0;32mreturn\u001b[0m \u001b[0mfn\u001b[0m\u001b[0;34m(\u001b[0m\u001b[0;34m*\u001b[0m\u001b[0margs\u001b[0m\u001b[0;34m,\u001b[0m \u001b[0;34m**\u001b[0m\u001b[0mkwargs\u001b[0m\u001b[0;34m)\u001b[0m\u001b[0;34m\u001b[0m\u001b[0;34m\u001b[0m\u001b[0m\n\u001b[0m\u001b[1;32m    118\u001b[0m         \u001b[0;32mexcept\u001b[0m \u001b[0mException\u001b[0m \u001b[0;32mas\u001b[0m \u001b[0me\u001b[0m\u001b[0;34m:\u001b[0m\u001b[0;34m\u001b[0m\u001b[0;34m\u001b[0m\u001b[0m\n\u001b[1;32m    119\u001b[0m             \u001b[0mfiltered_tb\u001b[0m \u001b[0;34m=\u001b[0m \u001b[0m_process_traceback_frames\u001b[0m\u001b[0;34m(\u001b[0m\u001b[0me\u001b[0m\u001b[0;34m.\u001b[0m\u001b[0m__traceback__\u001b[0m\u001b[0;34m)\u001b[0m\u001b[0;34m\u001b[0m\u001b[0;34m\u001b[0m\u001b[0m\n",
            "\u001b[0;32m/usr/local/lib/python3.11/dist-packages/keras/src/backend/tensorflow/trainer.py\u001b[0m in \u001b[0;36mfit\u001b[0;34m(self, x, y, batch_size, epochs, verbose, callbacks, validation_split, validation_data, shuffle, class_weight, sample_weight, initial_epoch, steps_per_epoch, validation_steps, validation_batch_size, validation_freq)\u001b[0m\n\u001b[1;32m    369\u001b[0m                 \u001b[0;32mfor\u001b[0m \u001b[0mstep\u001b[0m\u001b[0;34m,\u001b[0m \u001b[0miterator\u001b[0m \u001b[0;32min\u001b[0m \u001b[0mepoch_iterator\u001b[0m\u001b[0;34m:\u001b[0m\u001b[0;34m\u001b[0m\u001b[0;34m\u001b[0m\u001b[0m\n\u001b[1;32m    370\u001b[0m                     \u001b[0mcallbacks\u001b[0m\u001b[0;34m.\u001b[0m\u001b[0mon_train_batch_begin\u001b[0m\u001b[0;34m(\u001b[0m\u001b[0mstep\u001b[0m\u001b[0;34m)\u001b[0m\u001b[0;34m\u001b[0m\u001b[0;34m\u001b[0m\u001b[0m\n\u001b[0;32m--> 371\u001b[0;31m                     \u001b[0mlogs\u001b[0m \u001b[0;34m=\u001b[0m \u001b[0mself\u001b[0m\u001b[0;34m.\u001b[0m\u001b[0mtrain_function\u001b[0m\u001b[0;34m(\u001b[0m\u001b[0miterator\u001b[0m\u001b[0;34m)\u001b[0m\u001b[0;34m\u001b[0m\u001b[0;34m\u001b[0m\u001b[0m\n\u001b[0m\u001b[1;32m    372\u001b[0m                     \u001b[0mcallbacks\u001b[0m\u001b[0;34m.\u001b[0m\u001b[0mon_train_batch_end\u001b[0m\u001b[0;34m(\u001b[0m\u001b[0mstep\u001b[0m\u001b[0;34m,\u001b[0m \u001b[0mlogs\u001b[0m\u001b[0;34m)\u001b[0m\u001b[0;34m\u001b[0m\u001b[0;34m\u001b[0m\u001b[0m\n\u001b[1;32m    373\u001b[0m                     \u001b[0;32mif\u001b[0m \u001b[0mself\u001b[0m\u001b[0;34m.\u001b[0m\u001b[0mstop_training\u001b[0m\u001b[0;34m:\u001b[0m\u001b[0;34m\u001b[0m\u001b[0;34m\u001b[0m\u001b[0m\n",
            "\u001b[0;32m/usr/local/lib/python3.11/dist-packages/keras/src/backend/tensorflow/trainer.py\u001b[0m in \u001b[0;36mfunction\u001b[0;34m(iterator)\u001b[0m\n\u001b[1;32m    217\u001b[0m                 \u001b[0miterator\u001b[0m\u001b[0;34m,\u001b[0m \u001b[0;34m(\u001b[0m\u001b[0mtf\u001b[0m\u001b[0;34m.\u001b[0m\u001b[0mdata\u001b[0m\u001b[0;34m.\u001b[0m\u001b[0mIterator\u001b[0m\u001b[0;34m,\u001b[0m \u001b[0mtf\u001b[0m\u001b[0;34m.\u001b[0m\u001b[0mdistribute\u001b[0m\u001b[0;34m.\u001b[0m\u001b[0mDistributedIterator\u001b[0m\u001b[0;34m)\u001b[0m\u001b[0;34m\u001b[0m\u001b[0;34m\u001b[0m\u001b[0m\n\u001b[1;32m    218\u001b[0m             ):\n\u001b[0;32m--> 219\u001b[0;31m                 \u001b[0mopt_outputs\u001b[0m \u001b[0;34m=\u001b[0m \u001b[0mmulti_step_on_iterator\u001b[0m\u001b[0;34m(\u001b[0m\u001b[0miterator\u001b[0m\u001b[0;34m)\u001b[0m\u001b[0;34m\u001b[0m\u001b[0;34m\u001b[0m\u001b[0m\n\u001b[0m\u001b[1;32m    220\u001b[0m                 \u001b[0;32mif\u001b[0m \u001b[0;32mnot\u001b[0m \u001b[0mopt_outputs\u001b[0m\u001b[0;34m.\u001b[0m\u001b[0mhas_value\u001b[0m\u001b[0;34m(\u001b[0m\u001b[0;34m)\u001b[0m\u001b[0;34m:\u001b[0m\u001b[0;34m\u001b[0m\u001b[0;34m\u001b[0m\u001b[0m\n\u001b[1;32m    221\u001b[0m                     \u001b[0;32mraise\u001b[0m \u001b[0mStopIteration\u001b[0m\u001b[0;34m\u001b[0m\u001b[0;34m\u001b[0m\u001b[0m\n",
            "\u001b[0;32m/usr/local/lib/python3.11/dist-packages/tensorflow/python/util/traceback_utils.py\u001b[0m in \u001b[0;36merror_handler\u001b[0;34m(*args, **kwargs)\u001b[0m\n\u001b[1;32m    148\u001b[0m     \u001b[0mfiltered_tb\u001b[0m \u001b[0;34m=\u001b[0m \u001b[0;32mNone\u001b[0m\u001b[0;34m\u001b[0m\u001b[0;34m\u001b[0m\u001b[0m\n\u001b[1;32m    149\u001b[0m     \u001b[0;32mtry\u001b[0m\u001b[0;34m:\u001b[0m\u001b[0;34m\u001b[0m\u001b[0;34m\u001b[0m\u001b[0m\n\u001b[0;32m--> 150\u001b[0;31m       \u001b[0;32mreturn\u001b[0m \u001b[0mfn\u001b[0m\u001b[0;34m(\u001b[0m\u001b[0;34m*\u001b[0m\u001b[0margs\u001b[0m\u001b[0;34m,\u001b[0m \u001b[0;34m**\u001b[0m\u001b[0mkwargs\u001b[0m\u001b[0;34m)\u001b[0m\u001b[0;34m\u001b[0m\u001b[0;34m\u001b[0m\u001b[0m\n\u001b[0m\u001b[1;32m    151\u001b[0m     \u001b[0;32mexcept\u001b[0m \u001b[0mException\u001b[0m \u001b[0;32mas\u001b[0m \u001b[0me\u001b[0m\u001b[0;34m:\u001b[0m\u001b[0;34m\u001b[0m\u001b[0;34m\u001b[0m\u001b[0m\n\u001b[1;32m    152\u001b[0m       \u001b[0mfiltered_tb\u001b[0m \u001b[0;34m=\u001b[0m \u001b[0m_process_traceback_frames\u001b[0m\u001b[0;34m(\u001b[0m\u001b[0me\u001b[0m\u001b[0;34m.\u001b[0m\u001b[0m__traceback__\u001b[0m\u001b[0;34m)\u001b[0m\u001b[0;34m\u001b[0m\u001b[0;34m\u001b[0m\u001b[0m\n",
            "\u001b[0;32m/usr/local/lib/python3.11/dist-packages/tensorflow/python/eager/polymorphic_function/polymorphic_function.py\u001b[0m in \u001b[0;36m__call__\u001b[0;34m(self, *args, **kwds)\u001b[0m\n\u001b[1;32m    831\u001b[0m \u001b[0;34m\u001b[0m\u001b[0m\n\u001b[1;32m    832\u001b[0m       \u001b[0;32mwith\u001b[0m \u001b[0mOptionalXlaContext\u001b[0m\u001b[0;34m(\u001b[0m\u001b[0mself\u001b[0m\u001b[0;34m.\u001b[0m\u001b[0m_jit_compile\u001b[0m\u001b[0;34m)\u001b[0m\u001b[0;34m:\u001b[0m\u001b[0;34m\u001b[0m\u001b[0;34m\u001b[0m\u001b[0m\n\u001b[0;32m--> 833\u001b[0;31m         \u001b[0mresult\u001b[0m \u001b[0;34m=\u001b[0m \u001b[0mself\u001b[0m\u001b[0;34m.\u001b[0m\u001b[0m_call\u001b[0m\u001b[0;34m(\u001b[0m\u001b[0;34m*\u001b[0m\u001b[0margs\u001b[0m\u001b[0;34m,\u001b[0m \u001b[0;34m**\u001b[0m\u001b[0mkwds\u001b[0m\u001b[0;34m)\u001b[0m\u001b[0;34m\u001b[0m\u001b[0;34m\u001b[0m\u001b[0m\n\u001b[0m\u001b[1;32m    834\u001b[0m \u001b[0;34m\u001b[0m\u001b[0m\n\u001b[1;32m    835\u001b[0m       \u001b[0mnew_tracing_count\u001b[0m \u001b[0;34m=\u001b[0m \u001b[0mself\u001b[0m\u001b[0;34m.\u001b[0m\u001b[0mexperimental_get_tracing_count\u001b[0m\u001b[0;34m(\u001b[0m\u001b[0;34m)\u001b[0m\u001b[0;34m\u001b[0m\u001b[0;34m\u001b[0m\u001b[0m\n",
            "\u001b[0;32m/usr/local/lib/python3.11/dist-packages/tensorflow/python/eager/polymorphic_function/polymorphic_function.py\u001b[0m in \u001b[0;36m_call\u001b[0;34m(self, *args, **kwds)\u001b[0m\n\u001b[1;32m    876\u001b[0m       \u001b[0;31m# In this case we have not created variables on the first call. So we can\u001b[0m\u001b[0;34m\u001b[0m\u001b[0;34m\u001b[0m\u001b[0m\n\u001b[1;32m    877\u001b[0m       \u001b[0;31m# run the first trace but we should fail if variables are created.\u001b[0m\u001b[0;34m\u001b[0m\u001b[0;34m\u001b[0m\u001b[0m\n\u001b[0;32m--> 878\u001b[0;31m       results = tracing_compilation.call_function(\n\u001b[0m\u001b[1;32m    879\u001b[0m           \u001b[0margs\u001b[0m\u001b[0;34m,\u001b[0m \u001b[0mkwds\u001b[0m\u001b[0;34m,\u001b[0m \u001b[0mself\u001b[0m\u001b[0;34m.\u001b[0m\u001b[0m_variable_creation_config\u001b[0m\u001b[0;34m\u001b[0m\u001b[0;34m\u001b[0m\u001b[0m\n\u001b[1;32m    880\u001b[0m       )\n",
            "\u001b[0;32m/usr/local/lib/python3.11/dist-packages/tensorflow/python/eager/polymorphic_function/tracing_compilation.py\u001b[0m in \u001b[0;36mcall_function\u001b[0;34m(args, kwargs, tracing_options)\u001b[0m\n\u001b[1;32m    137\u001b[0m   \u001b[0mbound_args\u001b[0m \u001b[0;34m=\u001b[0m \u001b[0mfunction\u001b[0m\u001b[0;34m.\u001b[0m\u001b[0mfunction_type\u001b[0m\u001b[0;34m.\u001b[0m\u001b[0mbind\u001b[0m\u001b[0;34m(\u001b[0m\u001b[0;34m*\u001b[0m\u001b[0margs\u001b[0m\u001b[0;34m,\u001b[0m \u001b[0;34m**\u001b[0m\u001b[0mkwargs\u001b[0m\u001b[0;34m)\u001b[0m\u001b[0;34m\u001b[0m\u001b[0;34m\u001b[0m\u001b[0m\n\u001b[1;32m    138\u001b[0m   \u001b[0mflat_inputs\u001b[0m \u001b[0;34m=\u001b[0m \u001b[0mfunction\u001b[0m\u001b[0;34m.\u001b[0m\u001b[0mfunction_type\u001b[0m\u001b[0;34m.\u001b[0m\u001b[0munpack_inputs\u001b[0m\u001b[0;34m(\u001b[0m\u001b[0mbound_args\u001b[0m\u001b[0;34m)\u001b[0m\u001b[0;34m\u001b[0m\u001b[0;34m\u001b[0m\u001b[0m\n\u001b[0;32m--> 139\u001b[0;31m   return function._call_flat(  # pylint: disable=protected-access\n\u001b[0m\u001b[1;32m    140\u001b[0m       \u001b[0mflat_inputs\u001b[0m\u001b[0;34m,\u001b[0m \u001b[0mcaptured_inputs\u001b[0m\u001b[0;34m=\u001b[0m\u001b[0mfunction\u001b[0m\u001b[0;34m.\u001b[0m\u001b[0mcaptured_inputs\u001b[0m\u001b[0;34m\u001b[0m\u001b[0;34m\u001b[0m\u001b[0m\n\u001b[1;32m    141\u001b[0m   )\n",
            "\u001b[0;32m/usr/local/lib/python3.11/dist-packages/tensorflow/python/eager/polymorphic_function/concrete_function.py\u001b[0m in \u001b[0;36m_call_flat\u001b[0;34m(self, tensor_inputs, captured_inputs)\u001b[0m\n\u001b[1;32m   1320\u001b[0m         and executing_eagerly):\n\u001b[1;32m   1321\u001b[0m       \u001b[0;31m# No tape is watching; skip to running the function.\u001b[0m\u001b[0;34m\u001b[0m\u001b[0;34m\u001b[0m\u001b[0m\n\u001b[0;32m-> 1322\u001b[0;31m       \u001b[0;32mreturn\u001b[0m \u001b[0mself\u001b[0m\u001b[0;34m.\u001b[0m\u001b[0m_inference_function\u001b[0m\u001b[0;34m.\u001b[0m\u001b[0mcall_preflattened\u001b[0m\u001b[0;34m(\u001b[0m\u001b[0margs\u001b[0m\u001b[0;34m)\u001b[0m\u001b[0;34m\u001b[0m\u001b[0;34m\u001b[0m\u001b[0m\n\u001b[0m\u001b[1;32m   1323\u001b[0m     forward_backward = self._select_forward_and_backward_functions(\n\u001b[1;32m   1324\u001b[0m         \u001b[0margs\u001b[0m\u001b[0;34m,\u001b[0m\u001b[0;34m\u001b[0m\u001b[0;34m\u001b[0m\u001b[0m\n",
            "\u001b[0;32m/usr/local/lib/python3.11/dist-packages/tensorflow/python/eager/polymorphic_function/atomic_function.py\u001b[0m in \u001b[0;36mcall_preflattened\u001b[0;34m(self, args)\u001b[0m\n\u001b[1;32m    214\u001b[0m   \u001b[0;32mdef\u001b[0m \u001b[0mcall_preflattened\u001b[0m\u001b[0;34m(\u001b[0m\u001b[0mself\u001b[0m\u001b[0;34m,\u001b[0m \u001b[0margs\u001b[0m\u001b[0;34m:\u001b[0m \u001b[0mSequence\u001b[0m\u001b[0;34m[\u001b[0m\u001b[0mcore\u001b[0m\u001b[0;34m.\u001b[0m\u001b[0mTensor\u001b[0m\u001b[0;34m]\u001b[0m\u001b[0;34m)\u001b[0m \u001b[0;34m->\u001b[0m \u001b[0mAny\u001b[0m\u001b[0;34m:\u001b[0m\u001b[0;34m\u001b[0m\u001b[0;34m\u001b[0m\u001b[0m\n\u001b[1;32m    215\u001b[0m     \u001b[0;34m\"\"\"Calls with flattened tensor inputs and returns the structured output.\"\"\"\u001b[0m\u001b[0;34m\u001b[0m\u001b[0;34m\u001b[0m\u001b[0m\n\u001b[0;32m--> 216\u001b[0;31m     \u001b[0mflat_outputs\u001b[0m \u001b[0;34m=\u001b[0m \u001b[0mself\u001b[0m\u001b[0;34m.\u001b[0m\u001b[0mcall_flat\u001b[0m\u001b[0;34m(\u001b[0m\u001b[0;34m*\u001b[0m\u001b[0margs\u001b[0m\u001b[0;34m)\u001b[0m\u001b[0;34m\u001b[0m\u001b[0;34m\u001b[0m\u001b[0m\n\u001b[0m\u001b[1;32m    217\u001b[0m     \u001b[0;32mreturn\u001b[0m \u001b[0mself\u001b[0m\u001b[0;34m.\u001b[0m\u001b[0mfunction_type\u001b[0m\u001b[0;34m.\u001b[0m\u001b[0mpack_output\u001b[0m\u001b[0;34m(\u001b[0m\u001b[0mflat_outputs\u001b[0m\u001b[0;34m)\u001b[0m\u001b[0;34m\u001b[0m\u001b[0;34m\u001b[0m\u001b[0m\n\u001b[1;32m    218\u001b[0m \u001b[0;34m\u001b[0m\u001b[0m\n",
            "\u001b[0;32m/usr/local/lib/python3.11/dist-packages/tensorflow/python/eager/polymorphic_function/atomic_function.py\u001b[0m in \u001b[0;36mcall_flat\u001b[0;34m(self, *args)\u001b[0m\n\u001b[1;32m    249\u001b[0m         \u001b[0;32mwith\u001b[0m \u001b[0mrecord\u001b[0m\u001b[0;34m.\u001b[0m\u001b[0mstop_recording\u001b[0m\u001b[0;34m(\u001b[0m\u001b[0;34m)\u001b[0m\u001b[0;34m:\u001b[0m\u001b[0;34m\u001b[0m\u001b[0;34m\u001b[0m\u001b[0m\n\u001b[1;32m    250\u001b[0m           \u001b[0;32mif\u001b[0m \u001b[0mself\u001b[0m\u001b[0;34m.\u001b[0m\u001b[0m_bound_context\u001b[0m\u001b[0;34m.\u001b[0m\u001b[0mexecuting_eagerly\u001b[0m\u001b[0;34m(\u001b[0m\u001b[0;34m)\u001b[0m\u001b[0;34m:\u001b[0m\u001b[0;34m\u001b[0m\u001b[0;34m\u001b[0m\u001b[0m\n\u001b[0;32m--> 251\u001b[0;31m             outputs = self._bound_context.call_function(\n\u001b[0m\u001b[1;32m    252\u001b[0m                 \u001b[0mself\u001b[0m\u001b[0;34m.\u001b[0m\u001b[0mname\u001b[0m\u001b[0;34m,\u001b[0m\u001b[0;34m\u001b[0m\u001b[0;34m\u001b[0m\u001b[0m\n\u001b[1;32m    253\u001b[0m                 \u001b[0mlist\u001b[0m\u001b[0;34m(\u001b[0m\u001b[0margs\u001b[0m\u001b[0;34m)\u001b[0m\u001b[0;34m,\u001b[0m\u001b[0;34m\u001b[0m\u001b[0;34m\u001b[0m\u001b[0m\n",
            "\u001b[0;32m/usr/local/lib/python3.11/dist-packages/tensorflow/python/eager/context.py\u001b[0m in \u001b[0;36mcall_function\u001b[0;34m(self, name, tensor_inputs, num_outputs)\u001b[0m\n\u001b[1;32m   1686\u001b[0m     \u001b[0mcancellation_context\u001b[0m \u001b[0;34m=\u001b[0m \u001b[0mcancellation\u001b[0m\u001b[0;34m.\u001b[0m\u001b[0mcontext\u001b[0m\u001b[0;34m(\u001b[0m\u001b[0;34m)\u001b[0m\u001b[0;34m\u001b[0m\u001b[0;34m\u001b[0m\u001b[0m\n\u001b[1;32m   1687\u001b[0m     \u001b[0;32mif\u001b[0m \u001b[0mcancellation_context\u001b[0m \u001b[0;32mis\u001b[0m \u001b[0;32mNone\u001b[0m\u001b[0;34m:\u001b[0m\u001b[0;34m\u001b[0m\u001b[0;34m\u001b[0m\u001b[0m\n\u001b[0;32m-> 1688\u001b[0;31m       outputs = execute.execute(\n\u001b[0m\u001b[1;32m   1689\u001b[0m           \u001b[0mname\u001b[0m\u001b[0;34m.\u001b[0m\u001b[0mdecode\u001b[0m\u001b[0;34m(\u001b[0m\u001b[0;34m\"utf-8\"\u001b[0m\u001b[0;34m)\u001b[0m\u001b[0;34m,\u001b[0m\u001b[0;34m\u001b[0m\u001b[0;34m\u001b[0m\u001b[0m\n\u001b[1;32m   1690\u001b[0m           \u001b[0mnum_outputs\u001b[0m\u001b[0;34m=\u001b[0m\u001b[0mnum_outputs\u001b[0m\u001b[0;34m,\u001b[0m\u001b[0;34m\u001b[0m\u001b[0;34m\u001b[0m\u001b[0m\n",
            "\u001b[0;32m/usr/local/lib/python3.11/dist-packages/tensorflow/python/eager/execute.py\u001b[0m in \u001b[0;36mquick_execute\u001b[0;34m(op_name, num_outputs, inputs, attrs, ctx, name)\u001b[0m\n\u001b[1;32m     51\u001b[0m   \u001b[0;32mtry\u001b[0m\u001b[0;34m:\u001b[0m\u001b[0;34m\u001b[0m\u001b[0;34m\u001b[0m\u001b[0m\n\u001b[1;32m     52\u001b[0m     \u001b[0mctx\u001b[0m\u001b[0;34m.\u001b[0m\u001b[0mensure_initialized\u001b[0m\u001b[0;34m(\u001b[0m\u001b[0;34m)\u001b[0m\u001b[0;34m\u001b[0m\u001b[0;34m\u001b[0m\u001b[0m\n\u001b[0;32m---> 53\u001b[0;31m     tensors = pywrap_tfe.TFE_Py_Execute(ctx._handle, device_name, op_name,\n\u001b[0m\u001b[1;32m     54\u001b[0m                                         inputs, attrs, num_outputs)\n\u001b[1;32m     55\u001b[0m   \u001b[0;32mexcept\u001b[0m \u001b[0mcore\u001b[0m\u001b[0;34m.\u001b[0m\u001b[0m_NotOkStatusException\u001b[0m \u001b[0;32mas\u001b[0m \u001b[0me\u001b[0m\u001b[0;34m:\u001b[0m\u001b[0;34m\u001b[0m\u001b[0;34m\u001b[0m\u001b[0m\n",
            "\u001b[0;31mKeyboardInterrupt\u001b[0m: "
          ]
        }
      ],
      "source": [
        "#1 hour X10\n",
        "callbacks = [\n",
        " keras.callbacks.ModelCheckpoint(\"one_hot_bidir_lstm.keras\",\n",
        " save_best_only=True)\n",
        "]\n",
        "model.fit(int_train_ds, validation_data=int_val_ds, epochs=6,\n",
        " callbacks=callbacks)\n",
        "model = keras.models.load_model(\"one_hot_bidir_lstm.keras\")\n",
        "print(f\"Test acc: {model.evaluate(int_test_ds)[1]:.3f}\")"
      ]
    },
    {
      "cell_type": "code",
      "execution_count": null,
      "metadata": {
        "colab": {
          "base_uri": "https://localhost:8080/",
          "height": 391
        },
        "id": "4bsmFuDRiN6-",
        "outputId": "cb10d864-a83c-47df-eed8-50b2402f3090"
      },
      "outputs": [
        {
          "name": "stdout",
          "output_type": "stream",
          "text": [
            "Epoch 1/6\n",
            "\u001b[1m  4/625\u001b[0m \u001b[37m━━━━━━━━━━━━━━━━━━━━\u001b[0m \u001b[1m27:57\u001b[0m 3s/step - accuracy: 0.6380 - loss: 0.6394"
          ]
        },
        {
          "ename": "KeyboardInterrupt",
          "evalue": "",
          "output_type": "error",
          "traceback": [
            "\u001b[0;31m---------------------------------------------------------------------------\u001b[0m",
            "\u001b[0;31mKeyboardInterrupt\u001b[0m                         Traceback (most recent call last)",
            "\u001b[0;32m<ipython-input-37-95c63155d71d>\u001b[0m in \u001b[0;36m<cell line: 0>\u001b[0;34m()\u001b[0m\n\u001b[1;32m      3\u001b[0m  save_best_only=True)\n\u001b[1;32m      4\u001b[0m ]\n\u001b[0;32m----> 5\u001b[0;31m model.fit(int_train_ds, validation_data=int_val_ds, epochs=6,\n\u001b[0m\u001b[1;32m      6\u001b[0m  callbacks=callbacks)\n\u001b[1;32m      7\u001b[0m \u001b[0mmodel\u001b[0m \u001b[0;34m=\u001b[0m \u001b[0mkeras\u001b[0m\u001b[0;34m.\u001b[0m\u001b[0mmodels\u001b[0m\u001b[0;34m.\u001b[0m\u001b[0mload_model\u001b[0m\u001b[0;34m(\u001b[0m\u001b[0;34m\"one_hot_bidir_lstm.keras\"\u001b[0m\u001b[0;34m)\u001b[0m\u001b[0;34m\u001b[0m\u001b[0;34m\u001b[0m\u001b[0m\n",
            "\u001b[0;32m/usr/local/lib/python3.11/dist-packages/keras/src/utils/traceback_utils.py\u001b[0m in \u001b[0;36merror_handler\u001b[0;34m(*args, **kwargs)\u001b[0m\n\u001b[1;32m    115\u001b[0m         \u001b[0mfiltered_tb\u001b[0m \u001b[0;34m=\u001b[0m \u001b[0;32mNone\u001b[0m\u001b[0;34m\u001b[0m\u001b[0;34m\u001b[0m\u001b[0m\n\u001b[1;32m    116\u001b[0m         \u001b[0;32mtry\u001b[0m\u001b[0;34m:\u001b[0m\u001b[0;34m\u001b[0m\u001b[0;34m\u001b[0m\u001b[0m\n\u001b[0;32m--> 117\u001b[0;31m             \u001b[0;32mreturn\u001b[0m \u001b[0mfn\u001b[0m\u001b[0;34m(\u001b[0m\u001b[0;34m*\u001b[0m\u001b[0margs\u001b[0m\u001b[0;34m,\u001b[0m \u001b[0;34m**\u001b[0m\u001b[0mkwargs\u001b[0m\u001b[0;34m)\u001b[0m\u001b[0;34m\u001b[0m\u001b[0;34m\u001b[0m\u001b[0m\n\u001b[0m\u001b[1;32m    118\u001b[0m         \u001b[0;32mexcept\u001b[0m \u001b[0mException\u001b[0m \u001b[0;32mas\u001b[0m \u001b[0me\u001b[0m\u001b[0;34m:\u001b[0m\u001b[0;34m\u001b[0m\u001b[0;34m\u001b[0m\u001b[0m\n\u001b[1;32m    119\u001b[0m             \u001b[0mfiltered_tb\u001b[0m \u001b[0;34m=\u001b[0m \u001b[0m_process_traceback_frames\u001b[0m\u001b[0;34m(\u001b[0m\u001b[0me\u001b[0m\u001b[0;34m.\u001b[0m\u001b[0m__traceback__\u001b[0m\u001b[0;34m)\u001b[0m\u001b[0;34m\u001b[0m\u001b[0;34m\u001b[0m\u001b[0m\n",
            "\u001b[0;32m/usr/local/lib/python3.11/dist-packages/keras/src/backend/tensorflow/trainer.py\u001b[0m in \u001b[0;36mfit\u001b[0;34m(self, x, y, batch_size, epochs, verbose, callbacks, validation_split, validation_data, shuffle, class_weight, sample_weight, initial_epoch, steps_per_epoch, validation_steps, validation_batch_size, validation_freq)\u001b[0m\n\u001b[1;32m    369\u001b[0m                 \u001b[0;32mfor\u001b[0m \u001b[0mstep\u001b[0m\u001b[0;34m,\u001b[0m \u001b[0miterator\u001b[0m \u001b[0;32min\u001b[0m \u001b[0mepoch_iterator\u001b[0m\u001b[0;34m:\u001b[0m\u001b[0;34m\u001b[0m\u001b[0;34m\u001b[0m\u001b[0m\n\u001b[1;32m    370\u001b[0m                     \u001b[0mcallbacks\u001b[0m\u001b[0;34m.\u001b[0m\u001b[0mon_train_batch_begin\u001b[0m\u001b[0;34m(\u001b[0m\u001b[0mstep\u001b[0m\u001b[0;34m)\u001b[0m\u001b[0;34m\u001b[0m\u001b[0;34m\u001b[0m\u001b[0m\n\u001b[0;32m--> 371\u001b[0;31m                     \u001b[0mlogs\u001b[0m \u001b[0;34m=\u001b[0m \u001b[0mself\u001b[0m\u001b[0;34m.\u001b[0m\u001b[0mtrain_function\u001b[0m\u001b[0;34m(\u001b[0m\u001b[0miterator\u001b[0m\u001b[0;34m)\u001b[0m\u001b[0;34m\u001b[0m\u001b[0;34m\u001b[0m\u001b[0m\n\u001b[0m\u001b[1;32m    372\u001b[0m                     \u001b[0mcallbacks\u001b[0m\u001b[0;34m.\u001b[0m\u001b[0mon_train_batch_end\u001b[0m\u001b[0;34m(\u001b[0m\u001b[0mstep\u001b[0m\u001b[0;34m,\u001b[0m \u001b[0mlogs\u001b[0m\u001b[0;34m)\u001b[0m\u001b[0;34m\u001b[0m\u001b[0;34m\u001b[0m\u001b[0m\n\u001b[1;32m    373\u001b[0m                     \u001b[0;32mif\u001b[0m \u001b[0mself\u001b[0m\u001b[0;34m.\u001b[0m\u001b[0mstop_training\u001b[0m\u001b[0;34m:\u001b[0m\u001b[0;34m\u001b[0m\u001b[0;34m\u001b[0m\u001b[0m\n",
            "\u001b[0;32m/usr/local/lib/python3.11/dist-packages/keras/src/backend/tensorflow/trainer.py\u001b[0m in \u001b[0;36mfunction\u001b[0;34m(iterator)\u001b[0m\n\u001b[1;32m    217\u001b[0m                 \u001b[0miterator\u001b[0m\u001b[0;34m,\u001b[0m \u001b[0;34m(\u001b[0m\u001b[0mtf\u001b[0m\u001b[0;34m.\u001b[0m\u001b[0mdata\u001b[0m\u001b[0;34m.\u001b[0m\u001b[0mIterator\u001b[0m\u001b[0;34m,\u001b[0m \u001b[0mtf\u001b[0m\u001b[0;34m.\u001b[0m\u001b[0mdistribute\u001b[0m\u001b[0;34m.\u001b[0m\u001b[0mDistributedIterator\u001b[0m\u001b[0;34m)\u001b[0m\u001b[0;34m\u001b[0m\u001b[0;34m\u001b[0m\u001b[0m\n\u001b[1;32m    218\u001b[0m             ):\n\u001b[0;32m--> 219\u001b[0;31m                 \u001b[0mopt_outputs\u001b[0m \u001b[0;34m=\u001b[0m \u001b[0mmulti_step_on_iterator\u001b[0m\u001b[0;34m(\u001b[0m\u001b[0miterator\u001b[0m\u001b[0;34m)\u001b[0m\u001b[0;34m\u001b[0m\u001b[0;34m\u001b[0m\u001b[0m\n\u001b[0m\u001b[1;32m    220\u001b[0m                 \u001b[0;32mif\u001b[0m \u001b[0;32mnot\u001b[0m \u001b[0mopt_outputs\u001b[0m\u001b[0;34m.\u001b[0m\u001b[0mhas_value\u001b[0m\u001b[0;34m(\u001b[0m\u001b[0;34m)\u001b[0m\u001b[0;34m:\u001b[0m\u001b[0;34m\u001b[0m\u001b[0;34m\u001b[0m\u001b[0m\n\u001b[1;32m    221\u001b[0m                     \u001b[0;32mraise\u001b[0m \u001b[0mStopIteration\u001b[0m\u001b[0;34m\u001b[0m\u001b[0;34m\u001b[0m\u001b[0m\n",
            "\u001b[0;32m/usr/local/lib/python3.11/dist-packages/tensorflow/python/util/traceback_utils.py\u001b[0m in \u001b[0;36merror_handler\u001b[0;34m(*args, **kwargs)\u001b[0m\n\u001b[1;32m    148\u001b[0m     \u001b[0mfiltered_tb\u001b[0m \u001b[0;34m=\u001b[0m \u001b[0;32mNone\u001b[0m\u001b[0;34m\u001b[0m\u001b[0;34m\u001b[0m\u001b[0m\n\u001b[1;32m    149\u001b[0m     \u001b[0;32mtry\u001b[0m\u001b[0;34m:\u001b[0m\u001b[0;34m\u001b[0m\u001b[0;34m\u001b[0m\u001b[0m\n\u001b[0;32m--> 150\u001b[0;31m       \u001b[0;32mreturn\u001b[0m \u001b[0mfn\u001b[0m\u001b[0;34m(\u001b[0m\u001b[0;34m*\u001b[0m\u001b[0margs\u001b[0m\u001b[0;34m,\u001b[0m \u001b[0;34m**\u001b[0m\u001b[0mkwargs\u001b[0m\u001b[0;34m)\u001b[0m\u001b[0;34m\u001b[0m\u001b[0;34m\u001b[0m\u001b[0m\n\u001b[0m\u001b[1;32m    151\u001b[0m     \u001b[0;32mexcept\u001b[0m \u001b[0mException\u001b[0m \u001b[0;32mas\u001b[0m \u001b[0me\u001b[0m\u001b[0;34m:\u001b[0m\u001b[0;34m\u001b[0m\u001b[0;34m\u001b[0m\u001b[0m\n\u001b[1;32m    152\u001b[0m       \u001b[0mfiltered_tb\u001b[0m \u001b[0;34m=\u001b[0m \u001b[0m_process_traceback_frames\u001b[0m\u001b[0;34m(\u001b[0m\u001b[0me\u001b[0m\u001b[0;34m.\u001b[0m\u001b[0m__traceback__\u001b[0m\u001b[0;34m)\u001b[0m\u001b[0;34m\u001b[0m\u001b[0;34m\u001b[0m\u001b[0m\n",
            "\u001b[0;32m/usr/local/lib/python3.11/dist-packages/tensorflow/python/eager/polymorphic_function/polymorphic_function.py\u001b[0m in \u001b[0;36m__call__\u001b[0;34m(self, *args, **kwds)\u001b[0m\n\u001b[1;32m    831\u001b[0m \u001b[0;34m\u001b[0m\u001b[0m\n\u001b[1;32m    832\u001b[0m       \u001b[0;32mwith\u001b[0m \u001b[0mOptionalXlaContext\u001b[0m\u001b[0;34m(\u001b[0m\u001b[0mself\u001b[0m\u001b[0;34m.\u001b[0m\u001b[0m_jit_compile\u001b[0m\u001b[0;34m)\u001b[0m\u001b[0;34m:\u001b[0m\u001b[0;34m\u001b[0m\u001b[0;34m\u001b[0m\u001b[0m\n\u001b[0;32m--> 833\u001b[0;31m         \u001b[0mresult\u001b[0m \u001b[0;34m=\u001b[0m \u001b[0mself\u001b[0m\u001b[0;34m.\u001b[0m\u001b[0m_call\u001b[0m\u001b[0;34m(\u001b[0m\u001b[0;34m*\u001b[0m\u001b[0margs\u001b[0m\u001b[0;34m,\u001b[0m \u001b[0;34m**\u001b[0m\u001b[0mkwds\u001b[0m\u001b[0;34m)\u001b[0m\u001b[0;34m\u001b[0m\u001b[0;34m\u001b[0m\u001b[0m\n\u001b[0m\u001b[1;32m    834\u001b[0m \u001b[0;34m\u001b[0m\u001b[0m\n\u001b[1;32m    835\u001b[0m       \u001b[0mnew_tracing_count\u001b[0m \u001b[0;34m=\u001b[0m \u001b[0mself\u001b[0m\u001b[0;34m.\u001b[0m\u001b[0mexperimental_get_tracing_count\u001b[0m\u001b[0;34m(\u001b[0m\u001b[0;34m)\u001b[0m\u001b[0;34m\u001b[0m\u001b[0;34m\u001b[0m\u001b[0m\n",
            "\u001b[0;32m/usr/local/lib/python3.11/dist-packages/tensorflow/python/eager/polymorphic_function/polymorphic_function.py\u001b[0m in \u001b[0;36m_call\u001b[0;34m(self, *args, **kwds)\u001b[0m\n\u001b[1;32m    876\u001b[0m       \u001b[0;31m# In this case we have not created variables on the first call. So we can\u001b[0m\u001b[0;34m\u001b[0m\u001b[0;34m\u001b[0m\u001b[0m\n\u001b[1;32m    877\u001b[0m       \u001b[0;31m# run the first trace but we should fail if variables are created.\u001b[0m\u001b[0;34m\u001b[0m\u001b[0;34m\u001b[0m\u001b[0m\n\u001b[0;32m--> 878\u001b[0;31m       results = tracing_compilation.call_function(\n\u001b[0m\u001b[1;32m    879\u001b[0m           \u001b[0margs\u001b[0m\u001b[0;34m,\u001b[0m \u001b[0mkwds\u001b[0m\u001b[0;34m,\u001b[0m \u001b[0mself\u001b[0m\u001b[0;34m.\u001b[0m\u001b[0m_variable_creation_config\u001b[0m\u001b[0;34m\u001b[0m\u001b[0;34m\u001b[0m\u001b[0m\n\u001b[1;32m    880\u001b[0m       )\n",
            "\u001b[0;32m/usr/local/lib/python3.11/dist-packages/tensorflow/python/eager/polymorphic_function/tracing_compilation.py\u001b[0m in \u001b[0;36mcall_function\u001b[0;34m(args, kwargs, tracing_options)\u001b[0m\n\u001b[1;32m    137\u001b[0m   \u001b[0mbound_args\u001b[0m \u001b[0;34m=\u001b[0m \u001b[0mfunction\u001b[0m\u001b[0;34m.\u001b[0m\u001b[0mfunction_type\u001b[0m\u001b[0;34m.\u001b[0m\u001b[0mbind\u001b[0m\u001b[0;34m(\u001b[0m\u001b[0;34m*\u001b[0m\u001b[0margs\u001b[0m\u001b[0;34m,\u001b[0m \u001b[0;34m**\u001b[0m\u001b[0mkwargs\u001b[0m\u001b[0;34m)\u001b[0m\u001b[0;34m\u001b[0m\u001b[0;34m\u001b[0m\u001b[0m\n\u001b[1;32m    138\u001b[0m   \u001b[0mflat_inputs\u001b[0m \u001b[0;34m=\u001b[0m \u001b[0mfunction\u001b[0m\u001b[0;34m.\u001b[0m\u001b[0mfunction_type\u001b[0m\u001b[0;34m.\u001b[0m\u001b[0munpack_inputs\u001b[0m\u001b[0;34m(\u001b[0m\u001b[0mbound_args\u001b[0m\u001b[0;34m)\u001b[0m\u001b[0;34m\u001b[0m\u001b[0;34m\u001b[0m\u001b[0m\n\u001b[0;32m--> 139\u001b[0;31m   return function._call_flat(  # pylint: disable=protected-access\n\u001b[0m\u001b[1;32m    140\u001b[0m       \u001b[0mflat_inputs\u001b[0m\u001b[0;34m,\u001b[0m \u001b[0mcaptured_inputs\u001b[0m\u001b[0;34m=\u001b[0m\u001b[0mfunction\u001b[0m\u001b[0;34m.\u001b[0m\u001b[0mcaptured_inputs\u001b[0m\u001b[0;34m\u001b[0m\u001b[0;34m\u001b[0m\u001b[0m\n\u001b[1;32m    141\u001b[0m   )\n",
            "\u001b[0;32m/usr/local/lib/python3.11/dist-packages/tensorflow/python/eager/polymorphic_function/concrete_function.py\u001b[0m in \u001b[0;36m_call_flat\u001b[0;34m(self, tensor_inputs, captured_inputs)\u001b[0m\n\u001b[1;32m   1320\u001b[0m         and executing_eagerly):\n\u001b[1;32m   1321\u001b[0m       \u001b[0;31m# No tape is watching; skip to running the function.\u001b[0m\u001b[0;34m\u001b[0m\u001b[0;34m\u001b[0m\u001b[0m\n\u001b[0;32m-> 1322\u001b[0;31m       \u001b[0;32mreturn\u001b[0m \u001b[0mself\u001b[0m\u001b[0;34m.\u001b[0m\u001b[0m_inference_function\u001b[0m\u001b[0;34m.\u001b[0m\u001b[0mcall_preflattened\u001b[0m\u001b[0;34m(\u001b[0m\u001b[0margs\u001b[0m\u001b[0;34m)\u001b[0m\u001b[0;34m\u001b[0m\u001b[0;34m\u001b[0m\u001b[0m\n\u001b[0m\u001b[1;32m   1323\u001b[0m     forward_backward = self._select_forward_and_backward_functions(\n\u001b[1;32m   1324\u001b[0m         \u001b[0margs\u001b[0m\u001b[0;34m,\u001b[0m\u001b[0;34m\u001b[0m\u001b[0;34m\u001b[0m\u001b[0m\n",
            "\u001b[0;32m/usr/local/lib/python3.11/dist-packages/tensorflow/python/eager/polymorphic_function/atomic_function.py\u001b[0m in \u001b[0;36mcall_preflattened\u001b[0;34m(self, args)\u001b[0m\n\u001b[1;32m    214\u001b[0m   \u001b[0;32mdef\u001b[0m \u001b[0mcall_preflattened\u001b[0m\u001b[0;34m(\u001b[0m\u001b[0mself\u001b[0m\u001b[0;34m,\u001b[0m \u001b[0margs\u001b[0m\u001b[0;34m:\u001b[0m \u001b[0mSequence\u001b[0m\u001b[0;34m[\u001b[0m\u001b[0mcore\u001b[0m\u001b[0;34m.\u001b[0m\u001b[0mTensor\u001b[0m\u001b[0;34m]\u001b[0m\u001b[0;34m)\u001b[0m \u001b[0;34m->\u001b[0m \u001b[0mAny\u001b[0m\u001b[0;34m:\u001b[0m\u001b[0;34m\u001b[0m\u001b[0;34m\u001b[0m\u001b[0m\n\u001b[1;32m    215\u001b[0m     \u001b[0;34m\"\"\"Calls with flattened tensor inputs and returns the structured output.\"\"\"\u001b[0m\u001b[0;34m\u001b[0m\u001b[0;34m\u001b[0m\u001b[0m\n\u001b[0;32m--> 216\u001b[0;31m     \u001b[0mflat_outputs\u001b[0m \u001b[0;34m=\u001b[0m \u001b[0mself\u001b[0m\u001b[0;34m.\u001b[0m\u001b[0mcall_flat\u001b[0m\u001b[0;34m(\u001b[0m\u001b[0;34m*\u001b[0m\u001b[0margs\u001b[0m\u001b[0;34m)\u001b[0m\u001b[0;34m\u001b[0m\u001b[0;34m\u001b[0m\u001b[0m\n\u001b[0m\u001b[1;32m    217\u001b[0m     \u001b[0;32mreturn\u001b[0m \u001b[0mself\u001b[0m\u001b[0;34m.\u001b[0m\u001b[0mfunction_type\u001b[0m\u001b[0;34m.\u001b[0m\u001b[0mpack_output\u001b[0m\u001b[0;34m(\u001b[0m\u001b[0mflat_outputs\u001b[0m\u001b[0;34m)\u001b[0m\u001b[0;34m\u001b[0m\u001b[0;34m\u001b[0m\u001b[0m\n\u001b[1;32m    218\u001b[0m \u001b[0;34m\u001b[0m\u001b[0m\n",
            "\u001b[0;32m/usr/local/lib/python3.11/dist-packages/tensorflow/python/eager/polymorphic_function/atomic_function.py\u001b[0m in \u001b[0;36mcall_flat\u001b[0;34m(self, *args)\u001b[0m\n\u001b[1;32m    249\u001b[0m         \u001b[0;32mwith\u001b[0m \u001b[0mrecord\u001b[0m\u001b[0;34m.\u001b[0m\u001b[0mstop_recording\u001b[0m\u001b[0;34m(\u001b[0m\u001b[0;34m)\u001b[0m\u001b[0;34m:\u001b[0m\u001b[0;34m\u001b[0m\u001b[0;34m\u001b[0m\u001b[0m\n\u001b[1;32m    250\u001b[0m           \u001b[0;32mif\u001b[0m \u001b[0mself\u001b[0m\u001b[0;34m.\u001b[0m\u001b[0m_bound_context\u001b[0m\u001b[0;34m.\u001b[0m\u001b[0mexecuting_eagerly\u001b[0m\u001b[0;34m(\u001b[0m\u001b[0;34m)\u001b[0m\u001b[0;34m:\u001b[0m\u001b[0;34m\u001b[0m\u001b[0;34m\u001b[0m\u001b[0m\n\u001b[0;32m--> 251\u001b[0;31m             outputs = self._bound_context.call_function(\n\u001b[0m\u001b[1;32m    252\u001b[0m                 \u001b[0mself\u001b[0m\u001b[0;34m.\u001b[0m\u001b[0mname\u001b[0m\u001b[0;34m,\u001b[0m\u001b[0;34m\u001b[0m\u001b[0;34m\u001b[0m\u001b[0m\n\u001b[1;32m    253\u001b[0m                 \u001b[0mlist\u001b[0m\u001b[0;34m(\u001b[0m\u001b[0margs\u001b[0m\u001b[0;34m)\u001b[0m\u001b[0;34m,\u001b[0m\u001b[0;34m\u001b[0m\u001b[0;34m\u001b[0m\u001b[0m\n",
            "\u001b[0;32m/usr/local/lib/python3.11/dist-packages/tensorflow/python/eager/context.py\u001b[0m in \u001b[0;36mcall_function\u001b[0;34m(self, name, tensor_inputs, num_outputs)\u001b[0m\n\u001b[1;32m   1686\u001b[0m     \u001b[0mcancellation_context\u001b[0m \u001b[0;34m=\u001b[0m \u001b[0mcancellation\u001b[0m\u001b[0;34m.\u001b[0m\u001b[0mcontext\u001b[0m\u001b[0;34m(\u001b[0m\u001b[0;34m)\u001b[0m\u001b[0;34m\u001b[0m\u001b[0;34m\u001b[0m\u001b[0m\n\u001b[1;32m   1687\u001b[0m     \u001b[0;32mif\u001b[0m \u001b[0mcancellation_context\u001b[0m \u001b[0;32mis\u001b[0m \u001b[0;32mNone\u001b[0m\u001b[0;34m:\u001b[0m\u001b[0;34m\u001b[0m\u001b[0;34m\u001b[0m\u001b[0m\n\u001b[0;32m-> 1688\u001b[0;31m       outputs = execute.execute(\n\u001b[0m\u001b[1;32m   1689\u001b[0m           \u001b[0mname\u001b[0m\u001b[0;34m.\u001b[0m\u001b[0mdecode\u001b[0m\u001b[0;34m(\u001b[0m\u001b[0;34m\"utf-8\"\u001b[0m\u001b[0;34m)\u001b[0m\u001b[0;34m,\u001b[0m\u001b[0;34m\u001b[0m\u001b[0;34m\u001b[0m\u001b[0m\n\u001b[1;32m   1690\u001b[0m           \u001b[0mnum_outputs\u001b[0m\u001b[0;34m=\u001b[0m\u001b[0mnum_outputs\u001b[0m\u001b[0;34m,\u001b[0m\u001b[0;34m\u001b[0m\u001b[0;34m\u001b[0m\u001b[0m\n",
            "\u001b[0;32m/usr/local/lib/python3.11/dist-packages/tensorflow/python/eager/execute.py\u001b[0m in \u001b[0;36mquick_execute\u001b[0;34m(op_name, num_outputs, inputs, attrs, ctx, name)\u001b[0m\n\u001b[1;32m     51\u001b[0m   \u001b[0;32mtry\u001b[0m\u001b[0;34m:\u001b[0m\u001b[0;34m\u001b[0m\u001b[0;34m\u001b[0m\u001b[0m\n\u001b[1;32m     52\u001b[0m     \u001b[0mctx\u001b[0m\u001b[0;34m.\u001b[0m\u001b[0mensure_initialized\u001b[0m\u001b[0;34m(\u001b[0m\u001b[0;34m)\u001b[0m\u001b[0;34m\u001b[0m\u001b[0;34m\u001b[0m\u001b[0m\n\u001b[0;32m---> 53\u001b[0;31m     tensors = pywrap_tfe.TFE_Py_Execute(ctx._handle, device_name, op_name,\n\u001b[0m\u001b[1;32m     54\u001b[0m                                         inputs, attrs, num_outputs)\n\u001b[1;32m     55\u001b[0m   \u001b[0;32mexcept\u001b[0m \u001b[0mcore\u001b[0m\u001b[0;34m.\u001b[0m\u001b[0m_NotOkStatusException\u001b[0m \u001b[0;32mas\u001b[0m \u001b[0me\u001b[0m\u001b[0;34m:\u001b[0m\u001b[0;34m\u001b[0m\u001b[0;34m\u001b[0m\u001b[0m\n",
            "\u001b[0;31mKeyboardInterrupt\u001b[0m: "
          ]
        }
      ],
      "source": [
        "callbacks = [\n",
        " keras.callbacks.ModelCheckpoint(\"one_hot_bidir_lstm.keras\",\n",
        " save_best_only=True)\n",
        "]\n",
        "model.fit(int_train_ds, validation_data=int_val_ds, epochs=6,\n",
        " callbacks=callbacks)\n",
        "model = keras.models.load_model(\"one_hot_bidir_lstm.keras\")\n",
        "print(f\"Test acc: {model.evaluate(int_test_ds)[1]:.3f}\")"
      ]
    },
    {
      "cell_type": "markdown",
      "metadata": {
        "id": "T0KaYhkDjs69"
      },
      "source": [
        " Instantiating an Embedding layer"
      ]
    },
    {
      "cell_type": "code",
      "execution_count": null,
      "metadata": {
        "id": "x3AJlT-Dihu4"
      },
      "outputs": [],
      "source": [
        "# The Embedding layer takes at least two arguments: the number of\n",
        "# possible tokens and the dimensionality of the embeddings (here, 256).\n",
        "embedding_layer = layers.Embedding(input_dim=max_tokens, output_dim=256)"
      ]
    },
    {
      "cell_type": "markdown",
      "metadata": {
        "id": "QD3tS6UYkEih"
      },
      "source": [
        "Word index---------> Embedding layer-----------> Corresponding word vector"
      ]
    },
    {
      "cell_type": "markdown",
      "metadata": {
        "id": "Q4688cspkaLO"
      },
      "source": [
        " Model that uses an Embedding layer trained from scratch"
      ]
    },
    {
      "cell_type": "code",
      "execution_count": null,
      "metadata": {
        "colab": {
          "base_uri": "https://localhost:8080/",
          "height": 702
        },
        "id": "K-YzL07tjvnE",
        "outputId": "f5feacba-c5f9-4286-c7a7-293ce358ebbd"
      },
      "outputs": [
        {
          "data": {
            "text/html": [
              "<pre style=\"white-space:pre;overflow-x:auto;line-height:normal;font-family:Menlo,'DejaVu Sans Mono',consolas,'Courier New',monospace\"><span style=\"font-weight: bold\">Model: \"functional_4\"</span>\n",
              "</pre>\n"
            ],
            "text/plain": [
              "\u001b[1mModel: \"functional_4\"\u001b[0m\n"
            ]
          },
          "metadata": {},
          "output_type": "display_data"
        },
        {
          "data": {
            "text/html": [
              "<pre style=\"white-space:pre;overflow-x:auto;line-height:normal;font-family:Menlo,'DejaVu Sans Mono',consolas,'Courier New',monospace\">┏━━━━━━━━━━━━━━━━━━━━━━━━━━━━━━━━━┳━━━━━━━━━━━━━━━━━━━━━━━━┳━━━━━━━━━━━━━━━┓\n",
              "┃<span style=\"font-weight: bold\"> Layer (type)                    </span>┃<span style=\"font-weight: bold\"> Output Shape           </span>┃<span style=\"font-weight: bold\">       Param # </span>┃\n",
              "┡━━━━━━━━━━━━━━━━━━━━━━━━━━━━━━━━━╇━━━━━━━━━━━━━━━━━━━━━━━━╇━━━━━━━━━━━━━━━┩\n",
              "│ input_layer_9 (<span style=\"color: #0087ff; text-decoration-color: #0087ff\">InputLayer</span>)      │ (<span style=\"color: #00d7ff; text-decoration-color: #00d7ff\">None</span>, <span style=\"color: #00d7ff; text-decoration-color: #00d7ff\">None</span>)           │             <span style=\"color: #00af00; text-decoration-color: #00af00\">0</span> │\n",
              "├─────────────────────────────────┼────────────────────────┼───────────────┤\n",
              "│ embedding_2 (<span style=\"color: #0087ff; text-decoration-color: #0087ff\">Embedding</span>)         │ (<span style=\"color: #00d7ff; text-decoration-color: #00d7ff\">None</span>, <span style=\"color: #00d7ff; text-decoration-color: #00d7ff\">None</span>, <span style=\"color: #00af00; text-decoration-color: #00af00\">256</span>)      │     <span style=\"color: #00af00; text-decoration-color: #00af00\">5,120,000</span> │\n",
              "├─────────────────────────────────┼────────────────────────┼───────────────┤\n",
              "│ bidirectional (<span style=\"color: #0087ff; text-decoration-color: #0087ff\">Bidirectional</span>)   │ (<span style=\"color: #00d7ff; text-decoration-color: #00d7ff\">None</span>, <span style=\"color: #00af00; text-decoration-color: #00af00\">64</span>)             │        <span style=\"color: #00af00; text-decoration-color: #00af00\">73,984</span> │\n",
              "├─────────────────────────────────┼────────────────────────┼───────────────┤\n",
              "│ dropout_4 (<span style=\"color: #0087ff; text-decoration-color: #0087ff\">Dropout</span>)             │ (<span style=\"color: #00d7ff; text-decoration-color: #00d7ff\">None</span>, <span style=\"color: #00af00; text-decoration-color: #00af00\">64</span>)             │             <span style=\"color: #00af00; text-decoration-color: #00af00\">0</span> │\n",
              "├─────────────────────────────────┼────────────────────────┼───────────────┤\n",
              "│ dense_8 (<span style=\"color: #0087ff; text-decoration-color: #0087ff\">Dense</span>)                 │ (<span style=\"color: #00d7ff; text-decoration-color: #00d7ff\">None</span>, <span style=\"color: #00af00; text-decoration-color: #00af00\">1</span>)              │            <span style=\"color: #00af00; text-decoration-color: #00af00\">65</span> │\n",
              "└─────────────────────────────────┴────────────────────────┴───────────────┘\n",
              "</pre>\n"
            ],
            "text/plain": [
              "┏━━━━━━━━━━━━━━━━━━━━━━━━━━━━━━━━━┳━━━━━━━━━━━━━━━━━━━━━━━━┳━━━━━━━━━━━━━━━┓\n",
              "┃\u001b[1m \u001b[0m\u001b[1mLayer (type)                   \u001b[0m\u001b[1m \u001b[0m┃\u001b[1m \u001b[0m\u001b[1mOutput Shape          \u001b[0m\u001b[1m \u001b[0m┃\u001b[1m \u001b[0m\u001b[1m      Param #\u001b[0m\u001b[1m \u001b[0m┃\n",
              "┡━━━━━━━━━━━━━━━━━━━━━━━━━━━━━━━━━╇━━━━━━━━━━━━━━━━━━━━━━━━╇━━━━━━━━━━━━━━━┩\n",
              "│ input_layer_9 (\u001b[38;5;33mInputLayer\u001b[0m)      │ (\u001b[38;5;45mNone\u001b[0m, \u001b[38;5;45mNone\u001b[0m)           │             \u001b[38;5;34m0\u001b[0m │\n",
              "├─────────────────────────────────┼────────────────────────┼───────────────┤\n",
              "│ embedding_2 (\u001b[38;5;33mEmbedding\u001b[0m)         │ (\u001b[38;5;45mNone\u001b[0m, \u001b[38;5;45mNone\u001b[0m, \u001b[38;5;34m256\u001b[0m)      │     \u001b[38;5;34m5,120,000\u001b[0m │\n",
              "├─────────────────────────────────┼────────────────────────┼───────────────┤\n",
              "│ bidirectional (\u001b[38;5;33mBidirectional\u001b[0m)   │ (\u001b[38;5;45mNone\u001b[0m, \u001b[38;5;34m64\u001b[0m)             │        \u001b[38;5;34m73,984\u001b[0m │\n",
              "├─────────────────────────────────┼────────────────────────┼───────────────┤\n",
              "│ dropout_4 (\u001b[38;5;33mDropout\u001b[0m)             │ (\u001b[38;5;45mNone\u001b[0m, \u001b[38;5;34m64\u001b[0m)             │             \u001b[38;5;34m0\u001b[0m │\n",
              "├─────────────────────────────────┼────────────────────────┼───────────────┤\n",
              "│ dense_8 (\u001b[38;5;33mDense\u001b[0m)                 │ (\u001b[38;5;45mNone\u001b[0m, \u001b[38;5;34m1\u001b[0m)              │            \u001b[38;5;34m65\u001b[0m │\n",
              "└─────────────────────────────────┴────────────────────────┴───────────────┘\n"
            ]
          },
          "metadata": {},
          "output_type": "display_data"
        },
        {
          "data": {
            "text/html": [
              "<pre style=\"white-space:pre;overflow-x:auto;line-height:normal;font-family:Menlo,'DejaVu Sans Mono',consolas,'Courier New',monospace\"><span style=\"font-weight: bold\"> Total params: </span><span style=\"color: #00af00; text-decoration-color: #00af00\">5,194,049</span> (19.81 MB)\n",
              "</pre>\n"
            ],
            "text/plain": [
              "\u001b[1m Total params: \u001b[0m\u001b[38;5;34m5,194,049\u001b[0m (19.81 MB)\n"
            ]
          },
          "metadata": {},
          "output_type": "display_data"
        },
        {
          "data": {
            "text/html": [
              "<pre style=\"white-space:pre;overflow-x:auto;line-height:normal;font-family:Menlo,'DejaVu Sans Mono',consolas,'Courier New',monospace\"><span style=\"font-weight: bold\"> Trainable params: </span><span style=\"color: #00af00; text-decoration-color: #00af00\">5,194,049</span> (19.81 MB)\n",
              "</pre>\n"
            ],
            "text/plain": [
              "\u001b[1m Trainable params: \u001b[0m\u001b[38;5;34m5,194,049\u001b[0m (19.81 MB)\n"
            ]
          },
          "metadata": {},
          "output_type": "display_data"
        },
        {
          "data": {
            "text/html": [
              "<pre style=\"white-space:pre;overflow-x:auto;line-height:normal;font-family:Menlo,'DejaVu Sans Mono',consolas,'Courier New',monospace\"><span style=\"font-weight: bold\"> Non-trainable params: </span><span style=\"color: #00af00; text-decoration-color: #00af00\">0</span> (0.00 B)\n",
              "</pre>\n"
            ],
            "text/plain": [
              "\u001b[1m Non-trainable params: \u001b[0m\u001b[38;5;34m0\u001b[0m (0.00 B)\n"
            ]
          },
          "metadata": {},
          "output_type": "display_data"
        },
        {
          "name": "stdout",
          "output_type": "stream",
          "text": [
            "Epoch 1/10\n",
            "\u001b[1m625/625\u001b[0m \u001b[32m━━━━━━━━━━━━━━━━━━━━\u001b[0m\u001b[37m\u001b[0m \u001b[1m521s\u001b[0m 826ms/step - accuracy: 0.6401 - loss: 0.6154 - val_accuracy: 0.8360 - val_loss: 0.4362\n",
            "Epoch 2/10\n",
            "\u001b[1m625/625\u001b[0m \u001b[32m━━━━━━━━━━━━━━━━━━━━\u001b[0m\u001b[37m\u001b[0m \u001b[1m489s\u001b[0m 783ms/step - accuracy: 0.8380 - loss: 0.4063 - val_accuracy: 0.8596 - val_loss: 0.3516\n",
            "Epoch 3/10\n",
            "\u001b[1m625/625\u001b[0m \u001b[32m━━━━━━━━━━━━━━━━━━━━\u001b[0m\u001b[37m\u001b[0m \u001b[1m461s\u001b[0m 717ms/step - accuracy: 0.8728 - loss: 0.3312 - val_accuracy: 0.8730 - val_loss: 0.3610\n",
            "Epoch 4/10\n",
            "\u001b[1m625/625\u001b[0m \u001b[32m━━━━━━━━━━━━━━━━━━━━\u001b[0m\u001b[37m\u001b[0m \u001b[1m522s\u001b[0m 749ms/step - accuracy: 0.9003 - loss: 0.2753 - val_accuracy: 0.8538 - val_loss: 0.3422\n",
            "Epoch 5/10\n",
            "\u001b[1m625/625\u001b[0m \u001b[32m━━━━━━━━━━━━━━━━━━━━\u001b[0m\u001b[37m\u001b[0m \u001b[1m459s\u001b[0m 735ms/step - accuracy: 0.9164 - loss: 0.2349 - val_accuracy: 0.8616 - val_loss: 0.3534\n",
            "Epoch 6/10\n",
            "\u001b[1m625/625\u001b[0m \u001b[32m━━━━━━━━━━━━━━━━━━━━\u001b[0m\u001b[37m\u001b[0m \u001b[1m448s\u001b[0m 718ms/step - accuracy: 0.9290 - loss: 0.2075 - val_accuracy: 0.8762 - val_loss: 0.3699\n",
            "Epoch 7/10\n",
            "\u001b[1m625/625\u001b[0m \u001b[32m━━━━━━━━━━━━━━━━━━━━\u001b[0m\u001b[37m\u001b[0m \u001b[1m468s\u001b[0m 749ms/step - accuracy: 0.9432 - loss: 0.1717 - val_accuracy: 0.8804 - val_loss: 0.3710\n",
            "Epoch 8/10\n",
            "\u001b[1m625/625\u001b[0m \u001b[32m━━━━━━━━━━━━━━━━━━━━\u001b[0m\u001b[37m\u001b[0m \u001b[1m449s\u001b[0m 718ms/step - accuracy: 0.9540 - loss: 0.1447 - val_accuracy: 0.8742 - val_loss: 0.3922\n",
            "Epoch 9/10\n",
            "\u001b[1m625/625\u001b[0m \u001b[32m━━━━━━━━━━━━━━━━━━━━\u001b[0m\u001b[37m\u001b[0m \u001b[1m502s\u001b[0m 717ms/step - accuracy: 0.9621 - loss: 0.1193 - val_accuracy: 0.8674 - val_loss: 0.4198\n",
            "Epoch 10/10\n",
            "\u001b[1m625/625\u001b[0m \u001b[32m━━━━━━━━━━━━━━━━━━━━\u001b[0m\u001b[37m\u001b[0m \u001b[1m451s\u001b[0m 722ms/step - accuracy: 0.9701 - loss: 0.0998 - val_accuracy: 0.8770 - val_loss: 0.4563\n",
            "\u001b[1m782/782\u001b[0m \u001b[32m━━━━━━━━━━━━━━━━━━━━\u001b[0m\u001b[37m\u001b[0m \u001b[1m107s\u001b[0m 136ms/step - accuracy: 0.8508 - loss: 0.3490\n",
            "Test acc: 0.847\n"
          ]
        }
      ],
      "source": [
        "inputs = keras.Input(shape=(None,), dtype=\"int64\")\n",
        "embedded = layers.Embedding(input_dim=max_tokens, output_dim=256)(inputs)\n",
        "x = layers.Bidirectional(layers.LSTM(32))(embedded)\n",
        "x = layers.Dropout(0.5)(x)\n",
        "outputs = layers.Dense(1, activation=\"sigmoid\")(x)\n",
        "model = keras.Model(inputs, outputs)\n",
        "model.compile(optimizer=\"rmsprop\",\n",
        " loss=\"binary_crossentropy\",\n",
        " metrics=[\"accuracy\"])\n",
        "model.summary()\n",
        "callbacks = [\n",
        " keras.callbacks.ModelCheckpoint(\"embeddings_bidir_gru.keras\",\n",
        " save_best_only=True)\n",
        "]\n",
        "model.fit(int_train_ds, validation_data=int_val_ds, epochs=10,\n",
        " callbacks=callbacks)\n",
        "model = keras.models.load_model(\"embeddings_bidir_gru.keras\")\n",
        "print(f\"Test acc: {model.evaluate(int_test_ds)[1]:.3f}\")"
      ]
    },
    {
      "cell_type": "markdown",
      "metadata": {
        "id": "hllRCZQskmdT"
      },
      "source": [
        "UNDERSTANDING PADDING AND MASKING"
      ]
    },
    {
      "cell_type": "code",
      "execution_count": null,
      "metadata": {
        "id": "aEvCg74RkYsm"
      },
      "outputs": [],
      "source": [
        "from tensorflow.keras.layers import Embedding\n",
        "\n",
        "embedding_layer = Embedding(input_dim=10, output_dim=256, mask_zero=True)\n",
        "\n",
        "some_input = [\n",
        "[4, 3, 2, 1, 0, 0, 0],\n",
        "[5, 4, 3, 2, 1, 0, 0],\n",
        "[2, 1, 0, 0, 0, 0, 0]]\n",
        "mask = embedding_layer.compute_mask(some_input)"
      ]
    },
    {
      "cell_type": "markdown",
      "metadata": {
        "id": "w6EqIhbBk-Lf"
      },
      "source": [
        "Using an Embedding layer with masking\n"
      ]
    },
    {
      "cell_type": "code",
      "execution_count": null,
      "metadata": {
        "colab": {
          "base_uri": "https://localhost:8080/",
          "height": 782
        },
        "id": "x7Qt38zDkzwJ",
        "outputId": "3ddf31bd-b2a3-4b2a-cd55-0f22937aecff"
      },
      "outputs": [
        {
          "data": {
            "text/html": [
              "<pre style=\"white-space:pre;overflow-x:auto;line-height:normal;font-family:Menlo,'DejaVu Sans Mono',consolas,'Courier New',monospace\"><span style=\"font-weight: bold\">Model: \"functional_1\"</span>\n",
              "</pre>\n"
            ],
            "text/plain": [
              "\u001b[1mModel: \"functional_1\"\u001b[0m\n"
            ]
          },
          "metadata": {},
          "output_type": "display_data"
        },
        {
          "data": {
            "text/html": [
              "<pre style=\"white-space:pre;overflow-x:auto;line-height:normal;font-family:Menlo,'DejaVu Sans Mono',consolas,'Courier New',monospace\">┏━━━━━━━━━━━━━━━━━━━━━┳━━━━━━━━━━━━━━━━━━━┳━━━━━━━━━━━━┳━━━━━━━━━━━━━━━━━━━┓\n",
              "┃<span style=\"font-weight: bold\"> Layer (type)        </span>┃<span style=\"font-weight: bold\"> Output Shape      </span>┃<span style=\"font-weight: bold\">    Param # </span>┃<span style=\"font-weight: bold\"> Connected to      </span>┃\n",
              "┡━━━━━━━━━━━━━━━━━━━━━╇━━━━━━━━━━━━━━━━━━━╇━━━━━━━━━━━━╇━━━━━━━━━━━━━━━━━━━┩\n",
              "│ input_layer_5       │ (<span style=\"color: #00d7ff; text-decoration-color: #00d7ff\">None</span>, <span style=\"color: #00d7ff; text-decoration-color: #00d7ff\">None</span>)      │          <span style=\"color: #00af00; text-decoration-color: #00af00\">0</span> │ -                 │\n",
              "│ (<span style=\"color: #0087ff; text-decoration-color: #0087ff\">InputLayer</span>)        │                   │            │                   │\n",
              "├─────────────────────┼───────────────────┼────────────┼───────────────────┤\n",
              "│ embedding_1         │ (<span style=\"color: #00d7ff; text-decoration-color: #00d7ff\">None</span>, <span style=\"color: #00d7ff; text-decoration-color: #00d7ff\">None</span>, <span style=\"color: #00af00; text-decoration-color: #00af00\">256</span>) │    <span style=\"color: #00af00; text-decoration-color: #00af00\">512,000</span> │ input_layer_5[<span style=\"color: #00af00; text-decoration-color: #00af00\">0</span>]… │\n",
              "│ (<span style=\"color: #0087ff; text-decoration-color: #0087ff\">Embedding</span>)         │                   │            │                   │\n",
              "├─────────────────────┼───────────────────┼────────────┼───────────────────┤\n",
              "│ not_equal           │ (<span style=\"color: #00d7ff; text-decoration-color: #00d7ff\">None</span>, <span style=\"color: #00d7ff; text-decoration-color: #00d7ff\">None</span>)      │          <span style=\"color: #00af00; text-decoration-color: #00af00\">0</span> │ input_layer_5[<span style=\"color: #00af00; text-decoration-color: #00af00\">0</span>]… │\n",
              "│ (<span style=\"color: #0087ff; text-decoration-color: #0087ff\">NotEqual</span>)          │                   │            │                   │\n",
              "├─────────────────────┼───────────────────┼────────────┼───────────────────┤\n",
              "│ bidirectional_1     │ (<span style=\"color: #00d7ff; text-decoration-color: #00d7ff\">None</span>, <span style=\"color: #00af00; text-decoration-color: #00af00\">64</span>)        │     <span style=\"color: #00af00; text-decoration-color: #00af00\">73,984</span> │ embedding_1[<span style=\"color: #00af00; text-decoration-color: #00af00\">0</span>][<span style=\"color: #00af00; text-decoration-color: #00af00\">0</span>… │\n",
              "│ (<span style=\"color: #0087ff; text-decoration-color: #0087ff\">Bidirectional</span>)     │                   │            │ not_equal[<span style=\"color: #00af00; text-decoration-color: #00af00\">0</span>][<span style=\"color: #00af00; text-decoration-color: #00af00\">0</span>]   │\n",
              "├─────────────────────┼───────────────────┼────────────┼───────────────────┤\n",
              "│ dropout_1 (<span style=\"color: #0087ff; text-decoration-color: #0087ff\">Dropout</span>) │ (<span style=\"color: #00d7ff; text-decoration-color: #00d7ff\">None</span>, <span style=\"color: #00af00; text-decoration-color: #00af00\">64</span>)        │          <span style=\"color: #00af00; text-decoration-color: #00af00\">0</span> │ bidirectional_1[<span style=\"color: #00af00; text-decoration-color: #00af00\">…</span> │\n",
              "├─────────────────────┼───────────────────┼────────────┼───────────────────┤\n",
              "│ dense_1 (<span style=\"color: #0087ff; text-decoration-color: #0087ff\">Dense</span>)     │ (<span style=\"color: #00d7ff; text-decoration-color: #00d7ff\">None</span>, <span style=\"color: #00af00; text-decoration-color: #00af00\">1</span>)         │         <span style=\"color: #00af00; text-decoration-color: #00af00\">65</span> │ dropout_1[<span style=\"color: #00af00; text-decoration-color: #00af00\">0</span>][<span style=\"color: #00af00; text-decoration-color: #00af00\">0</span>]   │\n",
              "└─────────────────────┴───────────────────┴────────────┴───────────────────┘\n",
              "</pre>\n"
            ],
            "text/plain": [
              "┏━━━━━━━━━━━━━━━━━━━━━┳━━━━━━━━━━━━━━━━━━━┳━━━━━━━━━━━━┳━━━━━━━━━━━━━━━━━━━┓\n",
              "┃\u001b[1m \u001b[0m\u001b[1mLayer (type)       \u001b[0m\u001b[1m \u001b[0m┃\u001b[1m \u001b[0m\u001b[1mOutput Shape     \u001b[0m\u001b[1m \u001b[0m┃\u001b[1m \u001b[0m\u001b[1m   Param #\u001b[0m\u001b[1m \u001b[0m┃\u001b[1m \u001b[0m\u001b[1mConnected to     \u001b[0m\u001b[1m \u001b[0m┃\n",
              "┡━━━━━━━━━━━━━━━━━━━━━╇━━━━━━━━━━━━━━━━━━━╇━━━━━━━━━━━━╇━━━━━━━━━━━━━━━━━━━┩\n",
              "│ input_layer_5       │ (\u001b[38;5;45mNone\u001b[0m, \u001b[38;5;45mNone\u001b[0m)      │          \u001b[38;5;34m0\u001b[0m │ -                 │\n",
              "│ (\u001b[38;5;33mInputLayer\u001b[0m)        │                   │            │                   │\n",
              "├─────────────────────┼───────────────────┼────────────┼───────────────────┤\n",
              "│ embedding_1         │ (\u001b[38;5;45mNone\u001b[0m, \u001b[38;5;45mNone\u001b[0m, \u001b[38;5;34m256\u001b[0m) │    \u001b[38;5;34m512,000\u001b[0m │ input_layer_5[\u001b[38;5;34m0\u001b[0m]… │\n",
              "│ (\u001b[38;5;33mEmbedding\u001b[0m)         │                   │            │                   │\n",
              "├─────────────────────┼───────────────────┼────────────┼───────────────────┤\n",
              "│ not_equal           │ (\u001b[38;5;45mNone\u001b[0m, \u001b[38;5;45mNone\u001b[0m)      │          \u001b[38;5;34m0\u001b[0m │ input_layer_5[\u001b[38;5;34m0\u001b[0m]… │\n",
              "│ (\u001b[38;5;33mNotEqual\u001b[0m)          │                   │            │                   │\n",
              "├─────────────────────┼───────────────────┼────────────┼───────────────────┤\n",
              "│ bidirectional_1     │ (\u001b[38;5;45mNone\u001b[0m, \u001b[38;5;34m64\u001b[0m)        │     \u001b[38;5;34m73,984\u001b[0m │ embedding_1[\u001b[38;5;34m0\u001b[0m][\u001b[38;5;34m0\u001b[0m… │\n",
              "│ (\u001b[38;5;33mBidirectional\u001b[0m)     │                   │            │ not_equal[\u001b[38;5;34m0\u001b[0m][\u001b[38;5;34m0\u001b[0m]   │\n",
              "├─────────────────────┼───────────────────┼────────────┼───────────────────┤\n",
              "│ dropout_1 (\u001b[38;5;33mDropout\u001b[0m) │ (\u001b[38;5;45mNone\u001b[0m, \u001b[38;5;34m64\u001b[0m)        │          \u001b[38;5;34m0\u001b[0m │ bidirectional_1[\u001b[38;5;34m…\u001b[0m │\n",
              "├─────────────────────┼───────────────────┼────────────┼───────────────────┤\n",
              "│ dense_1 (\u001b[38;5;33mDense\u001b[0m)     │ (\u001b[38;5;45mNone\u001b[0m, \u001b[38;5;34m1\u001b[0m)         │         \u001b[38;5;34m65\u001b[0m │ dropout_1[\u001b[38;5;34m0\u001b[0m][\u001b[38;5;34m0\u001b[0m]   │\n",
              "└─────────────────────┴───────────────────┴────────────┴───────────────────┘\n"
            ]
          },
          "metadata": {},
          "output_type": "display_data"
        },
        {
          "data": {
            "text/html": [
              "<pre style=\"white-space:pre;overflow-x:auto;line-height:normal;font-family:Menlo,'DejaVu Sans Mono',consolas,'Courier New',monospace\"><span style=\"font-weight: bold\"> Total params: </span><span style=\"color: #00af00; text-decoration-color: #00af00\">586,049</span> (2.24 MB)\n",
              "</pre>\n"
            ],
            "text/plain": [
              "\u001b[1m Total params: \u001b[0m\u001b[38;5;34m586,049\u001b[0m (2.24 MB)\n"
            ]
          },
          "metadata": {},
          "output_type": "display_data"
        },
        {
          "data": {
            "text/html": [
              "<pre style=\"white-space:pre;overflow-x:auto;line-height:normal;font-family:Menlo,'DejaVu Sans Mono',consolas,'Courier New',monospace\"><span style=\"font-weight: bold\"> Trainable params: </span><span style=\"color: #00af00; text-decoration-color: #00af00\">586,049</span> (2.24 MB)\n",
              "</pre>\n"
            ],
            "text/plain": [
              "\u001b[1m Trainable params: \u001b[0m\u001b[38;5;34m586,049\u001b[0m (2.24 MB)\n"
            ]
          },
          "metadata": {},
          "output_type": "display_data"
        },
        {
          "data": {
            "text/html": [
              "<pre style=\"white-space:pre;overflow-x:auto;line-height:normal;font-family:Menlo,'DejaVu Sans Mono',consolas,'Courier New',monospace\"><span style=\"font-weight: bold\"> Non-trainable params: </span><span style=\"color: #00af00; text-decoration-color: #00af00\">0</span> (0.00 B)\n",
              "</pre>\n"
            ],
            "text/plain": [
              "\u001b[1m Non-trainable params: \u001b[0m\u001b[38;5;34m0\u001b[0m (0.00 B)\n"
            ]
          },
          "metadata": {},
          "output_type": "display_data"
        },
        {
          "name": "stdout",
          "output_type": "stream",
          "text": [
            "Epoch 1/10\n",
            "\u001b[1m625/625\u001b[0m \u001b[32m━━━━━━━━━━━━━━━━━━━━\u001b[0m\u001b[37m\u001b[0m \u001b[1m54s\u001b[0m 81ms/step - accuracy: 0.6171 - loss: 0.6329 - val_accuracy: 0.7718 - val_loss: 0.4761\n",
            "Epoch 2/10\n",
            "\u001b[1m625/625\u001b[0m \u001b[32m━━━━━━━━━━━━━━━━━━━━\u001b[0m\u001b[37m\u001b[0m \u001b[1m49s\u001b[0m 79ms/step - accuracy: 0.7629 - loss: 0.4906 - val_accuracy: 0.7770 - val_loss: 0.4641\n",
            "Epoch 3/10\n",
            "\u001b[1m625/625\u001b[0m \u001b[32m━━━━━━━━━━━━━━━━━━━━\u001b[0m\u001b[37m\u001b[0m \u001b[1m49s\u001b[0m 79ms/step - accuracy: 0.7866 - loss: 0.4477 - val_accuracy: 0.7854 - val_loss: 0.4553\n",
            "Epoch 4/10\n",
            "\u001b[1m625/625\u001b[0m \u001b[32m━━━━━━━━━━━━━━━━━━━━\u001b[0m\u001b[37m\u001b[0m \u001b[1m49s\u001b[0m 79ms/step - accuracy: 0.8054 - loss: 0.4228 - val_accuracy: 0.7484 - val_loss: 0.5334\n",
            "Epoch 5/10\n",
            "\u001b[1m625/625\u001b[0m \u001b[32m━━━━━━━━━━━━━━━━━━━━\u001b[0m\u001b[37m\u001b[0m \u001b[1m49s\u001b[0m 79ms/step - accuracy: 0.8174 - loss: 0.4029 - val_accuracy: 0.7652 - val_loss: 0.5068\n",
            "Epoch 6/10\n",
            "\u001b[1m625/625\u001b[0m \u001b[32m━━━━━━━━━━━━━━━━━━━━\u001b[0m\u001b[37m\u001b[0m \u001b[1m49s\u001b[0m 78ms/step - accuracy: 0.8313 - loss: 0.3777 - val_accuracy: 0.7714 - val_loss: 0.4932\n",
            "Epoch 7/10\n",
            "\u001b[1m625/625\u001b[0m \u001b[32m━━━━━━━━━━━━━━━━━━━━\u001b[0m\u001b[37m\u001b[0m \u001b[1m49s\u001b[0m 79ms/step - accuracy: 0.8465 - loss: 0.3524 - val_accuracy: 0.7684 - val_loss: 0.5180\n",
            "Epoch 8/10\n",
            "\u001b[1m625/625\u001b[0m \u001b[32m━━━━━━━━━━━━━━━━━━━━\u001b[0m\u001b[37m\u001b[0m \u001b[1m49s\u001b[0m 79ms/step - accuracy: 0.8640 - loss: 0.3238 - val_accuracy: 0.7622 - val_loss: 0.5506\n",
            "Epoch 9/10\n",
            "\u001b[1m625/625\u001b[0m \u001b[32m━━━━━━━━━━━━━━━━━━━━\u001b[0m\u001b[37m\u001b[0m \u001b[1m49s\u001b[0m 79ms/step - accuracy: 0.8731 - loss: 0.2999 - val_accuracy: 0.7608 - val_loss: 0.5800\n",
            "Epoch 10/10\n",
            "\u001b[1m625/625\u001b[0m \u001b[32m━━━━━━━━━━━━━━━━━━━━\u001b[0m\u001b[37m\u001b[0m \u001b[1m49s\u001b[0m 79ms/step - accuracy: 0.8885 - loss: 0.2755 - val_accuracy: 0.7608 - val_loss: 0.6367\n",
            "\u001b[1m782/782\u001b[0m \u001b[32m━━━━━━━━━━━━━━━━━━━━\u001b[0m\u001b[37m\u001b[0m \u001b[1m13s\u001b[0m 16ms/step - accuracy: 0.7606 - loss: 0.4880\n",
            "Test acc: 0.766\n"
          ]
        }
      ],
      "source": [
        "inputs = keras.Input(shape=(None,), dtype=\"int64\")\n",
        "embedded = layers.Embedding(\n",
        " input_dim=max_tokens, output_dim=256, mask_zero=True)(inputs)\n",
        "x = layers.Bidirectional(layers.LSTM(32))(embedded)\n",
        "x = layers.Dropout(0.5)(x)\n",
        "outputs = layers.Dense(1, activation=\"sigmoid\")(x)\n",
        "model = keras.Model(inputs, outputs)\n",
        "model.compile(optimizer=\"rmsprop\",\n",
        " loss=\"binary_crossentropy\",\n",
        " metrics=[\"accuracy\"])\n",
        "model.summary()\n",
        "\n",
        "callbacks = [\n",
        " keras.callbacks.ModelCheckpoint(\"embeddings_bidir_gru_with_masking.keras\",\n",
        " save_best_only=True)\n",
        "]\n",
        "model.fit(int_train_ds, validation_data=int_val_ds, epochs=10,\n",
        " callbacks=callbacks)\n",
        "model = keras.models.load_model(\"embeddings_bidir_gru_with_masking.keras\")\n",
        "print(f\"Test acc: {model.evaluate(int_test_ds)[1]:.3f}\")"
      ]
    },
    {
      "cell_type": "markdown",
      "metadata": {
        "id": "4VzMZnKWlNRo"
      },
      "source": [
        "USING PRETRAINED WORD EMBEDDINGS"
      ]
    },
    {
      "cell_type": "markdown",
      "metadata": {
        "id": "PzelKiDolUS4"
      },
      "source": [
        "Parsing the GloVe word-embeddings file"
      ]
    },
    {
      "cell_type": "code",
      "execution_count": null,
      "metadata": {
        "colab": {
          "base_uri": "https://localhost:8080/"
        },
        "id": "63MOeWfT8BIo",
        "outputId": "fd396d29-1627-4e3a-fbec-3f44c21cdc59"
      },
      "outputs": [
        {
          "name": "stdout",
          "output_type": "stream",
          "text": [
            "--2025-05-27 12:21:01--  http://nlp.stanford.edu/data/glove.6B.zip\n",
            "Resolving nlp.stanford.edu (nlp.stanford.edu)... 171.64.67.140\n",
            "Connecting to nlp.stanford.edu (nlp.stanford.edu)|171.64.67.140|:80... connected.\n",
            "HTTP request sent, awaiting response... 302 Found\n",
            "Location: https://nlp.stanford.edu/data/glove.6B.zip [following]\n",
            "--2025-05-27 12:21:02--  https://nlp.stanford.edu/data/glove.6B.zip\n",
            "Connecting to nlp.stanford.edu (nlp.stanford.edu)|171.64.67.140|:443... connected.\n",
            "HTTP request sent, awaiting response... 301 Moved Permanently\n",
            "Location: https://downloads.cs.stanford.edu/nlp/data/glove.6B.zip [following]\n",
            "--2025-05-27 12:21:02--  https://downloads.cs.stanford.edu/nlp/data/glove.6B.zip\n",
            "Resolving downloads.cs.stanford.edu (downloads.cs.stanford.edu)... 171.64.64.22\n",
            "Connecting to downloads.cs.stanford.edu (downloads.cs.stanford.edu)|171.64.64.22|:443... connected.\n",
            "HTTP request sent, awaiting response... 200 OK\n",
            "Length: 862182613 (822M) [application/zip]\n",
            "Saving to: ‘glove.6B.zip’\n",
            "\n",
            "glove.6B.zip        100%[===================>] 822.24M  5.03MB/s    in 2m 39s  \n",
            "\n",
            "2025-05-27 12:23:41 (5.17 MB/s) - ‘glove.6B.zip’ saved [862182613/862182613]\n",
            "\n",
            "Archive:  glove.6B.zip\n",
            "  inflating: glove.6B.50d.txt        \n",
            "  inflating: glove.6B.100d.txt       \n",
            "  inflating: glove.6B.200d.txt       \n",
            "  inflating: glove.6B.300d.txt       \n"
          ]
        }
      ],
      "source": [
        "!wget http://nlp.stanford.edu/data/glove.6B.zip\n",
        "!unzip glove.6B.zip\n"
      ]
    },
    {
      "cell_type": "code",
      "execution_count": null,
      "metadata": {
        "colab": {
          "base_uri": "https://localhost:8080/"
        },
        "id": "inJ1Joz3lN46",
        "outputId": "1ef70451-1b01-4caf-ff0d-a06e3edc5383"
      },
      "outputs": [
        {
          "name": "stdout",
          "output_type": "stream",
          "text": [
            "Found 400000 word vectors.\n"
          ]
        }
      ],
      "source": [
        "import numpy as np\n",
        "path_to_glove_file = \"glove.6B.100d.txt\"\n",
        "embeddings_index = {}\n",
        "with open(path_to_glove_file) as f:\n",
        " for line in f:\n",
        "  word, coefs = line.split(maxsplit=1)\n",
        "  coefs = np.fromstring(coefs, \"f\", sep=\" \")\n",
        "  embeddings_index[word] = coefs\n",
        "print(f\"Found {len(embeddings_index)} word vectors.\")"
      ]
    },
    {
      "cell_type": "markdown",
      "metadata": {
        "id": "TQXKMhSdlXyn"
      },
      "source": [
        " Preparing the GloVe word-embeddings matrix"
      ]
    },
    {
      "cell_type": "code",
      "execution_count": null,
      "metadata": {
        "id": "Tdd1ZUtNlYX1"
      },
      "outputs": [],
      "source": [
        "embedding_dim = 100\n",
        "vocabulary = text_vectorization.get_vocabulary()\n",
        "word_index = dict(zip(vocabulary, range(len(vocabulary))))\n",
        "embedding_matrix = np.zeros((max_tokens, embedding_dim))\n",
        "for word, i in word_index.items():\n",
        " if i < max_tokens:\n",
        "  embedding_vector = embeddings_index.get(word)\n",
        " if embedding_vector is not None:\n",
        "  embedding_matrix[i] = embedding_vector\n",
        "\n",
        "\n",
        "# Retrieve the vocabulary indexed by\n",
        "# our previous TextVectorization layer.\n",
        "# Use it to create a\n",
        "# mapping from words\n",
        "# to their index in the\n",
        "# vocabulary.\n",
        "# Prepare a matrix\n",
        "# that we’ll fill with\n",
        "# the GloVe vectors.\n",
        "# Fill entry i in the matrix with the\n",
        "# word vector for index i. Words\n",
        "# not found in the embedding\n",
        "# index will be all zeros."
      ]
    },
    {
      "cell_type": "code",
      "execution_count": null,
      "metadata": {
        "id": "KG3ydRizl_Te"
      },
      "outputs": [],
      "source": [
        "embedding_layer = layers.Embedding(\n",
        "max_tokens,\n",
        "embedding_dim,\n",
        "embeddings_initializer=keras.initializers.Constant(embedding_matrix),\n",
        "trainable=False,\n",
        "mask_zero=True,\n",
        ")"
      ]
    },
    {
      "cell_type": "markdown",
      "metadata": {
        "id": "4cIiSEzKmdem"
      },
      "source": [
        " Model that uses a pretrained Embedding layer"
      ]
    },
    {
      "cell_type": "code",
      "execution_count": null,
      "metadata": {
        "colab": {
          "base_uri": "https://localhost:8080/",
          "height": 782
        },
        "id": "0jxsIXd4l-BM",
        "outputId": "2af5b934-a5ab-4a2c-8906-ca81bcdf08a0"
      },
      "outputs": [
        {
          "data": {
            "text/html": [
              "<pre style=\"white-space:pre;overflow-x:auto;line-height:normal;font-family:Menlo,'DejaVu Sans Mono',consolas,'Courier New',monospace\"><span style=\"font-weight: bold\">Model: \"functional_2\"</span>\n",
              "</pre>\n"
            ],
            "text/plain": [
              "\u001b[1mModel: \"functional_2\"\u001b[0m\n"
            ]
          },
          "metadata": {},
          "output_type": "display_data"
        },
        {
          "data": {
            "text/html": [
              "<pre style=\"white-space:pre;overflow-x:auto;line-height:normal;font-family:Menlo,'DejaVu Sans Mono',consolas,'Courier New',monospace\">┏━━━━━━━━━━━━━━━━━━━━━┳━━━━━━━━━━━━━━━━━━━┳━━━━━━━━━━━━┳━━━━━━━━━━━━━━━━━━━┓\n",
              "┃<span style=\"font-weight: bold\"> Layer (type)        </span>┃<span style=\"font-weight: bold\"> Output Shape      </span>┃<span style=\"font-weight: bold\">    Param # </span>┃<span style=\"font-weight: bold\"> Connected to      </span>┃\n",
              "┡━━━━━━━━━━━━━━━━━━━━━╇━━━━━━━━━━━━━━━━━━━╇━━━━━━━━━━━━╇━━━━━━━━━━━━━━━━━━━┩\n",
              "│ input_layer_6       │ (<span style=\"color: #00d7ff; text-decoration-color: #00d7ff\">None</span>, <span style=\"color: #00d7ff; text-decoration-color: #00d7ff\">None</span>)      │          <span style=\"color: #00af00; text-decoration-color: #00af00\">0</span> │ -                 │\n",
              "│ (<span style=\"color: #0087ff; text-decoration-color: #0087ff\">InputLayer</span>)        │                   │            │                   │\n",
              "├─────────────────────┼───────────────────┼────────────┼───────────────────┤\n",
              "│ embedding_2         │ (<span style=\"color: #00d7ff; text-decoration-color: #00d7ff\">None</span>, <span style=\"color: #00d7ff; text-decoration-color: #00d7ff\">None</span>, <span style=\"color: #00af00; text-decoration-color: #00af00\">100</span>) │    <span style=\"color: #00af00; text-decoration-color: #00af00\">200,000</span> │ input_layer_6[<span style=\"color: #00af00; text-decoration-color: #00af00\">0</span>]… │\n",
              "│ (<span style=\"color: #0087ff; text-decoration-color: #0087ff\">Embedding</span>)         │                   │            │                   │\n",
              "├─────────────────────┼───────────────────┼────────────┼───────────────────┤\n",
              "│ not_equal_2         │ (<span style=\"color: #00d7ff; text-decoration-color: #00d7ff\">None</span>, <span style=\"color: #00d7ff; text-decoration-color: #00d7ff\">None</span>)      │          <span style=\"color: #00af00; text-decoration-color: #00af00\">0</span> │ input_layer_6[<span style=\"color: #00af00; text-decoration-color: #00af00\">0</span>]… │\n",
              "│ (<span style=\"color: #0087ff; text-decoration-color: #0087ff\">NotEqual</span>)          │                   │            │                   │\n",
              "├─────────────────────┼───────────────────┼────────────┼───────────────────┤\n",
              "│ bidirectional_2     │ (<span style=\"color: #00d7ff; text-decoration-color: #00d7ff\">None</span>, <span style=\"color: #00af00; text-decoration-color: #00af00\">64</span>)        │     <span style=\"color: #00af00; text-decoration-color: #00af00\">34,048</span> │ embedding_2[<span style=\"color: #00af00; text-decoration-color: #00af00\">0</span>][<span style=\"color: #00af00; text-decoration-color: #00af00\">0</span>… │\n",
              "│ (<span style=\"color: #0087ff; text-decoration-color: #0087ff\">Bidirectional</span>)     │                   │            │ not_equal_2[<span style=\"color: #00af00; text-decoration-color: #00af00\">0</span>][<span style=\"color: #00af00; text-decoration-color: #00af00\">0</span>] │\n",
              "├─────────────────────┼───────────────────┼────────────┼───────────────────┤\n",
              "│ dropout_2 (<span style=\"color: #0087ff; text-decoration-color: #0087ff\">Dropout</span>) │ (<span style=\"color: #00d7ff; text-decoration-color: #00d7ff\">None</span>, <span style=\"color: #00af00; text-decoration-color: #00af00\">64</span>)        │          <span style=\"color: #00af00; text-decoration-color: #00af00\">0</span> │ bidirectional_2[<span style=\"color: #00af00; text-decoration-color: #00af00\">…</span> │\n",
              "├─────────────────────┼───────────────────┼────────────┼───────────────────┤\n",
              "│ dense_2 (<span style=\"color: #0087ff; text-decoration-color: #0087ff\">Dense</span>)     │ (<span style=\"color: #00d7ff; text-decoration-color: #00d7ff\">None</span>, <span style=\"color: #00af00; text-decoration-color: #00af00\">1</span>)         │         <span style=\"color: #00af00; text-decoration-color: #00af00\">65</span> │ dropout_2[<span style=\"color: #00af00; text-decoration-color: #00af00\">0</span>][<span style=\"color: #00af00; text-decoration-color: #00af00\">0</span>]   │\n",
              "└─────────────────────┴───────────────────┴────────────┴───────────────────┘\n",
              "</pre>\n"
            ],
            "text/plain": [
              "┏━━━━━━━━━━━━━━━━━━━━━┳━━━━━━━━━━━━━━━━━━━┳━━━━━━━━━━━━┳━━━━━━━━━━━━━━━━━━━┓\n",
              "┃\u001b[1m \u001b[0m\u001b[1mLayer (type)       \u001b[0m\u001b[1m \u001b[0m┃\u001b[1m \u001b[0m\u001b[1mOutput Shape     \u001b[0m\u001b[1m \u001b[0m┃\u001b[1m \u001b[0m\u001b[1m   Param #\u001b[0m\u001b[1m \u001b[0m┃\u001b[1m \u001b[0m\u001b[1mConnected to     \u001b[0m\u001b[1m \u001b[0m┃\n",
              "┡━━━━━━━━━━━━━━━━━━━━━╇━━━━━━━━━━━━━━━━━━━╇━━━━━━━━━━━━╇━━━━━━━━━━━━━━━━━━━┩\n",
              "│ input_layer_6       │ (\u001b[38;5;45mNone\u001b[0m, \u001b[38;5;45mNone\u001b[0m)      │          \u001b[38;5;34m0\u001b[0m │ -                 │\n",
              "│ (\u001b[38;5;33mInputLayer\u001b[0m)        │                   │            │                   │\n",
              "├─────────────────────┼───────────────────┼────────────┼───────────────────┤\n",
              "│ embedding_2         │ (\u001b[38;5;45mNone\u001b[0m, \u001b[38;5;45mNone\u001b[0m, \u001b[38;5;34m100\u001b[0m) │    \u001b[38;5;34m200,000\u001b[0m │ input_layer_6[\u001b[38;5;34m0\u001b[0m]… │\n",
              "│ (\u001b[38;5;33mEmbedding\u001b[0m)         │                   │            │                   │\n",
              "├─────────────────────┼───────────────────┼────────────┼───────────────────┤\n",
              "│ not_equal_2         │ (\u001b[38;5;45mNone\u001b[0m, \u001b[38;5;45mNone\u001b[0m)      │          \u001b[38;5;34m0\u001b[0m │ input_layer_6[\u001b[38;5;34m0\u001b[0m]… │\n",
              "│ (\u001b[38;5;33mNotEqual\u001b[0m)          │                   │            │                   │\n",
              "├─────────────────────┼───────────────────┼────────────┼───────────────────┤\n",
              "│ bidirectional_2     │ (\u001b[38;5;45mNone\u001b[0m, \u001b[38;5;34m64\u001b[0m)        │     \u001b[38;5;34m34,048\u001b[0m │ embedding_2[\u001b[38;5;34m0\u001b[0m][\u001b[38;5;34m0\u001b[0m… │\n",
              "│ (\u001b[38;5;33mBidirectional\u001b[0m)     │                   │            │ not_equal_2[\u001b[38;5;34m0\u001b[0m][\u001b[38;5;34m0\u001b[0m] │\n",
              "├─────────────────────┼───────────────────┼────────────┼───────────────────┤\n",
              "│ dropout_2 (\u001b[38;5;33mDropout\u001b[0m) │ (\u001b[38;5;45mNone\u001b[0m, \u001b[38;5;34m64\u001b[0m)        │          \u001b[38;5;34m0\u001b[0m │ bidirectional_2[\u001b[38;5;34m…\u001b[0m │\n",
              "├─────────────────────┼───────────────────┼────────────┼───────────────────┤\n",
              "│ dense_2 (\u001b[38;5;33mDense\u001b[0m)     │ (\u001b[38;5;45mNone\u001b[0m, \u001b[38;5;34m1\u001b[0m)         │         \u001b[38;5;34m65\u001b[0m │ dropout_2[\u001b[38;5;34m0\u001b[0m][\u001b[38;5;34m0\u001b[0m]   │\n",
              "└─────────────────────┴───────────────────┴────────────┴───────────────────┘\n"
            ]
          },
          "metadata": {},
          "output_type": "display_data"
        },
        {
          "data": {
            "text/html": [
              "<pre style=\"white-space:pre;overflow-x:auto;line-height:normal;font-family:Menlo,'DejaVu Sans Mono',consolas,'Courier New',monospace\"><span style=\"font-weight: bold\"> Total params: </span><span style=\"color: #00af00; text-decoration-color: #00af00\">234,113</span> (914.50 KB)\n",
              "</pre>\n"
            ],
            "text/plain": [
              "\u001b[1m Total params: \u001b[0m\u001b[38;5;34m234,113\u001b[0m (914.50 KB)\n"
            ]
          },
          "metadata": {},
          "output_type": "display_data"
        },
        {
          "data": {
            "text/html": [
              "<pre style=\"white-space:pre;overflow-x:auto;line-height:normal;font-family:Menlo,'DejaVu Sans Mono',consolas,'Courier New',monospace\"><span style=\"font-weight: bold\"> Trainable params: </span><span style=\"color: #00af00; text-decoration-color: #00af00\">34,113</span> (133.25 KB)\n",
              "</pre>\n"
            ],
            "text/plain": [
              "\u001b[1m Trainable params: \u001b[0m\u001b[38;5;34m34,113\u001b[0m (133.25 KB)\n"
            ]
          },
          "metadata": {},
          "output_type": "display_data"
        },
        {
          "data": {
            "text/html": [
              "<pre style=\"white-space:pre;overflow-x:auto;line-height:normal;font-family:Menlo,'DejaVu Sans Mono',consolas,'Courier New',monospace\"><span style=\"font-weight: bold\"> Non-trainable params: </span><span style=\"color: #00af00; text-decoration-color: #00af00\">200,000</span> (781.25 KB)\n",
              "</pre>\n"
            ],
            "text/plain": [
              "\u001b[1m Non-trainable params: \u001b[0m\u001b[38;5;34m200,000\u001b[0m (781.25 KB)\n"
            ]
          },
          "metadata": {},
          "output_type": "display_data"
        },
        {
          "name": "stdout",
          "output_type": "stream",
          "text": [
            "Epoch 1/10\n",
            "\u001b[1m625/625\u001b[0m \u001b[32m━━━━━━━━━━━━━━━━━━━━\u001b[0m\u001b[37m\u001b[0m \u001b[1m35s\u001b[0m 51ms/step - accuracy: 0.5809 - loss: 0.6670 - val_accuracy: 0.6956 - val_loss: 0.5637\n",
            "Epoch 2/10\n",
            "\u001b[1m625/625\u001b[0m \u001b[32m━━━━━━━━━━━━━━━━━━━━\u001b[0m\u001b[37m\u001b[0m \u001b[1m31s\u001b[0m 49ms/step - accuracy: 0.7010 - loss: 0.5695 - val_accuracy: 0.7402 - val_loss: 0.5256\n",
            "Epoch 3/10\n",
            "\u001b[1m625/625\u001b[0m \u001b[32m━━━━━━━━━━━━━━━━━━━━\u001b[0m\u001b[37m\u001b[0m \u001b[1m31s\u001b[0m 50ms/step - accuracy: 0.7256 - loss: 0.5348 - val_accuracy: 0.7406 - val_loss: 0.5121\n",
            "Epoch 4/10\n",
            "\u001b[1m625/625\u001b[0m \u001b[32m━━━━━━━━━━━━━━━━━━━━\u001b[0m\u001b[37m\u001b[0m \u001b[1m31s\u001b[0m 50ms/step - accuracy: 0.7394 - loss: 0.5205 - val_accuracy: 0.7416 - val_loss: 0.5055\n",
            "Epoch 5/10\n",
            "\u001b[1m625/625\u001b[0m \u001b[32m━━━━━━━━━━━━━━━━━━━━\u001b[0m\u001b[37m\u001b[0m \u001b[1m31s\u001b[0m 50ms/step - accuracy: 0.7500 - loss: 0.5030 - val_accuracy: 0.7536 - val_loss: 0.4930\n",
            "Epoch 6/10\n",
            "\u001b[1m625/625\u001b[0m \u001b[32m━━━━━━━━━━━━━━━━━━━━\u001b[0m\u001b[37m\u001b[0m \u001b[1m31s\u001b[0m 49ms/step - accuracy: 0.7584 - loss: 0.4887 - val_accuracy: 0.7590 - val_loss: 0.4880\n",
            "Epoch 7/10\n",
            "\u001b[1m625/625\u001b[0m \u001b[32m━━━━━━━━━━━━━━━━━━━━\u001b[0m\u001b[37m\u001b[0m \u001b[1m30s\u001b[0m 49ms/step - accuracy: 0.7661 - loss: 0.4772 - val_accuracy: 0.7628 - val_loss: 0.4813\n",
            "Epoch 8/10\n",
            "\u001b[1m625/625\u001b[0m \u001b[32m━━━━━━━━━━━━━━━━━━━━\u001b[0m\u001b[37m\u001b[0m \u001b[1m30s\u001b[0m 48ms/step - accuracy: 0.7740 - loss: 0.4641 - val_accuracy: 0.7618 - val_loss: 0.4777\n",
            "Epoch 9/10\n",
            "\u001b[1m625/625\u001b[0m \u001b[32m━━━━━━━━━━━━━━━━━━━━\u001b[0m\u001b[37m\u001b[0m \u001b[1m31s\u001b[0m 49ms/step - accuracy: 0.7815 - loss: 0.4563 - val_accuracy: 0.7642 - val_loss: 0.4904\n",
            "Epoch 10/10\n",
            "\u001b[1m625/625\u001b[0m \u001b[32m━━━━━━━━━━━━━━━━━━━━\u001b[0m\u001b[37m\u001b[0m \u001b[1m31s\u001b[0m 50ms/step - accuracy: 0.7887 - loss: 0.4445 - val_accuracy: 0.7680 - val_loss: 0.4742\n",
            "\u001b[1m782/782\u001b[0m \u001b[32m━━━━━━━━━━━━━━━━━━━━\u001b[0m\u001b[37m\u001b[0m \u001b[1m10s\u001b[0m 12ms/step - accuracy: 0.7630 - loss: 0.4822\n",
            "Test acc: 0.765\n"
          ]
        }
      ],
      "source": [
        "inputs = keras.Input(shape=(None,), dtype=\"int64\")\n",
        "embedded = embedding_layer(inputs)\n",
        "x = layers.Bidirectional(layers.LSTM(32))(embedded)\n",
        "x = layers.Dropout(0.5)(x)\n",
        "outputs = layers.Dense(1, activation=\"sigmoid\")(x)\n",
        "model = keras.Model(inputs, outputs)\n",
        "model.compile(optimizer=\"rmsprop\",\n",
        " loss=\"binary_crossentropy\",\n",
        " metrics=[\"accuracy\"])\n",
        "model.summary()\n",
        "callbacks = [\n",
        " keras.callbacks.ModelCheckpoint(\"glove_embeddings_sequence_model.keras\",\n",
        " save_best_only=True)\n",
        "]\n",
        "model.fit(int_train_ds, validation_data=int_val_ds, epochs=10,\n",
        " callbacks=callbacks)\n",
        "model = keras.models.load_model(\"glove_embeddings_sequence_model.keras\")\n",
        "print(f\"Test acc: {model.evaluate(int_test_ds)[1]:.3f}\")"
      ]
    },
    {
      "cell_type": "markdown",
      "metadata": {
        "id": "wqhyWR-Yl8rp"
      },
      "source": [
        "##The Transformer architecture"
      ]
    },
    {
      "cell_type": "markdown",
      "metadata": {
        "id": "mRaIqc44mrE-"
      },
      "source": [
        "Understanding self-attention"
      ]
    },
    {
      "cell_type": "markdown",
      "metadata": {
        "id": "E92kTxUxmzID"
      },
      "source": [
        "![image.png](data:image/png;base64,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)"
      ]
    },
    {
      "cell_type": "markdown",
      "metadata": {
        "id": "W1WDtCqFm5J4"
      },
      "source": [
        "![image.png](data:image/png;base64,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)"
      ]
    },
    {
      "cell_type": "code",
      "execution_count": null,
      "metadata": {
        "id": "DVhiQQ1YmhQ1"
      },
      "outputs": [],
      "source": [
        "def self_attention(input_sequence):\n",
        " output = np.zeros(shape=input_sequence.shape)\n",
        " for i, pivot_vector in enumerate(input_sequence):\n",
        "  scores = np.zeros(shape=(len(input_sequence),))\n",
        "  for j, vector in enumerate(input_sequence):\n",
        "    scores[j] = np.dot(pivot_vector, vector.T)\n",
        " scores /= np.sqrt(input_sequence.shape[1])\n",
        " scores = softmax(scores)\n",
        " new_pivot_representation = np.zeros(shape=pivot_vector.shape)\n",
        " for j, vector in enumerate(input_sequence):\n",
        "  new_pivot_representation += vector * scores[j]\n",
        " output[i] = new_pivot_representation\n",
        " return output\n",
        "\n",
        "\n",
        "#  Iterate over each token\n",
        "# in the input sequence.\n",
        "# Compute the dot\n",
        "# product (attention\n",
        "# score) between the\n",
        "# token and every\n",
        "# other token.\n",
        "# Scale by a\n",
        "# normalization\n",
        "# factor, and apply\n",
        "# a softmax.\n",
        "# Take the sum\n",
        "# of all tokens\n",
        "# weighted by the\n",
        "# attention scores.\n",
        "# That sum is\n",
        "# our output.\n"
      ]
    },
    {
      "cell_type": "markdown",
      "metadata": {
        "id": "9WXnkV5gvmoH"
      },
      "source": [
        "The Transformer encoder"
      ]
    },
    {
      "cell_type": "code",
      "execution_count": null,
      "metadata": {
        "id": "RW1o3El0vKOS"
      },
      "outputs": [],
      "source": [
        "import tensorflow as tf\n",
        "from tensorflow import keras\n",
        "from tensorflow.keras import layers\n",
        "\n",
        "class TransformerEncoder(layers.Layer):\n",
        "    \"\"\"Transformer Encoder layer implementation\n",
        "\n",
        "    Args:\n",
        "        embed_dim: Dimension of the input token embeddings\n",
        "        dense_dim: Dimension of the inner dense layer\n",
        "        num_heads: Number of attention heads\n",
        "    \"\"\"\n",
        "\n",
        "    def __init__(self, embed_dim, dense_dim, num_heads, **kwargs):\n",
        "        super().__init__(**kwargs)\n",
        "        self.embed_dim = embed_dim  # Size of input token vectors\n",
        "        self.dense_dim = dense_dim  # Size of inner dense layer\n",
        "        self.num_heads = num_heads  # Number of attention heads\n",
        "\n",
        "        # Multi-head self-attention mechanism\n",
        "        self.attention = layers.MultiHeadAttention(\n",
        "            num_heads=num_heads,\n",
        "            key_dim=embed_dim\n",
        "        )\n",
        "\n",
        "        # Feed-forward network (2 dense layers)\n",
        "        self.dense_proj = keras.Sequential([\n",
        "            layers.Dense(dense_dim, activation=\"relu\"),\n",
        "            layers.Dense(embed_dim)\n",
        "        ])\n",
        "\n",
        "        # Layer normalization layers\n",
        "        self.layernorm_1 = layers.LayerNormalization()\n",
        "        self.layernorm_2 = layers.LayerNormalization()\n",
        "\n",
        "    def call(self, inputs, mask=None):\n",
        "        \"\"\"Forward pass for the encoder\n",
        "\n",
        "        Args:\n",
        "            inputs: Input tensor of shape (batch_size, sequence_length, embed_dim)\n",
        "            mask: Optional mask tensor for padding\n",
        "\n",
        "        Returns:\n",
        "            Output tensor of same shape as inputs\n",
        "        \"\"\"\n",
        "        # Prepare attention mask if provided\n",
        "        if mask is not None:\n",
        "            mask = mask[:, tf.newaxis, :]  # Expand mask dimensions\n",
        "\n",
        "        # Self-attention block\n",
        "        attention_output = self.attention(\n",
        "            inputs, inputs,  # Self-attention (query=key=value=inputs)\n",
        "            attention_mask=mask\n",
        "        )\n",
        "\n",
        "        # Residual connection + layer normalization\n",
        "        proj_input = self.layernorm_1(inputs + attention_output)\n",
        "\n",
        "        # Feed-forward network\n",
        "        proj_output = self.dense_proj(proj_input)\n",
        "\n",
        "        # Second residual connection + layer normalization\n",
        "        return self.layernorm_2(proj_input + proj_output)\n",
        "\n",
        "    def get_config(self):\n",
        "        \"\"\"Get layer configuration for serialization\"\"\"\n",
        "        config = super().get_config()\n",
        "        config.update({\n",
        "            \"embed_dim\": self.embed_dim,\n",
        "            \"dense_dim\": self.dense_dim,\n",
        "            \"num_heads\": self.num_heads,\n",
        "        })\n",
        "        return config"
      ]
    },
    {
      "cell_type": "markdown",
      "metadata": {
        "id": "DMiyRFE1wcqb"
      },
      "source": [
        " Using the Transformer encoder for text classification"
      ]
    },
    {
      "cell_type": "code",
      "execution_count": null,
      "metadata": {
        "colab": {
          "base_uri": "https://localhost:8080/",
          "height": 367
        },
        "id": "xgdlweHewMLH",
        "outputId": "1f9e94ec-1f5a-4655-fff1-abcfa9a63b39"
      },
      "outputs": [
        {
          "data": {
            "text/html": [
              "<pre style=\"white-space:pre;overflow-x:auto;line-height:normal;font-family:Menlo,'DejaVu Sans Mono',consolas,'Courier New',monospace\"><span style=\"font-weight: bold\">Model: \"functional_4\"</span>\n",
              "</pre>\n"
            ],
            "text/plain": [
              "\u001b[1mModel: \"functional_4\"\u001b[0m\n"
            ]
          },
          "metadata": {},
          "output_type": "display_data"
        },
        {
          "data": {
            "text/html": [
              "<pre style=\"white-space:pre;overflow-x:auto;line-height:normal;font-family:Menlo,'DejaVu Sans Mono',consolas,'Courier New',monospace\">┏━━━━━━━━━━━━━━━━━━━━━━━━━━━━━━━━━┳━━━━━━━━━━━━━━━━━━━━━━━━┳━━━━━━━━━━━━━━━┓\n",
              "┃<span style=\"font-weight: bold\"> Layer (type)                    </span>┃<span style=\"font-weight: bold\"> Output Shape           </span>┃<span style=\"font-weight: bold\">       Param # </span>┃\n",
              "┡━━━━━━━━━━━━━━━━━━━━━━━━━━━━━━━━━╇━━━━━━━━━━━━━━━━━━━━━━━━╇━━━━━━━━━━━━━━━┩\n",
              "│ input_layer_7 (<span style=\"color: #0087ff; text-decoration-color: #0087ff\">InputLayer</span>)      │ (<span style=\"color: #00d7ff; text-decoration-color: #00d7ff\">None</span>, <span style=\"color: #00d7ff; text-decoration-color: #00d7ff\">None</span>)           │             <span style=\"color: #00af00; text-decoration-color: #00af00\">0</span> │\n",
              "├─────────────────────────────────┼────────────────────────┼───────────────┤\n",
              "│ embedding_3 (<span style=\"color: #0087ff; text-decoration-color: #0087ff\">Embedding</span>)         │ (<span style=\"color: #00d7ff; text-decoration-color: #00d7ff\">None</span>, <span style=\"color: #00d7ff; text-decoration-color: #00d7ff\">None</span>, <span style=\"color: #00af00; text-decoration-color: #00af00\">256</span>)      │     <span style=\"color: #00af00; text-decoration-color: #00af00\">5,120,000</span> │\n",
              "├─────────────────────────────────┼────────────────────────┼───────────────┤\n",
              "│ transformer_encoder             │ (<span style=\"color: #00d7ff; text-decoration-color: #00d7ff\">None</span>, <span style=\"color: #00d7ff; text-decoration-color: #00d7ff\">None</span>, <span style=\"color: #00af00; text-decoration-color: #00af00\">256</span>)      │       <span style=\"color: #00af00; text-decoration-color: #00af00\">543,776</span> │\n",
              "│ (<span style=\"color: #0087ff; text-decoration-color: #0087ff\">TransformerEncoder</span>)            │                        │               │\n",
              "├─────────────────────────────────┼────────────────────────┼───────────────┤\n",
              "│ global_max_pooling1d            │ (<span style=\"color: #00d7ff; text-decoration-color: #00d7ff\">None</span>, <span style=\"color: #00af00; text-decoration-color: #00af00\">256</span>)            │             <span style=\"color: #00af00; text-decoration-color: #00af00\">0</span> │\n",
              "│ (<span style=\"color: #0087ff; text-decoration-color: #0087ff\">GlobalMaxPooling1D</span>)            │                        │               │\n",
              "├─────────────────────────────────┼────────────────────────┼───────────────┤\n",
              "│ dropout_4 (<span style=\"color: #0087ff; text-decoration-color: #0087ff\">Dropout</span>)             │ (<span style=\"color: #00d7ff; text-decoration-color: #00d7ff\">None</span>, <span style=\"color: #00af00; text-decoration-color: #00af00\">256</span>)            │             <span style=\"color: #00af00; text-decoration-color: #00af00\">0</span> │\n",
              "├─────────────────────────────────┼────────────────────────┼───────────────┤\n",
              "│ dense_5 (<span style=\"color: #0087ff; text-decoration-color: #0087ff\">Dense</span>)                 │ (<span style=\"color: #00d7ff; text-decoration-color: #00d7ff\">None</span>, <span style=\"color: #00af00; text-decoration-color: #00af00\">1</span>)              │           <span style=\"color: #00af00; text-decoration-color: #00af00\">257</span> │\n",
              "└─────────────────────────────────┴────────────────────────┴───────────────┘\n",
              "</pre>\n"
            ],
            "text/plain": [
              "┏━━━━━━━━━━━━━━━━━━━━━━━━━━━━━━━━━┳━━━━━━━━━━━━━━━━━━━━━━━━┳━━━━━━━━━━━━━━━┓\n",
              "┃\u001b[1m \u001b[0m\u001b[1mLayer (type)                   \u001b[0m\u001b[1m \u001b[0m┃\u001b[1m \u001b[0m\u001b[1mOutput Shape          \u001b[0m\u001b[1m \u001b[0m┃\u001b[1m \u001b[0m\u001b[1m      Param #\u001b[0m\u001b[1m \u001b[0m┃\n",
              "┡━━━━━━━━━━━━━━━━━━━━━━━━━━━━━━━━━╇━━━━━━━━━━━━━━━━━━━━━━━━╇━━━━━━━━━━━━━━━┩\n",
              "│ input_layer_7 (\u001b[38;5;33mInputLayer\u001b[0m)      │ (\u001b[38;5;45mNone\u001b[0m, \u001b[38;5;45mNone\u001b[0m)           │             \u001b[38;5;34m0\u001b[0m │\n",
              "├─────────────────────────────────┼────────────────────────┼───────────────┤\n",
              "│ embedding_3 (\u001b[38;5;33mEmbedding\u001b[0m)         │ (\u001b[38;5;45mNone\u001b[0m, \u001b[38;5;45mNone\u001b[0m, \u001b[38;5;34m256\u001b[0m)      │     \u001b[38;5;34m5,120,000\u001b[0m │\n",
              "├─────────────────────────────────┼────────────────────────┼───────────────┤\n",
              "│ transformer_encoder             │ (\u001b[38;5;45mNone\u001b[0m, \u001b[38;5;45mNone\u001b[0m, \u001b[38;5;34m256\u001b[0m)      │       \u001b[38;5;34m543,776\u001b[0m │\n",
              "│ (\u001b[38;5;33mTransformerEncoder\u001b[0m)            │                        │               │\n",
              "├─────────────────────────────────┼────────────────────────┼───────────────┤\n",
              "│ global_max_pooling1d            │ (\u001b[38;5;45mNone\u001b[0m, \u001b[38;5;34m256\u001b[0m)            │             \u001b[38;5;34m0\u001b[0m │\n",
              "│ (\u001b[38;5;33mGlobalMaxPooling1D\u001b[0m)            │                        │               │\n",
              "├─────────────────────────────────┼────────────────────────┼───────────────┤\n",
              "│ dropout_4 (\u001b[38;5;33mDropout\u001b[0m)             │ (\u001b[38;5;45mNone\u001b[0m, \u001b[38;5;34m256\u001b[0m)            │             \u001b[38;5;34m0\u001b[0m │\n",
              "├─────────────────────────────────┼────────────────────────┼───────────────┤\n",
              "│ dense_5 (\u001b[38;5;33mDense\u001b[0m)                 │ (\u001b[38;5;45mNone\u001b[0m, \u001b[38;5;34m1\u001b[0m)              │           \u001b[38;5;34m257\u001b[0m │\n",
              "└─────────────────────────────────┴────────────────────────┴───────────────┘\n"
            ]
          },
          "metadata": {},
          "output_type": "display_data"
        },
        {
          "data": {
            "text/html": [
              "<pre style=\"white-space:pre;overflow-x:auto;line-height:normal;font-family:Menlo,'DejaVu Sans Mono',consolas,'Courier New',monospace\"><span style=\"font-weight: bold\"> Total params: </span><span style=\"color: #00af00; text-decoration-color: #00af00\">5,664,033</span> (21.61 MB)\n",
              "</pre>\n"
            ],
            "text/plain": [
              "\u001b[1m Total params: \u001b[0m\u001b[38;5;34m5,664,033\u001b[0m (21.61 MB)\n"
            ]
          },
          "metadata": {},
          "output_type": "display_data"
        },
        {
          "data": {
            "text/html": [
              "<pre style=\"white-space:pre;overflow-x:auto;line-height:normal;font-family:Menlo,'DejaVu Sans Mono',consolas,'Courier New',monospace\"><span style=\"font-weight: bold\"> Trainable params: </span><span style=\"color: #00af00; text-decoration-color: #00af00\">5,664,033</span> (21.61 MB)\n",
              "</pre>\n"
            ],
            "text/plain": [
              "\u001b[1m Trainable params: \u001b[0m\u001b[38;5;34m5,664,033\u001b[0m (21.61 MB)\n"
            ]
          },
          "metadata": {},
          "output_type": "display_data"
        },
        {
          "data": {
            "text/html": [
              "<pre style=\"white-space:pre;overflow-x:auto;line-height:normal;font-family:Menlo,'DejaVu Sans Mono',consolas,'Courier New',monospace\"><span style=\"font-weight: bold\"> Non-trainable params: </span><span style=\"color: #00af00; text-decoration-color: #00af00\">0</span> (0.00 B)\n",
              "</pre>\n"
            ],
            "text/plain": [
              "\u001b[1m Non-trainable params: \u001b[0m\u001b[38;5;34m0\u001b[0m (0.00 B)\n"
            ]
          },
          "metadata": {},
          "output_type": "display_data"
        }
      ],
      "source": [
        "vocab_size = 20000\n",
        "embed_dim = 256\n",
        "num_heads = 2\n",
        "dense_dim = 32\n",
        "inputs = keras.Input(shape=(None,), dtype=\"int64\")\n",
        "x = layers.Embedding(vocab_size, embed_dim)(inputs)\n",
        "x = TransformerEncoder(embed_dim, dense_dim, num_heads)(x)\n",
        "x = layers.GlobalMaxPooling1D()(x)\n",
        "x = layers.Dropout(0.5)(x)\n",
        "outputs = layers.Dense(1, activation=\"sigmoid\")(x)\n",
        "model = keras.Model(inputs, outputs)\n",
        "model.compile(optimizer=\"rmsprop\",\n",
        "  loss=\"binary_crossentropy\",\n",
        "  metrics=[\"accuracy\"])\n",
        "model.summary()\n",
        "# Since TransformerEncoder\n",
        "# returns full sequences,\n",
        "# we need to reduce each\n",
        "# sequence to a single\n",
        "# vector for classification\n",
        "# via a global pooling layer."
      ]
    },
    {
      "cell_type": "markdown",
      "metadata": {
        "id": "DZ0N76yRwzy9"
      },
      "source": [
        " Training and evaluating the Transformer encoder based model"
      ]
    },
    {
      "cell_type": "code",
      "execution_count": null,
      "metadata": {
        "colab": {
          "base_uri": "https://localhost:8080/"
        },
        "id": "kqohsYIcwpT7",
        "outputId": "4c6f2897-ac2d-4f67-cefd-8b6f81b84d7f"
      },
      "outputs": [
        {
          "name": "stdout",
          "output_type": "stream",
          "text": [
            "Epoch 1/20\n",
            "\u001b[1m625/625\u001b[0m \u001b[32m━━━━━━━━━━━━━━━━━━━━\u001b[0m\u001b[37m\u001b[0m \u001b[1m241s\u001b[0m 382ms/step - accuracy: 0.6187 - loss: 0.7596 - val_accuracy: 0.7358 - val_loss: 0.5135\n",
            "Epoch 2/20\n",
            "\u001b[1m625/625\u001b[0m \u001b[32m━━━━━━━━━━━━━━━━━━━━\u001b[0m\u001b[37m\u001b[0m \u001b[1m236s\u001b[0m 378ms/step - accuracy: 0.7455 - loss: 0.5095 - val_accuracy: 0.7504 - val_loss: 0.5077\n",
            "Epoch 3/20\n",
            "\u001b[1m625/625\u001b[0m \u001b[32m━━━━━━━━━━━━━━━━━━━━\u001b[0m\u001b[37m\u001b[0m \u001b[1m235s\u001b[0m 375ms/step - accuracy: 0.7651 - loss: 0.4796 - val_accuracy: 0.7706 - val_loss: 0.4642\n",
            "Epoch 4/20\n",
            "\u001b[1m625/625\u001b[0m \u001b[32m━━━━━━━━━━━━━━━━━━━━\u001b[0m\u001b[37m\u001b[0m \u001b[1m236s\u001b[0m 377ms/step - accuracy: 0.7748 - loss: 0.4590 - val_accuracy: 0.7734 - val_loss: 0.4674\n",
            "Epoch 5/20\n",
            "\u001b[1m625/625\u001b[0m \u001b[32m━━━━━━━━━━━━━━━━━━━━\u001b[0m\u001b[37m\u001b[0m \u001b[1m235s\u001b[0m 376ms/step - accuracy: 0.7877 - loss: 0.4388 - val_accuracy: 0.7698 - val_loss: 0.4636\n",
            "Epoch 6/20\n",
            "\u001b[1m625/625\u001b[0m \u001b[32m━━━━━━━━━━━━━━━━━━━━\u001b[0m\u001b[37m\u001b[0m \u001b[1m235s\u001b[0m 375ms/step - accuracy: 0.7987 - loss: 0.4253 - val_accuracy: 0.7720 - val_loss: 0.4671\n",
            "Epoch 7/20\n",
            "\u001b[1m625/625\u001b[0m \u001b[32m━━━━━━━━━━━━━━━━━━━━\u001b[0m\u001b[37m\u001b[0m \u001b[1m235s\u001b[0m 377ms/step - accuracy: 0.8042 - loss: 0.4154 - val_accuracy: 0.7704 - val_loss: 0.4721\n",
            "Epoch 8/20\n",
            "\u001b[1m625/625\u001b[0m \u001b[32m━━━━━━━━━━━━━━━━━━━━\u001b[0m\u001b[37m\u001b[0m \u001b[1m235s\u001b[0m 376ms/step - accuracy: 0.8077 - loss: 0.4073 - val_accuracy: 0.7652 - val_loss: 0.5019\n",
            "Epoch 9/20\n",
            "\u001b[1m625/625\u001b[0m \u001b[32m━━━━━━━━━━━━━━━━━━━━\u001b[0m\u001b[37m\u001b[0m \u001b[1m236s\u001b[0m 378ms/step - accuracy: 0.8152 - loss: 0.3947 - val_accuracy: 0.7712 - val_loss: 0.4817\n",
            "Epoch 10/20\n",
            "\u001b[1m625/625\u001b[0m \u001b[32m━━━━━━━━━━━━━━━━━━━━\u001b[0m\u001b[37m\u001b[0m \u001b[1m235s\u001b[0m 376ms/step - accuracy: 0.8203 - loss: 0.3866 - val_accuracy: 0.7756 - val_loss: 0.5239\n",
            "Epoch 11/20\n",
            "\u001b[1m625/625\u001b[0m \u001b[32m━━━━━━━━━━━━━━━━━━━━\u001b[0m\u001b[37m\u001b[0m \u001b[1m235s\u001b[0m 376ms/step - accuracy: 0.8269 - loss: 0.3775 - val_accuracy: 0.7726 - val_loss: 0.4880\n",
            "Epoch 12/20\n",
            "\u001b[1m625/625\u001b[0m \u001b[32m━━━━━━━━━━━━━━━━━━━━\u001b[0m\u001b[37m\u001b[0m \u001b[1m236s\u001b[0m 377ms/step - accuracy: 0.8357 - loss: 0.3666 - val_accuracy: 0.7682 - val_loss: 0.5233\n",
            "Epoch 13/20\n",
            "\u001b[1m625/625\u001b[0m \u001b[32m━━━━━━━━━━━━━━━━━━━━\u001b[0m\u001b[37m\u001b[0m \u001b[1m235s\u001b[0m 376ms/step - accuracy: 0.8403 - loss: 0.3549 - val_accuracy: 0.7690 - val_loss: 0.5309\n",
            "Epoch 14/20\n",
            "\u001b[1m625/625\u001b[0m \u001b[32m━━━━━━━━━━━━━━━━━━━━\u001b[0m\u001b[37m\u001b[0m \u001b[1m235s\u001b[0m 376ms/step - accuracy: 0.8520 - loss: 0.3398 - val_accuracy: 0.7598 - val_loss: 0.5414\n",
            "Epoch 15/20\n",
            "\u001b[1m625/625\u001b[0m \u001b[32m━━━━━━━━━━━━━━━━━━━━\u001b[0m\u001b[37m\u001b[0m \u001b[1m235s\u001b[0m 375ms/step - accuracy: 0.8554 - loss: 0.3264 - val_accuracy: 0.7660 - val_loss: 0.5638\n",
            "Epoch 16/20\n",
            "\u001b[1m625/625\u001b[0m \u001b[32m━━━━━━━━━━━━━━━━━━━━\u001b[0m\u001b[37m\u001b[0m \u001b[1m234s\u001b[0m 375ms/step - accuracy: 0.8631 - loss: 0.3185 - val_accuracy: 0.7628 - val_loss: 0.5842\n",
            "Epoch 17/20\n",
            "\u001b[1m625/625\u001b[0m \u001b[32m━━━━━━━━━━━━━━━━━━━━\u001b[0m\u001b[37m\u001b[0m \u001b[1m234s\u001b[0m 374ms/step - accuracy: 0.8735 - loss: 0.2928 - val_accuracy: 0.7582 - val_loss: 0.6509\n",
            "Epoch 18/20\n",
            "\u001b[1m625/625\u001b[0m \u001b[32m━━━━━━━━━━━━━━━━━━━━\u001b[0m\u001b[37m\u001b[0m \u001b[1m234s\u001b[0m 375ms/step - accuracy: 0.8845 - loss: 0.2770 - val_accuracy: 0.7628 - val_loss: 0.6076\n",
            "Epoch 19/20\n",
            "\u001b[1m625/625\u001b[0m \u001b[32m━━━━━━━━━━━━━━━━━━━━\u001b[0m\u001b[37m\u001b[0m \u001b[1m235s\u001b[0m 375ms/step - accuracy: 0.8944 - loss: 0.2531 - val_accuracy: 0.7482 - val_loss: 0.6488\n",
            "Epoch 20/20\n",
            "\u001b[1m625/625\u001b[0m \u001b[32m━━━━━━━━━━━━━━━━━━━━\u001b[0m\u001b[37m\u001b[0m \u001b[1m234s\u001b[0m 375ms/step - accuracy: 0.9051 - loss: 0.2301 - val_accuracy: 0.7564 - val_loss: 0.8204\n"
          ]
        },
        {
          "name": "stderr",
          "output_type": "stream",
          "text": [
            "/usr/local/lib/python3.11/dist-packages/keras/src/layers/layer.py:393: UserWarning: `build()` was called on layer 'transformer_encoder', however the layer does not have a `build()` method implemented and it looks like it has unbuilt state. This will cause the layer to be marked as built, despite not being actually built, which may cause failures down the line. Make sure to implement a proper `build()` method.\n",
            "  warnings.warn(\n"
          ]
        },
        {
          "name": "stdout",
          "output_type": "stream",
          "text": [
            "\u001b[1m285/782\u001b[0m \u001b[32m━━━━━━━\u001b[0m\u001b[37m━━━━━━━━━━━━━\u001b[0m \u001b[1m41s\u001b[0m 84ms/step - accuracy: 0.7520 - loss: 0.5733"
          ]
        }
      ],
      "source": [
        "import tensorflow as tf\n",
        "from tensorflow import keras\n",
        "from tensorflow.keras import layers\n",
        "\n",
        "# Define callbacks\n",
        "callbacks = [\n",
        "    keras.callbacks.ModelCheckpoint(\n",
        "        \"transformer_encoder.keras\",\n",
        "        save_best_only=True,  # Only save the best model\n",
        "        monitor=\"val_accuracy\",  # Monitor validation accuracy\n",
        "        mode=\"max\"  # Save when validation accuracy maximizes\n",
        "    )\n",
        "]\n",
        "\n",
        "# Train the model\n",
        "history = model.fit(\n",
        "    int_train_ds,\n",
        "    validation_data=int_val_ds,\n",
        "    epochs=20,\n",
        "    callbacks=callbacks\n",
        ")\n",
        "\n",
        "# Load the best saved model\n",
        "model = keras.models.load_model(\n",
        "    \"transformer_encoder.keras\",\n",
        "    custom_objects={\"TransformerEncoder\": TransformerEncoder}\n",
        ")\n",
        "\n",
        "# Evaluate on test set\n",
        "test_loss, test_acc = model.evaluate(int_test_ds)\n",
        "print(f\"Test accuracy: {test_acc:.3f}\")"
      ]
    },
    {
      "cell_type": "markdown",
      "metadata": {
        "id": "ynZjhVWvxgjj"
      },
      "source": [
        "![image.png](data:image/png;base64,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)"
      ]
    },
    {
      "cell_type": "markdown",
      "metadata": {
        "id": "MVmgTGDpyYBn"
      },
      "source": [
        " Implementing positional embedding as a subclassed layer"
      ]
    },
    {
      "cell_type": "code",
      "execution_count": null,
      "metadata": {
        "id": "wYcUNTdzxhbE"
      },
      "outputs": [],
      "source": [
        "import tensorflow as tf\n",
        "from tensorflow import keras\n",
        "from tensorflow.keras import layers\n",
        "\n",
        "class PositionalEmbedding(layers.Layer):\n",
        "    \"\"\"Combines token embeddings with position embeddings\n",
        "\n",
        "    Args:\n",
        "        sequence_length: Maximum length of input sequences\n",
        "        input_dim: Vocabulary size (number of unique tokens)\n",
        "        output_dim: Dimension of the embedding vectors\n",
        "    \"\"\"\n",
        "\n",
        "    def __init__(self, sequence_length, input_dim, output_dim, **kwargs):\n",
        "        super().__init__(**kwargs)\n",
        "        self.sequence_length = sequence_length\n",
        "        self.input_dim = input_dim\n",
        "        self.output_dim = output_dim\n",
        "\n",
        "        # Token embedding layer (learns word representations)\n",
        "        self.token_embeddings = layers.Embedding(\n",
        "            input_dim=input_dim,\n",
        "            output_dim=output_dim\n",
        "        )\n",
        "\n",
        "        # Position embedding layer (learns position representations)\n",
        "        self.position_embeddings = layers.Embedding(\n",
        "            input_dim=sequence_length,\n",
        "            output_dim=output_dim\n",
        "        )\n",
        "\n",
        "    def call(self, inputs):\n",
        "        \"\"\"Forward pass that combines token and position embeddings\n",
        "\n",
        "        Args:\n",
        "            inputs: Input tensor of token indices (batch_size, sequence_length)\n",
        "\n",
        "        Returns:\n",
        "            Combined embeddings of shape (batch_size, sequence_length, output_dim)\n",
        "        \"\"\"\n",
        "        length = tf.shape(inputs)[-1]  # Get actual sequence length (may vary)\n",
        "\n",
        "        # Create position indices [0, 1, 2, ..., length-1]\n",
        "        positions = tf.range(start=0, limit=length, delta=1)\n",
        "\n",
        "        # Get embeddings for both tokens and positions\n",
        "        embedded_tokens = self.token_embeddings(inputs)\n",
        "        embedded_positions = self.position_embeddings(positions)\n",
        "\n",
        "        # Combine by adding them together\n",
        "        return embedded_tokens + embedded_positions\n",
        "\n",
        "    def compute_mask(self, inputs, mask=None):\n",
        "        \"\"\"Generates padding mask to ignore 0-padded tokens\n",
        "\n",
        "        Args:\n",
        "            inputs: Input tensor\n",
        "            mask: Existing mask (unused in this implementation)\n",
        "\n",
        "        Returns:\n",
        "            Boolean mask tensor where True = real token, False = padding\n",
        "        \"\"\"\n",
        "        return tf.math.not_equal(inputs, 0)  # Mask where input != 0\n",
        "\n",
        "    def get_config(self):\n",
        "        \"\"\"Returns the layer configuration for serialization\"\"\"\n",
        "        config = super().get_config()\n",
        "        config.update({\n",
        "            \"sequence_length\": self.sequence_length,\n",
        "            \"input_dim\": self.input_dim,\n",
        "            \"output_dim\": self.output_dim\n",
        "        })\n",
        "        return config"
      ]
    },
    {
      "cell_type": "markdown",
      "metadata": {
        "id": "qIRF5y8FytOL"
      },
      "source": [
        "PUTTING IT ALL TOGETHER: A TEXT-CLASSIFICATION TRANSFORMER\n",
        "\n",
        " Combining the Transformer encoder with positional embedding"
      ]
    },
    {
      "cell_type": "code",
      "execution_count": null,
      "metadata": {
        "id": "I3wQ8OTRYOKB"
      },
      "outputs": [],
      "source": [
        "class MyMaskingLayer(layers.Layer):\n",
        "    def call(self, inputs):\n",
        "        return tf.math.not_equal(inputs, 0)\n",
        "\n",
        "inputs = keras.Input(shape=(None,), dtype=\"int64\")\n",
        "mask_layer = MyMaskingLayer()\n",
        "mask = mask_layer(inputs)\n"
      ]
    },
    {
      "cell_type": "code",
      "execution_count": null,
      "metadata": {
        "id": "XCIkC7ODYRAZ"
      },
      "outputs": [],
      "source": [
        "tensor_inputs = tf.convert_to_tensor(inputs)\n",
        "mask_output = tf.math.not_equal(tensor_inputs, 0)\n"
      ]
    },
    {
      "cell_type": "code",
      "execution_count": null,
      "metadata": {
        "id": "d5KvdjWIyuO-"
      },
      "outputs": [],
      "source": [
        "vocab_size = 2000\n",
        "sequence_length = 60\n",
        "embed_dim = 256\n",
        "num_heads = 2\n",
        "dense_dim = 32\n",
        "inputs = keras.Input(shape=(None,), dtype=\"int64\")\n",
        "x = PositionalEmbedding(sequence_length, vocab_size, embed_dim)(inputs) #***\n",
        "x = TransformerEncoder(embed_dim, dense_dim, num_heads)(x)\n",
        "x = layers.GlobalMaxPooling1D()(x)\n",
        "x = layers.Dropout(0.5)(x)\n",
        "outputs = layers.Dense(1, activation=\"sigmoid\")(x)\n",
        "model = keras.Model(inputs, outputs)\n",
        "model.compile(optimizer=\"rmsprop\",\n",
        " loss=\"binary_crossentropy\",\n",
        " metrics=[\"accuracy\"])\n",
        "model.summary()\n",
        "callbacks = [\n",
        " keras.callbacks.ModelCheckpoint(\"full_transformer_encoder.keras\",\n",
        " save_best_only=True)\n",
        "]\n",
        "model.fit(int_train_ds, validation_data=int_val_ds, epochs=20,\n",
        "callbacks=callbacks)\n",
        "model = keras.models.load_model(\n",
        " \"full_transformer_encoder.keras\",\n",
        " custom_objects={\"TransformerEncoder\": TransformerEncoder,\n",
        " \"PositionalEmbedding\": PositionalEmbedding})\n",
        "print(f\"Test acc: {model.evaluate(int_test_ds)[1]:.3f}\")"
      ]
    },
    {
      "cell_type": "markdown",
      "metadata": {
        "id": "OCgRy2xJ7Da2"
      },
      "source": [
        "When to use sequence models over bag-of-words models"
      ]
    },
    {
      "cell_type": "markdown",
      "metadata": {
        "id": "uUcxG5ggzKbz"
      },
      "source": [
        " When to use sequence models over bag-of-words models"
      ]
    },
    {
      "cell_type": "markdown",
      "metadata": {
        "id": "9UBnTMH3zXfD"
      },
      "source": [
        "## Beyond text classification: Sequence-to-sequence learning"
      ]
    },
    {
      "cell_type": "markdown",
      "metadata": {
        "id": "Fn1QnHeu7oJ4"
      },
      "source": [
        "sequence-to-sequence models.\n",
        " A sequence-to-sequence model takes a sequence as input (often a sentence or\n",
        "paragraph) and translates it into a different sequence. This is the task at the heart of\n",
        "many of the most successful applications of NLP:\n",
        " Machine translation—Convert a paragraph in a source language to its equivalent\n",
        "in a target language.\n",
        " Text summarization—Convert a long document to a shorter version that retains\n",
        "the most important information.\n",
        " Question answering—Convert an input question into its answer.\n",
        " Chatbots—Convert a dialogue prompt into a reply to this prompt, or convert the\n",
        "history of a conversation into the next reply in the conversation.\n",
        " Text generation—Convert a text prompt into a paragraph that completes the prompt.\n",
        " Etc.\n",
        "The general template behind sequence-to-sequence models is described in figure 11.12.\n",
        "During training,\n",
        " An encoder model turns the source sequence into an intermediate representation.\n",
        " A decoder is trained to predict the next token i in the target sequence by looking\n",
        "at both previous tokens (0 to i - 1) and the encoded source sequence.\n",
        "During inference, we don’t have access to the target sequence—we’re trying to pre\u0002dict it from scratch. We’ll have to generate it one token at a time:\n",
        "1 We obtain the encoded source sequence from the encoder.\n",
        "2 The decoder starts by looking at the encoded source sequence as well as an ini\u0002tial “seed” token (such as the string \"[start]\"), and uses them to predict the\n",
        "first real token in the sequence."
      ]
    },
    {
      "cell_type": "markdown",
      "metadata": {
        "id": "O1pVZQ2S77IM"
      },
      "source": [
        "![image.png](data:image/png;base64,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)"
      ]
    },
    {
      "cell_type": "markdown",
      "metadata": {
        "id": "CqOBXec4-G0O"
      },
      "source": [
        " # A machine translation example"
      ]
    },
    {
      "cell_type": "code",
      "execution_count": null,
      "metadata": {
        "colab": {
          "base_uri": "https://localhost:8080/"
        },
        "id": "vWF5soYyY36i",
        "outputId": "3321dd84-886e-4d26-ed38-080b5473e0bd"
      },
      "outputs": [
        {
          "name": "stdout",
          "output_type": "stream",
          "text": [
            "--2025-05-27 18:39:06--  http://storage.googleapis.com/download.tensorflow.org/data/spa-eng.zip\n",
            "Resolving storage.googleapis.com (storage.googleapis.com)... 173.194.217.207, 108.177.12.207, 108.177.11.207, ...\n",
            "Connecting to storage.googleapis.com (storage.googleapis.com)|173.194.217.207|:80... connected.\n",
            "HTTP request sent, awaiting response... 200 OK\n",
            "Length: 2638744 (2.5M) [application/zip]\n",
            "Saving to: ‘spa-eng.zip’\n",
            "\n",
            "\rspa-eng.zip           0%[                    ]       0  --.-KB/s               \rspa-eng.zip         100%[===================>]   2.52M  --.-KB/s    in 0.008s  \n",
            "\n",
            "2025-05-27 18:39:06 (323 MB/s) - ‘spa-eng.zip’ saved [2638744/2638744]\n",
            "\n"
          ]
        }
      ],
      "source": [
        "!wget http://storage.googleapis.com/download.tensorflow.org/data/spa-eng.zip\n",
        "!unzip -q spa-eng.zip"
      ]
    },
    {
      "cell_type": "code",
      "execution_count": null,
      "metadata": {
        "id": "8dahD4efY9hc"
      },
      "outputs": [],
      "source": [
        "!chmod 644 spa-eng/spa.txt\n"
      ]
    },
    {
      "cell_type": "code",
      "execution_count": null,
      "metadata": {
        "id": "ji7Pjq51-Hbx"
      },
      "outputs": [],
      "source": [
        "text_file = \"spa-eng/spa.txt\"\n",
        "with open(text_file) as f:\n",
        " lines = f.read().split(\"\\n\")[:-1]\n",
        "text_pairs = []\n",
        "for line in lines:\n",
        " english, spanish = line.split(\"\\t\")\n",
        " spanish = \"[start] \" + spanish + \" [end]\"\n",
        " text_pairs.append((english, spanish))\n",
        "#  Iterate over the\n",
        "# lines in the file.\n",
        "# Each line contains an\n",
        "# English phrase and its\n",
        "# Spanish translation,\n",
        "# tab-separated."
      ]
    },
    {
      "cell_type": "code",
      "execution_count": null,
      "metadata": {
        "colab": {
          "base_uri": "https://localhost:8080/"
        },
        "id": "lF0zZs6M7grf",
        "outputId": "cc0dfd94-bcf7-4743-8d18-c7b0500f789b"
      },
      "outputs": [
        {
          "name": "stdout",
          "output_type": "stream",
          "text": [
            "('How much should I be feeding my dog?', '[start] ¿Con cuánta comida debería estar alimentando a mi perro? [end]')\n"
          ]
        }
      ],
      "source": [
        "import random\n",
        "print(random.choice(text_pairs))"
      ]
    },
    {
      "cell_type": "code",
      "execution_count": null,
      "metadata": {
        "id": "uaTSvmNm7n1U"
      },
      "outputs": [],
      "source": [
        "# shuffel\n",
        "import random\n",
        "random.shuffle(text_pairs)\n",
        "num_val_samples = int(0.15 * len(text_pairs))\n",
        "num_train_samples = len(text_pairs) - 2 * num_val_samples\n",
        "train_pairs = text_pairs[:num_train_samples]\n",
        "val_pairs = text_pairs[num_train_samples:num_train_samples + num_val_samples]\n",
        "test_pairs = text_pairs[num_train_samples + num_val_samples:]"
      ]
    },
    {
      "cell_type": "markdown",
      "metadata": {
        "id": "1Qab6r8q-ICt"
      },
      "source": [
        "Vectorizing the English and Spanish text pairs"
      ]
    },
    {
      "cell_type": "code",
      "execution_count": null,
      "metadata": {
        "id": "wHnvhH87-Iz8"
      },
      "outputs": [],
      "source": [
        "import tensorflow as tf\n",
        "import string\n",
        "import re\n",
        "# Prepare a custom string\n",
        "# standardization function for the\n",
        "# Spanish TextVectorization layer:\n",
        "# it preserves [ and ] but strips ¿\n",
        "# (as well as all other characters\n",
        "# from strings.punctuation).\n",
        "strip_chars = string.punctuation + \"¿\"\n",
        "strip_chars = strip_chars.replace(\"[\", \"\")\n",
        "strip_chars = strip_chars.replace(\"]\", \"\")\n",
        "def custom_standardization(input_string):\n",
        " lowercase = tf.strings.lower(input_string)\n",
        " return tf.strings.regex_replace(\n",
        "lowercase, f\"[{re.escape(strip_chars)}]\", \"\")\n",
        "vocab_size = 1500\n",
        "sequence_length = 20\n",
        "source_vectorization = layers.TextVectorization(\n",
        " max_tokens=vocab_size,\n",
        " output_mode=\"int\",\n",
        " output_sequence_length=sequence_length,\n",
        ")\n",
        "target_vectorization = layers.TextVectorization(\n",
        " max_tokens=vocab_size,\n",
        " output_mode=\"int\",\n",
        " output_sequence_length=sequence_length + 1,\n",
        " standardize=custom_standardization,\n",
        ")\n",
        "train_english_texts = [pair[0] for pair in train_pairs]\n",
        "train_spanish_texts = [pair[1] for pair in train_pairs]\n",
        "source_vectorization.adapt(train_english_texts)\n",
        "target_vectorization.adapt(train_spanish_texts)\n",
        "# To keep things simple, we’ll only look at\n",
        "# the top 15,000 words in each language,\n",
        "# and we’ll restrict sentences to 20 words.\n",
        "# The English\n",
        "# layer\n",
        "# The Spanish\n",
        "# layer\n",
        "# Generate Spanish sentences\n",
        "# that have one extra token,\n",
        "# since we’ll need to offset\n",
        "# the sentence by one step\n",
        "# during training.\n",
        "# Learn the vocabulary\n",
        "# of each language."
      ]
    },
    {
      "cell_type": "markdown",
      "metadata": {
        "id": "_xvIqC-w_-tD"
      },
      "source": [
        "Preparing datasets for the translation task"
      ]
    },
    {
      "cell_type": "code",
      "execution_count": null,
      "metadata": {
        "id": "kDhwEG4b__Db"
      },
      "outputs": [],
      "source": [
        "batch_size = 64\n",
        "# The input Spanish sentence\n",
        "# doesn’t include the last token\n",
        "# to keep inputs and targets at\n",
        "# the same length.\n",
        "# The target Spanish sentence is\n",
        "# one step ahead. Both are still\n",
        "# the same length (20 words).\n",
        "# Use in-memory\n",
        "# caching to speed up\n",
        "def format_dataset(eng, spa):\n",
        " eng = source_vectorization(eng)\n",
        " spa = target_vectorization(spa)\n",
        " return ({\n",
        " \"english\": eng,\n",
        " \"spanish\": spa[:, :-1],\n",
        " }, spa[:, 1:])\n",
        "def make_dataset(pairs):\n",
        " eng_texts, spa_texts = zip(*pairs)\n",
        " eng_texts = list(eng_texts)\n",
        " spa_texts = list(spa_texts)\n",
        " dataset = tf.data.Dataset.from_tensor_slices((eng_texts, spa_texts))\n",
        " dataset = dataset.batch(batch_size)\n",
        " dataset = dataset.map(format_dataset, num_parallel_calls=4)\n",
        " return dataset.shuffle(2048).prefetch(16).cache()\n",
        "train_ds = make_dataset(train_pairs)\n",
        "val_ds = make_dataset(val_pairs)"
      ]
    },
    {
      "cell_type": "markdown",
      "metadata": {
        "id": "FafRkoA_A_7k"
      },
      "source": [
        "![image.png](data:image/png;base64,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)"
      ]
    },
    {
      "cell_type": "markdown",
      "metadata": {
        "id": "PNO69bhQAyNr"
      },
      "source": [
        "GRU-based encoder"
      ]
    },
    {
      "cell_type": "code",
      "execution_count": null,
      "metadata": {
        "id": "3gCPKg9GAqC6"
      },
      "outputs": [],
      "source": [
        "from tensorflow import keras\n",
        "from tensorflow.keras import layers\n",
        "embed_dim = 128\n",
        "latent_dim = 512\n",
        "source = keras.Input(shape=(None,), dtype=\"int64\", name=\"english\")\n",
        "x = layers.Embedding(vocab_size, embed_dim, mask_zero=True)(source)\n",
        "encoded_source = layers.Bidirectional(\n",
        " layers.GRU(latent_dim), merge_mode=\"sum\")(x)"
      ]
    },
    {
      "cell_type": "markdown",
      "metadata": {
        "id": "bh4dNrqcA0iD"
      },
      "source": [
        "GRU-based decoder and the end-to-end model"
      ]
    },
    {
      "cell_type": "code",
      "execution_count": null,
      "metadata": {
        "id": "CRSdu7e4A1AR"
      },
      "outputs": [],
      "source": [
        "past_target = keras.Input(shape=(None,), dtype=\"int64\", name=\"spanish\")\n",
        "x = layers.Embedding(vocab_size, embed_dim, mask_zero=True)(past_target)\n",
        "decoder_gru = layers.GRU(latent_dim, return_sequences=True)\n",
        "x = decoder_gru(x, initial_state=encoded_source)\n",
        "x = layers.Dropout(0.5)(x)\n",
        "target_next_step = layers.Dense(vocab_size, activation=\"softmax\")(x)\n",
        "seq2seq_rnn = keras.Model([source, past_target], target_next_step)"
      ]
    },
    {
      "cell_type": "markdown",
      "metadata": {
        "id": "OBucwV68BOzs"
      },
      "source": [
        "Training our recurrent sequence-to-sequence model"
      ]
    },
    {
      "cell_type": "code",
      "execution_count": null,
      "metadata": {
        "id": "7Ert1hCkBPKO"
      },
      "outputs": [],
      "source": [
        "seq2seq_rnn.compile(\n",
        " optimizer=\"rmsprop\",\n",
        " loss=\"sparse_categorical_crossentropy\",\n",
        " metrics=[\"accuracy\"])\n",
        "seq2seq_rnn.fit(train_ds, epochs=7, validation_data=val_ds)"
      ]
    },
    {
      "cell_type": "markdown",
      "metadata": {
        "id": "-tEdg2mdBZGi"
      },
      "source": [
        " Translating new sentences with our RNN encoder and decoder"
      ]
    },
    {
      "cell_type": "code",
      "execution_count": null,
      "metadata": {
        "colab": {
          "base_uri": "https://localhost:8080/"
        },
        "id": "wlcz44ZABZ5W",
        "outputId": "55910ed3-919c-4aa3-c7c0-2258de9051b8"
      },
      "outputs": [
        {
          "name": "stdout",
          "output_type": "stream",
          "text": [
            "-\n",
            "Tom first met Mary when they were in high school.\n",
            "\u001b[1m1/1\u001b[0m \u001b[32m━━━━━━━━━━━━━━━━━━━━\u001b[0m\u001b[37m\u001b[0m \u001b[1m1s\u001b[0m 744ms/step\n",
            "\u001b[1m1/1\u001b[0m \u001b[32m━━━━━━━━━━━━━━━━━━━━\u001b[0m\u001b[37m\u001b[0m \u001b[1m0s\u001b[0m 71ms/step\n",
            "\u001b[1m1/1\u001b[0m \u001b[32m━━━━━━━━━━━━━━━━━━━━\u001b[0m\u001b[37m\u001b[0m \u001b[1m0s\u001b[0m 78ms/step\n",
            "\u001b[1m1/1\u001b[0m \u001b[32m━━━━━━━━━━━━━━━━━━━━\u001b[0m\u001b[37m\u001b[0m \u001b[1m0s\u001b[0m 63ms/step\n",
            "\u001b[1m1/1\u001b[0m \u001b[32m━━━━━━━━━━━━━━━━━━━━\u001b[0m\u001b[37m\u001b[0m \u001b[1m0s\u001b[0m 71ms/step\n",
            "\u001b[1m1/1\u001b[0m \u001b[32m━━━━━━━━━━━━━━━━━━━━\u001b[0m\u001b[37m\u001b[0m \u001b[1m0s\u001b[0m 62ms/step\n",
            "\u001b[1m1/1\u001b[0m \u001b[32m━━━━━━━━━━━━━━━━━━━━\u001b[0m\u001b[37m\u001b[0m \u001b[1m0s\u001b[0m 65ms/step\n",
            "\u001b[1m1/1\u001b[0m \u001b[32m━━━━━━━━━━━━━━━━━━━━\u001b[0m\u001b[37m\u001b[0m \u001b[1m0s\u001b[0m 66ms/step\n",
            "\u001b[1m1/1\u001b[0m \u001b[32m━━━━━━━━━━━━━━━━━━━━\u001b[0m\u001b[37m\u001b[0m \u001b[1m0s\u001b[0m 66ms/step\n",
            "\u001b[1m1/1\u001b[0m \u001b[32m━━━━━━━━━━━━━━━━━━━━\u001b[0m\u001b[37m\u001b[0m \u001b[1m0s\u001b[0m 65ms/step\n",
            "[start] tom [UNK] a mary a mary en la escuela [end]\n",
            "-\n",
            "I am tired of hearing that.\n",
            "\u001b[1m1/1\u001b[0m \u001b[32m━━━━━━━━━━━━━━━━━━━━\u001b[0m\u001b[37m\u001b[0m \u001b[1m0s\u001b[0m 65ms/step\n",
            "\u001b[1m1/1\u001b[0m \u001b[32m━━━━━━━━━━━━━━━━━━━━\u001b[0m\u001b[37m\u001b[0m \u001b[1m0s\u001b[0m 78ms/step\n",
            "\u001b[1m1/1\u001b[0m \u001b[32m━━━━━━━━━━━━━━━━━━━━\u001b[0m\u001b[37m\u001b[0m \u001b[1m0s\u001b[0m 67ms/step\n",
            "\u001b[1m1/1\u001b[0m \u001b[32m━━━━━━━━━━━━━━━━━━━━\u001b[0m\u001b[37m\u001b[0m \u001b[1m0s\u001b[0m 67ms/step\n",
            "\u001b[1m1/1\u001b[0m \u001b[32m━━━━━━━━━━━━━━━━━━━━\u001b[0m\u001b[37m\u001b[0m \u001b[1m0s\u001b[0m 65ms/step\n",
            "[start] estoy [UNK] de [UNK] [end]\n",
            "-\n",
            "Who does it belong to?\n",
            "\u001b[1m1/1\u001b[0m \u001b[32m━━━━━━━━━━━━━━━━━━━━\u001b[0m\u001b[37m\u001b[0m \u001b[1m0s\u001b[0m 68ms/step\n",
            "\u001b[1m1/1\u001b[0m \u001b[32m━━━━━━━━━━━━━━━━━━━━\u001b[0m\u001b[37m\u001b[0m \u001b[1m0s\u001b[0m 66ms/step\n",
            "\u001b[1m1/1\u001b[0m \u001b[32m━━━━━━━━━━━━━━━━━━━━\u001b[0m\u001b[37m\u001b[0m \u001b[1m0s\u001b[0m 77ms/step\n",
            "\u001b[1m1/1\u001b[0m \u001b[32m━━━━━━━━━━━━━━━━━━━━\u001b[0m\u001b[37m\u001b[0m \u001b[1m0s\u001b[0m 64ms/step\n",
            "[start] quién se [UNK] [end]\n",
            "-\n",
            "It seems to me that he is honest.\n",
            "\u001b[1m1/1\u001b[0m \u001b[32m━━━━━━━━━━━━━━━━━━━━\u001b[0m\u001b[37m\u001b[0m \u001b[1m0s\u001b[0m 68ms/step\n",
            "\u001b[1m1/1\u001b[0m \u001b[32m━━━━━━━━━━━━━━━━━━━━\u001b[0m\u001b[37m\u001b[0m \u001b[1m0s\u001b[0m 69ms/step\n",
            "\u001b[1m1/1\u001b[0m \u001b[32m━━━━━━━━━━━━━━━━━━━━\u001b[0m\u001b[37m\u001b[0m \u001b[1m0s\u001b[0m 66ms/step\n",
            "\u001b[1m1/1\u001b[0m \u001b[32m━━━━━━━━━━━━━━━━━━━━\u001b[0m\u001b[37m\u001b[0m \u001b[1m0s\u001b[0m 70ms/step\n",
            "\u001b[1m1/1\u001b[0m \u001b[32m━━━━━━━━━━━━━━━━━━━━\u001b[0m\u001b[37m\u001b[0m \u001b[1m0s\u001b[0m 66ms/step\n",
            "\u001b[1m1/1\u001b[0m \u001b[32m━━━━━━━━━━━━━━━━━━━━\u001b[0m\u001b[37m\u001b[0m \u001b[1m0s\u001b[0m 84ms/step\n",
            "[start] parece que [UNK] es [UNK] [end]\n",
            "-\n",
            "How much is this ring worth?\n",
            "\u001b[1m1/1\u001b[0m \u001b[32m━━━━━━━━━━━━━━━━━━━━\u001b[0m\u001b[37m\u001b[0m \u001b[1m0s\u001b[0m 70ms/step\n",
            "\u001b[1m1/1\u001b[0m \u001b[32m━━━━━━━━━━━━━━━━━━━━\u001b[0m\u001b[37m\u001b[0m \u001b[1m0s\u001b[0m 68ms/step\n",
            "\u001b[1m1/1\u001b[0m \u001b[32m━━━━━━━━━━━━━━━━━━━━\u001b[0m\u001b[37m\u001b[0m \u001b[1m0s\u001b[0m 66ms/step\n",
            "\u001b[1m1/1\u001b[0m \u001b[32m━━━━━━━━━━━━━━━━━━━━\u001b[0m\u001b[37m\u001b[0m \u001b[1m0s\u001b[0m 67ms/step\n",
            "\u001b[1m1/1\u001b[0m \u001b[32m━━━━━━━━━━━━━━━━━━━━\u001b[0m\u001b[37m\u001b[0m \u001b[1m0s\u001b[0m 67ms/step\n",
            "[start] cuánto [UNK] este [UNK] [end]\n",
            "-\n",
            "Don't waste your time and money.\n",
            "\u001b[1m1/1\u001b[0m \u001b[32m━━━━━━━━━━━━━━━━━━━━\u001b[0m\u001b[37m\u001b[0m \u001b[1m0s\u001b[0m 72ms/step\n",
            "\u001b[1m1/1\u001b[0m \u001b[32m━━━━━━━━━━━━━━━━━━━━\u001b[0m\u001b[37m\u001b[0m \u001b[1m0s\u001b[0m 64ms/step\n",
            "\u001b[1m1/1\u001b[0m \u001b[32m━━━━━━━━━━━━━━━━━━━━\u001b[0m\u001b[37m\u001b[0m \u001b[1m0s\u001b[0m 68ms/step\n",
            "\u001b[1m1/1\u001b[0m \u001b[32m━━━━━━━━━━━━━━━━━━━━\u001b[0m\u001b[37m\u001b[0m \u001b[1m0s\u001b[0m 63ms/step\n",
            "\u001b[1m1/1\u001b[0m \u001b[32m━━━━━━━━━━━━━━━━━━━━\u001b[0m\u001b[37m\u001b[0m \u001b[1m0s\u001b[0m 70ms/step\n",
            "\u001b[1m1/1\u001b[0m \u001b[32m━━━━━━━━━━━━━━━━━━━━\u001b[0m\u001b[37m\u001b[0m \u001b[1m0s\u001b[0m 64ms/step\n",
            "\u001b[1m1/1\u001b[0m \u001b[32m━━━━━━━━━━━━━━━━━━━━\u001b[0m\u001b[37m\u001b[0m \u001b[1m0s\u001b[0m 74ms/step\n",
            "\u001b[1m1/1\u001b[0m \u001b[32m━━━━━━━━━━━━━━━━━━━━\u001b[0m\u001b[37m\u001b[0m \u001b[1m0s\u001b[0m 67ms/step\n",
            "\u001b[1m1/1\u001b[0m \u001b[32m━━━━━━━━━━━━━━━━━━━━\u001b[0m\u001b[37m\u001b[0m \u001b[1m0s\u001b[0m 111ms/step\n",
            "\u001b[1m1/1\u001b[0m \u001b[32m━━━━━━━━━━━━━━━━━━━━\u001b[0m\u001b[37m\u001b[0m \u001b[1m0s\u001b[0m 101ms/step\n",
            "[start] no [UNK] la casa de que tom se [UNK] [end]\n",
            "-\n",
            "How many apples do you want?\n",
            "\u001b[1m1/1\u001b[0m \u001b[32m━━━━━━━━━━━━━━━━━━━━\u001b[0m\u001b[37m\u001b[0m \u001b[1m0s\u001b[0m 94ms/step\n",
            "\u001b[1m1/1\u001b[0m \u001b[32m━━━━━━━━━━━━━━━━━━━━\u001b[0m\u001b[37m\u001b[0m \u001b[1m0s\u001b[0m 105ms/step\n",
            "\u001b[1m1/1\u001b[0m \u001b[32m━━━━━━━━━━━━━━━━━━━━\u001b[0m\u001b[37m\u001b[0m \u001b[1m0s\u001b[0m 92ms/step\n",
            "\u001b[1m1/1\u001b[0m \u001b[32m━━━━━━━━━━━━━━━━━━━━\u001b[0m\u001b[37m\u001b[0m \u001b[1m0s\u001b[0m 118ms/step\n",
            "[start] cuántos tiempo [UNK] [end]\n",
            "-\n",
            "More than half of my books were destroyed by the fire last night.\n",
            "\u001b[1m1/1\u001b[0m \u001b[32m━━━━━━━━━━━━━━━━━━━━\u001b[0m\u001b[37m\u001b[0m \u001b[1m0s\u001b[0m 102ms/step\n",
            "\u001b[1m1/1\u001b[0m \u001b[32m━━━━━━━━━━━━━━━━━━━━\u001b[0m\u001b[37m\u001b[0m \u001b[1m0s\u001b[0m 104ms/step\n",
            "\u001b[1m1/1\u001b[0m \u001b[32m━━━━━━━━━━━━━━━━━━━━\u001b[0m\u001b[37m\u001b[0m \u001b[1m0s\u001b[0m 94ms/step\n",
            "\u001b[1m1/1\u001b[0m \u001b[32m━━━━━━━━━━━━━━━━━━━━\u001b[0m\u001b[37m\u001b[0m \u001b[1m0s\u001b[0m 117ms/step\n",
            "\u001b[1m1/1\u001b[0m \u001b[32m━━━━━━━━━━━━━━━━━━━━\u001b[0m\u001b[37m\u001b[0m \u001b[1m0s\u001b[0m 109ms/step\n",
            "\u001b[1m1/1\u001b[0m \u001b[32m━━━━━━━━━━━━━━━━━━━━\u001b[0m\u001b[37m\u001b[0m \u001b[1m0s\u001b[0m 70ms/step\n",
            "\u001b[1m1/1\u001b[0m \u001b[32m━━━━━━━━━━━━━━━━━━━━\u001b[0m\u001b[37m\u001b[0m \u001b[1m0s\u001b[0m 74ms/step\n",
            "\u001b[1m1/1\u001b[0m \u001b[32m━━━━━━━━━━━━━━━━━━━━\u001b[0m\u001b[37m\u001b[0m \u001b[1m0s\u001b[0m 70ms/step\n",
            "\u001b[1m1/1\u001b[0m \u001b[32m━━━━━━━━━━━━━━━━━━━━\u001b[0m\u001b[37m\u001b[0m \u001b[1m0s\u001b[0m 66ms/step\n",
            "\u001b[1m1/1\u001b[0m \u001b[32m━━━━━━━━━━━━━━━━━━━━\u001b[0m\u001b[37m\u001b[0m \u001b[1m0s\u001b[0m 65ms/step\n",
            "\u001b[1m1/1\u001b[0m \u001b[32m━━━━━━━━━━━━━━━━━━━━\u001b[0m\u001b[37m\u001b[0m \u001b[1m0s\u001b[0m 66ms/step\n",
            "\u001b[1m1/1\u001b[0m \u001b[32m━━━━━━━━━━━━━━━━━━━━\u001b[0m\u001b[37m\u001b[0m \u001b[1m0s\u001b[0m 70ms/step\n",
            "\u001b[1m1/1\u001b[0m \u001b[32m━━━━━━━━━━━━━━━━━━━━\u001b[0m\u001b[37m\u001b[0m \u001b[1m0s\u001b[0m 66ms/step\n",
            "\u001b[1m1/1\u001b[0m \u001b[32m━━━━━━━━━━━━━━━━━━━━\u001b[0m\u001b[37m\u001b[0m \u001b[1m0s\u001b[0m 66ms/step\n",
            "\u001b[1m1/1\u001b[0m \u001b[32m━━━━━━━━━━━━━━━━━━━━\u001b[0m\u001b[37m\u001b[0m \u001b[1m0s\u001b[0m 69ms/step\n",
            "[start] el [UNK] de la [UNK] de la escuela [UNK] a las dos y media [end]\n",
            "-\n",
            "Germany was once allied with Italy.\n",
            "\u001b[1m1/1\u001b[0m \u001b[32m━━━━━━━━━━━━━━━━━━━━\u001b[0m\u001b[37m\u001b[0m \u001b[1m0s\u001b[0m 65ms/step\n",
            "\u001b[1m1/1\u001b[0m \u001b[32m━━━━━━━━━━━━━━━━━━━━\u001b[0m\u001b[37m\u001b[0m \u001b[1m0s\u001b[0m 67ms/step\n",
            "\u001b[1m1/1\u001b[0m \u001b[32m━━━━━━━━━━━━━━━━━━━━\u001b[0m\u001b[37m\u001b[0m \u001b[1m0s\u001b[0m 70ms/step\n",
            "\u001b[1m1/1\u001b[0m \u001b[32m━━━━━━━━━━━━━━━━━━━━\u001b[0m\u001b[37m\u001b[0m \u001b[1m0s\u001b[0m 82ms/step\n",
            "\u001b[1m1/1\u001b[0m \u001b[32m━━━━━━━━━━━━━━━━━━━━\u001b[0m\u001b[37m\u001b[0m \u001b[1m0s\u001b[0m 71ms/step\n",
            "\u001b[1m1/1\u001b[0m \u001b[32m━━━━━━━━━━━━━━━━━━━━\u001b[0m\u001b[37m\u001b[0m \u001b[1m0s\u001b[0m 70ms/step\n",
            "[start] el hombre [UNK] [UNK] [UNK] [end]\n",
            "-\n",
            "Start singing.\n",
            "\u001b[1m1/1\u001b[0m \u001b[32m━━━━━━━━━━━━━━━━━━━━\u001b[0m\u001b[37m\u001b[0m \u001b[1m0s\u001b[0m 67ms/step\n",
            "\u001b[1m1/1\u001b[0m \u001b[32m━━━━━━━━━━━━━━━━━━━━\u001b[0m\u001b[37m\u001b[0m \u001b[1m0s\u001b[0m 65ms/step\n",
            "[start] [UNK] [end]\n",
            "-\n",
            "I left around 2:30.\n",
            "\u001b[1m1/1\u001b[0m \u001b[32m━━━━━━━━━━━━━━━━━━━━\u001b[0m\u001b[37m\u001b[0m \u001b[1m0s\u001b[0m 70ms/step\n",
            "\u001b[1m1/1\u001b[0m \u001b[32m━━━━━━━━━━━━━━━━━━━━\u001b[0m\u001b[37m\u001b[0m \u001b[1m0s\u001b[0m 66ms/step\n",
            "\u001b[1m1/1\u001b[0m \u001b[32m━━━━━━━━━━━━━━━━━━━━\u001b[0m\u001b[37m\u001b[0m \u001b[1m0s\u001b[0m 64ms/step\n",
            "\u001b[1m1/1\u001b[0m \u001b[32m━━━━━━━━━━━━━━━━━━━━\u001b[0m\u001b[37m\u001b[0m \u001b[1m0s\u001b[0m 72ms/step\n",
            "\u001b[1m1/1\u001b[0m \u001b[32m━━━━━━━━━━━━━━━━━━━━\u001b[0m\u001b[37m\u001b[0m \u001b[1m0s\u001b[0m 67ms/step\n",
            "\u001b[1m1/1\u001b[0m \u001b[32m━━━━━━━━━━━━━━━━━━━━\u001b[0m\u001b[37m\u001b[0m \u001b[1m0s\u001b[0m 75ms/step\n",
            "[start] me [UNK] en la escuela [end]\n",
            "-\n",
            "You have so much potential.\n",
            "\u001b[1m1/1\u001b[0m \u001b[32m━━━━━━━━━━━━━━━━━━━━\u001b[0m\u001b[37m\u001b[0m \u001b[1m0s\u001b[0m 71ms/step\n",
            "\u001b[1m1/1\u001b[0m \u001b[32m━━━━━━━━━━━━━━━━━━━━\u001b[0m\u001b[37m\u001b[0m \u001b[1m0s\u001b[0m 72ms/step\n",
            "\u001b[1m1/1\u001b[0m \u001b[32m━━━━━━━━━━━━━━━━━━━━\u001b[0m\u001b[37m\u001b[0m \u001b[1m0s\u001b[0m 66ms/step\n",
            "\u001b[1m1/1\u001b[0m \u001b[32m━━━━━━━━━━━━━━━━━━━━\u001b[0m\u001b[37m\u001b[0m \u001b[1m0s\u001b[0m 68ms/step\n",
            "\u001b[1m1/1\u001b[0m \u001b[32m━━━━━━━━━━━━━━━━━━━━\u001b[0m\u001b[37m\u001b[0m \u001b[1m0s\u001b[0m 86ms/step\n",
            "[start] tienes algo de [UNK] [end]\n",
            "-\n",
            "I want an answer to that question.\n",
            "\u001b[1m1/1\u001b[0m \u001b[32m━━━━━━━━━━━━━━━━━━━━\u001b[0m\u001b[37m\u001b[0m \u001b[1m0s\u001b[0m 67ms/step\n",
            "\u001b[1m1/1\u001b[0m \u001b[32m━━━━━━━━━━━━━━━━━━━━\u001b[0m\u001b[37m\u001b[0m \u001b[1m0s\u001b[0m 66ms/step\n",
            "\u001b[1m1/1\u001b[0m \u001b[32m━━━━━━━━━━━━━━━━━━━━\u001b[0m\u001b[37m\u001b[0m \u001b[1m0s\u001b[0m 77ms/step\n",
            "\u001b[1m1/1\u001b[0m \u001b[32m━━━━━━━━━━━━━━━━━━━━\u001b[0m\u001b[37m\u001b[0m \u001b[1m0s\u001b[0m 62ms/step\n",
            "\u001b[1m1/1\u001b[0m \u001b[32m━━━━━━━━━━━━━━━━━━━━\u001b[0m\u001b[37m\u001b[0m \u001b[1m0s\u001b[0m 65ms/step\n",
            "[start] quiero [UNK] una pregunta [end]\n",
            "-\n",
            "I need to make a phone call.\n",
            "\u001b[1m1/1\u001b[0m \u001b[32m━━━━━━━━━━━━━━━━━━━━\u001b[0m\u001b[37m\u001b[0m \u001b[1m0s\u001b[0m 65ms/step\n",
            "\u001b[1m1/1\u001b[0m \u001b[32m━━━━━━━━━━━━━━━━━━━━\u001b[0m\u001b[37m\u001b[0m \u001b[1m0s\u001b[0m 84ms/step\n",
            "\u001b[1m1/1\u001b[0m \u001b[32m━━━━━━━━━━━━━━━━━━━━\u001b[0m\u001b[37m\u001b[0m \u001b[1m0s\u001b[0m 67ms/step\n",
            "\u001b[1m1/1\u001b[0m \u001b[32m━━━━━━━━━━━━━━━━━━━━\u001b[0m\u001b[37m\u001b[0m \u001b[1m0s\u001b[0m 70ms/step\n",
            "\u001b[1m1/1\u001b[0m \u001b[32m━━━━━━━━━━━━━━━━━━━━\u001b[0m\u001b[37m\u001b[0m \u001b[1m0s\u001b[0m 75ms/step\n",
            "\u001b[1m1/1\u001b[0m \u001b[32m━━━━━━━━━━━━━━━━━━━━\u001b[0m\u001b[37m\u001b[0m \u001b[1m0s\u001b[0m 64ms/step\n",
            "[start] necesito que [UNK] un [UNK] [end]\n",
            "-\n",
            "The Internet is now something we can't live without.\n",
            "\u001b[1m1/1\u001b[0m \u001b[32m━━━━━━━━━━━━━━━━━━━━\u001b[0m\u001b[37m\u001b[0m \u001b[1m0s\u001b[0m 69ms/step\n",
            "\u001b[1m1/1\u001b[0m \u001b[32m━━━━━━━━━━━━━━━━━━━━\u001b[0m\u001b[37m\u001b[0m \u001b[1m0s\u001b[0m 65ms/step\n",
            "\u001b[1m1/1\u001b[0m \u001b[32m━━━━━━━━━━━━━━━━━━━━\u001b[0m\u001b[37m\u001b[0m \u001b[1m0s\u001b[0m 68ms/step\n",
            "\u001b[1m1/1\u001b[0m \u001b[32m━━━━━━━━━━━━━━━━━━━━\u001b[0m\u001b[37m\u001b[0m \u001b[1m0s\u001b[0m 88ms/step\n",
            "\u001b[1m1/1\u001b[0m \u001b[32m━━━━━━━━━━━━━━━━━━━━\u001b[0m\u001b[37m\u001b[0m \u001b[1m0s\u001b[0m 72ms/step\n",
            "\u001b[1m1/1\u001b[0m \u001b[32m━━━━━━━━━━━━━━━━━━━━\u001b[0m\u001b[37m\u001b[0m \u001b[1m0s\u001b[0m 79ms/step\n",
            "\u001b[1m1/1\u001b[0m \u001b[32m━━━━━━━━━━━━━━━━━━━━\u001b[0m\u001b[37m\u001b[0m \u001b[1m0s\u001b[0m 65ms/step\n",
            "\u001b[1m1/1\u001b[0m \u001b[32m━━━━━━━━━━━━━━━━━━━━\u001b[0m\u001b[37m\u001b[0m \u001b[1m0s\u001b[0m 63ms/step\n",
            "\u001b[1m1/1\u001b[0m \u001b[32m━━━━━━━━━━━━━━━━━━━━\u001b[0m\u001b[37m\u001b[0m \u001b[1m0s\u001b[0m 69ms/step\n",
            "\u001b[1m1/1\u001b[0m \u001b[32m━━━━━━━━━━━━━━━━━━━━\u001b[0m\u001b[37m\u001b[0m \u001b[1m0s\u001b[0m 65ms/step\n",
            "[start] el [UNK] es tan [UNK] como no [UNK] nada [end]\n",
            "-\n",
            "How much TV do you watch?\n",
            "\u001b[1m1/1\u001b[0m \u001b[32m━━━━━━━━━━━━━━━━━━━━\u001b[0m\u001b[37m\u001b[0m \u001b[1m0s\u001b[0m 81ms/step\n",
            "\u001b[1m1/1\u001b[0m \u001b[32m━━━━━━━━━━━━━━━━━━━━\u001b[0m\u001b[37m\u001b[0m \u001b[1m0s\u001b[0m 72ms/step\n",
            "\u001b[1m1/1\u001b[0m \u001b[32m━━━━━━━━━━━━━━━━━━━━\u001b[0m\u001b[37m\u001b[0m \u001b[1m0s\u001b[0m 73ms/step\n",
            "\u001b[1m1/1\u001b[0m \u001b[32m━━━━━━━━━━━━━━━━━━━━\u001b[0m\u001b[37m\u001b[0m \u001b[1m0s\u001b[0m 66ms/step\n",
            "[start] cuánto tiempo [UNK] [end]\n",
            "-\n",
            "A canal flowed between two rows of houses.\n",
            "\u001b[1m1/1\u001b[0m \u001b[32m━━━━━━━━━━━━━━━━━━━━\u001b[0m\u001b[37m\u001b[0m \u001b[1m0s\u001b[0m 73ms/step\n",
            "\u001b[1m1/1\u001b[0m \u001b[32m━━━━━━━━━━━━━━━━━━━━\u001b[0m\u001b[37m\u001b[0m \u001b[1m0s\u001b[0m 69ms/step\n",
            "\u001b[1m1/1\u001b[0m \u001b[32m━━━━━━━━━━━━━━━━━━━━\u001b[0m\u001b[37m\u001b[0m \u001b[1m0s\u001b[0m 69ms/step\n",
            "\u001b[1m1/1\u001b[0m \u001b[32m━━━━━━━━━━━━━━━━━━━━\u001b[0m\u001b[37m\u001b[0m \u001b[1m0s\u001b[0m 69ms/step\n",
            "\u001b[1m1/1\u001b[0m \u001b[32m━━━━━━━━━━━━━━━━━━━━\u001b[0m\u001b[37m\u001b[0m \u001b[1m0s\u001b[0m 71ms/step\n",
            "\u001b[1m1/1\u001b[0m \u001b[32m━━━━━━━━━━━━━━━━━━━━\u001b[0m\u001b[37m\u001b[0m \u001b[1m0s\u001b[0m 67ms/step\n",
            "\u001b[1m1/1\u001b[0m \u001b[32m━━━━━━━━━━━━━━━━━━━━\u001b[0m\u001b[37m\u001b[0m \u001b[1m0s\u001b[0m 70ms/step\n",
            "\u001b[1m1/1\u001b[0m \u001b[32m━━━━━━━━━━━━━━━━━━━━\u001b[0m\u001b[37m\u001b[0m \u001b[1m0s\u001b[0m 75ms/step\n",
            "\u001b[1m1/1\u001b[0m \u001b[32m━━━━━━━━━━━━━━━━━━━━\u001b[0m\u001b[37m\u001b[0m \u001b[1m0s\u001b[0m 73ms/step\n",
            "[start] un [UNK] [UNK] [UNK] en [UNK] de [UNK] [end]\n",
            "-\n",
            "It was hard for me to get out of bed this morning.\n",
            "\u001b[1m1/1\u001b[0m \u001b[32m━━━━━━━━━━━━━━━━━━━━\u001b[0m\u001b[37m\u001b[0m \u001b[1m0s\u001b[0m 67ms/step\n",
            "\u001b[1m1/1\u001b[0m \u001b[32m━━━━━━━━━━━━━━━━━━━━\u001b[0m\u001b[37m\u001b[0m \u001b[1m0s\u001b[0m 76ms/step\n",
            "\u001b[1m1/1\u001b[0m \u001b[32m━━━━━━━━━━━━━━━━━━━━\u001b[0m\u001b[37m\u001b[0m \u001b[1m0s\u001b[0m 72ms/step\n",
            "\u001b[1m1/1\u001b[0m \u001b[32m━━━━━━━━━━━━━━━━━━━━\u001b[0m\u001b[37m\u001b[0m \u001b[1m0s\u001b[0m 119ms/step\n",
            "\u001b[1m1/1\u001b[0m \u001b[32m━━━━━━━━━━━━━━━━━━━━\u001b[0m\u001b[37m\u001b[0m \u001b[1m0s\u001b[0m 99ms/step\n",
            "\u001b[1m1/1\u001b[0m \u001b[32m━━━━━━━━━━━━━━━━━━━━\u001b[0m\u001b[37m\u001b[0m \u001b[1m0s\u001b[0m 102ms/step\n",
            "\u001b[1m1/1\u001b[0m \u001b[32m━━━━━━━━━━━━━━━━━━━━\u001b[0m\u001b[37m\u001b[0m \u001b[1m0s\u001b[0m 99ms/step\n",
            "\u001b[1m1/1\u001b[0m \u001b[32m━━━━━━━━━━━━━━━━━━━━\u001b[0m\u001b[37m\u001b[0m \u001b[1m0s\u001b[0m 92ms/step\n",
            "\u001b[1m1/1\u001b[0m \u001b[32m━━━━━━━━━━━━━━━━━━━━\u001b[0m\u001b[37m\u001b[0m \u001b[1m0s\u001b[0m 104ms/step\n",
            "\u001b[1m1/1\u001b[0m \u001b[32m━━━━━━━━━━━━━━━━━━━━\u001b[0m\u001b[37m\u001b[0m \u001b[1m0s\u001b[0m 111ms/step\n",
            "\u001b[1m1/1\u001b[0m \u001b[32m━━━━━━━━━━━━━━━━━━━━\u001b[0m\u001b[37m\u001b[0m \u001b[1m0s\u001b[0m 101ms/step\n",
            "\u001b[1m1/1\u001b[0m \u001b[32m━━━━━━━━━━━━━━━━━━━━\u001b[0m\u001b[37m\u001b[0m \u001b[1m0s\u001b[0m 109ms/step\n",
            "[start] me [UNK] que [UNK] [UNK] en la fiesta de esta mañana [end]\n",
            "-\n",
            "Suddenly all the lights went out.\n",
            "\u001b[1m1/1\u001b[0m \u001b[32m━━━━━━━━━━━━━━━━━━━━\u001b[0m\u001b[37m\u001b[0m \u001b[1m0s\u001b[0m 137ms/step\n",
            "\u001b[1m1/1\u001b[0m \u001b[32m━━━━━━━━━━━━━━━━━━━━\u001b[0m\u001b[37m\u001b[0m \u001b[1m0s\u001b[0m 68ms/step\n",
            "\u001b[1m1/1\u001b[0m \u001b[32m━━━━━━━━━━━━━━━━━━━━\u001b[0m\u001b[37m\u001b[0m \u001b[1m0s\u001b[0m 67ms/step\n",
            "\u001b[1m1/1\u001b[0m \u001b[32m━━━━━━━━━━━━━━━━━━━━\u001b[0m\u001b[37m\u001b[0m \u001b[1m0s\u001b[0m 67ms/step\n",
            "\u001b[1m1/1\u001b[0m \u001b[32m━━━━━━━━━━━━━━━━━━━━\u001b[0m\u001b[37m\u001b[0m \u001b[1m0s\u001b[0m 70ms/step\n",
            "\u001b[1m1/1\u001b[0m \u001b[32m━━━━━━━━━━━━━━━━━━━━\u001b[0m\u001b[37m\u001b[0m \u001b[1m0s\u001b[0m 65ms/step\n",
            "\u001b[1m1/1\u001b[0m \u001b[32m━━━━━━━━━━━━━━━━━━━━\u001b[0m\u001b[37m\u001b[0m \u001b[1m0s\u001b[0m 71ms/step\n",
            "\u001b[1m1/1\u001b[0m \u001b[32m━━━━━━━━━━━━━━━━━━━━\u001b[0m\u001b[37m\u001b[0m \u001b[1m0s\u001b[0m 63ms/step\n",
            "[start] todos los [UNK] [UNK] a la cama [end]\n",
            "-\n",
            "She saw a lot of animals on the road.\n",
            "\u001b[1m1/1\u001b[0m \u001b[32m━━━━━━━━━━━━━━━━━━━━\u001b[0m\u001b[37m\u001b[0m \u001b[1m0s\u001b[0m 70ms/step\n",
            "\u001b[1m1/1\u001b[0m \u001b[32m━━━━━━━━━━━━━━━━━━━━\u001b[0m\u001b[37m\u001b[0m \u001b[1m0s\u001b[0m 78ms/step\n",
            "\u001b[1m1/1\u001b[0m \u001b[32m━━━━━━━━━━━━━━━━━━━━\u001b[0m\u001b[37m\u001b[0m \u001b[1m0s\u001b[0m 71ms/step\n",
            "\u001b[1m1/1\u001b[0m \u001b[32m━━━━━━━━━━━━━━━━━━━━\u001b[0m\u001b[37m\u001b[0m \u001b[1m0s\u001b[0m 68ms/step\n",
            "\u001b[1m1/1\u001b[0m \u001b[32m━━━━━━━━━━━━━━━━━━━━\u001b[0m\u001b[37m\u001b[0m \u001b[1m0s\u001b[0m 76ms/step\n",
            "\u001b[1m1/1\u001b[0m \u001b[32m━━━━━━━━━━━━━━━━━━━━\u001b[0m\u001b[37m\u001b[0m \u001b[1m0s\u001b[0m 68ms/step\n",
            "\u001b[1m1/1\u001b[0m \u001b[32m━━━━━━━━━━━━━━━━━━━━\u001b[0m\u001b[37m\u001b[0m \u001b[1m0s\u001b[0m 70ms/step\n",
            "\u001b[1m1/1\u001b[0m \u001b[32m━━━━━━━━━━━━━━━━━━━━\u001b[0m\u001b[37m\u001b[0m \u001b[1m0s\u001b[0m 69ms/step\n",
            "\u001b[1m1/1\u001b[0m \u001b[32m━━━━━━━━━━━━━━━━━━━━\u001b[0m\u001b[37m\u001b[0m \u001b[1m0s\u001b[0m 68ms/step\n",
            "[start] ella fue en [UNK] [UNK] en la [UNK] [end]\n"
          ]
        }
      ],
      "source": [
        "import numpy as np\n",
        "spa_vocab = target_vectorization.get_vocabulary()\n",
        "spa_index_lookup = dict(zip(range(len(spa_vocab)), spa_vocab))\n",
        "max_decoded_sentence_length = 20\n",
        "def decode_sequence(input_sentence):\n",
        " tokenized_input_sentence = source_vectorization([input_sentence])\n",
        " decoded_sentence = \"[start]\"\n",
        " for i in range(max_decoded_sentence_length):\n",
        "  tokenized_target_sentence = target_vectorization([decoded_sentence])\n",
        "  next_token_predictions = seq2seq_rnn.predict(\n",
        "  [tokenized_input_sentence, tokenized_target_sentence])\n",
        "#  Convert the next\n",
        "# token prediction to\n",
        "# a string and append\n",
        "# it to the generated\n",
        "# sentence.\n",
        "  sampled_token_index = np.argmax(next_token_predictions[0, i, :])\n",
        "  sampled_token = spa_index_lookup[sampled_token_index]\n",
        "  decoded_sentence += \" \" + sampled_token\n",
        "  if sampled_token == \"[end]\":\n",
        "    break\n",
        " return decoded_sentence\n",
        "test_eng_texts = [pair[0] for pair in test_pairs]\n",
        "for _ in range(20):\n",
        " input_sentence = random.choice(test_eng_texts)\n",
        " print(\"-\")\n",
        " print(input_sentence)\n",
        " print(decode_sequence(input_sentence))"
      ]
    },
    {
      "cell_type": "markdown",
      "metadata": {
        "id": "DEEwlhhV9-mH"
      },
      "source": [
        "Sequence-to-sequence learning with Transformer"
      ]
    },
    {
      "cell_type": "markdown",
      "metadata": {
        "id": "vWDb4Nku92zz"
      },
      "source": [
        "![image.png](data:image/png;base64,iVBORw0KGgoAAAANSUhEUgAAAgMAAAIeCAYAAAAmkwwSAAAAAXNSR0IArs4c6QAAAARnQU1BAACxjwv8YQUAAAAJcEhZcwAADsMAAA7DAcdvqGQAANv+SURBVHhe7N0FWBRbHwbwl11ARRAQUVFRQezEFrs+u+t6rWtjACaIIiiiIHZ3d+f1qigqYHe3iKKAIN3LLt+ccVBUUJDa+P989oE5s7M7uDsz78ycUAsJCUkGIUpOTU3tu4dIJPr6EIvFX39PmU8IIapELSIigsIAUXqpg0DKI3UAoCBACFFlarGxsRQGiNJLOcinHPDTexBCiCpSS0xMpDBAVELKwT71zx/LCCFEFalJpVIKA0SlpD7wUwgghBBuXyiTySgMEJVAB36iqmSBZ7DU9Tj8pEIBIyqGVhOmo5upulCQBXF+uP1cHbVqlYRYKEqP5NUhuLr/i/jmA9DgzX78G2aB9YuHCHN/JQ5+t55D3bwWSn59kwh4rd6CxN7WaFNUJJTloUz8P8gbEdtB0oMeqvAgRFVwJ3nCb1+IijTBEHsH2Nt1RKG36mhqy/0+fSxaGWdDEOAk3NqKpSd8kTprpC0JL08fxue27nBu9AYn3jfBrAUZCQKchFvYsfgE3qZ+E1kCAh89hL+cVH3L+P+D/FFL5gi/E0IIUXASiQSHDx9Gv379hJJUEn3g0ucY6u1dgHb5gnBpxXwc9pUg8XM4Craxhcugkjg/ew6uxAbgpVpfrO0ZhLnrbyNRSx+6+aQoPWg+RpV/jv3z18I7nDsWq5uh76SuiF41AYsfF0efqe4Y1VQP/Dm6LAJ3d7hio08EN6EB0762GGfsA6cZq/FEpy6qaHFn0a+10HiINfrhCNZcjoWGLAnFutnDrr0eHu+bj/WXwoBkDZTrNwldolZiysLHKNZvKuZZNoMeexPZJ+wfNwIemiUgTpQiX+memDRSjF3z/NHLfRgqikJwas4SxI9wRk/hcoIs4g52ua3D5QjuBEHDlFvnSWipdRouc25AJP0Iv1AJDDpPx5y/SuHFd+swFeNaGH074497jL1zVuJKnAZkScXRZepfSFqT8v8wC00+rsWG1Ms2y4fTs51wJUmK8CgxChi1w/ipnVE2e/JYlsnBdRVCCCHZ5dq1azhy5IgwlT5Z+Au81miPaYtWYM2KXsB/Z/BMkoSYoMeQtVqN3c6m2LXqERrMWYcVi0fBJOQVPscnwXf/MniWnYQly1fCtVs4tm72R5OOdVCi3mAMSwkCHMmTbVh6uTKmrl6DFQt7InbLSniV6IW/G5dEjf5zMdemFUpW6YWpfdRx9mQELKa6YsHcwaggCYP0zT6sOFcWE5avwLL53RCxeRM+NO0E85L1MWCEEARSJHMBopMLVq1ZhJ4J27H5TkVUV7uAM08kkAV64GxgedQpnnIIl+Dp9sW4UmkaVqxejfk9YrF11XlEJkUh6FkiGsxaj3XLuiDh+Gk8ffHjOqzH1TjhZTiS56fxb2QTTJq3BM6DKyIp0ghthP+HISVPY+VPy7L/21dIbjIby5fPRTfJTmw8Hym8Wt6jMEAIIUrEw8MD58+fx+8u+ooKmcAUFzHf2gqTZx/Fa+5An8QWEZWAWQVdqEvf4Z20AqoU5Q6kmmVQraI+d8DgwsBLPwR5LYGtjTVmHfzAnc2HI63eapL8/JBUqSZKanAvqVsbNYr5401AkjA3FY1q6D7YBNen90OfcdvwKjkfknxf4V2QF5ZPtsakmQfxUUOG8Mh0/h51E9QwL8ydsWujSkU9+PsloXm70rh39h58PbwgatEOxl9P55Pg5ydBxZqloMH9Nbp1aqHo+1cIkHLraGSG8roiiLSLoLAoHrFprUPEt9svGlV7YWDZa5j5Vw9Yb3sJbrW/SnP92bLqpqhVx+DLulYywAffQGGJvEdhgBBClAgLAyEhIbh3755QkrYE77VY9rI+HFaswIKprVEsWYYvh1sxxOzgqVmaO4i+xesw7iAmDcQr3zDIuENG0eJFUbrjDCxcthxu1j3QqLYZ9EXcoeTr8l+oGxlB3f8t+ONnoi/8gvRgqJ/GISfJD89DamHijuPYNb8FAjdth6hoMRiW6Qi7JcuxeIE1ulnUQTluWRG3Bj9lHGkwAj6wkJEAv/cRMCpdFIWatkO5x3uw/mpBtGxTLNWBTh1GRur44BfBvRK3Wm/e4pN+Ue7gz02wv+Er7k0M016HFEl+T/G51hRsPbYPrs0DsWXHVaipcfO5/we1dNaf/T/6+7N1leCtXyiKlCjy5cXkQOq/nhBCiAKLiIjAzZs3+d/PnTvH/0yPulldVAw8igWzZ2DmykeQqociJF6YyWjUQP+RpeFpNxo2E5bCJ0IDYpEGqvw1DMYedphoNwlWTkcQa1gc+Y1Ko+CNlXA/+eFr5TmNmn9jkMFJ2E2wx4yJK/G+7Qi0T6vGv6gwtIP2YvaEGXBbegZxTdpwZ91/YaixB2ZY28J2rCOOxRqieH4jGBe8gdVuJ/Hhuxp68bizxRZ244ZhaVA3/NNSByjQAO0rvcR93bZobpD6PTVQo/8QFD4xBZOn22HKyndoM7wjDNOoX6xeJY110BBmckSFtRG0dyYmzZiL5Wdi0bh1TYiF/4clvi0wJK1lk6NwfR23rtajsTygI4a2LfzlxeQAVSAkhBAlcfToUfTo0YP//X//+x/OnDnD/56upBiExYigq1vg5zND7izWe+91GPTshir5ArDfygHRk9djmCm7bCBFbHgEkrULo6BQAU6WGAeJuADyfb0k/0VSTCQS8hX6+rz0SKJCEaOuB70C39ZEGhuOyGRt6H97E8RLxMj/45sgEdFRUmjppPwdcbi1wApnGi7HjKZafMn3khATmYB8hQrid/X3flqH70gQHRoDsZ4eUlY79f/Dd8uyyo7j7RFruxJ9DMUoWFDzywJy4qfPnxBCiGJitwhSeHt7IyEhQZhKh3pB6KcVBBhxYRgVuIM1E60wcZwTblUbjm5lUw7CYmjpfQsCjEjz5yDAqBf8fRBgNHQKfxcEGLGW3vcHYZFmGkGA0YR2ShCQvsexGcOxOqoLBlukFQQYdRTMQBBgflqH72hAu/C3IMCk/n/4flkuABQxgI6GptwFAYauDBBCiJKIi4vDv//+i/Xr1+PQoUPQ1tamPjZIhtCVAUIIURIFChSAlpYW1NXVoaOjQ0GAZBiFAUIIIUTFURgghBBCVByFAUIIIUTFUQVCQkiOu3XzBj6HfBamSE66cfMmjp84ARdnZ6GE5KVSxqVQtVp1YUp+URgghOSo6OhotGzaBP9r104oITnp1evXuHXnDv7q00coIXklNjYWPt7euHn3171BygMKA4SQHBUZGYlunTrhArdTJDnv1KlTWLlyJf+T5K3oqCh07tAeF30uCyXyi+oMEEIIISqOwgAhhBCi4igMEEIIISqOwgAhhBCi4igMEEKIEtHQ0ODHJCAkM6g1ASEkR8lba4L4+Hjs3r0bGzduxLt375CYmCjMIfKMhZySJUti6NChGDx4MAoWLCjMkV+K1JqAwgAhJEfJUxjw8/NDy5YtYWZmhn+4g0q1atX4QX2I/JNKpXjx4gW2btmCO3fu4Ny5c6hcubIwVz5RGCCEEIG8hIGAgABYWFjA0tISw0eMEEqJIjp44ADmzJkDb+47ZWpqKpTKH+pngBBC5MzixYvRtm1bCgJKoHefPhgwYADmzZsnlJCsojBACFF6rJ7Ali1bMNrSUighim7Y8OE4dOgQwsLChBKSFRQGCCFK7+3bt9AvXBhlypQRSoiiK1KkCMqVK4dnz54JJSQrKAwQQpQeGzBGq0ABYYooC62CBREXFydMkaygMEAIIURhUR347EFhgBBCMiURD3YvxolXUmE6e0ke7oHr0tN4n/Ly0jc4tXwvHkmE6WwlQ/jlzdjiHYqIq1uw6VIwV5JBce/x4HEApIjEta3r4R2S4SWJHKIwQAghmSJD6OuHeBuRM2FAGvoad8+sw6qjftyBlhVEwu/xK4TmzNshMfApngXEI5+pBRpX0M7wQSHxwX5sOPuOW8f8MG3UFOUL0uFEkVE/A4SQHCUP/QywTmpYz3XnPT2FkqyIx8U5Y/Cw4zpY1dEUyriIEHIV21Yeh19SIsIjCqKJ5XgUO7sKAV0c0ddMDaHnlmCLZCBGm1zFuu1XufPpZKiX7Y7RwxtC03Mhll+LxSdfEdp1F+HkAwOUe/cGZjPc0NPoIdZYnUTVZdNh/vIgVu24jiju/TRMusNyVGPk/7qsGlp1zI/7z8VQj/RDkKQ8WtST4endl/iUvyWsHXqi8O1NWH3cD0mSMERqNcfo6b1R+F87LJLawFZ/DzYm9EenuB048iieewfu7/gYjoqWS9Arccf3y9k1gv9SB6x7bogullYwurITkoG2aBp8JO31uyuGNOg9wiWF0drGHl3LabD/sizr2bMnnBwd0bp1a6FEvlA/A4QQolJkiPZ7C/WWEzDTZRGcOwEXvQNQsQpw1fM5JLJg+FwMhkn1WJza4I1So+dh9ryZaBu5G7tvxkMaE4yXas3hsmEGWumqQU2nLoYONsS5lYfhl3JFQPIcB9deh9l4N8x1c0S7mF3Y7h2VatnpaKIeAl9RfUyYvwjDjG/AK7ELprnNQQepJ668joDfWw20mDAbsxfOQwech9fLb/cepDEh+ByVjMp97DFztgP+qacJmUlPdK2R8PNyb4qjWZsaKG7eB381LIi4kBBExb1Id/1eSepg4oLFcGodi7Oer5AjdzxIllAYIISQLBOhoJExkq8sg9MMByz5zxfxEhn0LFqixKOLePruEm6ILNC0iD/e+n/CjQ1OmOUwH6cC1ZEcEckvb1TODDpiMcTC6+lajMQAw7NYe+zDl/v4Un98SCqPKkbcWbVIF1UrG+DD2yD+ud+WFcHQuDS0oIaCOrowMi4JDZEWdLTVkCgtAKPSybi6fAYcZy7EmbfxSJKmdWFYhrBra7DUqwIsJ7ZFcQ3tjC33i/UramIKHZEI2gZ6UEtIAF2Olj8UBgghJMsScX3HOrw1nwznubMxuokh+COeTgM0L/scx7bdglbjpjAQF4FhkVJoae2MWS6OGNqhPqqb6nFPVIMadzD/jkgfjUYORpGz23E5nHsxcTEUVQ+AfxSLBonw9/8MXe7g+uOy4h9fJ4XkOnat80WtSfPgPGssGrNVTOOoHP9iPxbulqCXbX9UZK0xE6+mvZyaGpcbUr1AuuvH/SnsuV+l8aYkz1EYIISQzJKF4coKa1iNseQeYzHngB/K1jDDp/9WYqmbK7Y/l0Ec9hkJKIBarczg+6gQmljoQ6RREV3+LglvlxlwnWWHxf/FwsAw/YGSRPqNMXxYbWgkcAdQjaro1lcf52bPxHwuSGz72Bx/tS4iPDMDxGVRrdwnnFm5EAtct+C5VIzwzwnCTIEsACdX7oCfJAj/LpiG6bb2WHlBG1XTWE5crBS07m3C6nOfvly5UK+StfUjeYoqEBJCcpTyVSBMnzQ2HLFqhaBT4Nt5Vvy9VXC6UAezJjbkooFAGofIqGQU1NMSbgtkgjQWUQn5oKOV6SU5UsSGx0BUqBDyZ+pUMO3lZInxSBLnh2bqVcnS+mUOVSDMPnRlgBBCsolYSy9VEJDi43+usNscg7b96n0LAoy4AAr9SRBgxFpZONCKoaWX2SDApL2cSPOHIMBkaf1IXqEwQAghOUKMEh3ssWy5LdqUoIMjkW8UBgghSk9DQwMSCTVoUzZJ3GfKPluSdRQGCCFKr0SJEvj48SNiYmKEEqLoWLh79eoVjI2NhRKSFRQGCCFKz8DAAK1atcKB/fuFEqLoTp48iSpVqsDExEQoIVlBYYAQohKmTp2KBQsW4MmTJ0IJUVS+vr6YPWsWpk2bJpSQrKIwQAhRCY0aNcLy5cvRp3dv7Ny5k8bBV0CJiYn81Z0e3bvDyckJ7du3F+aQrKJ+BgghOUoe+hlIzZtbj/nz5+PKlSsoU7YsNJWsAhrbpctksvR7IlRQkqQkvPPzQ61atWBra4v//e9/whz5pUj9DFAYIITkKHkLAykCAwPx/v17/mxTmdy/fx9R3EGoSZMmQolyYK0GSpYsyT8UBYUBQggRyGsYUFbs8nl4eDiWLVsmlJC8Qj0QEkIIyRPnzp2Dh4eHMEVIxlAYIIQQJcGuwty4cQNPnz7Fhw8fhFJCfo/CACGEKIkLFy4gKSmJ/51dISAkoygMEEKIkkgdAOhWAckMCgOEEKIkpFIpzMzMUKZMGYhEtHsnGUffFkIIURKrV6/GiBEj0K9fP2zfvl0oJeT3KAwQQgghKo7CACGEEKLiKAwQQgghKo7CACGEEKLiKAwQQogCY/0KHD9+HFOmTEGLFi2wYsUKflTGpk2bYsKECTh48KDSjb9Ash+FAUIIUUASiQRubm58M0I2CmP+AgUw3soK+/bvxwEuAEyaNAm6urpYtWoVjI2N+TELaNhmkh4aqIgQkqNooKLs9/DhQwwYMAAlSpTA9BkzUKVKFWFO2l69eoUF7u78cjt27ECDBg2EOSQn0UBFhBBCcsT169fRunVrjBo9Gjt37fptEGBYR0Tr1q+H/fTp6Ny5M3VVTH5CYYAQQhQEG4CoS5cuWL5iBf766y+hNOPYspu3bEH//v1x8+ZNoZQQCgOEEKIQWEXBgQMHYpq9Pdq0aSOUZl6jRo3gNn8+Bg0ahPj4eKGUqDoKA4QQogDWrFnDVwgcPHiwUPLnunXrhkqVK8Pd3V0oIaqOwgAhhMg5Vs972bJlmDJ1qlCSdVO512IBg7VKIITCACGEyDlvb28UKFAA9evXF0rSk4SHB7fjcohMmE5fxYoV+YqF//77r1BCVBmFAUIIkXOXL1/mOxH6vUQ8/+8wboZmrMV4E+412WsTQmGAEELk3K1bt1CzVi1hKi1SvD0wDYMHDMfa609xcNpgDBqzFrd/0/Ggubk5bt++LUx9ExwcjD179uDevXtCCVF21OkQISRHUadDWde8eXO+R8HGTZoIJT9LigxCUGQUTk+zRsDYtRhqogMDI33kF+an5dGjR7C2suL7LvDy8uL7H/Dw8MCDBw/4egqsgmHXrl2FZ5MfVahQAWpqasLUzxSp0yEKA4SQHEVhIOvYmANsnAF2Wf/XYnHcZhQ+2myDpalYKEsfO+hbjh6NmjVr4syZM4jiDl6pFS9eHIUKFRKmSGovXrxAdHQ0ChYsKJT8jMIAIYQIKAxkHetgqGmzZujXr59Qkj3OnD6N7du380GAtSpgVwhSrg7cuHEDW7Zs4fs2ID9jIeDTp09KEwaozgAhhMi5evXq5cj9+7t37/KvzWhoaKBJkyaYNWsWX6nw8+fPaN++PT+PKD8KA4QQIueaNWuGC56e/H387HThwoV0Wymw2wNFihQRpoiyozBACCFyjp29s8vRFy9eFEqy7s6dOwgNDUXbtm2FEqLKKAwQQogCmDx5MtxcXSGVSoWSP8euMMybO5evlCgS0WGAUBgghBCFwMYk0NfXx/Lly4WSP7dl82bExsZi/PjxQglRdRQGCCFEQWzduhXbt23D7t27hZLMO3nyJBYvXoydO3dCLP5980OiGigMEEKIgihVqhQ8PT2xwN0dCxcu5Ic1zih2a2Dt2rWYZmfHNyVkHeYQkoLCACGEKJDy5cvj2rVrfAXADu3b830C/K6VgdelS3xPgqxfgStXrvCdDBGSGnU6RAjJUdTpUM7ZtWsXf8mftQpgXRbXMjeHkZER30VuUFAQ7t29y494qKmpyVcWHDZsGFUYzCbK1ukQhQFCSI6iMJDzWOdB7KDPBjQKDAzkWxywroTr1q2Lxo0bZ2DoY5JZFAYIISQTKAzkLtaNcFhYGNq1ayeUkJygbGGArhcRQogSYXUI2IOQzKAwQAghSoQFATbYECGZQWGAEEKURExMDK5evcoPTcwuYROSURQGCCFESXh5eSExMZFvanj+/HmhlJDfozBACCFKIvXtAao3QDKDwgAhhCgJ1rcA62egaNGiCAkJEUoJ+T0KA4QQoiTYeAM2Njb4559/cPz4caGUkN+jMEAIIYSoOAoDhBBCiIqjMEAIIYSoOOqOmBCSo/KyO+KPHz/AZvx4aGhoCCXK78nTZ3zzwlo1awglykcmk2HV2nUwMDAQSnIfjU1ACCGZkJdh4OqVK1g43w3z3N2FEuW3YcMGhIdHYOrUKUKJ8mEBb+HiJahWvbpQkvsoDBBCSCbkdRjYtWMHVq5ZI5Qov/nz5/NDGrOfymrIwIGYamdHYSAbUZ0BQgghRMVRGCCEEEJUHIUBQgghRMVRGCCEEEJUHIUBQgghRMVRawJCSI5SxNYESUlJOHjwIFavXo0nT54gISFBmCP/2Lqz3boi9a2gqamJ8uXLY8yYMfjrr7+QL18+YU7aqDVB9qMwQAjJUYoWBuLj49G1WzdEhIdj7LhxaNCgwW8PTiRrJBIJbt26hXVr1/Jh5vTp09DR0RHm/ozCQPajMEAIyVGKFgZ69+7N/1y1ejXEYjH/O8kd7HBkZ2uLt2/fwtPTUyj9GYWB7Ed1BgghRPD06VP4+Phg+YoVFATygJqaGtzmz4efnx+uXbsmlJLcQGGAEEIEO3bs4O9Zs3vYJG+IRCIMGjQI27ZtE0pIbqAwQAghgoCAAJiYmgpTJK+wz4B9FiT3UBgghBCBVCrlz0xJ3hKpqfGfBck99K0nhBBCVByFAUIIkVeSxzg4xx4z7e3h6OAI1yXbcPFNtDCTkOxDYYAQQuRVcih8XxZA0/ETMG7scHQ3T8C/zu44E0iX0En2ojBA8oAEj3ZMw4Tx42CT8rCaif3Pk4T5WZd4azMWHnmD375i4i1sdT8C3+x7a0Kyl0gT2obFUKxEGVRuMRTDLQLgceEjEPsMJ9ztMcPBHtOd1uNakBSyMA8sdnTHUodJmDLOCvOOvoYk7jmOutrBwdEBM6Yvw8UAFiRi8fyYOxynzYCjrRM2XQkCxQvVRmGA5AEZPr98DI1WdrCf4SA8rNHeRF2Yn3Wy4Ge4/zYSv+1RSxqMF/d8EUldbxGFoIGSpYoiLCgQ745vgI+xJZxdXGHfPhL7dt5EvDQawa8SUXvKQrg7t0HsaU88f3Ye5yLrw9J+Nqb2LYekiERI/Y5hs5cxRsydC+eZ7RC1ZyduxwtvQVQShQGSR9SQT8cQxY2MvjyKG6KQpgyhJ50wxXE2Jo4YiiH/TMX+5xIg6gF2O1pjgtVIjLJegcshSYi4sw0zLEfCasxITFrgAX/uzF4WcgXr7cbC2toaLif8vpzpxDzCfsfxsLIej3GTluISOyuSheDqWltYc2dOk+Ycx7sfToniHu/GzLFjMdlmDGxcT+ODVJbG+8kQcnwmHI8EctEGSPBZCLstz5AYehLOE+1g178n7I+8xMNdjphkNR6Ww62w2jsEsrTWh5AMkyIqKgYFdArgva8/gq+txxwHByw6GQD15AhEcaFWVNQEJjoiiHQKQ08tHrIKXdC79G3MtxwKh32+SNbkXuWdLz4EX8UmJwfMmn8SgercdzySfZOJqqIwQPJILK6tGIpBf/f/8hi2FFcTuZ1UdCCeSRrCcf0mLO4SjxOnn+DlweXwLDkO7ivWwaWLGh4/vI4di31QyW41VqxaiG6xm7Hm/Gc83rUaD81nYMny+ehfRcQdpGV4u38ZPMtO4spWwrVbOLZuuIyoR7uw9oE57JavwLy/q0Dtu+OxBC/OnEBkY1u4LJ6LQRUlCI95jJ0/vV8kkqI+4VNkEn/1ITkuFIHh8UhOikLQk2S0WrUfs2t4Y+W5krBctBKrXbsCjx/h4b6f14dOyEhGySLu4qhnIuo3NYOBYRGUam0DRxcXTB/eEXVrmEJXjXuSSMRF7W+SPrxEaLVxWLptHaZbfMK+g3egVsQQBqXaYLyzC2Y5jkC7ejVhokeHA1VGnz7JI1poaLUFO3bv+fLYPAGN+E7fRDAqVwGFuB2atkFhiBJi8M4vCiZVTKDJzSvadjxGNQzDe0kl1CilwT1dF7VrFoP/6/d4914Cs0pFIUYBmFWriEJIwtuXfgjyWgJbG2vMOvgBGrJwfPZ7h6TylVFUDOQvXx0V+D1oCg1U6TkEZa7ZY0DPsdjxMhn5kvzw7qf3+yg8X5BqiA+RkRnK66oj+b0fok2qoCz3d4mKtsVYy0b4/Orn9QmnEzLyK9E3sMnaElZjx8DabhcSu01G3wr5UaF7fxhdmgMnFyc4LDiFWANDpHWjTU2vIEKOumG26zJsuhjPBYnK0KjYHf1KXoLrjDmYM80dZ+IMUCT77tIRBURhgMgdkSjVwTlZDcWLFcCnj6H85fho71VY8J86iml8gF8EK0mE79sg6Bkacs8T4cO7SP6KQFhAIGK4r7dh8aIo3XEGFi5bDjfrHmhU2wxFjIpB5P8O7KqoLDQAgdGpKwwkwe9pMGpO2YnDe93RLHAjdt4uguI/vV9hqKuLERsdjWRIEfwhEF8HuVVX5zcsMfc++T99QChbLMoba+efBIr9vD76tBWS9Gg2xdSDh7Fp7VqsWL0GK9cuwYSO5ZCfmyUq0gRjFi3FdKuJmLVyEYbW0YN6kR6Yu7g/SrFhFbhlp6yxgnnRBhi1aDHsLMdg6oIFGNWoMLewISzGLcICR2tYuayC2/A6oAsDqo0+fpJHfrhN8PdAzDv9WZiXmhjl+gxFGU97TJk+GVO2BKBS3ZboP6Qw/p1iA4dpE7D6XVsM61gStf4eDN2T0zBt+lQsOB/MLamOyn8Ng7GHHSbaTYKV0xHEGhaHlvkADNQ9gRlT7WHvfg6f1VNfGRChsHYQ9jvawHHeUpyNbYpWtevgr5/erzj06zVHkfMzYWUzCSvvJaFg6pfhqJfviyFlPTFzoj3sJm1GQOV6aNL/5/VRnFHnifwRo4CuHrR+O6aSBgrq6yL/D3t8cQFd6P1+YaICaAhjoiCSEBMeA3GhVDu0pBhEJuRDoYKpr28mITZGgvwFC6RKulLEhkcgWbswUj81KTYGSfkL/rSD5EmiEBqjDj29VK+T1vtJ4xAVqw4dnfQP6Ukx4YgRFYJugZRXSnt9lJUiDWE8ePBg1KtfH/379xdKSF7479Qp7N+/HydOnBBKvkdDGGe/tHaDhMghdRTU++HMRr3gD0GAUYfWd0GAEUNL7+cDr7pWOkGA0dBB4dRBgEnr/cQFfhkEGPWCeqmCAJP2+pC8x8YloPOjvMc+AxojInfR/zYhhAgMDAxotDw5wD4DfX19YYrkBgoDhBAi6NOnD/bv20dXB/LYnj170K9fP2GK5AYKA4QQImjYsCGMjIwwb+5coYTkttWrVvHDF7dv314oIbmBwgAhhKRy9OhRnD9/HuPGjsXTp0+FUpLTXr16hSmTJ2PHjh04ffo01NR+aJ5DchS1JiCE5ChFak2QIjw8HCtWrMDatWsRHR0NTU2+RyySQyQSCfLly4eRI0fCxsYGhoaGwpy0UWuC7EdhgBCSoxQxDKRgu8eIiAgkJHztUkruhYWF8QHG2NhYKJF/LGzp6upmuAUBhYHsR2GAEJKjFDkMKKKDBw/ygYCdZSsrCgPZj+oMEEKIEvHw8OAfhGQGhQFCCFEi586dg6enJ2QyNigGIRlDYYAQQpTEmzdv+Mfnz59x9+5doZSQ36MwQAghSiL17QG6VUAygyoQknTFx8cj4OMP4/YTpaarp4fChQsLU9mDKhDmHtaDIqtAyLRu3Zq/ZaCMqAJh9qMwQNJ1YN8+bNywHjo6OkIJUWaJiYkwNTXF0hUrhZLsQWEg9xw5cgS7d+9GTEwMPwLjX3/9JcxRLhQGsh+FAZKug/v34+XLF7Cf4SCUEGXm4+2FA9xnvozCgEKbP38+QkND+Z/KisJA9qM6A4QQQoiKozBACCGEqDgKA4QQQoiKozBACCG/wYbUVZQH62yIPdKaJ68PkvcoDBBCyA/i4uKwZs0aVK9eHerq6tDQ0FCYx4wZM7Bo0aI058nrg/0fV6xUCUuXLkVUVJTwKZDcRK0JSLqoNYFqodYEX7CDUfv27VFASwtW48ejQcOG/MGK5Bx2deD27dtYy31O796947tT/lV/F9SaIPvRlQFCCEmFddxTvnx57NmzB42bNKEgkAvEYjHq16+PzVu2oHmLFujIhUeSuygMEEKI4P79+3j06BHmu7tDTU1NKCW5aebMmQgPC8PFixeFEpIbKAwQQohg165dfK997EyV5J2BgwbxnwXJPRQGCCFEwO4BG5cuLUyRvGJsbIzg4GBhiuQGhatAuHnjBgQGBApTJCe9efMakRERqGVeWygheam4kRGGjRghTGU/qkAIvj//evXro3///kIJyQv/nTqF/dx38cSJE0LJ96gCYfZTqDDA2s42qFMb9jNmCCUkJ925fZv/srfv0EEoIXnJde5c3Lx7T5jKfhQG5DAMSB7joNtO3I/ldtZiDRQwKIdG3Xqhham28ATlRGEg9ylkGMjJHSL5hpoWypd65rUoDGSSwoeBRG8sGHEBNV1Ho6ZaPEJfnMHmrf5o4+aEdsWVt14DhYHcR3UGCCFEnok0oW1YDMVKlEHlFkMx3CIAHhc+ArHPcMLdHjMc7DHdaT2uBUkhC/PAYkd3LHWYhCnjrDDv6GtI4p7jqKsdHBwdMGP6MlwMYD3+xeL5MXc4TpsBR1snbLoSBOoHULVRGCCEEIWhgZKliiIsKBDvjm+Aj7ElnF1cYd8+Evt23kS8NBrBrxJRe8pCuDu3QexpTzx/dh7nIuvD0n42pvYth6SIREj9jmGzlzFGzJ0L55ntELVnJ27HC29BVBKFAUIIURhSREXFoIBOAbz39UfwtfWY4+CARScDoJ4cgahkbqde1AQmOiKIdApDTy0esgpd0Lv0bcy3HAqHfb5I1uRe5Z0vPgRfxSYnB8yafxKB6jJERMqE9yCqiMIAIYQoCFnEXRz1TET9pmYwMCyCUq1t4OjigunDO6JuDVPosn6SRCKk7i4p6cNLhFYbh6Xb1mG6xSfsO3gHakUMYVCqDcY7u2CW4wi0q1cTJnp0OFBlVIEwi1gvWWvXrsWbN2+QmJgolCoHtkNhD2U7X2DdyxYvXhz//PMPunfvrjDdzVIFwsxTigqEfy/BsyJFoSVSQ7IsP8y6jodlx3LQDPHBOtd9+KhfGAkfolF5xEwMKnMBTvPiMWZBf5SSemOhzT20nl0fN+fvhH+RktAI+Yxive0xqoEUV9a44aC/HvQTPiCm6khMG1oH8pIHqAJh7qMw8IfYDq4Tt4NjHWMMGzYMNWrW5EffIvJPJpXy4W379u0IDAyEh4cHTE1Nhbnyi8JA5il/PwNSxEVEIVlbD1q/bFwgQUxYLMS6usif6oAvjWO3FrSh9+uFcx2FgdxHYeAPREdHo1Xr1qhRowZcXV1BfZgrru3btvHDpnp5eaFs2bJCqXyiMJB51OmQYqIwkPvoJtEfWL9+PQyLFIGbmxsFAQU3eMgQ9OvXD06zZgklhBCieigMZBK7kLJq1SpYWVsLJUTRjRo9GsePHUNISIhQQgghqoXCQCYFBQXxlz3r1q0rlBBFp6+vz9f5uHPnjlBCVJVIJOIDP8lbMu4zYJ8FyT30v51JsbGx0NZW7n7BVZEO95nGxMQIU0RVFS1aFO/fvROmSF7x9/eHoaGhMEVyA4WBTKKzBuVFny1hFQf37t0LqZQ6581LO3fswIABA4QpkhsoDOSpRDzYvRgnXuXMjkfycA9cl57G+5SXl77BqeV78UgiTGcrGcIvb8YW71BEXN2CTZeCM94/Qdx7PHgcACkicW3reniHUE9oJG+Ym5ujUqVKmDF9ulBCcpvrvHn81deWLVsKJSQ3UBjIUzKEvn6ItxE5Ewakoa9x98w6rDrq92UQEmkk/B6/QmgOnfQkBj7Fs4B45DO1QOMK2hn+ciU+2I8NZ99x65gfpo2aonxB+lqSvHPo0CE8evQIA/7+G1evXuWbNJOcxa7K3b59GyNGjOD7/fjvv/+EOSS3UD8DmfT69Wu0adMGN2/dEkqyIh4X54zBw47rYFVHUyjj/s6Qq9i28jj8khIRHlEQTSzHo9jZVQjo4oi+ZmoIPbcEWyQDMdrkKtZtv8qdTydDvWx3jB7eEJqeC7H8Wiw++YrQrrsIJx8YoNy7NzCb4YaeRg+xxuokqi6bDvOXB7Fqx3VEce+nYdIdlqMaI//XZdXQqmN+3H8uhnqkH4Ik5dGingxP777Ep/wtYe3QG+Uif1jHsdPQ7IkTFkltYKu/BxsTBsHGxBsr9j/i/kpAEv4R4ZVHw723BHu++9uGQO+oM9Y9N0QXSysYXdkJyUBbNA0+kvb63RVDGvQe4ZLCaG1jj67lsqejp3+GDOE7j+rZs6dQIn+on4HMy2w/AylY3aDNmzdj1erVePniBVVmy2Fs3876+RgzZgxGjhyJQoUKCXPSRv0MZD/6hssdGaL93kK95QTMdFkE507ARe8AVKzC7dg8n0MiC4bPxWCYVI/FqQ3eKDV6HmbPm4m2kbux+2Y8pDHBeKnWHC4bZqCVrhrUdOpi6GBDnFt5GH4pVwQkz3Fw7XWYjXfDXDdHtIvZhe3eUamWnY4m6iHwFdXHhPmLMMz4BrwSu2Ca2xx0kHriiq/k53W89BJJwstLY0LwOUoCjap9MHX2bEwbXhcasrLo1q0mEn/622LRqE0NFDfvg78aFkRcSAii4l6ku36vJHUwccFiOLWOxVnPV8iROx5E5WlpaWH8+PF4+uQJ3814FLdTV5THE26dr3AhKK158vpg/8evXr3C5MmTfxsESM6gMCB3RChoZIzkK8vgNMMBS/7zRbxEBj2Llijx6CKevruEGyILNC3ij7f+n3BjgxNmOczHqUB1JEdE8ssblTODjliMLx2MiqBrMRIDDM9i7bEPX+7jS/3xIak8qhhxZ9UiXVStbIAPb4P4535bVgRD49LQghoK6ujCyLgkNERa0NFWQyJ3BP55HZOQ1iUmWdg1rF/kjfLjJqE1934ZWu4X61fUxBQ63FmatoEe1BIS0nxPQrITuyqQL18+hXmw3jQvXbqU5jx5fdCVl7xHn4DcScT1Hevw1nwynOfOxugmhuCPeDoN0LzscxzbdgtajZvCQFwEhkVKoaW1M2a5OGJoh/qobqrHPVENatzB/DsifTQaORhFzm7H5XDuxcTFUFQ9AP5RLBokwt//M3S5g+uPy4p/fJ2v0lnHH3Fn+Ifm70JSX1v0rVSAK0h7Ob4XR1mqF0h3/bg/5bseH9N6U0JU27lz5/gHIZlBYSCvycJwZYU1rMZYco+xmHPAD2VrmOHTfyux1M0V25/LIA77jAQUQK1WZvB9VAhNLPQh0qiILn+XhLfLDLjOssPi/2JhYJj+6Hsi/cYYPqw2NBK4A6hGVXTrq49zs2diPhcktn1sjr9aFxGemRHiNNYxlDtspyaD/7EV2O0rQdAJd8y0tcXMZRegXe3nvy2pWClo3duE1ec+fblyoV4li+tHiGpiVcBYEGBXBxISEoRSQn6PKhBmUvZWIEyfNDYcsWqFoFPgW16Lv7cKThfqYNbEhlw0EEjjEBmVjIJ6WsJtgUyQxiIqIR90/nDEsrTWMSPSWk6WGI8kcX5opl6VLK5fZlAFQqpAqAzu3bvHN49kPD09lbZ5HlUgzH50ZUBOibX0Uh0spfj4nyvsNsegbb9634IAIy6AQn8SBBixVpYOtN+vY8altZxI84cgwGRx/QhRNalvD9CtApIZFAYUghglOthj2XJbtClBB0dCSNpYG/0UqX8n5HfoNkEm+fn5oWnTprhz965QQpTBwIEDMXbMGHTt2lUokT90myDz2G2C+a7zMM9tvlCi3Hx9fbGP+wxZc72hQ4fCrFw5YY5ymWhthUVLl9FtgmxEYSCT2GA2xYoV43so09bREUqJomtsYYGdO3eiXr16Qon8oTCQeYEBAZg0weYXLWOUz+MnT5CQmIjatWoJJcpp2cpVKFy4sDCV+ygM5CF5CANMnz59UKduXb7rTKL4WActU6dOxbOnT780c5RTFAZIRsyfPx+hoaH8T5JzlC0MUJ2BPzBp0iQsW7qU7zGLKLbw8HA4ODhg0sSJch0ECCEkJ1EY+AONGjXCvHnz0KtnT5z691/+igVRPNeuXeObEv6vbVuMHj1aKCWEENVDtwmy4OTJk3BxccHHjx9RtVo1aGpkz6A58iQpKQnq6ul3ZqSI2N/EKlpJuJ+TJ02CpaWlMEe+0W0CkhF0myB3UJ2BPCRvYSDFw4cP+YOLsvX4xULOu3fv0LBhQ6FEObBwY2RkhAYNGijUrQEKAyQjKAzkDgoDeUhew4CyWrVqFR901q5dK5SQvERhgGQECwHbt29H1apVhRKSEw4cOIDo6GgKA3mBwkDu6t69Ox8GWBfMJO9RGCAZwcIAqw/Tv39/oYTklF69ev2y2Wp2hoGk14ex/LAGuk7oArMcuCNNYYCkSSqV8m142Y6chQFTU1NhDskrFAZIRtBtAvmRrWHg0Sr8M+kV+uxcgG5Fs78eF7UmIGm6ceMGvxNnqI9zQgjJY/l0oC3xgkunJmjVqjXat22Dro7Z1+U0hQGSJurjnBBC5IdIvzq6WU7BlEk2GD1yBIYOG47Bbc2EuVlHtwlImljviqdOnUJ8fDyqV6+OS5cuCXNIXqHbBNkrKCgIHz58QGJiolCiHHbs2MH/n48bN04oUQ4aGhooUaIE3xJIUWRvBcIkBPpsxfo9PvhQcRD+1n8LjXb/wKJo9nS1TWGApGvNmjV48OAB/5PkPQoD2ePy5cuY7+7O/b3eKF26tNL1o6GsWD0m1tS5Tp06sLW1RZs2bYQ58is7w4D0/W6MH7wb4rpFEKjRDgMSt2Cdpi1Oz8ue/wcKAyRdFAbkC4WBrDt48CB/xmw3bRp69+4NLS0tYQ5RBKwvl2NHj2Lu3LlwdnbG8OHDhTnyKTvDQMIlR/TYaoJVk6Ixb39lLGx3BYM3GePYlqHCM7KG6gwQQlQCa27HgsD+AwcwePBgCgIKKF++fOjbrx+OcIHAyckJZ86cEeYoP43K9VHdfwumunrA784mWM05DY3q2TcyJYUBQohKWLBgAaZMmUKd8SgB1tTZkQsDbm5uQokSk8Ui5IM/PibWwDDHUWhgXAblSxuiTIcpmNa/ovCkrKMwQAhRep8/f8b58+f5s0qiHLp06YLHjx/zXcErtZgzmNOjM3p06YqB1gux/6w3blzzwultzrB29xSelHUUBsh37t+/j2XLlmHQoEF8XQHWrLBPnz58Avfy8oICVTEh5Cs2zgarif6rrmOJYmGtC8zMzPD+/XuhREkVbImp23dh2wZbtDSrhyHz1mHDxqWY2LYyapnTlQGSzfbv34969eqha9euuHfvHurUrQunWbPg7u7O19r18/Pj77eWL1+eDwts5D9CFIVEIuEPHkS5qHOfKftslZpID6UqVYVZ/As80ayD9m0boFadZmjfpDheXrgiPCnrKAyoONbWml1umzNnDiZMmICbt25hwcKFGDhwIJo3b45m3KNX796Y4+KCCxcvYsXKlTh+4gTq16/PX6IjhBCS89Qr1EHlgE0Y03cILIf/jcFuV1G0jrkwN+soDKgwdrbPhidmZ/tnPTzQrn17iES//kqwqwf79u3DkH/+QcuWLXHlSvYlU0IUQyIe7F6ME6+kwnT2kjzcA9elp/E+5eWlb3Bq+V48ypETYBnCL2/GFu9QRFzdgk2XgrmSDIp7jwePAyBFJK5tXQ/vkAwvSf6AqGgXOK2fh0FNzFCyjDm6TluP5WNqCHOzjsKAimLjcLdo0QKWlpaYPmNGpi+hDhgwAKvXrOFHNrx7965QSogqkCH09UO8jciZMCANfY27Z9Zh1VE/7kDLCiLh9/gVQnPm7ZAY+BTPAuKRz9QCjStoZ/igkPhgPzacfcetY36YNmqK8gXpcJLTtE0bomWLxmjQqAmaW1SGQfZ0PsijTodUVI8ePVC6TBnMnDlTKPkzhw4dwrKlS/lAwNoAk5xDnQ79uTt37mDo0KE475kdta/jcXHOGDzsuA5WdTSFMm7/FHIV21Yeh19SIsIjCqKJ5XgUO7sKAV0c0ddMDaHnlmCLZCBGm1zFuu1XufPpZKiX7Y7RwxtC03Mhll+LxSdfEdp1F+HkAwOUe/cGZjPc0NPoIdZYnUTVZdNh/vIgVu24jiju/TRMusNyVGPk/7qsGlp1zI/7z8VQj/RDkKQ8WtST4endl/iUvyWsHXqi8O1NWH3cD0mSMERqNcfo6b1R+F87LJLawFZ/DzYm9EenuB048iieewfu7/gYjoqWS9Arccf3y9k1gv9SB6x7bogullYwurITkoG2aBp8JO31uyuGNOg9wiWF0drGHl3LZU/9jZ49e8LJ0RGtW7cWSuRLtnZHLH2H4/Zj4O4RgCRxMpK1q2PowlWwrKsjPCFrKMqpoCNHjuD58+ews7MTSv4cG8+b3WZQifa+hKRLhmi/t1BvOQEzXRbBuRNw0TsAFasAVz2fQyILhs/FYJhUj8WpDd4oNXoeZs+bibaRu7H7ZjykMcF4qdYcLhtmoJWuGtR06mLoYEOcW3kYfilXBCTPcXDtdZiNd8NcN0e0i9mF7d5RqZadjibqIfAV1ceE+YswzPgGvBK7YJrbHHSQeuLK6wj4vdVAiwmzMXvhPHTAeXi9/HbvQRoTgs9Ryajcxx4zZzvgn3qakJn0RNcaCT8v96Y4mrWpgeLmffBXw4KICwlBVNyLdNfvlaQOJi5YDKfWsTjr+QpKXuUvR0ge7Me222Uwdu8lXL56GovbxWDftrPC3KyjMKCCFi1ahKm2ttDU/HZWkxX206dj9erVSjfgCyEZJ0JBI2MkX1kGpxkOWPKfL+IlMuhZtESJRxfx9N0l3BBZoGkRf7z1/4QbG5wwy2E+TgWqIzmCDRUuglE5M+iIxfhy5VcEXYuRGGB4FmuPffhyH1/qjw9J5VHFiDurFumiamUDfHgbxD/327IiGBqXhhbUUFBHF0bGJaEh0oKOthoSpQVgVDoZV5fPgOPMhTjzNh5J0rQuDMsQdm0NlnpVgOXEtiiuoZ2x5X6xfkVNTKEjEkHbQA9qCQmgBsqZlxwXh0TtUjAz1oFYwxDlTIsAXFl2oTCgYp49e8Z30tGxY0ehJOtYW1/Wq9vRo0eFEkJUTSKu71iHt+aT4Tx3NkY3MeT23lyxTgM0L/scx7bdglbjpjAQF4FhkVJoae2MWS6OGNqhPqqb6nFPVIMadzD/jkgfjUYORpGz23E5nHsxcTEUVQ+AfxSLBonw9/8MXe7g+uOy4h9fJ4XkOnat80WtSfPgPGssGrNVTOOoHP9iPxbulqCXbX9ULMAVJF5Nezk1NS43pHqBdNeP+1PYc79K403Jb2nWaocWakdh128QLEf0wz+Ln6By66bC3KyjMKBifHx80LRp0/R3GKkkPTyI7T4hGapdzCojesvZELWE5BhZGK6ssIbVGEvuMRZzDvihbA0zfPpvJZa6uWL7cxnEYZ+RgAKo1coMvo8KoYmFPkQaFdHl75LwdpkB11l2WPxfLAwM0x81UaTfGMOH1YZGAncA1aiKbn31cW72TMzngsS2j83xV2vu7DCjxGVRrdwnnFm5EAtct+C5VIzwzwnCTIEsACdX7oCfJAj/LpiG6bb2WHlBG1XTWE5crBS07m3C6nOfvuwj1Ktkbf3Ir2nVh836tZjYtQZKGtdBb6cNcOtXRpiZdVSBUMWw1gNlypbFyJEjhZL0xR4Yjr8/2OHQhArCpcv0sSaG8+bO5QeDSY11TnT9+nUUKlQI1atXF0rJn6AKhH8ueysQpk8aG45YtULQKfDtPCv+3io4XaiDWRMbctFAII1DZFQyCupp/Xbb+ok0FlEJ+aCjleklOVLEhsdAxG2P+TN1Kpj2crLEeCSJ80Mz9apkaf0yR6UqEMpCcWOjG66Vd8L4Gucwx+4+6kyfhs6m2XO7l64MqJiAgACULFFCmEqb9O0B2A8egBHrruPZgWkYPGgM1t7+dX0A1tVrYGAg//vTp0+xYsUKvjfDwoULo0mTJjh79iyiuA2DHmk/qJtn5SDW0ksVBKT4+J8r7DbHoG2/et+CACMugEJ/EgQYsVYWDrRiaOllNggwaS8n0vwhCDBZWj+SnqQXe7BsbxA0dZKQLC6D8trXsHTNeWFu1tGVARXDDtBsrIEOv6ozkBSJoKBIRP03DTYBY7FmmAl0DIygn1+YnwbWgVGXzp1hYWHB1x2QSr9vFM0qK2ZXhUVlEx0dzfedb2RkJJSkja4M/LncujJAche7MjDLyQmtWrUSSuRLdl4ZSPB2Qs9VRbFo5zhUUpfh8xEb9DlWB55b/xGekTV0ZUDFGBYtyndB/EvqhVCsZCmUKGoAfcPiKFny10GAYa/Jrg4cPHgQISEhfP8DY8aM4SsXMosXL/7pbJgeXx7Fixfn/49IzilQoABis7HmNZEPcbGx/GerCjSqt0LDqO2w7jsEo4f2wyD3OzBp3liYm3UUBlRMndq1ce/+fWHq17S6LsNOS9MMXcpkgxvVrVuX/11PT49P7Ky54cuXL/H27dtsbb1ASGaZmJggLDQU7969E0qIomPDUr969QqVKlUSSpSbSK857DYsx6jWlVHGrAH6OG7CkiHlhblZR2FAxTRu3BiXfXyy/R61t5cX/9ppKVOmDL8zJiSv5M+fH//88w/WrV0rlBBFt3nzZv6kQ19fXyhRdkkIffMQT548g5+OOUxDLuNRSPb1UU1hQMXUrFmTr9R37tw5oSTr2HjiN27c4HsjJEReTZ48GWfOnMEW7iBCFNuhgwexY/t2TJ8+XShRftL3+zF75lF80gI+B35C6P19cF56QZibdVSBUAXt2LEDy5Ytw7+nTmWov4HfYUMfGxUvjgULFgglJDNYxUFWwY0qEOY8dsuKjbZZoUIFDB02jO8sK7ODdJG8kSSR4MWLF9i6dStu3brFn9BUqVJFmCufsrUC4SVH9NhqglWTojFvf2UsbHcFgzcZ49iWocIzsobCgApiHzmrfcs6H7K2sRFK/wzbIO2nTcPDhw+hra0tlJLMoDCQu+Lj47Fr1y5s3LiRbwWjbN1os/0k28azI+jLExbaSpYsiWFciBs8eLBC7G+yMwzIPp2E/QB3vDbUQ2REQRRP8kNsu1U4OMlceEbWUBhQUWwn2LBhQzjPmcOPYPgn7nIHsL8HDOAv2TVr1kwoJZlFYYBkJzYQWVhYGH/QJHkrWzsdggxRz09j976LeBmmBsManTDg72YolU2DxVKdARXFKvWxs3rHmTOxYcOGTFcoZPdeWRBg918pCBAiPzw8PPgHUTKSKIRLDFGrTW8MsbHHpKHZFwQYCgMqjN0vZeMJHDt2DL169uTPTn/nzZs3GDduHB8ijhw+jM6dOwtzCCHygAWB8+fPU6+WSkOGiNsbYN31f+g5aCTGjxuFYT3ao5fVFjyIEZ6SDSgMqDjWKdCVy5f5XgktR4/G/9q2hfv8+Xz3wY8fP+a7Fva6dAnLly1Dv7590blTJ5iVK4cHDx7w3QwTQuQHu/3H2t4HBwfjfgb7EyFyLukF9rhvwJvyw+G2eR/2HtyLDYtGo+KbDVi677XwpKyjMEAgEolgZWXF70Tc3Nz4ijrs8v+4sWMxetQoLF26lO8yl/UoyJoRzp07FwULFhSWJoTIi9S3B+hWgZKQvIXvR2O0HzUUrc0roly5SqjVahD+aWeEdy8oDJAcwELB//73P/5gz3YkJ06c4MOBl5cX351w7969kS9fNt6kIoRkq9T9h2RnXyIkDyXFIV6qCQ31RMTFxQmPBIg0NJGYkH0tYSgMkHSxQEBnF4Qojm7duvGPNm3a4K+//hJKicJLeoqN/RujmUUj4dEYg9c/RZIwOztQGCDpYmcWdHZBiOLo378/GjVqhNq1a/OjNBIlkL8ehri4wmXez4/Zg7KnjwGGwgBJE+vTgdVIfvbsGfz9/YVSQgghuUqjFGr/rwNaV4jD40dJKNemA9p1+PJoW7uk8KSsozBA0sSaGYaGhvK/060CQgjJY3EBuOPhicdh2Xlz4BsKAyRNVBGJEELkSD4daEu84NKpCVq1ao32bdugq2P2nahRGCBpunv3Lt/3Nxv6lY07QAiRf2ychaioKL4pcEJCglBKlIFIvzq6WU7BlEk2GD1yBIYOG47Bbc2EuVlHYYCkad++fXB3d+fHgGcdDBFC5BPrHMzGxgbm5ubQ09PDmjVrsHfvXn6c/xo1avD9g2Skd1Ei30RFqsO8ZAye+5yBZ3BRFE+KRYmKpYW5WUdhgBBCFNDr16/5fkFYM0LW/4ermxtevHyJ5y9e8I+Xr15h0aJFMChShG9uyMYQefLkibA0UTTS9/sxe+ZRfNICPgd+Quj9fXBeekGYm3UUBgghRMFs2bIFDRo0QFPuAH/n7l3Y2tmhbt26/G29FCwgmNeujQkTJuDW7dvo3qMHmjdvjmXLlgnPIIok6c0z+JXthcmD60BfbIhW3ZsgX8B7YW7WURgghBAFsmrVKsyaNYvvIZTdAmDdh/+OWCzG4MGDcdbDA6tXr4aLi4swhygKjcr1Ud1/C6a6esDvziZYzTkNjeq1hLlZp5asQENbsbbvDerUztEx3dPDxmSf7TgTSUk506xDHj14+Aghnz+jVYvmQokSUlPDTKdZKFKkiFCQ+4yMjPh7uuznr9Qzr5Wj330fby8c2L8fy1asFEqyB9t2unXqhAve3kIJ+VPHjx/H+PHjcfTYMZQu/Wf3i4OCgtC9Wzc4ODhgyJAhQinJCdFRUejcoT0u+lwWSrJChqjnp7F730W8DFODYY1OGPB39g1jTGEggx4+eIDxYywxz22+UKL8jhw9ilevX2Pq5MlCifJxnuWE2dxZUsNGFkJJ7qMwQDLiMxfMq1evjg0bN/K3CLKCVTrs3asX32qoVKlSQinJbtkaBqQB8Nm8DicehSBe+uWwrV59CBaNrs//nlW5FgaSXh/G8sMa6DqhC8x+f1UrTXkdBhYtcMfWHTuFEuXHaiWzlgTsp7IaxwW8QYMHUxjgUBiQb1OmTEF4RAQ/eFh2cHN1RVhYGDZt2iSUkOyWnWEg8aYr+k66iuIWNWCU78sdfnGlnnD4O3tuFeRenYEc7j2JEEKUFRupbuvWrRg7dqxQknUjR43C4cOHv/Y0SuSbSEcXumXbY+IcFzg5O/OP7AoCTO6FgRzuPYkQQpTVmTNn+FsEv68nkISHB7fjcohMmE6fgYEBWrRsiaNHjwolRJ6pmzSHhXQHLLv1xqCBAzGEe4xckn1X23ItDOR070mEEKKsrl+/jnr1M3JvOBHP/zuMm6EZu/tbr1493LhxQ5gi8izx1iGc+FgGDVs2Rn3uc6vLPczNDIW5WZd7YSCHe08ihBBlxeru1KheXZhKixRvD0zD4AHDsfb6UxycNhiDxqzF7URhdjrY1Yb79+8LU99jlQwDAgKEKZLXxCXKopRxA/w1fiKsbGz4x9gulYS5WZdrYSCne08ihBBlxcYb0ClUSJhKixil2k2E6/w56F+rHNpPcYWbYz9U1RRmp0NXV5d/bYYd+Hfs2MH3R1CyZElUq1aNb21A5EOyTAMaAbswpl1bdO7YEV25Ry/n88LcrMu11gQJlxzRY6sJVk2Kxrz9lbGw3RUM3mSMY1uGCs/4PUVtTcAu8a1cuZJP4PHx8UKp/GM7CYlEgsKFCwsl8o91wFKuXDlYWlqiQ4cOUFNTE+akjVoTfEOtCeRX69atMWbsWLRo0UIoSU8sjtuMwkebbbA0FQtl6bt/7x6/rZQoUQJeXl5C6TcFChTIUKdGqoZ9p62srLB8+XKhJG3Z2ZpAFnwLJ/57hIhUR2x146b4u1U5YSprci0MyD6dhP0Ad7w21ENkREEUT/JDbLtVODjJXHjG7ylaGGD/taz276lTpzB8xAi+b/B8mr+J6iRLkqRSPnRt2LABBlyI+ffff/kdWnooDHxDYUB+jRo1CqZcyB3B7Uey08EDB3Du/Hns37cPt2/fhoeHBz9k+eXLl/kREPdz3wc2/gH5Htu/PHv2DBs3bhRK0padYSA7muf/Si52OpT13pMULQxMnToV3twOkI0gpq2jI5SS3MC+K2wkN9ZRy9kzZ4TSn1EY+IbCgPxiBx9PT0+sWJm9n43DjBkwMTGBnZ2dUPJFbGwsv++qUKECP598j30erOIl+/kr2RoGHq3CP5Neoc/OBehWVF0ozT45X2dAFouQD/7w9/+IiII10GmYNSZMtsKAtqZQi44VnqR8goOD+dS4fccOCgJ5QCQS8QOy+L55Ax8fH6GUEMXUtm1b/ow9O28zSqVS/spZu3bthJJvtLS0+HIKAnIkh5vn53wYiDmDOT06o0eXnx99XDyFJymfnTt3okPHjgp1v13ZsEDwz9Chv03vhMi7smXL8s0ADx06JJRk3ZnTp/muiGvVyr6Oa0jOyenm+TkfBgq2xNTtu7Btgy1amtXDkHnrsGHjUkxsWxm1zCsKT1I+79+/R6WKyvv3KYpKlSrxnwUhio4NLDTfzY3vQjirYmJi4DRrFv+aRDGIipijQ5/OsKhYDPpFSqNW297o3TT7rtzkfBgQ6aFUpaowi3+BJ5p10L5tA9Sq0wztmxTHywtXhCcpHza6oVg9++/rkMxRF4tVaqRJorwsLCzQt29fTJk8ma8TkxWsrkCzpk3RqVMnoYTIPek7HJ/2F/oPnwJH+/EY3Hs41t760iw0O+RaPwPqFeqgcsAmjOk7BJbD/8Zgt6soWifjLQkIIUTVsUGKIiIiMGHChD8OBI4zZ+Lp06dYsWKFUEIUgeTBfmy7XQZj917C5aunsbhdDPZtOyvMzbpcCwOiol3gtHYmupQvwCWD4mg8bjWWj6khzCU5TvIYB+fYY6a9PRwdHOG6ZBsuvokWZhJCFEH+/Pn5psqBAQHo07s3/P39hTm/9+nTJwweNAi3bt/mKyMW+mUnRkTeJMfFIVG7FMyMdSDWMEQ50yJsBCthbtblWhhglzg8N67D/rM3cO/2JRzdsBQH7mbfJQ7yG8mh8H1ZAE3HT8C4scPR3TwB/zq740ygVHgCIUQRsJr+rD8A1qlWm9at4ejoCD8/P2Huzz5+/Ih5c+eiefPmqF27Ni77+EBPT0+YSxSFZq12aKF2FHb9BsFyRD/8s/gJKrduKszNulwLAzl9iYNkgEgT2obFUKxEGVRuMRTDLQLgceEjNyMWz4+5w3HaDDjaOmHTlSBIwjyw2NEdSx0mYco4K8w7+hoSxOHF4XmYYT8Ts+zsseoC67f852UpXhCSs8RiMaZNm4Zbt26hIGsG+L//oWHDhhhjaYnZs2fD2dkZ48eNQ2MLCzRv1ozvSZSFABcXF+pRUNFI3uKW1zOEaVTH8MXLYNO1Bkoa10Fvpw1w61dGeFLW5VoYyOlLHCSzNFCyVFGEBX2C1O8YNnsZYwR39uA8sx2i9uzE7dhoBL9KRO0pC+Hu3Aaxpz3xOvYlLpyNQr2x0zFzWl+YSCLSXjb7mkITQn6BNTlcsGABgoKCcPTIEXTu3BnGpUrxPZ2yngNZD4KszxNWP4B1IEQUj/TDeax23Qafi4sxYspFGHQciJGjhqCzuS5iwxXwNkFOX+IgmSVFVFQMCuhoQ/rOFx+Cr2KTkwNmzT+JQHUZIqOTISpqAhMdEUQ6haGnFo9E9cro1M8Yd+aNxij7/fBL1kxz2YjIrNV0JoRkDrtSwAYWGjJkCGxtbfHu3TsMGzYMNWvWhDq1alJoYsOKMBN7wNn2APx892FS5w7o0vHLo+ec7BuoKPfqDGjVh836tZiYQ5c4SObIIu7iqGci6jc1g1oRQxiUaoPxzi6Y5TgC7erVRNlCaty3Q4TUw/wkS/3x6nN1WK7cjlUzG+HTngNpLmuil3tfK0LI91ilwgMHDvAVBokSKNgEtruPYYfrX6hW4y/M2bIdm7d9eWywaSI8Ketyda+tXrQ2uo6ciplO0zCiYyUUomNG7oq+gU3WlrAaOwbWdruQ2G0y+lYQQ6Nid/QreQmuM+ZgzjR3nIkzQJG0TibU9KAVcgQLZrpi5fpLiG/QLOPLEkJyBatcyIacYS0GiHJQL1QSldpPhNPQuihpWhThPjuxZbcXgjW1hWdkXe4djmWhuLHeFssvxED2+Rhmj3DGyTeJwkyS4zSbYurBw9i0di1WrF6DlWuXYELHcsjP5okMYTFuERY4WsPKZRXchtdBYcMemLu4P0qxUVC5ZaessULN/Pqob7kY7tMtMWraAriOaZTmsnRhgJC8w8IAQ2FAuUh9d2GO4w7cuLQTy7bcw+fAM1iw6pIwN+tybbed9GIPlu0NgqZOEpLFZVBe+xqWrsm++x0k68QFdKGn9fsx0DW09VGowPdfnYwuSwjJOeyKwPnzX/arFAaUS9J7PwRV74haH24j0KQrpk5oA73A7OtqPdfCgDT4E8KL1keLWroQ69VAu+blIAsOEuYSQgjJqgcPHnytK8DG5Hj+/Dn/O1F84hIlYfByPxYcfoVi9UzxcvsphJVUwKaFGtVboWHUdlj3HYLRQ/thkPsdmDRvLMxVPmpqqavekbxEnwVRFezKAOuEiH3nZ82ahcREuhWrLNTN+sN+fAvU7mALx+F1UKhCN9iNaSbMzbpcCwMiveaw27AYQyxMUKxkDXSauBAOPUoLc5WPrq4uQoKDhSmSV4JDQqjbVaIy2HDEKWHAyckJ1atXF+YQxaeDSl0tMW5IK5SUilCzVx9ULZh9g7DlWhiQhXth+QRbLN91FP/9ewhbXcdgwOwvFV2UUbdu3XD48OEsjy5GsubA/v3o3r27MEUIIYqJHUMX9m2BVq1bo8P/2vKPrk7ZdwzNtTAgeXAe56MaYPySDVi/eQs2cI81VhbCXOVTp04dGBsbY8mSJUIJyW3/nTqF+/fvY8CAAUIJIYQoppw+huZenYEK5qherDBMq9eGubk5anGPmqaFhbnK6eDBgzhy+DCm2dnhw4cPQinJaWyI1xXLl2PKlCn8CG9spDdCCFFkOX0MVUtmNU5yQdLzzRg3ejXuRKuhQH5NPoVoNJkJD7f2X56QAeySe4M6tXHz7j2hJPc8fPAAixa4Y+uOnUJJxrA+w11dXbFjxw4YGBjQgSmHsQFZAgIC0KlTJzg4OKBy5crCnLSNG2OJQYMHo2GjvLtKZWRkhDt37vA/f6Weea0c/e77eHvxt1WWrVgplGSPyMhIdOM+jwve3kIJyUlSqRSampr8T5IzNmzYgBs3bvA/fyU6KgqdO7THRZ/LQsmfy45j6K/kWhiQhT7GJZ+XiEr1bmKjOuhU31iY+j1FDAMpYmNj+WFG4+MVZxQfdmBlg5yUKFFCKJF/bES2UqVKZXiIVgoD3yh7GGDfZdZNLxvSV5lr2bNd+rFjx5S6rgzbzosVK4bevXvnyf4pL8JAdhxDfyXXwkB2UOQwoIguXbqEhw8fYvz48UKJ8qEw8I2yhoHAwEBMnToVJ0+eRLt27WBiagoNGrxHoUmSkvh+FP7lPtO2bdvC3d2dH8Ext+RFGOC2JDw6vAUnH4ZBwialsQgt0hlLrLOneWHOh4G4m9jueh3G48egYaQ3zviXQrsWJgg9PgdzfdtitU3G+xqgMJC72GV2FgbYWYayojDwjTKGARYEWrRogTbcAcPGxgb6+vrCHKIMoriD7dq1a7Fv715cuHABJiYmwpyclRdhIOnxSgwa/S/ExeIRol4eRlHPkdR1NXZYVhWekTU5X4EwyR+3z13BmygZom7uwuJdNxElS0Z84HM8ehsmPInII9ad6cWLF5HEpXBCFA27zdWyZUv06t2b74CHgoDy0dHR4a/6jBs3jg99LBwoK2nIJ0RU6Adnm5YoVuMfrHDtDtFrX2Fu1uVaawKiWMLDw3Hr1i3+rI4lYEIUzf79+1G0aFFMnDhRKCHKauiwYXyHS9u2bRNKlI+6SXkYvz6Bf0U1UdzbDdZup+AXEyfMzbpcCgPJkErikJiUzP2ahMT4BCRSRVe55unp+bU2csooaIQokhUrVmDEiBHCFFF2w7nPesXK7L3FJU+SJQVQql49lDX5H0ZZt0bZcu0wyaaTMDfrcicMJD3Fhv7N0GPxLcTdXoQejRtj8PqnoIvP8iv1iGc0+hlRNKx+0c2bN9H2f/8TSoiys7CwQGBAAMLClPT2c1wQnj8IgkxDA+U62sDRZQq6VtQSZmZdzoeB/PUwxMUVs216opFFH4yf4wqXeV8esweZC08i8qZBgwbo2rUr6tevz/8kRJFER0dDS0sL6tRqQKWwMWHYrU2llE8H2hIvuHRqglatWqN92zbo6qhI3RFrlELt/3XA/+oaIPRlCPTqt0W7Dh34R9vaJYUnEXkzZMgQtG/fHrVr1+Yr6BCiSFgjKRqtUvWwz5xdFVJGIv3q6GY5BVMm2WD0yBEYOmw4Brc1E+ZmXe5VIMzhVEMIIYQonYRHOLFmD+6IaqJDv/7o1//bo3fT7GtKmWthIKdTDSGEEKJ0El/i3I4TuB+Ws10C5V4YKFId5iVj8NznDDyDi6J4UixKVCwtzCWEEAUieYj9sx2w6txHfG0YJX2FE+4zsckn7QpssnAfbNvojVBZHPzvP0Ygt2DU1S3YdCkYCc8OYemeB/jaSbL0BY4t2o0Hf9prcuJ97Ft1Cu+ElZNwr79gzk48SNUSLf79fTwJYE/4tj4Z9/PfQIO15yDZJ1zbtpDv+C71Y9mRR8ITsi7XwoD0/X7MnnkUn7SAz4GfEHp/H5yXXhDmEkKIApGG4s3Tx7j8nzeCvh5wz8Pj6iM8D0z4UvCjhEA8exqAhIQHOLj2DN5zy+UztUDjCtpQi/DFo9efvx1QpeF4+/AlPv/pEVb2GW8evUM0v3wc7p/2RnjMdZzwChXeIxEP9q/BObYSid/WJ8NSLZPyN+TePWcVlByN9/dv4Ma16989br4IEZ6Qdbn2+SW9eQa/sr0weXAd6IsN0ap7E+QLeC/MVV6sItPp06fRuXNnlC5dmu8ERVEeM2bMwJ69e9OcJ6+PkiVLomnTpvwokco8GA3Je2o65jDXuI0r/Cm1BM993qJEHWOIuSnZ59NY5HoKwezIm3gd62fvwSv+KCxD4CUPPAq8i8O7ryDo/nEcux3x7epCWmKf4YS7PWY42GO603pc49KHLOQqtsyyxyyHyZhg5YiDT+O5lw7F7e1z4GA/A7MWn8GHlBeNvoELL0zQ45+6CDvvyZ/NS99fhOfDQNw7sAOn/ktZn2uIjP7xvSQI93CHs/siOE2eABtrZxx/HQ//iz//DZJILiDMnQq7abawm7kalwPSWpbvVZ9kltgUfRbvx75Dh7577LRrITwh63Jv1MJPJ2E/wB2vDfUQGVEQxZP8ENtuFQ5OynjzQkUbm4B12jNw4EDcv38flmPG8AepfPnyCXNJTmD/5/fv3cP69esRn5CAcx4eKFSokDD3ZzQ2wTfKNDZBREQEjI2N8cY3+7pr/U78Jcy3uY8G7T/BI3EMnHsEY5PzTVSs/ASn89lhblMfzHCXwdq9L4wkl+A++Rk6TjfArsVcmUsZ7Jt0GY2XTYDpKXvMjxuP2ab7MHL+PegV0wbfBiI5DsEBZTF6nyPKHbXFqmRrzOtfBrFXF8LxigXsW/jhTHQr/N28GGJOO2L62z5wb3YN9tuLwH5uD+g934Api6UYu2YUjM7PhpNvLywcpY9jtq6IHb0CQypIcWORNa41XQ7rWnex1Iatjw2KHf75vaaWO4JpjzthuX0zyE5Mh+OnIVgyJBKr+GVS/gZL/BO7ENt17DCnbynEXV6E6V51MbXyKcz8cdmRlaHB/ydmvzq1a/NdqOf0GAW5OjZBrCfcx3ig/FwX9CjFombOyL06A0U7wmHlNLStVAk1KpRG1b/csHSccvczwEb7CwoKwlnugPT333/zO6e0zmbpkX0PdkBt36EDDh85wndP2rFjR+HTICS7qUGvUQNo3vXB+4c++GjWBCZp7quTuX+/l7/2cCxcsxYr2GP5ODTSZ7tnKd77+iP42nrMcXDAopMBUE+Ogqy4MZKvLIPTDAcs+c8X8ZIkJH34gCSTCjDg1iG/WVWYaXOxQvYJXufvIvTeNsy0XQqfIH9c+u8+4r+85Q/Seq9IRCeLUNTEFDoiEbQN9KDGheyf/x4pPvpLUK6qEXegF6FQtSow8PdFiCwjy5Jf0moF222uORoEmFy8zSOCTsWOGO3ojoVL5sNuaDOUUuKTZDZm+r59+7Bp82bkz59fKCW5ad68eXxvZNSDIskpaoUtUD/fDew4HoTyTcvhaxdHGhoQJ8SC1deTfg5AcOL3h0BRBgMCCxwGhkVQqjXrcc4F04d3RN0axnixcx3emk+G89zZGN3EkOUNiIsaQhTgz9cTkIUF4VNcMmT+nvBO6IU5qxdh/qJFWLJiPEzunsL1SO6Vub1/SpP8L+uT1nuZQIfLFKLv+mz4subf/w1iGBZTR+B7LqhwU4n+7xGqawDddJYl8if3woA0AD4bZsHOZjxsxo/jH5PXKe8AOLt27eJ77mOjapG8888//2AzF8gIyRn6aNAwPx4EV0Djst/O3ES6tdBA3wsLpzlgzsbHkGql2tWKi6GE1l1sXX4On4SDcfo0UKF7fxhdmgMnFyc4LDiFWINiKFfDDJ/+W4mlbq7Y/lwGcdhnyKr1RM9CZ+HmPBfzVnkhVJyMDxe8gEYtUVpYNZG+BVpWfAaPi59RtGRB3N+8HOeDDYX1uYhCXX58L8NvASe1n/4GdVTu0Q96HrMwe54LnDcHoOmA1tBPnQOIXMu1OgOJN13Rd9JVFLeoAaN8XzYMcaWecPi7Fv97RihSnQE2Upp+4cIYO3asUELygtelS/yANWys87RQnYFvqM5AdpMiPjoOYm3tn++RyxIRnyRGfs2MXvqVIi4iCsnaetASFpHGhiNWrRB0Cnx/TieNi4Uknxby//ZUT4bE+CSI82tC/N36/PxeaUrzb5AiNioB+XS0+IqUuU0p6wzkkly7MiDS0YVu2faYOMcFTs7O/CMzQUDRsIpsYnFebA4kNfYZpIy+SEju4g6UaQUBRqSZiSDAiFFA9/uDs1hL76cgwIgLZCQIMCJosiDA/5p6fX5+rzSl+TeIoZVHQYBkTa6FAXWT5rCQ7oBlt94YNHAghnCPkUty70yBEEIIIWnLtTCQeOsQTnwsg4YtG6N+vXqoyz3MzQyFuSTHSR7j4Bx7zLS3h6ODI1yXbMPFN9HCTEIIIaos18KAuERZlDJugL/GT4SVjQ3/GNulkjCX5LjkUPi+LICm4ydg3Njh6G6egH+d3XEmc32QEkIIUUK5FgaSZRrQCNiFMe3aonPHjujKPXo5nxfmklwh0oS2YTEUK1EGlVsMxXCLAHhc+MjNiMXzY+5wnDYDjrZO2HQlCJIwDyx2dMdSh0mYMs4K846+hgRxeHF4HmbYz8QsO3usuhCQ5rIULwghRLHkWhiQhQVAVroV+gwdgL79+qI39+jVpKwwl+Q+DZQsVRRhQZ8g9TuGzV7GGDF3LpxntkPUnp24HRuN4FeJqD1lIdyd2yD2tCdex77EhbNRqDd2OmZO6wsTSUTay6bdowkhuYb19JmQkM4YAURpsc+c+nX5M7kWBkT58yHCXwLTzgMxeMg//OPvVuWEuST3SREVFYMCOtqQvvPFh+Cr2OTkgFnzTyJQXYbI6GSIiprAREcEkU5h6KnFI1G9Mjr1M8adeaMxyn4//JI101w2IvK3jacJyVHsgKCtrY23b98KJUTZff78GTExMTAwMBBKSGbkWhhAPh1oS7zg0qkJWrVqjfZt26Cro4cwk+Q2WcRdHPVMRP2mZlArYgiDUm0w3tkFsxxHoF29mihbiHUdJvrST7ogWeqPV5+rw3Lldqya2Qif9hxIc1kTvdz7WhGSnqFDh2Lr1q3CFFF2bHCyvn37QlNTUyghmZF7Vwb0q6Ob5RRMmWSD0SNHYOiw4Rjc1kyYS3JF9A1ssraE1dgxsLbbhcRuk9G3ghgaFbujX8lLcJ0xB3OmueNMnAGKpNXtmJoetEKOYMFMV6xcfwnxDZplfFlCctm4ceOwZ/du+OZpx0MkNwQGBGDjhg2wsrISSkhm5V4YKGKODn06w6JiMegXKY1abXujd9Oc7SWKpKLZFFMPHsamtWuxYvUarFy7BBM6lgN/d01kCItxi7DA0RpWLqvgNrwOChv2wNzF/cGPjcEtO2WNFWrm10d9y8Vwn26JUdMWwHVMozSXpQsDRB6wXuhcXV3Rs0cPCgRKjAWBbt26YdKkSfzgZOTP5N5uW/oOx6f9hf7Dp8DRfjwG9x6OtbeihJlEHogL6ELvt92OARra+ij0Q89nGV2WkNw0atQoODo64n9t28J26lQ8evQIsbGxSEpKoocCP+Li4vD8+XM4ODigWbNmsLS0hK2trfCpkz+Ra2MTSO4uxF9T3qDX6vnoZxqLawvHwuHj37iwopfwjN9TpLEJrK2tUax4cYwePVooIXnhso8PFi1aBC8vL6HkezQ2wTfKNDbBjwK4s8e1a9fy95XZ74mJicIc+cR2y2rfjfaXOXm9fE7T0NDghyxnQ8Oz8V9Kly4tzMkdNDZBFiRzSS5RuxTMjHUg1jBEOdMi4OKdMFf5iEQifoMieYt9BuyzIKqNBa3Zs2fjzZs3/FklG69Cnh/Ozs5plmf0kdXl58yZk2a5vDzi4+Px7t07uLm55XoQUFa5tpfUrNUOLdSOwq7fIFiO6Id/Fj9B5dZNhbnKR09PD0FBQcIUySvsM2CfBSGKZM2aNfDz8xOmMoc1r1uwYAF/wPwT7PL7pk2bhCmiKnI+DEje4pbXM4RpVMfwxctg07UGShrXQW+nDXDrV0Z4kvLp1asXDh08yN/fInln79696N27tzBFiPx78uQJPn78iHPnzgklmXPp0iX+1szly392aZq9L6twya6iENWR42FA+uE8Vrtug8/FxRgx5SIMOg7EyFFD0NlcF7HhynuboHr16qhSpQp/uY3kjf379uH169d822NCFIWHx5f+V1J+ZlZeL08UU46HAbFhRZiJPeBsewB+vvswqXMHdOn45dFzjnKPTbB//35c4dL52DFj+EtvJHewCmIshM2dO5ffoVEnJESRpByEPT09/6jeUcryf3Jlgd2Pv3jxIv87hQHVkiutCZIiP+DVlR2YvwfoN7EjSgoRRFSoNKqWzfj9XEVqTZAiPDwcS5cuxbp16/j1p36zc5ZEIuEriA0YMABTp05FmTK/vhVFrQm+UebWBIqCfX8LFy6M6Ogvw4uz74W5uTn/e0awIFyiRAn+d1Zx9tOnT5nqnvfq1auwsPiyLbD1CA4Opgq4aVDG1gS51rQQSMDbi96Iql0N4TsX48i70uhqbYkWJTLeXZ0ihoEULHGzDfNPK/XkBbZDYpWYqlatKpTIP3YVwNDQMMNXAygMfENhIO89ffoUw4YN478PbLuzt7dHnz59hLm/x64mTJ8+HdevX0fDhg35ioRNmjQR5v7erl27sHDhQn49WAjZuXMnypWjMWR+pIxhgF2GyhVJbzYlD2s6OHnj8QXJveq2TR48pHNyx+nnhLkZwx1Qk+vWqilM5a4H9+8nDxk4QJhSDcePH0+eO3euMKWcxlqOTr565bIwlTeKFy+e/PHjR2EqfTn93ff2upRsPX6cMJV9IiIikls0aSJMkYwoVapU8rt374SpzElKSkrmzuaFqcx7+fJlMhcAhCmSlvXr1yePGDFCmEpfVGRkcvPGFsKUfMu16z9J7/0QVL0jan24jUCTrpg6oQ30At8Lc4k8Yvcc/7RGMyGEEMWRa2FAXKIkDF7ux4LDr1Csnilebj+FsJLK27RQGbAKRKx5Euu+lRBCiPLKtTCgbtYf9uNboHYHWzgOr4NCFbrBbkwzYS6RNx8+fODvG7JuW9PrypcQQohyyMVqojqo1NUS44a0QkmpCDV79UHVgtQhj7xKfXuAbhUQQohyy7XWBLJwLyweZY8DL2MgE8o0WrjgypLOwtTvKXJrAkUzcOBAvmYxU6NGDdy/f5//XdlQa4JvWGsCdzc3lC1nJpRkD3Z16eTx4+hJPUFmGNv22LC82traQknGsf3kqlWr/nhs/4iICL6vgT/tDlkVUNPCLEjwckJ31yj8bdcf1XTVwcbDUtMtg5qmhb88IQPyOgzMdpyJtRs2CiXK7ebNmzh06BD83r3D6FGj0KJFC2GOcploY41x3E6TwsCXgwAb1Y9tZ9mJNafdsG4drGxshBKSk9jnx8b2Z/2b/CkTExN06dJFmCI/ojCQBbLAo5g27RG6LbJHY4M/G/c+L8MAG/CmX6+eKtVp0Dt/f0RFR6NqpUpCifKJjonB7r37UPo3nRPlJHkJAzmF+hnIXaxPE9bPBvtJcgaFgSxIer4Z40avxp1oNRTIr8lXVtBoMhMebu2/PCED8jIMqCI2ctqDBw/4nyTnUBgg2YnCQM5TxjCQaxUIRYYN8NckB8ycOQNTpk7FJO4xoafi9GxHCCGEKKvcCwOFjWGY5Icn9+7hPnvcvoJz13yFuYQQQgjJK7kWBpIeb8fcxafx6MElXH7yEW9uXUeIZsYH0CCEEEJIzsi1MCAN+YSICv3gbNMSxWr8gxWu3SF6TVcGCCGEkLyWaxUIpe92YOygo6g2dzD8XTYhWD8Ob/RH4eLqjI/IRRUIcxerOLhx40Y0bdpUKCE5YdmyZfj48SNVICTZglUc1NDQQNGiRYUSkt1Y67Lhw4fz+8dfodYEaUpC4M2L+FimMXRvrceuKxLUGjQWXStqCfN/j8JA7mJhYO/evejRo4dQQnLKqFGjoKX1622BwgDJiJQwwAImyTlsey1UqJAwlTYKA2lIen0Yyw9roOuELjDTEAozicJA7qKmhfKFwgDJCGpaKD+oaWFa4gJwx8MTj8NoPAJCCCFEnuReGMinA22JF1w6NUGrVq3Rvm0bdHX0EGYSQgghJK/kfBhIeIQTa/bgjlo1dLOcgimTbDB65AgMHTYcg9tm74AohBBCCMm8nK8zEHUENu0OoMaOHRhe7s/GJEghb3UGEhISsGfPHqxbtw5v3rzhR2dTJilfDTU1NqyU8lBXV0fx4sUxZMgQjBgxAnp6esIc+UZ1BrLPrVu3+FYcly5dQnR09NfvOpFfbD+ko6ODVq1awdraGubm5sIc+UUVCFNjYaDtKsT+ry0q6Xx/UFE36wibHtWEqd+TpzDw4cMHtGzZEmXKlMHQYcNQs2ZNvtIOkX9JSUl8eNu+bRsuXLiAU6dOoW7dusJc+UVhIHtMmDABhw8f5puGdercGbq6usIcIu/Cw8Nx4vhxbN68GQMGDMD8+fOFOfKJwkBqLAy0mY/nxUtCV10oE2jUt8JOu4wPjSsvYSAkJASNGjXix/wfN368UEoU0dmzZzGROzicO3cO1atXF0rlE4WBrLO1tcX58+dx4ODB3zYLI/IrLCwMvXr1QreuXTFnzhyhVP5QGEhNCW8TzJ49Gy9fvcrSeOFEfqxfvx63b93CoUOHhBL5RGEga96/f49atWrh+o0bCnNriKTv8+fPaNigAZ49e4ZixYoJpfKFmhamJtZFyfJlUDifMK3gWNtdVkfA0tJSKCGKjl1uZLcL2K0forzWrl2LPn37UhBQEgYGBujWrRsf5knW5XwY0GoF222u6FEqa1cF5AXrhpJdoahUqZJQQhRdwYIF+TPGhw8fCiVEGd25cwfNmjUTpogyaNa8Of+5kqzLvX4GlERcXBwKFCggTBFlwboWZZ8tUV78tps/vzBFlAFtt9mHwgAhgpyuPkMIyX603WYPCgN5KhEPdi/GiVc504e45OEeuC49jfcpLy99g1PL9+KRRJjOVjKEX96MLd6hiLi6BZsuBXMlGRT3Hg8eB0CKSFzbuh7eIRlekpA8kXh/N5Yfe8V9Z3OA5CH2uyzF2XdfN1z4nlyOAw9zZMOFLNwH2zZ6I1SW2e0vDv73HyOQW82ozG7zRO5QGMhTMoS+foi3ETkTBqShr3H3zDqsOur3ZacljYTf41cIzZm3Q2LgUzwLiEc+Uws0rqCd4S9X4oP92HD2HbeO+WHaqCnKF6SvJZFvss+v8Mg3ImfCgDQUb+6cxqblR/AlD0gR5fcIrz/n0IabEIhnTwOQkJzJ7S/xAQ6uPcOfbGR2myfyJ9dGLcwO8tC08PXr12jTpg1u3rollGRFPC7OGYOHHdfBqs63DotkIVexbeVx+CUlIjyiIJpYjkexs6sQ0MURfc3UEHpuCbZIBmK0yVWs236VO59OhnrZ7hg9vCE0PRdi+bVYfPIVoV13EU4+MEC5d29gNsMNPY0eYo3VSVRdNh3mLw9i1Y7riOLeT8OkOyxHNUb+r8uqoVXH/Lj/XAz1SD8EScqjRT0Znt59iU/5W8LaoTfKRf6wjmOnodkTJyyS2sBWfw82JgyCjYk3Vux/xP2V3MlO+EeEVx4N994S7PnubxsCvaPOWPfcEF0srWB0ZSckA23RNPhI2ut3Vwxp0HuESwqjtY09upb7wyEwf/DPkCEYNmwYevbsKZTIH2pamDUtWrSAjY0NmmZDJcJ4T2dYP+iElRPq4OuWKwvB9c0rcNIvCZKwCGg1GwPLYmexLqALpv9lBrVQDyzfKEH/saa4sXobrkUCyWITdB07HPU1PbF0yVXEfnoLUcduEB97CH0zP/iWnwGX3iXweNV4nKq6HNOaJeLRweXYdT0KatBA2e7jMLTaI6wQllVr2xEF7j6DSByJd0ESlGtVH7LHd/HqUz40nzgTPc0if1jHcZjS/DHmuMtg7dYWT5atRsJfXRG/4yAe8xtuGALCK2PE4j6Q7Pz+bxugdwSua57DsNsYjC1xGbsTB2FSs084tmIHbkapcRtuWe5vG41G+dnfdhciWSD8wyQo3HYCpnYvx6191rH+QbZs3owzZ84IJfKFmhaSLJAh2u8t1FtOwEyXRXDuBFz0DkDFKsBVz+eQyILhczEYJtVjcWqDN0qNnofZ82aibeRu7L4ZD2lMMF6qNYfLhhlopasGNZ26GDrYEOdWHoZfyomF5DmX6K/DbLwb5ro5ol3MLmz3jkq17HQ0UQ+Br6g+JsxfhGHGN+CV2AXT3Oagg9QTV3wlP6/jpZdIGY9SGhOCz1ESaFTtg6mzZ2Pa8LrQkJVFt241kfjT3xaLRm1qoLh5H/zVsCDiQkIQFfci3fV7JamDiQsWw6l1LM56vkLOXDglJPNkUW/xVr0Vxs+aC7e5nQFPLwRWrgxc9sQLiQzBXhcRYlIDcSc3wMfYEs4urrBvH4l9O28iXhqN4BdqaOq2AXat9bjTNG3UGT4YRc6sxLGvGy636b7Yjw03KmCs23y4OHZAzK4tuBL5bVnbpmIEvxGh7hR3uI0sjVsXE9HJwQ2zOklxycc3jXW8iFdfB5KVIoZtf8lV0NN+NmY6DEcdDRnK9OyO6gk//21xjduiWnFz9Py7IbRi2TYfh5cH1uFWeSu4uLlhRvsY7NnqjSj2t71KRO0pC+Hu3Aaxpz3xmjZcuUNhQO6IUNDIGMlXlsFphgOW/OeLeG5HomfREiUeXcTTd5dwQ2SBpkX88db/E25scMIsh/k4FaiO5AjuVINb3qicGXTEYnxpzCmCrsVIDDA8i7XHPny5pyf1x4ek8qhixGVzkS6qVjbAh7dB/HO/LSuCoXFpaHHnHwV1dGFkXBIaIi3oaKshkduQf17HJKR1iUkWdg3rF3mj/LhJaM29X4aW+8X6FTUxhY5IBG0DPaglJKT5noTkBZF2CRjjMlY5TMesRafwNp77bus1RvMSD+H9+B28r4vQqHkRfPD1R/C19Zjj4IBFJwOgnhzBHYC55UuYoZwOt+0JrbBF3LLDhxTlgvxRfBDygNTfH0lmVVGc3zSqoVKRD3gbnPxtWW6PLjIsDWMtLk8U1EahEsYooSFCgUI6YBtuWusoTXPDDcWNNQvhU3EcrNsYQSNDy0nx0V+CclW553PbaqFqVWDg74tP3E5HVNQEJjoiiHQKQ08tHom04codCgNyJxHXd6zDW/PJcJ47G6ObGII/4uk0QPOyz3Fs2y1oNW4KA3ERGBYphZbWzpjl4oihHeqjuinrTEUNail7kxQifTQayZ1lnN2Oy+Hci4mLoah6APyjWDRIhL//Z+hyB9cflxX/+DpfpbOOP+LO8A/N34WkvrboW4k1x0x7OX4gJFmqF0h3/bg/5btBk9J6U0LyRuK17dj4pjYmzJ2HmWOaoggXvZOhg/oty+LFkW24U6AJGhcRw8CwCEq1toGjiwumD++IujVMoct9rdXUUgJ8ChF3EsCCvAd2+UTw33ZxsWJQD3iPL5sGF5o/F4JBoR+W5cN82tJexx+xM/z52JPUF5P/qgx+y01rOW6dRdzS35YXw7CYOgLfR/EnHYn+7xGqa8Ad/LkJLsDTlivfKAzkNVkYrqywhtUYS+4xFnMO+KFsDTN8+m8llrq5YvtzGcRhn5HAbZK1WpnB91EhNLHQh0ijIrr8XRLeLjPgOssOi/+L5XYyPwz+kIpInzvLGFYbGgncZqhRFd366uPc7JmYzwWJbR+b46/WRYRnZoQ4jXUM5Q7bqcngf2wFdvtKEHTCHTNtbTFz2QVoV/v5b0sqVgpa9zZh9blP/E4E6lWyuH6E5LRkhPksxyR+u7WEjdMBvCtdA+U+ncKaRa5YsPUZZKJwhCYA+Wu3RjnfhyjUzAJ6Ig1U6N4fRpfmwMnFCQ4LTiHWwBDpbrl8kB8Kc/V4/gCqUaUneuufxVzHuXBz2oyA5gPRonDqw+yviU1+XsewHwZblQUcx5odb5EUeAKL7W0x3X4pLhWs9vPfJimGElp3sXX5Of7sn9twUblHP+h5zMLseS5w3hyApgPawCDjq0fyEFUgzKTsrUCYPmlsOGLVCkGnwLe8Fn9vFZwu1MGsiQ35tM6TxiEyKhkF9bTSPRtIlzQWUQn5oKOV6SV5aa1jRqS1nCwxHkni/NBMvSpZXL/MoAqEOUcZKxCmi/vOhseooVChAt/OtOLuYq3DBdR2mYT63zZcxEVEIVlbD3/y9ZbGRiEhn84fLZvmOmZEWsvJEhGfJEb+7zdcxEYlIJ/OH+yTMokqEGafzO3FSa4Ra+mlOlhK8fE/V9htjkHbfvW+BQFGXACF/iQIMGKtLB1ov1/HjEtrOZHmD0GAyeL6EZLruO+sXqqDpfTjKSyYshmx7f5Cne83XBTQ/bMgwIi1/jAIMD+sY4altZxI84cgwIihlQtBgGSvzO/JSR4Qo0QHeyxbbos2JWgTI0RRiEt0xNRVKzDpfyXo4EjkGoWBTNLQ0IBEQu1ilI0kKQmamt/6eiDKh992uc+ZKI8kbl9M2232oDCQSUWLFuXvgbKxtIlyYHVRnj19ijJlygglRBmxz5d9zkR5PH7yBGXLlhWmSFZQGMik/Pnzo3fv3tixY4dQQhQdq4RkaGiI6tWrCyVEGY0YMQLbtm2jgW2UhFQqxY7t2zF8+HChhGQFhYE/MGnSJKxbuxY3b94USoii8vf3x3R7e0ybNk0oIcqqYcOGKFWqFBwcHIQSoqhYoJtmZ4eqVauiVq1aQinJCgoDf6BatWrYuXMnhgwejHXr1iEqivWgTxRJYmIiDh44gG5du2Ly5Mn81R6i/I4fP447d+5g5IgRePLkiVBKFMnDhw/5ZsAvXrzAoUOHhFKSVdTPQBbcvXsX8+fPx+nTp2FsbAwNqsiiEKRJSfwVAXNzc0yZMgXt27cX5sg36mcge7D1Wb58OdasWYP8BQpAV1dXmEPkXXhYGJK47XfMmDGwsrKCtra2MEc+KVI/AxQGskFoaCjev3+PhIQEoUQ5sL8nKCgIpUuXFkqUg7q6OoyMjPiHIqEwkL3YQeXVq1f8lT0F2g1myMuXL1G+fHlhSjmwbst1dHT4vyv9rtLlC4WBHCKvYUBZsYp17JLcxIkThRKSlygMkIzqxP1///vvv8IUySvUAyFRCh4eHvyDEKI4WJfpp06dwocPH4QSQn6PwgBJF7sy4OXlxVe2I4QoBrbdMhTkSWZQGCBpCgkJ4StIxsTE4OrVq0IpIUTepYSAlFBASEZQGCBpOn/+/NdKVXSGQYhiYPWqPD09+d8pDJDMoDBA0pR6R0I7FUIUw+3btxEWFsb/zloCsQrAhGQEhQGSpo4dO6J///5o2rQpRo4cKZQSQuQZa3q3evVqvhne2rVr+e7TCckICgMkTT169OCDAOvuk/r+JkQxVKpUCaNGjeLDwOjRo5WurwGScygMEEIIISqOwgAhhBCi4igMEEIIISqOwgBJE+toKDw8HNHR0YiNjRVKCSHyjvURwpoFs5+EZBSFAfLVs2fP+HEI2Gh+enp6WLJkCc6cOYMiRYrwFZOGDhuGy5flv49tQlQJ6xiMjcD4v//9j99WK1eujMIGBqhQoQIMDQ3Rrl07fqh1CvXkVygMELx79w6dOndG8+bN+dHAXN3c8OLlSzx5+pR/vPH1xVpuZ1KuXDkMGTIEderUwa1bt4SlCSF5QSqVwtXVlR9VlI1FMGjQIFy8dInfdlmwZz8vXLiAvwcMwLFjx/hh1hcsWMB3TETIjygMqLg9e/bwB/c6tWvj7r17mGZvj7p1637XPpkN+VutWjVYWlri6rVrGDV6NN8PgbOzs/AMQkhu8vf3R8OGDXH27Fl4nDuHLVu3ogO3TRYvXlx4xhfFjYz4EQy379iB02fO8KGgSZMmCAgIEJ5ByBcUBlTYVm4HMmXKFBw6fBjWNjbQ1NQU5qSPtV/u1asXLly8iMNHjvDLE0JyDwsC7Cpe+/btceDgQf7KQEaYmJjgyNGjaNqsGVq2bInAwEBhDiEUBlQW67/c3t6eDwJVqlQRSjOuWLFiOMjtiM56eGDZsmVCKSEkJyUkJKAdFwLY7TqbCROE0oxjYX7q1Kno1bs3OnToAIlEIswhqo7CgAqKiorC0KFDsWz5cpiZmQmlmccqGW7atAlz5szBixcvhFJCSE6ZOXMmzMqVw9hx44SSP8MqCrNAz7ZdQhgKAyqItRJo2KgRWrVqJZT8OXbpkd1iYFcZCCE5h90e2LhxI9wXLBBKsmbR4sVYsWIFP6ARIRQGVExSUhLfzGj8+PFCSdYNHjwYFy9e5HdWhJCcwQYg6tO3LwwMDISSrGFXBrp168bvDwihMKBivLy8UKJECb4t8u8kPTyI7T4h+F1DJG1tbXTp0gX79+8XSr7H2jdHREQIU4SQP7Fn714MHDhQmPqFpIc4tN0HIRloQciaI+7evVuYIqqMwoCKuXHjBurVqydM/Vris/9w+FYokoXpX6nLvSZ7bYa1f75+/Trmzp2LFi1aQF9fH+fPn+fnEUIy7/PnzwjlHqzzr99KfIb/Dt9CWAY23GrVq/NX9Fg9IqLa1JJZv5UKgnWW0aBObdy8e08oIZnVv39/fmjivv36CSU/k749AAfHo/D7eB934iqgjmkxNJ2wDJZ10m96+PjxY/wzZAgfNDw8PPiujFMrW7YsX+GQfI/1HmdhYcE38/ydeua1FPK7HxkZiW6dOuGCt7dQQjKL3YabMWMGjh0/LpSkQfoWB2c44ojfRzy4E4fydU1RrOkErLGsIzwhbayHwpUrVqBRo0ZCyRcsJLAH68+A/JloLmR17tAeF33kv+dWCgMqhl3O78cFgfYdOgglaUiKRFBQJKL+mwabgLFYM8wEOgZG0P/WD9FP3r9/j+7duuH+/ft8r2csELDHq1ev+Pms57PWrVvzv5NvWPfOW7Zswe3bt4WS9FEYUF0nT57EipUrsWvXLqEkLUmIDApCZNR/mGYdgLFrh8FUxwDFf7Xhcvr07o3p06ejQYMGX7fdc+fO4fnz5/y+Yu/evcIzSWZRGMghFAayrmfPnujMBYKuXbsKJemLPW6DUR9tsM3SFGKhLD2vX7/G33//jdfCwT+Fn58fv3OpX78+atSoIZSSFCwM2NraZmjMBwoDquv06dN8oN6XTr2c78Qex4RRH2G9zRKmv9twOZ06duSv3LHeCVk/BiRjWOXLo0ePClNpU6QwQHUGVAwbXyDlbP13tLouw84MBAHm1cuXKGdqKkx9U6ZMGYwYMYKCACFZkJntlttwsXRnxoIA8/btWyxcuJBvYnjkyBGMGzeOH+SI6du3L38SRo/vHwcOHODHcVEmFAZUDDtDv38v+88u73GvmdGKiYSQzGGdg7EWOawiYXb6+PEj/5MNYqSrq4vu3btj5cqV/C0CdlWPdU7Eei2kx88PZUNhQMWw2v1XrlzJ9qZ+x48f5/tKJ4RkP3bwadu2LY795rJ0ZrHL3Ox108LGPKDKg6qDwoCKYeObsz7Jd+3cKZRk3aVLl/hBjlgrBUJIzmAdhbHuv7Ormhe73L11yxZYWVkJJUSVURhQQazrYFYzOTAbhjFlFY4cZsyAg4ODUEIIyQlspMKiRYtiw4YNQknWrOL2Aaw7cdaKgBAKAyqoevXqGD9uHKytrfnuibPCefZsftRD1gSJEJKzWDPUxYsW4cmTJ0LJn2FNgFn3xps3bxZKiKqjMKCiWAcmrBvhkSNG/HEgcHN1xdWrV7PtTIUQ8musIuGaNWvQt08fPH36VCjNnIcPH+Lv/v35QY9Yax9CGAoDKkpdXR2HDh3if3bp3DnjzZY4rEbziOHD+Y5JPD09UbhwYWEOISSn9eGCwLJly9CzR49Mjyuwfds2PkisXbuWbydPSAoKAypMQ0MDhw8fxpAhQ9C5UyfY2drixYsXwtyfBQYGYr6bG5o2aYLy5cvz4w8UKVJEmEsIyS3sthwL4ls2b0bXLl1w4sSJdK/wsXLWaoB1LsTCAxusrAcXJAhJjcKAimNNllgtZXbpsGTJkujVsyfq1K7Nn/k7Ojpi8uTJGDd2LBpbWPAP1pc+az3AekPLly+f8CqEkNzG6v7cvHkTNjY22LRxIypwAZ11CT5t2jTY2dnBdupUdOvaFeXNzLB9+3ZM5aZZgM/IiKVE9VAYIDwjIyM4OzvznZCw7oNZz2OsR8FnT5/y/Qew4YnZ7QFW6Yh2JoTIB3abj10l8PHx4TsJcnJyQg0uJLBucAsVKoTZs2fj3bt38OICfO/evZWu1zySfSgMkO+wKwWsK1I2zsDo0aNx9+5dvlOSmjVr8jseQoh8YkOFs22VtRJiV+1Yj4Jt2rThywn5HQoDJF1s2FSJRMJfKSCEKA5WuZe2W5IZFAZIulJ2JrRTIURxPH78GAEBAbhx4wY/YiQhGUFhgKSLnV0w58+fz7YuUAkhOSslvEulUly4cIH/nZDfoTBA0sQqEqb0cvbp0yc8ePCA/50QIt9SQjxDV/VIRlEYIGliAWDUqFF8pcGhQ4ciKipKmEMIkWeVKlVCtWrV0KhRI765MCEZQWGApKlWrVpYt24dPxrhihUr0KRJE2EOIUSeLVy4EK1bt+abB7NByQjJCAoDhBBCiIqjMEAIIYSoOAoDhBBCiIqjMEAIIYSoOLVkBWpALpPJ0KBObdy8e08oyRusV74zZ87A398fCQkJQqlyWrJkCT+QERvhUBmxv4uNvNihQwfo6OgIpbnn8uXLsLW15X/+Tj3zWnn+3f8TrOObbp064YK3t1CSN27duoXly5fzg/uwAbeUue+MuLg4iEQipR1MjHWbrq2tjQYNG8Laygrm5ubCnNzBhn9nI0Cyn7/Cxojo3KE9Lvr8fvvOaxQGMoFtYG5ubli/fj1MTU35YXw1aeQ+hSZNSoL/hw+4eeMG+vfvDwcHB37QptxCYSDnsfdnQ/a+fv2abybbqnXrPAl+JHuxz/Wchwe2bNmCKlWq8AdmFhByA4WBPJaXYYAFgY4dO6Ig92VjzXUqVqwozCHKIDAgAKtWreI7bGFjMuRW+2wKAzmLvXe7du1QtWpVzHN15c+WiXJhPS1OnTIFvr6+OH36NAoWLCjMyTnKGAZoy8igrl27ojh3xrh582YKAkqIfbZzXFwwcOBAtGjRgj+IEMVnM2ECfwXPbf58CgJKig3LvGjxYpQsVQpTuFBA/gxtHRnAzhTZmODLli2jHYqSGzd+PKpWq8ZfeiSKLSQkBEePHMFMR0ehhCgrVofAkfuc9+7di/DwcKGUZAYd2TKA9cA3YsQICgIqYuTIkVi5ahUNzqTgduzYgfYdOtB4/iqiaNGiaN2mDXbt2iWUkMygo1sGsFH7unbrJkwRZdegQQNERUbi/fv3QglRRG/evEH16tWFKaIKqlWtytcdIJlHYSADIiIiULhwYWGKqAL2ebPPnSiu2NhY5M+fX5giqiB/gQJ8ZW+SeRQGMojdkyKqg90SYq1XCCFEFVAYIIQQQlQchQFCCCFExVEYyGuSh9g/2wGrzn2EVCiC9BVOuM/EJp8woeB7snAfbNvojVAZEP/+Pp4ESBF1dQs2XQqGTPIMRxftwcNE4cncq748sgj77n8tyJzE+9i36hTepawce31XZ+y59+2+XMo6AHHwv/8YgV//kIz4tszXv0GYQ4g8kzzcg7kOy3H+47cvvPTVUSxyXI/LYWl9i2UIv7wZW7xDIYt7jwePA7itMxLXtq6Hd0gCnh/mttMH37ZT6YsjWLr7vjCVWYl4sGclTvt93XC513fFvF33uC1O8HUdUm/DGfd1mcgr2L7+EkJow1VoFAbymjQUb54+xuX/vBEkbIuSZ+fhcfURngemM+5BQiCePQ1AQjK3we9fg3PvpchnaoHGFbQhSo7A24ev+KDwhRQRvg/w6k+3VNlnvHn0DtHC4vF3T8MnIgY3j3nhy/7u2zog8QEOrj0D9muGpVrm698gzCJEnklDX+PZEy+c9Q4Ugjx3wPU8g2uPniEonU03MfApngXEI+HBfmw4+45bLj9MGzVF+YJqiHjzAG8+f9tOpeFv8OhliDCVWTKEvn4E/5QNN+4uznqFI+b6MfgIQSXx6zqk2oYzLNUy+cuhYdMK0KYNV6HRxycH1HTMYa5xG1f4U2puh+LzFiXqGEPMTck+n8Yi11MIZttv4nWsn70Hr4TtW+Z/EZ4PA3HvwE74XDuGY7cjhJ1SOmKf4YS7PWY42GO603pc49KHLOQqtsyyxyyHyZhg5YiDT+O5Fw7F7e1z4GA/A7MWn8GHry8ajZvnn8Ok51DUDjuHC9z6St+nrMMOnPrPA48C7+Lw7muIjP7xvSQI93CHs/siOE2eABtrZxx/HQ//iynLXEHQ/eP83yCJ5ALC3Kmwm2YLu5mrcZk7+5CFeWCxozuWOkzClHFWmHf0Nfc/RUheUoOOeR2o3/b5EuQlT3HlbUnUMeZ2q1yI9nB3xelP/IaLm2tnYf9LYUOSBcD73AME3j2AvVcCcP/EYdyJ+NWWG4vnx9zhOG0GHG2dsOlKELedy/D56gbMsXeA05RxmOi4H8/iuQBwcxtc7afByWERPPy/vWb0zfN4adoLg+uGwvM8F16k7+ElrMPuk6eEbXgXbkRE//xesjCcX+CIRYtmwHbCOExyPoJXvinb/S5cC7yHf4/cQoQkEo/2u8B+sh2mT3bAeu+ANJd9QxuuXKIwIA9EeqjXQBN3fbiNNPExrrw3RSMTFgU4SdEICYlGEuv/RhaP8E+RSBTCgKhUC7SqXhy1+vyNmsmf8TlK2Mri7mDbBEtYjWEPa6y9EsbtOqR4d3wDfIwt4eziCvv2kdi38zpC/N5CveUEzHRZBOdOwMVLL7nMcAjbn1TDeJe5mNbdjHvfLy8rC/PBxffV0bxWebRoJMWlM68B45R1GISOHdqiWnFz9Py7HsJP/vheNxEbE4xXkjqYuGAxnFrH4qynL4q1SFmmIbRiQ7i/IQ4vD6zDrfJWcHFzw4z2Mdiz1RtR0mgEv0pE7SkL4e7cBrGnPfGadiokj6npNkD9fF+CfOJjH/ibNEYZftOVIjokBNFfNlzEhwUj8uuGa4SmbWqguHkf/NWwIOK4533ZdONxb/MEYbu1xKTVVxDOLS71O4bNXsYYMXcunGe2Q9SenbgdGwW/txpoMWE2Zi+chw44D6+nj3B06xNUtZ6L2Q49UO7rhhuKK+ffoVrLWjBr2QjSC6fxBsZoJqzD3507CtvwANQJP/Hze8VLERP8EpI6U+G22Bkt487AK77x12Xqa8Xy+6i4F/ux4UYFjHWbDxfHDojZtQWXo35e9uIr2nDlEYUBuaAGvUYNoHnXB+8f+uCjWROkZIHvJXP/MqBAbQxZuhYr1rDHclha6HMftBTvff0RfG095jg4YNHJAKgnR0FW3BjJV5bBaYYDlvzni3hJEpI+fECSSQUYcOuQ36wqzLRZs0oZgi+ew/3P97DD3hYrvILwwfMUHsR/ecvvpfVekYhOFqGoiSl0RCJoG+hBLSEhjb9Hio/+EpSragQNbq0LVasCA39fsBMsUVETmOiIINIpDD21eCRm6D+DkBwk0kfDBvm4IP8Ojy5/RLmmpvwVvR9lrDfL/Kg1bKmw3a7F4rEW3Pec2yLe+eJD8FVscnLArPknEaguQ0S0FoxKJ+Pqcu4MfuZCnHkbj6TED/iYZAKzIvyGiypmX0ZmlH26hAv3QnF/qz2mL/XCJ39PnLmf5oab9ntFso2vGMqa6kAk0kFhPSAhIY0t94M/krj9RXEN7um61VCpyAe8DcrYsiTvURiQE2qFLbgzjBvYcTwI5ZuWg7pQDg0NiBNi+Uo/0s8BCP7hCKjGrkgKJwC/pgYDwyIo1doGji4umD68I+rWMMaLnevw1nwynOfOxugmhixvQFzUEKIAf76egCwsCJ/iuELpe1y8lIDurmswf9EizF+xEpamd3HmatR36yDiA0ta72UCHW7HJvquv4Yvf8uXZVKIYVhMHYHvuaDCTSX6v0eorgG/U+T2Jtwrf/P9/wQheUO/UUPkv7EV/wZVQGPTlC1XHeriePD930g/I/DT9xV4+X5LZBn7BqsVMYRBqTYY7+yCWY4j0K5eTZhoXceudb6oNWkenGeNRWO26YoMUUQUgA9fNlwEfYrllpbC3/MS4nu5YjnbbhetxNJx5XDv1FVEp1qHlG04zffSY4cJNW6d+ad+9eO+R1y0GNQD3iPqy4aLD58Lgcv8nJ+XJfKHfcpELuijQcP8eBDM7VDKfju3EOnWQgN9Lyyc5oA5Gx9DqpX6IxOjaMmCuL95BXwifrdj0UCF7v1hdGkOnFyc4LDgFGINiqFcDTN8+o/bQbi5YvtzGcRhnyGr1hM9C52Fm/NczFvlhVCxGqSvz8MHFmj+5Root2LcGVHrinhx1ltYh+U4H2yIElp3sXX5RRTq8uN7GX4LOKmJiwnLnOPP/tlOtHKPftDzmIXZ81zgvDkATQe0gQHtTIi80m+EegXuI7h8U+EWAUeki5oN9eEz3w6zZm3AE6nWd0FWVKwUtO5twupzn1Iu5qdLo2J39Ct5Ca4z5mDONHeciTNAkXymqFbuE86sXIgFrlvwXCpGeIQZuvcuhPMuszF/zkpcDuVWRvoaF7yBhi3KCFcsRNCzaI0Kz8/AR1ziyzp4BKOIsA17Fer683ulveF+3e49P33Z96hX6Yne+mcx13Eu3Jw2I6D5QLQsQocYRaGWrECjsbAe4RrUqZ3rY7qzFB8c8qe1erODFPHRcRBra3OH9B/JkBifBHF+zTQvT/5MiriIKCRr60FLWEAaG45YtULQKfD9hiuNi4Uknxby/3Z7TrUOskTEJ4mRX5O9+M/vlabvlkkhRWxUAvLpaGXw78peLZo35wc8qVmzplCSMy5fvgxbW1v+5+/UM6+V69/97MCGg+7WqRN3UOKOSrlo+PDh/AiUgwcPFkqIstu4cSPev3uHVatWCSU549ChQ9i9ezf/81eio6LQuUN7XPT5/fad1yi2KQTuQJlmEGBE0MxwEGDEKKD7/cFZrKX3UxBgxAUyEgSYVOsg0kx1UP/5vdL03TIpxNDKoyBACCGqhsIAIYQQouIoDBBCCCEqjsIAIYQQouIoDBBClBINO66a6HP/MxQGMkBdXR0SCfWapUoSExOhqakpTBFFpKOjg+joaGGKqIKoqChoa2sLUyQzKAxkQPHixfHW11eYIsouPj4eQUFBKFq0qFBCFFHt2rVx6eJFYYqoAvZ5s8+dZB6FgQwYMGAAtu/YIUwRZXfkyBFYWFjAwMBAKCGKqG/fvnj06BFevXollBBl9uTJE/hyJ209e/YUSkhmUBjIgLFjx2Lf3r348OGDUEKUVUxMDFavWgVra2uhhCiqfPny8Z+jtZUV3/kLUV6sY6sJNjaYOHEif1uXZB6FgQwoXbo0HB0d0b17dwoESowFgf79+/NXBdq3by+UEkU2ffp01K1bF/369cPbt2+FUqJM3rx5g969eqFZs2aYMmWKUEoyi7ojzoSlS5di7ty5GDJkCP755x8UNzIS5hBFxiod7dmzB5s2bkTLli2xYcOGXKuRTN0R5zy2i5szZw5WrFjB309u1aoVChUqJMwliiqC+16dP3cO9+/f568I2NvbC3NynjJ2R0xhIJOePXvG71R27NjBHzDkvcZ5UlLSH182Y18NqVT6x8uzZdn/kUgkvxeg2DqyKwLsqg+7pNy4cWNhTu6gMJB74uLi+NB38+ZNfp3kedfHWi+xiqysRcSfYAE3f/780NBIuxPz3wkLC4O+vr4wJX/YfkVXVxf169fnr+axW0K5icJAHpOHMJCC/bdFREQgISFBKJE/7PIZO8t1dXUVSjLn0qVLePz4MV9n4k/s3LmT32C7dOkilMgftrPU09PLs8BCYYCk5cSJE/Dz88P48eOFksxhJywmJibo3LmzUJI5kydPxtChQ1GtWjWhhKSmjGGAHdQUBncWl1y3Vk1hivzO6tWrkytWrChMZR53kEpu166dMJV5ffv2TR49erQwRdLi4+OTbGFhIUz9mqJ+97nQnNyiSRNhimSEtbV1crdu3YSpzOvatWuyjY2NMJV5NWrUSF6yZIkwRX508ODB5J49ewpT6YuKjExu3jhj23deowqESszDwwPPnz/H+/fvhZLMYct7c2dzf3L1g13FOX/+PP8ahJDMYdvNhQsX+Nt8mcWWuXjx4h9ve6yPjYcPH9K2q2IoDCgpdi+c7UyYc+fO8T8zIyQkBPfu3UNsbCyuXLkilGbc3bt38fnzZ/5WBWv7SwjJGNZi6enTp/ztlRs3bgilGceWYcuydvcfP34USjOO7S+4E0X+NiH1vKo6KAwoqVu3biE8PJz//U8SPjurZzsE5k+WTx1A6AyDkIxLve38SZBPvb39yfIpy7CKtVevXuV/J8qPwoCSSr1DSH1gz6is7lCyujwhqir19vInQTqvlyeKicKAkmrTpg3f7rZmzZp8zeLM3vdnzXWGDx/Ov46dnZ1QmnGsmV7Xrl3x999/Y9iwYUIpIeR3Bg0ahMGDB6NDhw58rf7MYsuwZdlrsNfKDHZbYNGiRXxHTex1qPMt1UFhQEk1bNiQ75GLDbLE+mhnbY4zo3Xr1qhTpw7MzMzQq1cvoTTjWBCoVKkSatSoQTsUQjLhf//7H8zNzVGhQgW+/4vMYsuwZdlrsNfKDNbUlu0vSpYsiSZNmuR6vxsk71AYIIQQQlQchQFCCCFExVEYIIQQQlQcdUesxM6cOYNx48b98X0/1mER66Oc1T/4E2wseVZfgA3uRNJG3RGTtCxfvpwfQ4FVwP0T69atQ7Fixf6ozgHD3t/KygodO3YUSkhqNDZBHqMwkDmJiYn8wCx/ytPTk++9kI3S+KfYCHHGxsbCFPkRhQGSFtZPyMyZM4WpzGOdFhUoUABly5YVSjKP7TvYuB3kZxQG8hiFgdy1Zs0aPHjwgP9JcgaFAZITJkyYwAcB9pNkP2UMA1RngBBCCFFxFAYIIYQQFUdhgBBCCFFxFAYIIYQQFUcVCEm6qAJhzqMKhCQn2NjY8K0J2PgEJPuxioO3b9/G0aNHhZK0UWuCHEJhIHexELB//34EBgYKJSS7vX37FpUrV8adO3eEkvRRGCAZNXbsWP6AZWBgIJSQ7MS+071798bSpUuFkrRRGMghFAZyFwsDN27c4M9cSc7R0tJCmTJlhKn0URggGUVNC+UDhYEcQmEgd9FtAvlCYYBkFIUB+UD9DBBCCCFEYVAYIIQQQlQchQFCCCFExVEYIIQQQlQchQFCCCFExSlka4IT/50WSkhO2rp1Kz8U6vz584USkpe6dGivsK0JWjdvhslTqYlqbtm2fTsMDQ3RsUMHoYTkhejoaKxbs1ohtluFCgP/b+88wKOs0r99z0wamfRCCqSShBAJoTdBUBAVFdayiq7sX3dX97OCrm3FtruuHQu6KGIBFQRBivRigBQIkEYKJCEJ6aQB6W1KvjPJICkzIUHAdTk3F9dkZt731Od5znPemXl/Bu687Xc0NjQYn0kuJfmFhdTW1jE0bIjxFcmvia1azZp1643PfjsYQsxXX3zBqVOVxlckl5ofN23C2dmZyZMmGV+R/FoEBARy5113GZ/99/KbSwYklw95nwGJ5LeJvM+ApK/I7wxIJBKJRHKFI5MBiUQikUiucGQyIJFIJBLJFY5MBiQSiUQiucKRyYBEIpFIJFc4MhmQSCQSieQKRyYDEolEIpFc4chkQCKRSCSSKxyZDFwwNRxd9y4vPPIAD/zpcf617ADlOuNbEonkvxN9KTvfeYJ5jz3a4f/j/Ht9LlrjIReHRvLjkymWMUHyG0EmAxeIJvlz3tiq5q5/fspnHzzOVenv8ObGMvTG9yUSyX8hSjeu/tML/H3B89zokIfFNc+Jvxfw1+k+WBgPuSg0x/PNe5vIk8mA5DeCTAYukFZtCxpdCw1NOlQOIcx+5g0eGG0rdh7VJC1/nkcffFj8f4KFu4poqdjIqwvWU2rIFJpjeP/pL8loOc2WV55kwTNzuOvZ9dSlfMs/5j3OvAf/xJMfR1Opryd99cvMe0S89vBTLNp7EhlXJJJfigVqV088vTxwsFFhae8u/vbEzd5SvKenfO+HPPPYPJ586D4eeHI5afWd/VR/Oo7PnnyAvz7yKM+/8BTPfJqEpj6N719+jMefeIxHn/qAfSdbyN+5haTiQ6z4PIoquUOQ/AaQycAFYjXy//H3GdWs/Nsd3Dr7jzz/dTpKRzW6o8v5IHYIzyz+hI/evZ2Grz4msqqWivIatAYVCH0Dp0uraW7VUl+Wjv66xax8LZwfFu3G+5GFfLjkDW4hnaNHVvHRbn/mL/qID9+aTfWXn3Ggsb1uiURyCdBXcTzbghteeI/3P/uY29jKroymc376xk0c/eZj0se/xuLF7/OXgEpyTjVy4vsPifR/ivcXfcwbs6tYtjQOjxk3M2LAWP7wl2twklFW8htAmukF0lBWievMF/l49TZ+WPos01s38sr7UdTk56MNjWCA2GgoHUcyzKOIE+Udtwat4p8RpTdBIY5YtBZRUBtIWICVeM2DaY/9P8adzqGgLIpFf3uCp15aS4mlnqpqucWQSC4ZSgf8BsG+Nx5n/vxX2ZjThMaQwZ/1U5WOvHwdQWH9UWGF79DBOCvFa8fzKYt6n2fnPcGra4uxFEmFvBog+a0hk4ELQkf5jtd5/rNEasUzm/5DmXxNKNa1tbR6eWFRlEfbut1ygvwyJ9xdrVA11FEn4oquopiy5rPpgAqVyvDgRf9+ZRSfNpxUS+ziN9nW2h93v5k89/4i3nvnCWZPHMUgZzldEsklozmKpe9nM+blj/ngvWe4zkMk7m2uavRTkQD4+KjIzz6DXsSAsuw8segrcPfsj+/MBbz74SLefOI2JowMwlmlEMFVbzxfIvnvR64uF4QK/zvmcUPJW/zxzv/j/z10P3/95AyzH5yOW8S9zHXdzHPz/86CJz+m8Pq/cFPwWCa77eYfjzzBs4uS0aq7DLtFMHc8EMDeF+bz4tNPsezkEEZdcw8P+OxiwRPP8uwjL7OxwR1Pw8eaEonk0iD8cGToSTa+/Q9eWfAfjuosOF3ZbHzTgCXhf3gI35+e5dHH57MougoLlRVD5vwJn13P8eRzT/H4K+tpcPfEUiT4PupDLH5zs/xFgeQ3gaJVYPxbcgFo6k9RrbXDzdHa+Eo72voamq0dUP/8FWUdjbUNWNjbi5BiBm09VfVKHBz7/Zyl6RqqqGm1w/lcQZeNTz75hJSUlLZHieTKQEv96XqUTo7067ZV0lEatYrDrrdz61XWlK56jFfqnmbxXwLF9kBHQ1U1rXYu53xe30KTRoWNddtlhcvK/Pnz8ff3b3uUSHqDvDLwC7FUu3ZLBAxYqDsmAgZU9OspETBgocapQyJgQGXr9KskAhLJlYkFahdTiYABFS7e/Uj+z3zmP/Eo/zw8lPtv8xevtr9n69QhETCgtPpVEgGJ5EKQyYBEIpH0Equg23lp8RI+WPQJixc+wgRXGUIl/xtIS5ZIJBKJ5ApHJgMSiUQikVzhyGRAYhYrKyv69etnfCaRSCSS/1VkMiAxy5///Gfee+894zOJRCKR/K8ikwGJRCKRSK5wZDIgkUgkEskVjkwGJBKJRCK5wpHJgEQikUgkVzjydsQSiUTyP0ZGRkbbL4H8/PyMr0gkPSOTAYlEIpFIrnDkxwQSiUQikVzhyGRAIpFIJJIrHJkMSCQSiURyhSOTAYlEIpFIrnBkMiCRSCQSyRWOTAYkEolEIrnCkcmARCKRSCRXODIZkEgkEonkCkcmAxKJRCKRXOHIZEAikUgkkiscmQxIJBKJRHKFI5MBiUQikUiucGQyIJFIJBLJFY5MBiQSiUQiucKRyYBEIpFIJFc4MhmQSCQSieQKRyYDEolEIpFc4ShaBca/Lwn6U9kcyatGb3xuQGHjiG1DAcV6f6aNCzS+ehloLiPz6EmsAoYR4NQxD2qmLPMoJ60CGBbgZD5DMnu+npr8NI5XalF7hxHqZWN8/XzoqSs6SmZZs/F5OwobD/yc68gvBe+wUDx7W5zkyqIhn/i4bHT+YxkXaG98sW805McTl63Df+wYAu3PszfoWN+ABjLTi9F7hjLE29Z4QF/Qo2loRGelxsbC+NJ56XhOEyczhM/iTVioJ9JFJP+t6DUNNOqsUHcx9K6+Z+64y4XqVYHx70tCc/JK3vhiK4cTEkgw/k/MU2BdvINtWY7cMmWw8cizGBbINNLKLfByuZAgYwoNp7Pj2LT8C77bmUhL0HRGeqna3zmdTdym5Xzx3U4SW4KYPtKL9nc6Yv58A/rKWL5Y+Dlb9idR4jCWSSH2KIzv9YyO/O0f8/GaKOI7jY8VfspYvlydgcP4qwm2611pbehryDuSQlZBMcXF5/6XiERlgKeT8aDLhUiS0jfzxRcr+XFXNIfzVIRE+KLuQ3cuCZpyMpPSyS0SY1Nykso6PdZ2dvSzuJQN05D87T9YJOxsb4kLV0d48UtdXl91kBX/WUeW4ximDHY0vtoX9FQdXMF/1mXhOGYygx17TgY61je5fypfLVxJqnr0BdWtSf+WBa9tojH8GoY4nycJMdLpHMdKopa+z6oMB8ZfHUzfXCSPIylZFHTwj+LiEiq19ng6WRuPukwIf03f/AVfrPyRXdGHyVOFMMJXbXzzV6SphKPJxzhh8JGfx+gktSpX3Owu1WJ18X3kV0eTzrcLXmNTYzjXDHHusNHs4nu2x8wcd/m45MmAtvAQO5IrGfz7V3jqvhlMmzaN6yYMwt7CAgfvwYQNchcZw2ly0xI4fDiF3JPH2L16F9nWAxlQe5SEwlbcxc6jIilKLCZaAj0bSdoXT3FzI7mpJ7H180BVfpS42EOkFzfQz70/DlYdI4OeU5GLeOXzOGqUCuobWhkwekbbYq4/FcmiVz4nrkaJor6B1gGjmdEtGTB/fvvbFcR8+RVH7ANQnzqFZcgUJvc6GVBi5zOUcRPH4XzyABlVwfzu+ceZMykU25OHickC/8FqihOTKVG4M9DVRpTbTNnROGIPpVPc0A/3/g506q42h80ffUVMSTVFR6KIzaigpiSV6IQmbpoebjzoctFIwvdLOR70f9w7bTA+/oEEuNr2cmwuIU3H2bt6LT/GZFBRXUFuYiSbdh7FYvAoBjl2TwUvDgrsvYIJVuUSVe7NjLE+vzjQtYpkUqO3w3twKINcdRQlxxJ9KJXcU0pcB7jSr0tE0dcXkRwbzaHUXE4pXRlgsCedBr2dN4ND3KhJiSW5Qk9rUQIxR8qw8HCiLjWamORiWl0H4tpP7MyN9QWqi9m/JwNd8GSRDNhTk59IbOxhUrJKaLTtj4eDguKkfcQXN9OYm8pJWz88bNtnXl+Wwt69BzlSWIfKWkk/F3887VsoEfXHHDpKkbDr/h6d7brbOc5u1B6JJgt/Bou2JCaXoHAXbbQRJzWXcTQulkPpxTT0c6e/g1Unm9PmbOajr2IoqS7iSFQsGRU1lIh+JjSFMj3czXjUZaIxge+XHifo/+5l2mAf/AMDcDGO06+JvvooO1f/wKaD2ZypKqeooICMw/s4YTeRiYMu1iatKxffR7rSXNZlrbCoJTsuhsScetQD3dFmH2B/tgY3b2esFRoqMg6yPy6Z7NMq3LxcsDH4lAn70hYlsS++GK2uiMOx6ZyycsfbsYrUvXs5eKSQOpU1yn4u+HvaGxf6VrEXPOt7ak7G7TNz3OXjMiUDFTj4h+OrFoGhGdSulmSs/4Kt+a7cMtmVmM9e59N91XgMcqE0egepygn8+U/hZH33H9ZlOTJm0gCOr1rEmnQ1t4xpZvWHq4hOSSWpyIbwwEK+fncl6VonVHm7WSvKCRx3FW6WxgaIQde2KPCechc3Ox1nT3oN3sbFvFXbgsJ7Cnfd7MTxPenUeJtKBsyfL1yG8qgv+SptEH+4w52suByUfUoGwMJajb29NeUJuzhS6cnY26dzlZMV9cdjiMoooTgvn+LMZA7sz8du7ChU+z7knZXpaJ1U5O1ey77qQMZd5cbP3RXJScq+Qgb9ZT5TdfFke9/H32ZakZzQwjVTbNmyaDGrdsWS36ghddMyvl0fQ5nrcIZ51JCwbjnfiEVy3cadxOXqGXBVEM71B/h64VdsFotM2v4trF2/k/gSW4LCfTBcVdaWxrHyk09ZvmYze/ZHseOnMgZODsddcYr9yxaxMb2KqopCsjOyqLQNY3SQI8qGAmLXLuOrFd+zYUcs6RVW+Ib4Ypu/hUWLV7ErNp9GTSqbln3L+phSFLWxrFy1XSw2kWzZeYS8rEjWrInkhHUIw/3soeY4kauWsey7DeyMy+C02o8Qbztac0yVV4brmOlMCagmPnsAf3jmz9x6ncjM6/fyXYI1N4zxEZs10+WpxOJbmbyRrz5bzqqNu4iJ2sn2AnemjhA2Y6ZPDhZNFEavZOkXK9ksko/yhjoqLUO4wRDoxK7weOQqli37jg0748g4rcYvxBu71hzz89ThI6jW6gTWfrGVfNcxBOZ+zrsbCrB1t6IwZiNRNcFcHeZyzpZ1hWx77102FNjiblVIzMYoaoIn4n1iHV9szcd1bAhlPyxlw4FUsvPyOJoYx6H4JNKP53IsKY79J2yYObTKWN84rvGp+DkZGNOyhTc/3EqBygH9iSi27MjAesQwarcsYlV0CqlJRdiMmMJQ1/bwpi2IZvWudKqaWmisqcIqYBzqw++zcHUGWkctGds3cqAhkPFhbj8vBt3O8Y/AOjuGjJJi8vKLyUwWQTzfjpljVGz74B1WpmtxUuWxe+0+qgPHcdW5gCBcJIV9hYP4y/yp6OKz8b7vb8y0SiahJYwptgdN28zwoXjUJLJu+TesXruOjWK+cvUDuCrImfoDX7Pwq80iyUpj/5a1rN8ZT4ltEOE+hoCupTRuJZ98upw1m/ewP2oHP5UNZHK4O4pT+1m2aCPpVVVUFGaTkVWJbdhoghybKIhdy7KvVvD9hh3Epldg5RuCrwPkiDFdvGoXsfmNaFI3sezb9cSUKtDEruTb7bHERm5h55E8siLXsCbyBNYhw2l3kUhWLVvGdxuEb2ecRu0Xgrddq+nyylyZOn4MQ5yKiSm/iscenoSdRiR4qixKHYehiFnMV5sPkZq2ny1r17MzvgTboHB8DAFBV0nyxq/4bPkqNu4SMWzndgrcpzJCxMuGgljWLvuKFd9vYIdYMCusfAkRnbLg0vlIRzQF2/jgnS5rxfjhOORu4IvVe8hXWnHix40UBUxjUoAV+Vvf551lMeQ3NFB0cIcYiwGMDdMQ+WF3+/IvXMeHq/ZxtLia+oJ4du/NxHLIAEq37Rbz20RLYw1VVgFMCvc0+mQr1Qlr231vtB/lZo+7fFym5ENH9tZFLFy4kIXvfcOBUx2+QaCvpay8HpwCGD1+NCHu1iIrraSyxfi+SVrF7iOCBx65nvo9u8lp7k/wsEEEi8zapkzsjo52/AxeicPgCYzzt+vWWaXDYCaM88eux1Ewf76+PIrvfixn+N2zCL0UH1oqXLj6Ty8z70Z/VNoqTleksnt3Ds39gxk2KJjBPjaUiZ1ep+5aBnPbc48z4+yVC4HKewZPPPs70RVPRt48k1ClWLi27qNp6J08NHc6gXZiPpQOOA8MYtS1s7n3j7PwL9/O7tQmlOoQJk/oT01JPa6T5vLkk7Nxz9xFXIFOlKwlL3oraQ43Mv/F53n4llDhpGJnaahUlBc67VZGe1rhd/Wd3H33Xcwc4SaSpCbSfviEDSX+zHr4OZ57RNRVvI6lm7NF80Zy88xQlCJobN3XxNA7H2Lu9EF4hk5jmLqCFv9Z3BF2htS6YcydNYCcmARKNVUcXLGUKN0o5jw6j4dmBVK6fjm7inRmygvE0N3O2OAbMQSH0iIxqebL05fv5etvUrCb9meeeeZhbh/qiFZrKMx8n5ozfxSPpxny+yd46qEZeGhqRAppoP0y4dIoHaPmPMq8h2YRWLqe5btEG3qaJ5PoKCsqpUnXQjOOhFxzJ/dMCzyXIBrQllFU2oSuRRiLYwjX3HkP0wI7HdGG0n0yD738BDN8lDSrwpn74t+4JUglEqQa4xHdUXlN5O4H7ueOaSMYHuiGUlNBaUV7W1sbbYl44BFuCTi3x7MMu51HbwpAqXRn0oMLuCc0kz178tEMvpEH73+QW4cqKYn6iUQRFs7S7ZyI9vIULlfzp5fncaO/Cm3VaZrTdrM7p5n+wcMYFDwYH5syYqOPinE5h2XwbTz3+AzOuYgK7xlP8OzvBvVoM0oHZwYGjeLa2ffyx1n+lG/fTWqTEnXIZCb0r6Gk3pVJc5/kydnuZO6Ko91F8ojemobDjfN58fmHuSVUJKn69q9pKR1CmXbraDyt/Lj6zru5+66ZjHATHpL2A59sKMF/1sM899wjzPIvZt3SzWRrlHiOvJmZoUqRLGxlX9NQ7nxoLtMHeTJs+jDUFS3inDsIO5NK3bC5zBqQQ0xCKRrDxztLo9CNmsOj8x5iVmAp65fvokhnprxAu7b2GWgtjubL/3zJ6q0puNz3b+ZPH0jI5An0rymh3nUSc598ktnumeyKKxBWKDZHe7/mmxQ7pv35GZ55+HaGiuSu3UXS+OGTDZQIH374ued4RIxf8bqlbBa78MvjI82k7Ta1VmjwnHoXM/x1ZG5awxHXG/j9JHdhw8fYtyeHJo+p/PXvz/PYnKkEW9dRYca+2pcra66a/QRP/GE8rs15JB9z43eP3kSAUon7pAdZcE9EZ588i8UQbu/NcZeYy5QMqBh8+wIMFyFeffmvTHXvUK2FL1dfF4ZdVSLffriEWJGd3/zAnYzq8UqUAqew8YzwtKCuuoFWRQvVRfkUCmccPmk8AfYGL7zU6KlMPEhG3WkOLV3A0wt3UaLTUbT9Hd7dUmg85hei6IetrRIbG8PnmK3oW2qobmhF0VJNUX6hcMbhTBofQOfuWqJ2dMCmY1qpssHBUQyoUo3XoCD621ox9K5n+cv14WKHP4GJIc4iJ8smKXIHGzdsYN3aTSSVi4VF7MKwdMV3gCNWLkOYOCYITw9v3NQ6WrSGgGbBwFGT8S1ez8I332Pp1iLcRofj3Va3JS4DA3DrZ4GdxyAGDw4hoL8tSl0Z2Scg4iYR+Pw88AoYzS3TQqnLEcmA2otBQf2xtRrKXc/+hevDxe5qwkSGBvnjqVbiNDAYPxc1Nu6+BBo+HhHjrdUVkJVbQ9nh7/n4zX/zzpItHDtVQmGp1mx5ISY+o25tbKTZSmR0PZSnKcimyHsysycE4+Xlz7Cb7ufRW0JQme1TFuWZWWiGXs+M8IF4B47mpokBxt2ujoKsXGrKDvP9x2/y73eWsOXYKUoKS3ucJ9NYEn7DbYzzbCFLJGeb1n/DR0t2UNzRLqzDueG2cXi2ZInFaRPrv/mIJTuKjW92wLofNkpLLK2E+dn0o59K/N3jtdpWmksOseGbz1mxOZnCOo14TY/eGJMVTmGMH+GNuqcydI00NreisrLGUgREW1sxD5o6aurNBfZzKPrZYqu0od1F9DRXV9PQqqCluoj8QpHADp/E+AB7MdodsFTj6GDTaeelsnHA0dayB5uB2uwkIndsZMOGdazdlES5SKzaXcSXAY5WuAyZyJggTzy83VCLxKzdRQYyarIvxesX8uZ7S9la5MbocO/2ui1dGBjgRj8LOzwGDWZwSICY81bK2o1JJM9+eHiJTdIt0wityyH7DKi9BhEk/Mhq6F08+5frCRc78gkTh9LfzxO10omBwX64qG1w9w1su3yt02mFSWeRW1PG4e8/5s1/v8OSLcc4VVJIqVYkMibLCzG0rg2FUzDjxgXhpNRTV5BOdrkeV98BOFq5MGTiGII8PfB2U4skUyssQUNBdhHek2czIdgLL/9h3HT/o9wSokJXls0JIrhp5gj8PLwIGH0L00LryMmuvDw+om+m2txaIcpydrRuu5prLRK+tk9pNLXC/kSsVdtjr1ThPnwmd84ejUttD/alsBJ2qEBpq277iK5F2Ed72vfb4DIlAwoxyMJovL3x9nLDrmPa05wsglc6Wq9hTLnhZm68bjxDPAyerUQlWqevOUluRjzHSjsGBgUWIkIplLb4+nugarXAY/SNzBhqTVlumdjRdKxAz5ncJA4fiielqE4EDJ14nsChwwlknRAL4OFDxKcUUSemTXcml4RDh0nIrqBw39d8umQdSVVaM+cnUek3k/sf+CP3zJnDXVMHYaNQ4jLsJmYMczHWfRHo8HmDwsYHfw8VrRYejL5xBkOty8gta6ZTd9vQo9O0oBM7kFa9lhaNIWdvf12r0aATFmoY2+ZmTXvWLtAciyG69Vr+/u7rPP/gzYQ5i3pEINGKqK41nGA4Vxys12pFoBeJSdtjDfHbI7GY+Qpv/fPvzL8vgqbo3SRUGWvTiboMx4pyDHVpdOJ1hTMebi0cT0ij0rBuNJeTnHRC7Eg9xAliwRVtFcuCmP1mmjWijrZyREATf7SVJ5rSqte1PRrmQqdww93VgbDbnua1t9/mrddfYt7c2xjvKwbFTHnijba+tIrFQ9fSRG1pKlu2JmEZGiYGxnx5Fq4eOJWlEV/cIMrQ0lBdTGZGCY2t5vrkhYu3B7rsRI6eEeGiuYzk9BLRF0MSo8DN3RWHsNt4+rW3efut13lp3lxuG+/b3j4z82SS1npyjhVgEXEvry58g79OdENXXopxc96GviaHYwUWRNz7Kgvf+CsT3XSUl1YY3+1M3z6x1pJ5IIbClkBuePAeRnX5yF1hIcbNRIEqlVgOWxupLCqgvNkbPy8LtCUnyKutIK+4FqWrP4FdkrZO59ScW97PFa/A1tcfD1UrFh6juXHGUKzLcilrVnXfaYk50LQIv2g12HJLu222vW7OZjQci4mm9dq/8+7rz/PgzWE4i3p0wg8M57S7iNFfDH4ibKvtsSae7ZEWzHzlLf759/ncF9FE9O4E2l3E4KeGNohHraEug78ocPZwo+V4AmntxkR5chInlO54OChFFQY/+tkw0LQZhuF8g4+3lye8XnTP8GhwER0KN3dcHcK47enXePvtt3j9pXnMvW087S5iqjxDkWJ8DGNi25/B4+7mmX/chW3UCjan1olz2stujwHtfTbEGa3eAlcPJ8rS4ml3kQaqizPJKGkUbu+BW8txEtIqxUiKqsqTSTohdsIezhfZR0QCsWe5iN0bSK4x9sWA2bVCRU3yBn7M8hKbHQ/qktaxMUX00doXP28L9CfTiEtOYPN/XuS51zdyckAP9tVay8nCcpHM5VGptxJ9c22zWRFJaawsoqC8RniLGXp73CXksn1nwH34DYz1MW4PWhvI2b+HDF0wt0wNpTrjEMlZWaQlJ5IQf4j9+2I43m8MUz1PkpCUypEMLc7O9ZzS+XHLRFvidqfREDCRqVe5iSx1IBYlifz044/sSizHbsQt/G7ywPbsrg0tGSIr/+zHOFIKasVw6ziVk0Ri4lGabRuIXLuZuJQCaoVR6U7lkJQojLIlgPCGfWw4XM/AyePR7nrP5Pm6YXOYNdafgQMH4qk9zr5DRdiP/j13jnHtY0DVUHhoJ0cq3YmYMU44aSu1hu8MZCkYPPVqfE8dYndaAwGTbuPGYVaUJP7Ejz/uIrHcjhG3/I7JA7t8KU+by7p/vsK3qbXU5e5nZ5KWqyaL4KXLZNUr/2ZLoYbS5B1s27abEo9pjBlogdLOgjP7f2Dlum3sShCLhEUtuSJhqhugZO+nW8ivOk5ciTOOSUtZl1VDXnwhzlOGozu8lb37Y/npp0j2xOagGjmTW8f5oG4tZ8fCl1l7vJmTSYa6thPfFMo1Ylc00N+Viv1rWbF6E9t37CO73wSRUF2LW+FqXvn3Fgo1pSTv2Ma23SV4TBuB5sc3WBx7hor0BE5bW1GUcJDTLp6cSdxLptVU7p1qz5EN3/D9tkgid0WRVmWFV9AQfCp+MFHeGLzr9/LRaz+SV5PL/u072RefhyJ0FnNnR+BgaY/PAEyWFzQoGB+OsH7ZSjZu30Fk0insA64iNNCbgADTffINDMCtYh8rln3Pll2x5DUpacqLJ1FzFTffEI7yyAa++X4bkZG7iEqrwsoriJE+FWbnqSOtDTnGz+2vZapHIZEb1/HDpt0kVToQceudXB/k+PNn7gpLBVVpkWxc9wObdotE1iGCW++cjkflIfZk6AieNIzWI7HkWA7hugmelBxo98/Jk/05c2g3aQ0B3Dze+ufvCZz7zsA1XB9QQ1JqKonRCVSLnVXjyTM4j7gG14I9bedNnHoVLp3WdZHMq6rJSkghNT6WAucbmTPZniJh15s27CGHEG78412MF5uCjgt9p3McI+hfcogsxWCmXu3LKWMbZ91xIwMtSkj86Ud+3JVIud0IbvndZAZ2+VKeNncd/3zlW1Jr68jdv5Mk7VVMDnNGl7nKpM0MtFBiZ3GG/T+sZN22XbS7SC6HE+q4xmIvr2/Op+p4HCXOjiQtXUdWTR7xhc5MGa7j8Na97I/9iZ8i9xCbo2LkzFsZ56OmtXwHC19ey/HmkyQZ6toeT1PoFEYNDcS1Yj9rV6xmk7Czfdn9mHDPHK71sSRr1Sv8e0shmtJkdmzbxu4SD6aN0PDjG4uJPVNBesJprK2KSDh4GhfPMyTuzcRq6hym2qew4Zvv2RYZya6oNKqsvAga4kPFDybKGzMQRfFm3vkgkrJTGewVr2/fsZOEYi0uYWPQbHmPzflVHI8rETvqJJauy6JG2HSh83XcOGWQcJ71LFu5UZwTSdIpewKuCmWQdwD+rsJm1q5g9abt7NiXTb8J9zDnWh8cvfwvoo9AQdR3/BjfjP+UiQz6ed6VOJtaK0bVsGXpVpqnPMRfbw3kzOFo4jKaGDRxEiP9LChJP0RM1EFyNb5cK+bgmqtC8DFhX+7lB9mdWo229AA7D57EevBM7p0l7N5GRXVWAimp8cQWODJxwiDj2tRKQ87+dt+bPJlQVwszx10+Lvl9Bs6HJvM7XvkgiYC587g9zI7Wyli+/mgTlePn8/o9we2/K7ZRt3+Lswd0TTXU621xsO3peuT/CjqaaurR2zpwUbur11Bf04DC3hHbjtdQzaKnoeoUGhtX1Poa6lrVOKgthdv1Bj2aejFn9OWcnhBtP12LXu2EvfUvL63H8sSOp6ZBLA4ONl3abb5P+uY6ajSWONhZd+urpv40tXo1Tvbd3+sTuiZqa1uwtHMw+9t9XVMttS2WbW2/mKZzQf5n2DnWtWLroMayrePCruubsVDbmm9bt3PMIMbC8DGDrUMPZV0Aek29mHsF9o62YifXC/QNVJ3SYOOqRl9TR6vaAXWPDT9HW131oD5fX3uLKO90rR61kz0XxUV6QNtQQ4PSDoeugbstxrR1qts4XCwf0Vcd4Ju1Lcz80xQ6fiJ9lr7ZqrDJuiYUturOY9bFvmr2fcBz31Vy3dMvcbOHFkt7MWftRwoMVxHF3It43fPc9/a4S8OvngzQkM3u1Rs5kFNGTVMrKhsnvILHMvO2aQQ7XP4BkUgkEslvFT1VSbtJdbuOyWevRF8G6uO/4f2tVYx54BFu8OlVmvhfx6+fDEgkEolEIvlVkVtviUQikUiucGQyIJFIJBLJFY5MBiQSiUQiucK5DMmAnvqSVPbv2UNyScf7gPUGg0pZPU2/xo8uLxp6TmUnkZDa5UZE+lNkJyWQWljTrgYX+RMHc2vb39I0UG/stEHZKvKng+TWdvjN7C+guSyTxMRjlDT0sjy9hob6pnO/e+36vI9c3L41U56VSOLREjp3x6BCKV4/VmJ83nuay7Pafjba6/HpStNJMhITyShtMr5wsensE00nM0R7M+hrdb+4n5eSjr5xQVz4/F82OvrRJbcZyX8NfbRtg+pvUkIqhR3vmdBcTpbhJ/AlDSIaXDwueTKgL4vk0zc+5tsfd5OY39ynxmvSV7Dgb2+ztfDcDUZ+e7SQuX0pn62MNj430pLJ9qWfsTK6BH19BpFr1rIzrcrQaVYs+Btvby3EcBuR+oxI1qzdSVrVxfiep56a5I0sXbqW+FO9KU9D+ooF/O3trbRPQdfnfeRi901fR8qPS1m65hAVHYvQ15C8Uby+Nt74Qm/RU5fyoxifNRzqVGDv0Z9OZN3SpaxPrOqTrfeWzj6h53TiOtHe9SQab/TUO355Py8pHXzjgrjg+b9cdPajS20zkv8i+mjbLZnbWfrZSqJLzgVcfV0KPwp7WXOogovpvZf8pkNFsZvYnnaagdfez23jB+JIuQlFMbFIdVE9c2/MYF8nZTMPmjNjuqsY+jhQ1FUdTWWiDn39eVTdurfBw66FE4eiSapUoCg8SFTySXAbiFunE02cZ6ivqZiEPftIKtLQXJpAZp0vt04Pp6k4gT37kijSNFOakEmd7wSmhTu3q8EFu1KffqCDepUzfu42YFC2Cg3E3UZBU0kKsTGHOFrUQL/+HjhY1JNrpo36mnwSY2M5nJJFSaMt/T3s0eSeu9FFR8na7sfacSZ1L3sPHqGwToW10hp9bQaHD5193g8Xf0/sNV0VvCyozz1EdFIlCkUhB6OSOYkbA11qSOuk4NW1b83dVOss6nM5FJ1EpUJB4cEo2rvmdm7eWhvJPRDJMY0vwQ4lJIkDlP0H4mLdeO6mVgaJ7KYSUmJjOHS0SLTROD/idE1FBgf3x5GcfRqVmxcuYnwbcw8QeUxD0KRrCFWXcST6EDnNTgx069dmp6czYtmfUobSwwuHM2nsi8ui0dEHV22OKOsEevs6UmPb5CZRFyeSXKLAfaAr7WJ6XdU1tb2z3fbemlD780N9cj9RfVa3bO2xny1d2mnXckLMQyL5GsP71pzJ2M/hUhv83IR/9+RTYlHOT4wl9nAKWSWN2J7HXk35xlkVQb3hplexon+t7ni7WHZog657HZYd5n+MDfHRCRQazrOtICnqMHlaV3zEGHWfDzHD3ZQd+3XeMZnqk6K4D0qqespSOvpVP5zdasX4m7YZwx35zNmDAXPt7RYnrBrJj4/ulQqsZWVXv2gfAVPjdQ6R3BclEyvsKDX3FErXAbi2GYNpO9SdyiA6Mpa0MmE3lsVtsvZuTceITiik1d0b24okog7noTWUY9PSrYweY4OmgoyD+4lLzua0yg0vl/b7gfTcfkG3sTYTy4SPtFdjapyaTKpvmrVtk/PbRHHCHvYlFaFpLiUhsw7fCdcS7tb+k8XWxlwORB5D4xuMQ0mS6LuS/t5WlByOFhtuDU5iHKzPZLD/cCk2Pv17LRl/yZOBHcu/JqtOS3VRHopBARStWNhN8Sng5JpuqmeW3joOx3RQKfMbSv1Pn3RXMbzWl6TVH55TRwsPpPDrd7vUMRqHwx/1qOrWkLqyu/JaRBAn1y1h/cFj5OUVcDTxAAfybbl54iDjWWbOGxFB7fq3WbI7j0Z9GdlZlTRa+3PrRC1fv7WE3XmNIrBnk1XZiLW/SAZ889vV4Jz9UCbFdlCv8ie8OZqvDMpW4yYTeGoLCxeuJkPriDZjOxsPNBA41o1jK0y0cXgDK9/8kK0FKhz0J4jasoMM6+FEkMrerslAQ6qJY4cx4OQWdqdX0dTSSE2VJQ6kEX/07HMrAsY5kvRRVwWvMbgfW8mS9Qc5lpdHwdFEDhzIx3akNyWbOipzdezbeCyj3uumWjfW7Rgrlqzn4LE88gqOknjgAPm2Y5g4yKj3bkwG0kpOcbpBQ0nCbvZkWhMxzovyOONiMNGSTQsXsjpDi6M2g+0bD9AQOJ7gup28/84yYvIbaCg6yI6YcgaMHYZjcVz7IjlxGA2bF/HFQRg5fYLxDnataLM2s3hFFPV+1+CRsYxP1h2g0nU8Q0+t56NdLYwca8XR6AxKivPIL84k+cB+8u3GMka1r7ti2jh/Ctedz3bPKe51V/u7Gv+aAxegbtkhGejST4/K7d3aOWiCO8e++YJNuWpGj3ckcdmnpDhPYWDGJz34VAOpK9/kw60FqBz0nIjawo4Ma0aMcyD5a1P2WmPSN84mAwoK2LVkOTvL+zN5tA0HvvyMNJcJqPd/0L2O8V6UGe+gODOiihX/WUeW4xgmDTjOqkVrSFePZJJdXPf5GO3A4Y+6KjteTZjLz1HCdJ+G1bJlUW+VVLUURK9m189+ZYV/hDXZMd1tZuLAyp4VGE0qUV5NcNVWE3HCm5zVvVCB9S9g+btd/SICt7LudtFRHVZXuI333t1Aga07VoUxbIyqIfjqYOp2ftDdDgdVsP7tj9iSq8WmOlHEzP1ktgYzpmm3Ud9/EgOOr2LRmnTUIydgF7eoWxlj3I+x0lRs8K1g6/vvsCwmn4aGIg7uiKF8wFjCNJF82EP70RSYGGszsWzMeHwrtpmIH2E07uwex8b7F7LSlG2HNpic34DC73hryW7yGkXimJ1FZaM1/t2SgTRKTp2mQVNCwu49ZNqMYFDJGr7clIt69HgcE5fxaYoz140PoF8vkwHjanDpuO2OMdgp+jHy/17idt1ek4pPWhOqZxUOs0yqlJnjrDra9fV7TNSRTtF5VN1MKq9Vtl+aUdgO554Xn2F2iArt6cq2185i8ryTWRxJr0YVPJNHHnuQ6wPaJ1Fz/Ajp1SqCZz7CYw9ej/Hlc6gCu6lXnet1C2l79ojd2WBufPB+Hrx1KMqSKH5Kamx7t1sbVV5MvPsB7r9jGiOGB+Km1FBRWiHydxOYPPYMg29/lJsClCjdJ/Hggj9wy+87Pr+H0ExTCl4iYzWUqbBl+D0v8szsEFTa01TWDjbfN026SdW69q4psB1+Dy8+M5sQlZbTlWfaTumIwjac2Q8/wn3XeKI5kciRDjflb07bwx6RLQ++8UHuf/BWhipLiPrpkNgN7SGnyYOpf/07zz82h6nB1tRVGy+6teoo3fsFy/fXEjZrDmON0rsGd1GHhTPIqoGczKNk5pzGylpHYU4mR0VQsh0Sjl/bnCpwufpPvDzvRvxFm6tOV5hRTGvXOuvZds8p7nVX7jNa8IWoWxro1k+N6XZmDWTsyP60FqSQlJNC2klfIobZn0cpUYXXxLt54P47mDZiOIFuSrGTKqXCeLWzq72e1zdshjByqAMtOamkF4k2lPoLW3XusQ7zCF8y1c/0ovMoO5rpU5u59VZJ1ZKwTn51D+2hravNVJ9fgdGkEqXedJxINIgFmONs22+gKcaUXzSZsd9zBqUtK6K0SUd7U67hznumEahPM2mHKemH2m7nHHLzw/y//3cDvoaTDLoTpmhJN1mGyGMF3WOD5tg+9uQ04TH1r/z9+ceYMzUY6zpz/neu/abH2kwsO9PEMVPxozLNZBw7lGratk3XmcLRI+lUq0Qi+8hjPHh9gJk7XYq+h8/m4Ufu4xpPDScS07EfM5L+rQWkJOWQknYS34hhOPVhhb/kycA5zCmK2dHYg+pZb2lXR/PEos5UHc6E9qjqJtrWk/KanQMOKhusDdd7Ot2jycx5ukYaDHdTVNu1K6oZL0fpGxtoalWhtrNFaWPT4bJtb9DS2NhMq8oKa0sRSGxtsRGmWlfTKFy5exv1zSUc2vANn6/YTHJhXZtR680Mal+OPcd5FOIUdjg4qLCxNlz2au08bF0xp1rX2NYz7BwcUNlYt42XqXtkKcR51goF/cSY0tokxuncMTqDGqEYcytrS7GI2tJedDWnauppVaixt1eich/OzDtnM7ZdblF0rZSk5FPY2DSReTiJ0x2GQukwlHDhzVXHdhJXEsDV4zxoyd3LT8dVhIqdffvSIdoi5scwx+1iei3mFdMMR/dou8bx7IkLUrcUdO2n1pyymwL/sSPxJp+4NbEU+gwnwlnsInvyKX0zJYc28M3nK9icXEi7axikdNrpZq/n9Q0bhowaimNzFvs3JnIycCQRdpoe6zBLq8Z0P51De1Z27LFPv1RJtYvN9EaB0aQSZZHpOFHbHidMY2y7txUNpvzCU9uj/RqwDr+B28Z50pIVzdZN6/nmoyVszztj0g7t6utpFHPdr581Sgsr4fPmA2Grpidb7h4bNLU11IsxU9vbo1S5M3zmncwe7UJtj+3vayzTUmtqnNybTcex6noTtt1qdj1saGgS86fGrs2nO38sdA6FiGnWKITvt4e9RjS+YxnpDflxa4gt9GF4hHOfFvjLmAyIwTGpKNbKCTOqZ51VysQgi9aaVjEUQ9OmjmamjqYmCntUddP0qLxmHjPnKd1wdxa7huJsssqyyTdWpHJzx1nsuouzsyjLzu+kKvczXdSrOrgbPn5eWGhLOJFXS0VeMbVKV/wDHUwaiybzADGFLQTe8CD3nKdD5o8VbWmbgkqKCsqp0XZ8XonWjIKX2Ws45vpm5WNatc7BfJDoSGttKcWnTpGbV4ne2gNPt3PnWfv44WWhpeREHrUVeRTXKnH1FzsMP28s9CdJi0smYfN/ePG511mfbfyKvsKBkfc+w5+v7k/zsV1E5hqivhGlE8PC/VGU5VHkGszVVwVgWyUCjDaEoSGGMH6WDm1X2PSortmj7XZR3OvsEx1+09Gpul6qW3btZ56l2XaqBoxllA+UFpbjExGBMzU9KyVqMjkQU0hL4A08eM8ozudSvfEN68EjGerQSGZaMf4jhuGg60UdSoP6oJ6ak7lkxB+jLWyYmY+mpsKelR177FNflFS7+NXPjtDR3s+vwGhaibLaTJxwxsJs/DS2XcQYX1N+kWt1nj6J8c05RoFFBPe+upA3/joRN105ZXUDTdqhlZcnrkotpXl5VOQcp7ilPelXtgd4TuZmEH+sVJQqXjVny2aCjLWvH94Wek6mxZGcsJn/vPgcr288yYAe22/e90xXI8bD1DgVmVbfHOTX34Rtm5tfSzzcxSKuKSY7q4zsfDNXc0UcrS0t5tSpXPIq9Vh7eOJmMYCx7U5KuU+ESNj7trxfxmQALAJncN/soWhjPuSFF5dwoCmIyeODCQofiosikzWvvsa2M47YKbRohYOoA4cQpK4l/pu3WXa4ldCIINQ1CaxefgSN2JmYWipM1jHhKrzdlBTuXszzT77A50nCgW6expCf/dOSAJNtMJ9Lt2PmPHyZctNwnCr3svjdHZQbszuLwCncNNyJyr2LeXdH+c9XDDqiVAcyJEhNbfw3vL3sECIHMqLCZ9ocZoXpiPngaf659QzBN93HTYNMm6tlQDhDXRRkrnmV17adwdFOgbZN5rQ7Zo9VqgkcIsa8Np5v3l7GwZp+nZ4nOE83MZ9ntci7Y7ZvyoFMmzOLMF0MHzz9T7aeCeam+27CTNc6I7L2IaNs+elfC1iWAsEzZjBSZOtnUflMY86sMHQxH/D0P7dyJvgm7rsphMDpc5gdriZvy6diN1WK17W/58ZgY4VKezw8nQm6dirBFmXE7DjEuS/rK3ERc+4rApebQU99UDD+lgpsgsMJFRm6aVQEzriP2UO1xHz4Ai8uOUBT0GTGB3buoGn/6HjpXdnZJw5WGV/vgiqAGffNZqg2hg9feJElB5oImjyeTle8DXTrZyIu0021U5yo8mTMKDG3FoFEDHdBqbSjf08+ZRlA+FAXFJlrePW1bZxxtEOhbZeiNkVvfAPrEEYNE4FSPI4Y5oCyF3UonUKJEDZXk7Ca5Uc0OLd9K8/0fEy4yhs3ZSG7Fz/Pky98TpJY3G6eNqS9IAO96pOFmbnuMPhd/OrQOSfvxPnsQWnX30R7rzIdJ4LdehE/RYwx6Rc25+mTErv+bigLd7P4+Sd54fMkkSTezLShISbtMGjQNdw0xpXKnxbyjxXpxo89FDiFRgjbriFh9XKOaJzbv0BpxpYDzMQGlc905swOR523hU+X7KDU61p+f2OoiAs9z4npsTYXy8yM02B/k3FscLBp2za3HgZPuYnhTpXsXfwuO8pNX0FW2A1hlO1P/GvBMlIIZsaMkdiLxNdzzCgxNsIGI4Z3UQo9P7+ONoEJRTGzSlKdVMoMv7HunYqhqToMr/Wk6nahyofmztM21NFibddFAVBLQ10L1nY9qZ71rF6la6qn2UJ9fsXCvii39XCstqGaulbRP6MSX9fnfaqnx771QrXODAaVtHpscTQ3KKKN9c0WqLu8r2uqo0lhi/pSy7gZ6ZWNnW88e6vcZxjPmgtTt+zUTv0Zjsenk3NkO9tqr+Ol+deJRejnA3vwqb7W3xvf6Eov6jD8pr9Rh426q8pkl34a6VnZsfd9Ot9cd/Mjc5zHHsy1t3uc6H38NOcXPfdJjE1tLS2WBrXCTi0xMWZ6muoaxIqYxpd/+4q8CfN4+76wtvuQNOpsUHdrYB9tSYxZXZPYfas7qxye1//O53tdMD1Ooq3d4lgPtm2qTuHjdS3W2PUoHyvKFGOCraMYEz1njseTnnOE7dtque6l+Vz3s5P2DilUJJFIekaby6b3PyeuOYBpc+dynZ/ZSyASSd/QpLDqrfWURPyBp24NMr4o6Ttacje9z+dxzQRMm8vc6/zoq5fKZEAikUgkkiucvl1HkEgkEolE8j+HTAYkEolEIrnCuSwfE7R/KcQKtY1Fm7DK0ZPgHRaKp/zoUdIT+jqKjmZSdu7eIAIFNh6DGTJQfVEy2ctim8YvsFmpbbAwiNK0V0Lof6UDGIS1jpDX6MaocB/ja5cBg4DLkTwa3YIJ93EwvtjORZ+jHur6xfzCsvX1JaQfyaTSdjATh3u33XPgN43Z8TB+mdFKbfLL3BcPE/Z8GeJKR34rc3rJb0dsuLvctwteY1NjONcMcaQyainvr8rAYfzVBNuZ+M2EGfQ1eRxJyaKguJjin/+XUKm1x9PpMg+vvob0zV/wxcof2RV9mDxVCCN8jbfI/TVpKuFo8jFOFHUco5PUqlxxs7tUHqch+dt/sOi7newtceHqCK9efQu3V+jy2f7xx6yJiichIcH4P5E86wimhLmc32kNTp+WRrmFBy5ttxPuwkWyzZ7RkP7tAl7b1Ej4NUNwrIxi6furyHAYz9XBdiZ+3vVr00zyyjf4cj9tWhqXjeZkVr7xJfsZ+vMtiNu4FHNkrq6LwS8pW1/GTx+/zrJ9xylVDGR8hA/W/30G0jfMjIcm/VsWvLaJxvBrGNLH38P3DRP2/EvjSl/4Dc3pJU8GUvZs6SRO41Z7hHZNjr4Iq4A2ZzMffRVDSXURR6JiyaiooSQ1moSm0Ivv0OejMYHvlx4n6P/uZdpgH/wDA0wvNpcZffVRdq7+gU0HszlTVU5RQQEZh/dxwm4iEwfZGo+62Ciw9womWJVLVLk3M8b6XLxkQGmHz9BxTBznzMkDGVQF/47nH5/DpCFe2FtrTAqCNJ/OJS3hMIdTcjl5bDerd2VjPWgsgx0qOwuC2J0htYtwknnbFOV2EzkxITLUzQb6JkpzXiEVUz7SWmdW+Aczgi3dRWxEPWaEtUzWqS3qJm7zc9cvojiRIZCm9HqOeo4fBszVZXrcNVRkHGR/XDLZp1W4ebm0/xzPjOhV78s2Zzd66or2s2N7GqcHXsv9t41noPUpUrvWpek49iXoxcKWkFyBvrWIhJgjlInE16kuleiYZIpbXX8W1TlLd0GyXgiCGenWlwsVnSrrKrjlj6d9i0l/7khf6hcNMGPPgh7iik1FCvvii2luzCX1pC1+7loKuthzu3CXifGiqxieM7qSLnPq2MrJrv3s5E+9ndM++mUvuOTJQPTKlZ3EaSKss4nps7CKMCDDJBUO4i/zp6KLz8b7vr8x0yqZhJYwptgeZNHiVeyKzadRk8qmZd+yPqYM1+FD8ahJZN3yb1i9dh0bd8aRqx/AVUHO1B/4moVfbeZQahr7t6xl/c54SmyDCPexFwOtpTRuJZ98upw1m/ewP2oHP5UNZHK4O4pT+1m2aKPoUxUVhdlkZFViGzaaIEclDQWxrF32FSu+38CO2HQqrHwJ8XWAnC3d2xedS/GR7fy4Uxha5BZ2HskjK3INayJPYB0yHD97qDkeyaply/huw07iMk6j9gvB265VFLeIxat2EZvfiCZ1E8u+XU9MmStTx49hiFMxMeVX8djDk7DTiACiyqLUcRiKmMV8tfkQqWn72bJ2PTvjS7ANCsfHcIMeXSXJG7/is+Wr2Lgrhqid2ylwn8oIL5XZPlnQRGH0SpZ+sZLNMRmUN9RRaRnCDSIZUNYcJ3LVMpZ9t4GdcRmcVvsR4m1Hq6lxMM6TV9sdRrpigbXaXiz85STsOkKl51hun34VTtZ6cjct7C5s1D+DL1//VNiOB4NcSonekYpywp/5y8QGdnQVBPEbwOndkb2wTeHAJsR7uokMjZjC0J81DM7Se1Ea00JGHYRUxOJUsM2E6MsQPXHLTQj/jFGZFmxp3Ml7XUVsxou+rHyru7DW9FDTdfoXsq6DuM2IKUNp7/rFFSdCW0D06l0XJX7QkGSyrimOh02Mewh1u97nnWUx5Dc0UHRwh/CpAYwNa2Tne91Fr8JsU/tQtjm70XJixzdsyapDKzY8eXoHard/yfdd6+qX2kFYSNiT8hCrxXup2XnkHU0k7lA8SenHyT2WRNz+E9iMnkDQ2SsoJgXJRjDOIZmvexIEE2gKtnXvyxh3jq3s+7x2F9wah/rw+90FfsLcft5Y9Kn+iV4kfW3Kns9e6TIXV1TUJ63mw1XRpKSKRMZmCG4pn7Goiz1HBJ1kXbfxGolP1pIuwl2BDCzYwrazc6oYhE/ect7v2k+/Qn7o05yOxirahL2b9cve0YdDLwyT4jQXIKxiGXwbzz0+A7E+GVHhPeMJnv3dIJSeI7l5ZihKsXBt3dfE0DsfYu70QOz0ooMOzgwMGsW1s+/lj7P8Kd++m9QmJeqQyUzoX0NJvSuT5j7Jk7PdydwVR4Hh1qDaPKK3puFw43xefP5hbgkVC5m+/asVSodQpt06Gk8rP66+827uvmsmIwy3v21K44dPNlDiP4uHn3uOR0RdxeuWsjlbY7p914cSdnU46ooW/GfdQdiZVOqGzWXWgBxiEkrRVB1kxdIodKPm8Oi8h5gVWMr65bso0inxHHkzM0OVFMRuZV/TUO58aC7TA+3a2megtTiaL//zJau3puBy37+ZP30gIZMn0L+mhHrXScx98klmu2eyK64Awz0Jy/d+zTcpdkz78zM88/DtDBWGqjXcVa2HPjVn/sjSzacZ8vsneOqhGXhoakRJAn0VB1csJUo3ijmPzuOhWYGUrl/OriJdj/PUJ5pNC4IklJdRXg9OAaMZPzoEd5E0VFdWUmtKEOSAjpt7Y5vVjWZETjqLDN1i8pZovRWlOb+QiqHPPflIN+Efk4ItlaZFbMROxpSwltk627p+Vtzmlg53g7vI4kSWYRctfpiuy4wwU4rYeOzJocljKn/9+/M8NmcqwdYi2TUpepVIVV/KNms3lgy+7Q7GiIW738j/47mr8ogyUZcwb8HZsb+ZAYYIrnRn8kMv88QMkYg3qwif+yJ/uyUIlb6GmtoOzqUyLV7WPj3dRX/O0Wy6L+1qQb2b19Zqjscf4pBY2DIdbuDhjoJboZkm/Hk3+1LjxfGHiE/LJaEP9YsGmLbn3tLaiG3EAzxySyADTNhzu35d1/E6ZUK4K4SwDnP60u06ok3ErXYNqT7M6Skz9m7WL3vHJU8GTHIhwiqWahwdbDrdvUll44CjrSVKtReDgvpjazWUu579C9eHix3+hImEOENtdhKROzayYcM61m5KorylWezSRHGuvgxwtMJlyETGBHni4e2GWkyk1rDmWwxk1GRfitcv5M33lrK1yI3R4d7tdVu6MDDAjX4WdngMGszgkAD6i77oRAZ8gghumjkCPw8vAkbfwrTQOnKyz5hp3xTGDvVCrXRiYLAfLmob3H0D2/SsdTotuoIscmvKOPz9x7z573dYsuUYp0oKKdWKRMZrEEH9bbEaehfP/uV6wsUOf8LEEEPr2lA4BTNuXBBOSj11Belkl+tx9R2Ao5ULQyaOIcjTA283NboWrRh9sePMLsJ78mwmBHvh5T+Mm+5/lFuEY5nvUyXlmVlohl7PjPCBeAeO5qaJxlt36grIyq2h7PD3fPzmv3lnyRaOnSqhsFTbwzz10QzNCBvVO0/gujA7qhK/5cMlsbSE3cwDd45AdT7Bl450sc1WvTnxHmMIbRMZ8kbdJ8frm5CRAX1zdY8+0lX4x6Rgy1h3mk2KXVVTb0pYq8c6z4rbqNvn3cBFFycywwXED5N1tZoZd1sRcOtFeYbdo1KF+/CZ3Dl7LO7NpkSvaqhr6EPZvbQbrUmBLcPd8wzvnhv79nhoTT8bJZaWVuItG/r1U4m/uxfcsyBZD4Jg5/OB3syrvpwDG9ezfv0GIo9Vt533Myb9uZaiAxvF8evZ8FM6ZVW9r180wKRQXK9ROBE2fgTe/XQ9ClN1Hi+LnoW7DJgTZBO2ayivt3N6PvGmbn7ZSy59MmBOnKbD/PRaWEWvQ9Mi9rIGg9O2oDl7U3C9Fo1GJ2oxiJI006zRGidMw7GYaFqv/Tvvvv48D94chrOqFZ1W23ZOm/SAeNSKCdaKrbC+1fhYE8/2SAtmvvIW//z7fO6LaCJ6dwLt96fXoxN1GY7VaQ11adruTa5w9sCt5TgJaSIzFkc1lyeTdELsaDwczLTPcL5hX95enlh2RPcMj2KyxaPCzR1XhzBue/o13n77LV5/aR5zbxuPrxgTvVYj+i6ONAh7NDejadvGCwzjY2iMbX8Gj7ubZ/5xF7ZRwpBT68Q57WXrRd/1xj63tj1a4OrhRFlaPMWGDNVwq9viTDJKGnvokzMu3h7oshM5ekbMaHMZyeklYhx0aHHB3dVBZMRP89rbb/PW6y8xb+5tjG9vuJl50lG472s+XbKOpHMiAOaxNi1sZLgktz5di9ewKdxw841cN34IHtY9CAD1wjYN8qXnFxkSf4gkaM/yT1myIZmaTl3ohSjNeYSMDChtfXvnI0ZMCrasF0mfKRGbQX70NyGs1XOdZ8VtOnAJxIkuVvwwWZe5cbfxw8/bAv3JNOKSE9j8nxd57vX1FHmbEr0KxNW9D2V3tRszmBbYChT1GN41MfY9lHWWvoiXdUIkI6b7Ynq5MTnWqmD++K83eOON13jieu823zPswNsEt5pNCfwEMvmBf4nj3+C1eTcRHtD7+kUDTArF9RqFBZaGyemLPbc29CzcZcBM3Ap0Mkxe7+e0Z3s/V46ucB9ff7qEdUlVxjjbM5c8GTAvvNOBXgqraE+s559PLeSn0pPsfvcpXtuQJxYfMWdZ3/PqC6vJaExm2ZOP8/iTSzncdonQksHjx6LZ9Trz5z/PR3tLxUJ7jNXvrKZ632LxvJyCre/weWwsXyzcTlHZHj76LJZ6UWpzTSqr//EcL7zyD97fWcuwqyPatKH15Tt576XvyaxL4AtDXY//g7U5YtfrMJbf3xNG+ff/4ql58/jbv9ZTPfJeZkeIvZep9tXnseHt5SQ3HGPVWz+Qq60l7ttVZIiFvWT3Kn5STOXu6y2I+vBlFix4gRde/5Ko7ApqmjRkff8qL6zOoDF5GU8+/jhPLj0sllYx+SVbeO+zOKqy1/PKE08w/8mn+exQnchaa9m3+CP2lhew9Z3PiY39goXbiyjb8xGfxTYRcON9XG+xl3efnce8J19k8Z4ydEpdj31Sj7yde8JK+Pal+cx7+k22FopkJvVb3tzYzDV3X49F1Ie8vGABL7zwOl9GZVNR09TDPOmpLUwjKTmT0g6Xds2i8jEpCBLqOwg/2waOR65i2eef8clH7/DqSx+wx3qaScEX697YpsiveyMyhL6agrQkko9X0H4h2EivRGnMCRl1cACLwN6JDxkxLdgyGH9TIjaDg00Ka5mt09yW4xKIE12s+GG6LjPjHhTI9DmzCVfnsUUE0x2lXlz7+xsZ7G9K9CqIfn0p2+zgdca0wFbQue9AXAB9ES/rjBkfMHMd+vzz2kVwK97OpD8H/dzZvtVvsFuT9txXzNmzKRsUyV+Pwl0GzMStoN6ZxDnM2XuXcvS1haQlJZPZq6AqunAl3I5Yr6mnpkGBvWMvBVD0DVSd0mDjqkZfIxZTtWnBIJPoNdQbxCP6ck5PiLafrtWjdrLnUmvpGMR+GpQGkZEuFfXQJ31zHTUaSxzsOguCiIZTf7oWvdoJ+0vW8I6CIBoyv3uFD5ICmDvvdsLsWqmM/ZqPNlUyfv4/uGew8EqTIiQ9i0J1pGeREz1VB75hbctM/jTFvVuW3VtRmvMKqRj6fFEEW7qLXZkW1jLQlzr72D7D+P9C4a5znK9u83WZHndRXl0TClt1Z98TY9pd9KqvZfcSk3X9Akz6QO/pfV96Ma/dBLfEeJ9HqKwvY2nenvtCH+1ZjG9PYnjtnL+fvaOPbTsPUptA8j9DQ/butm/h5pTVtH1maePkRfDYmdw2LRiHntaQi4G+iqTdqbhdNxmfi+CYEolEcjmRyYBEIpFIJFc4l3q/JJFIJBKJ5L8cmQxIJBKJRHKFI5MBiUQikUiucGQyIJFIJBLJFY5MBiQSiUQiucKRyYBEIpFIJFc4MhmQSCQSieQKRyYDEolEIpFc4chkQCKRSCSSKxyZDEgkEolEckUD/x8o4e0udPWpYwAAAABJRU5ErkJggg==)"
      ]
    },
    {
      "cell_type": "markdown",
      "metadata": {
        "id": "8fQK3Ot79QWc"
      },
      "source": [
        "The TransformerDecoder"
      ]
    },
    {
      "cell_type": "code",
      "execution_count": null,
      "metadata": {
        "id": "YOSnFIhT9RI8"
      },
      "outputs": [],
      "source": [
        " class TransformerDecoder(layers.Layer):\n",
        "  def __init__(self, embed_dim, dense_dim, num_heads, **kwargs):\n",
        "    super().__init__(**kwargs)\n",
        "    self.embed_dim = embed_dim\n",
        "    self.dense_dim = dense_dim\n",
        "    self.num_heads = num_heads\n",
        "    self.attention_1 = layers.MultiHeadAttention(\n",
        "    num_heads=num_heads, key_dim=embed_dim)\n",
        "    self.attention_2 = layers.MultiHeadAttention(\n",
        "    num_heads=num_heads, key_dim=embed_dim)\n",
        "    self.dense_proj = keras.Sequential(\n",
        "\n",
        "      [layers.Dense(dense_dim, activation=\"relu\"),\n",
        "    layers.Dense(embed_dim),]\n",
        "    )\n",
        "    self.layernorm_1 = layers.LayerNormalization()\n",
        "    self.layernorm_2 = layers.LayerNormalization()\n",
        "    self.layernorm_3 = layers.LayerNormalization()\n",
        "    self.supports_masking = True\n",
        "\n",
        "# This attribute ensures that the layer will\n",
        "# propagate its input mask to its outputs;\n",
        "# masking in Keras is explicitly opt-in. If\n",
        "# you pass a mask to a layer that doesn’t\n",
        "# implement compute_mask() and that\n",
        "# doesn’t expose this supports_masking\n",
        "# attribute, that’s an error.\n",
        "\n",
        " def get_config(self):\n",
        "  config = super().get_config()\n",
        "  config.update({\n",
        "  \"embed_dim\": self.embed_dim,\n",
        "  \"num_heads\": self.num_heads,\n",
        "  \"dense_dim\": self.dense_dim,\n",
        "  })\n",
        "  return config"
      ]
    },
    {
      "cell_type": "markdown",
      "metadata": {
        "id": "dw1Lo8Iq3GxG"
      },
      "source": [
        "TransformerDecoder method that generates a causal mask"
      ]
    },
    {
      "cell_type": "code",
      "execution_count": null,
      "metadata": {
        "id": "r4A1Ld7t3ESd"
      },
      "outputs": [],
      "source": [
        "def get_causal_attention_mask(self, inputs):\n",
        "  input_shape = tf.shape(inputs)\n",
        "  batch_size, sequence_length = input_shape[0], input_shape[1]\n",
        "  i = tf.range(sequence_length)[:, tf.newaxis]\n",
        "  j = tf.range(sequence_length)\n",
        "  mask = tf.cast(i >= j, dtype=\"int32\")\n",
        "  mask = tf.reshape(mask, (1, input_shape[1], input_shape[1]))\n",
        "  mult = tf.concat(\n",
        "  [tf.expand_dims(batch_size, -1),\n",
        "  tf.constant([1, 1], dtype=tf.int32)], axis=0)\n",
        "  return tf.tile(mask, mult)"
      ]
    },
    {
      "cell_type": "markdown",
      "metadata": {
        "id": "RqtZRdaw3EBk"
      },
      "source": [
        " The forward pass of the TransformerDecoder"
      ]
    },
    {
      "cell_type": "code",
      "execution_count": null,
      "metadata": {
        "id": "QXJQK0sR3GFV"
      },
      "outputs": [],
      "source": [
        "from tensorflow import keras\n",
        "import tensorflow as tf\n",
        "\n",
        "class TransformerDecoder(keras.layers.Layer):\n",
        "    def __init__(self, embed_dim, dense_dim, num_heads, **kwargs):\n",
        "        super().__init__(**kwargs)\n",
        "        # تعریف لایه‌های یک مثال پیشنهادی\n",
        "        self.mha_self = keras.layers.MultiHeadAttention(num_heads=num_heads, key_dim=embed_dim)\n",
        "        self.mha_cross = keras.layers.MultiHeadAttention(num_heads=num_heads, key_dim=embed_dim)\n",
        "        self.ffn = keras.Sequential([\n",
        "            keras.layers.Dense(dense_dim, activation=\"relu\"),\n",
        "            keras.layers.Dense(embed_dim)\n",
        "        ])\n",
        "        self.layernorm1 = keras.layers.LayerNormalization()\n",
        "        self.layernorm2 = keras.layers.LayerNormalization()\n",
        "        self.layernorm3 = keras.layers.LayerNormalization()\n",
        "        self.dropout1 = keras.layers.Dropout(0.1)\n",
        "        self.dropout2 = keras.layers.Dropout(0.1)\n",
        "        self.dropout3 = keras.layers.Dropout(0.1)\n",
        "\n",
        "    def call(self, decoder_inputs, encoder_outputs, training=False, **kwargs):\n",
        "        # مرحله اول: self-attention برای ورودی دیکودر\n",
        "        attn1 = self.mha_self(query=decoder_inputs, value=decoder_inputs, key=decoder_inputs)\n",
        "        attn1 = self.dropout1(attn1, training=training)\n",
        "        out1 = self.layernorm1(decoder_inputs + attn1)\n",
        "\n",
        "        # مرحله دوم: cross-attention با خروجی‌های انکودر\n",
        "        attn2 = self.mha_cross(query=out1, value=encoder_outputs, key=encoder_outputs)\n",
        "        attn2 = self.dropout2(attn2, training=training)\n",
        "        out2 = self.layernorm2(out1 + attn2)\n",
        "\n",
        "        # مرحله سوم: شبکه فیدفوروارد\n",
        "        ffn_output = self.ffn(out2)\n",
        "        ffn_output = self.dropout3(ffn_output, training=training)\n",
        "        out3 = self.layernorm3(out2 + ffn_output)\n",
        "        return out3\n",
        "\n",
        "    def compute_output_shape(self, input_shape):\n",
        "        # به صورت نمونه می‌توان شکل خروجی را مثل ورودی فرض کرد\n",
        "        # در صورت نیاز، این تابع را متناسب با معماری خود تغییر دهید.\n",
        "        return input_shape\n"
      ]
    },
    {
      "cell_type": "markdown",
      "metadata": {
        "id": "bKwZTr5p2V5D"
      },
      "source": [
        "## A TRANSFORMER FOR MACHINE TRANSLATION\n",
        " End-to-end Transformer"
      ]
    },
    {
      "cell_type": "code",
      "execution_count": null,
      "metadata": {
        "colab": {
          "base_uri": "https://localhost:8080/"
        },
        "id": "c6nMNBKv2VtD",
        "outputId": "70d2c31b-b839-4729-f586-ac896acf7106"
      },
      "outputs": [
        {
          "name": "stderr",
          "output_type": "stream",
          "text": [
            "/usr/local/lib/python3.11/dist-packages/keras/src/layers/layer.py:938: UserWarning: Layer 'transformer_encoder_3' (of type TransformerEncoder) was passed an input with a mask attached to it. However, this layer does not support masking and will therefore destroy the mask information. Downstream layers will not see the mask.\n",
            "  warnings.warn(\n",
            "/usr/local/lib/python3.11/dist-packages/keras/src/layers/layer.py:938: UserWarning: Layer 'transformer_decoder_3' (of type TransformerDecoder) was passed an input with a mask attached to it. However, this layer does not support masking and will therefore destroy the mask information. Downstream layers will not see the mask.\n",
            "  warnings.warn(\n"
          ]
        }
      ],
      "source": [
        "embed_dim = 128\n",
        "dense_dim = 1024\n",
        "num_heads = 8\n",
        "encoder_inputs = keras.Input(shape=(None,), dtype=\"int64\", name=\"english\")\n",
        "x = PositionalEmbedding(sequence_length, vocab_size, embed_dim)(encoder_inputs)\n",
        "#Encode the source sentence\n",
        "encoder_outputs = TransformerEncoder(embed_dim, dense_dim, num_heads)(x)\n",
        "decoder_inputs = keras.Input(shape=(None,), dtype=\"int64\", name=\"spanish\")\n",
        "x = PositionalEmbedding(sequence_length, vocab_size, embed_dim)(decoder_inputs)\n",
        "x = TransformerDecoder(embed_dim, dense_dim, num_heads)(x, encoder_outputs)\n",
        "# Encode the target sentence and combine\n",
        "# it with the encoded source sentence.\n",
        "x = layers.Dropout(0.5)(x)\n",
        "decoder_outputs = layers.Dense(vocab_size, activation=\"softmax\")(x)\n",
        "transformer = keras.Model([encoder_inputs, decoder_inputs], decoder_outputs)\n",
        "decoder_outputs = layers.Dense(vocab_size, activation=\"softmax\")(x)\n",
        "transformer = keras.Model([encoder_inputs, decoder_inputs], decoder_outputs)\n",
        "#Predict a word for each output position."
      ]
    },
    {
      "cell_type": "markdown",
      "metadata": {
        "id": "w5J6PwBX2VWr"
      },
      "source": [
        "Training the sequence-to-sequence Transformer"
      ]
    },
    {
      "cell_type": "code",
      "execution_count": null,
      "metadata": {
        "colab": {
          "background_save": true,
          "base_uri": "https://localhost:8080/"
        },
        "id": "EF0OWKOe2VFc",
        "outputId": "024754dd-577c-4baf-e96c-4731c9c05eef"
      },
      "outputs": [
        {
          "name": "stdout",
          "output_type": "stream",
          "text": [
            "Epoch 1/7\n",
            "\u001b[1m1302/1302\u001b[0m \u001b[32m━━━━━━━━━━━━━━━━━━━━\u001b[0m\u001b[37m\u001b[0m \u001b[1m1847s\u001b[0m 1s/step - accuracy: 0.7920 - loss: 1.2512 - val_accuracy: 0.8811 - val_loss: 0.6255\n",
            "Epoch 2/7\n",
            "\u001b[1m1302/1302\u001b[0m \u001b[32m━━━━━━━━━━━━━━━━━━━━\u001b[0m\u001b[37m\u001b[0m \u001b[1m1912s\u001b[0m 1s/step - accuracy: 0.8796 - loss: 0.6427 - val_accuracy: 0.9226 - val_loss: 0.3784\n",
            "Epoch 3/7\n",
            "\u001b[1m1302/1302\u001b[0m \u001b[32m━━━━━━━━━━━━━━━━━━━━\u001b[0m\u001b[37m\u001b[0m \u001b[1m1803s\u001b[0m 1s/step - accuracy: 0.9168 - loss: 0.4256 - val_accuracy: 0.9771 - val_loss: 0.1203\n",
            "Epoch 4/7\n",
            "\u001b[1m1302/1302\u001b[0m \u001b[32m━━━━━━━━━━━━━━━━━━━━\u001b[0m\u001b[37m\u001b[0m \u001b[1m1810s\u001b[0m 1s/step - accuracy: 0.9822 - loss: 0.1068 - val_accuracy: 0.9988 - val_loss: 0.0083\n",
            "Epoch 5/7\n",
            "\u001b[1m1302/1302\u001b[0m \u001b[32m━━━━━━━━━━━━━━━━━━━━\u001b[0m\u001b[37m\u001b[0m \u001b[1m1804s\u001b[0m 1s/step - accuracy: 0.9980 - loss: 0.0164 - val_accuracy: 0.9995 - val_loss: 0.0029\n",
            "Epoch 6/7\n",
            "\u001b[1m1236/1302\u001b[0m \u001b[32m━━━━━━━━━━━━━━━━━━\u001b[0m\u001b[37m━━\u001b[0m \u001b[1m1:26\u001b[0m 1s/step - accuracy: 0.9992 - loss: 0.0064"
          ]
        }
      ],
      "source": [
        "transformer.compile(\n",
        " optimizer=\"rmsprop\",\n",
        " loss=\"sparse_categorical_crossentropy\",\n",
        " metrics=[\"accuracy\"])\n",
        "transformer.fit(train_ds, epochs=7, validation_data=val_ds)"
      ]
    },
    {
      "cell_type": "markdown",
      "metadata": {
        "id": "ZlmPcgT61azd"
      },
      "source": [
        "End-to-end Transformer"
      ]
    },
    {
      "cell_type": "code",
      "execution_count": null,
      "metadata": {
        "colab": {
          "base_uri": "https://localhost:8080/"
        },
        "id": "UvnVk1EM1R6D",
        "outputId": "302d8553-3a48-46f0-8e97-67f5f2fbd018"
      },
      "outputs": [
        {
          "name": "stderr",
          "output_type": "stream",
          "text": [
            "/usr/local/lib/python3.11/dist-packages/keras/src/layers/layer.py:938: UserWarning: Layer 'transformer_encoder_4' (of type TransformerEncoder) was passed an input with a mask attached to it. However, this layer does not support masking and will therefore destroy the mask information. Downstream layers will not see the mask.\n",
            "  warnings.warn(\n",
            "/usr/local/lib/python3.11/dist-packages/keras/src/layers/layer.py:938: UserWarning: Layer 'transformer_decoder_4' (of type TransformerDecoder) was passed an input with a mask attached to it. However, this layer does not support masking and will therefore destroy the mask information. Downstream layers will not see the mask.\n",
            "  warnings.warn(\n"
          ]
        }
      ],
      "source": [
        "embed_dim = 256\n",
        "dense_dim = 2048\n",
        "num_heads = 8\n",
        "encoder_inputs = keras.Input(shape=(None,), dtype=\"int64\", name=\"english\")\n",
        "x = PositionalEmbedding(sequence_length, vocab_size, embed_dim)(encoder_inputs)\n",
        "encoder_outputs = TransformerEncoder(embed_dim, dense_dim, num_heads)(x)\n",
        "decoder_inputs = keras.Input(shape=(None,), dtype=\"int64\", name=\"spanish\")\n",
        "x = PositionalEmbedding(sequence_length, vocab_size, embed_dim)(decoder_inputs)\n",
        "x = TransformerDecoder(embed_dim, dense_dim, num_heads)(x, encoder_outputs)\n",
        "x = layers.Dropout(0.5)(x)"
      ]
    },
    {
      "cell_type": "markdown",
      "metadata": {
        "id": "8_-OvAcm0eFz"
      },
      "source": [
        "Translating new sentences with our Transformer model"
      ]
    },
    {
      "cell_type": "code",
      "execution_count": null,
      "metadata": {
        "colab": {
          "base_uri": "https://localhost:8080/"
        },
        "id": "7vJ1vC7asFv9",
        "outputId": "aea842fc-2da6-46b9-e954-559de33d37cc"
      },
      "outputs": [
        {
          "name": "stdout",
          "output_type": "stream",
          "text": [
            "-\n",
            "I'd like some more butter.\n",
            "[start] dio debería causa ese especial fuego acuerdo manzanas beber razón luces luz oferta matemáticas se escuela avión incluso imposible atención\n",
            "-\n",
            "I'm having a rough week.\n",
            "[start] dio debería acabado buen decidió anciano dejes negocio ustedes tengas paso marido mujer estaban casado comienzo sorprendido yo cuál porque\n",
            "-\n",
            "I'm from Singapore.\n",
            "[start] dio debería acabado buen decidió anciano dejes negocio ustedes tengas paso marido mujer estaban casado comienzo sorprendido yo cuál porque\n",
            "-\n",
            "Tom doesn't think this is such a good idea.\n",
            "[start] dio debería acabado buen decidió anciano dejes negocio ustedes tengas paso marido mujer estaban casado comienzo sorprendido yo cuál porque\n",
            "-\n",
            "That film is for children.\n",
            "[start] dio debería acabado buen decidió anciano dejes negocio ustedes tengas paso marido mujer estaban casado comienzo sorprendido yo cuál porque\n",
            "-\n",
            "Tom bought something for Mary.\n",
            "[start] dio debería acabado buen decidió anciano dejes negocio ustedes tengas paso marido mujer estaban casado comienzo sorprendido yo cuál porque\n",
            "-\n",
            "He entered the university after failing the examination twice.\n",
            "[start] dio debería acabado buen decidió anciano dejes negocio ustedes tengas paso marido mujer estaban casado comienzo sorprendido yo cuál porque\n",
            "-\n",
            "You need it.\n",
            "[start] dio debería acabado buen decidió anciano dejes negocio ustedes tengas paso marido mujer estaban casado comienzo sorprendido yo cuál porque\n",
            "-\n",
            "I'm uninsured.\n",
            "[start] dio debería acabado buen decidió anciano dejes negocio ustedes tengas paso marido mujer estaban casado comienzo sorprendido yo cuál porque\n",
            "-\n",
            "I wonder why he is so angry.\n",
            "[start] dio debería acabado buen decidió anciano dejes negocio ustedes tengas paso marido mujer estaban casado comienzo sorprendido yo cuál porque\n",
            "-\n",
            "He sits in this chair when he watches television.\n",
            "[start] dio debería acabado buen decidió anciano dejes negocio ustedes tengas paso marido mujer estaban casado comienzo sorprendido yo cuál porque\n",
            "-\n",
            "You must not lose sight of your goal in life.\n",
            "[start] dio debería acabado buen decidió anciano dejes negocio ustedes tengas paso marido mujer estaban casado comienzo sorprendido yo cuál porque\n",
            "-\n",
            "Tom and Mary got into their car.\n",
            "[start] dio debería acabado buen decidió anciano dejes negocio ustedes tengas paso marido mujer estaban casado comienzo sorprendido yo cuál porque\n",
            "-\n",
            "You can only smoke on the terrace.\n",
            "[start] dio debería acabado buen decidió anciano dejes negocio ustedes tengas paso marido mujer estaban casado comienzo sorprendido yo cuál porque\n",
            "-\n",
            "Can we talk now?\n",
            "[start] dio debería causa ese especial fuego acuerdo manzanas beber razón luces luz oferta matemáticas se escuela avión incluso imposible atención\n",
            "-\n",
            "This medicine will decrease your pain.\n",
            "[start] dio debería acabado buen decidió anciano dejes negocio ustedes tengas paso marido mujer estaban casado comienzo sorprendido yo cuál porque\n",
            "-\n",
            "I wish I could be in Paris now.\n",
            "[start] dio debería acabado buen decidió anciano dejes negocio ustedes tengas paso marido mujer estaban casado comienzo sorprendido yo cuál porque\n",
            "-\n",
            "I need to talk to Tom alone.\n",
            "[start] dio debería causa ese especial fuego acuerdo manzanas beber razón luces luz oferta matemáticas se escuela avión incluso imposible atención\n",
            "-\n",
            "What did you learn at school today?\n",
            "[start] dio debería acabado buen decidió anciano dejes negocio ustedes tengas paso marido mujer estaban casado comienzo sorprendido yo cuál porque\n",
            "-\n",
            "They say he's the richest person in the city.\n",
            "[start] dio debería acabado buen decidió anciano dejes negocio ustedes tengas paso marido mujer estaban casado comienzo sorprendido yo cuál porque\n"
          ]
        }
      ],
      "source": [
        "import numpy as np\n",
        "spa_vocab = target_vectorization.get_vocabulary()\n",
        "spa_index_lookup = dict(zip(range(len(spa_vocab)), spa_vocab))\n",
        "max_decoded_sentence_length = 20\n",
        "def decode_sequence(input_sentence):\n",
        " tokenized_input_sentence = source_vectorization([input_sentence])\n",
        " decoded_sentence = \"[start]\"\n",
        " for i in range(max_decoded_sentence_length):\n",
        "  tokenized_target_sentence = target_vectorization(\n",
        "  [decoded_sentence])[:, :-1]\n",
        "  predictions = transformer(\n",
        "  [tokenized_input_sentence, tokenized_target_sentence])\n",
        "  sampled_token_index = np.argmax(predictions[0, i, :])\n",
        "  sampled_token = spa_index_lookup[sampled_token_index]\n",
        "  decoded_sentence += \" \" + sampled_token\n",
        "  if sampled_token == \"[end]\":\n",
        "    break\n",
        " return decoded_sentence\n",
        "test_eng_texts = [pair[0] for pair in test_pairs]\n",
        "for _ in range(20):\n",
        " input_sentence = random.choice(test_eng_texts)\n",
        " print(\"-\")\n",
        " print(input_sentence)\n",
        " print(decode_sequence(input_sentence))"
      ]
    },
    {
      "cell_type": "markdown",
      "metadata": {
        "id": "yIkh_1m_0Tdq"
      },
      "source": [
        "Some sample results from the Transformer translation model"
      ]
    },
    {
      "cell_type": "code",
      "execution_count": null,
      "metadata": {
        "colab": {
          "base_uri": "https://localhost:8080/",
          "height": 420
        },
        "id": "2wyeocEPzOoC",
        "outputId": "95b61ebc-bff7-4251-b474-6be79943da54"
      },
      "outputs": [
        {
          "data": {
            "image/png": "[encoded data removed]",
            "text/plain": [
              "<Figure size 1000x600 with 1 Axes>"
            ]
          },
          "metadata": {},
          "output_type": "display_data"
        }
      ],
      "source": [
        "import matplotlib.pyplot as plt\n",
        "\n",
        "# داده‌های نمونه - دقت مدل‌های مختلف\n",
        "models = ['Unigram Binary', 'Bigram Binary', 'Bigram TF-IDF', 'LSTM', 'Transformer']\n",
        "accuracy = [0.78, 0.82, 0.85, 0.87, 0.90]\n",
        "\n",
        "plt.figure(figsize=(10, 6))\n",
        "plt.bar(models, accuracy, color=['blue', 'green', 'orange', 'red', 'purple'])\n",
        "\n",
        "plt.xlabel('Model Type')\n",
        "plt.ylabel('Accuracy')\n",
        "plt.title('Comparison of Model Accuracies')\n",
        "plt.ylim(0.7, 1.0)\n",
        "\n",
        "# نمایش مقدار دقت روی میله‌ها\n",
        "for i, v in enumerate(accuracy):\n",
        "    plt.text(i, v + 0.01, str(v), ha='center', fontsize=12)\n",
        "\n",
        "plt.show()\n"
      ]
    }
  ],
  "metadata": {
    "accelerator": "GPU",
    "colab": {
      "gpuType": "T4",
      "provenance": [],
      "include_colab_link": true
    },
    "kernelspec": {
      "display_name": "Python 3",
      "name": "python3"
    },
    "language_info": {
      "name": "python"
    }
  },
  "nbformat": 4,
  "nbformat_minor": 0
}